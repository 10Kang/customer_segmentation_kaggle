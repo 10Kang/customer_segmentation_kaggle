{
 "cells": [
  {
   "cell_type": "markdown",
   "id": "b553d33e-ae78-4a01-ac29-4e02837af695",
   "metadata": {},
   "source": [
    "# Customer Segmentation using K-Mean Clustering \n",
    "\n",
    "* A portfolio projectd dedicated to use scikit-learn module in implementing the K-mean clustering method for customer segmentation \n",
    "* Aim to better target the promotion based on customer classes after segmentation \n",
    "* Could further carry out A/B testing based on the segmented customer database \n",
    "* Potentially help the marketing team to target the right customer while promoting an events\n",
    "\n",
    "![](./images/grocery.jpg)"
   ]
  },
  {
   "cell_type": "markdown",
   "id": "745de814-6bfa-47d6-a0b7-9ba9c8a85ed7",
   "metadata": {},
   "source": [
    "## About the customer data\n",
    "\n",
    "* The customer data is obtained from the https://www.kaggle.com/datasets/imakash3011/customer-personality-analysis\n"
   ]
  },
  {
   "cell_type": "code",
   "execution_count": 72,
   "id": "a15efb2e-bd67-4023-9733-583e6b6a8231",
   "metadata": {},
   "outputs": [],
   "source": [
    "# Import library \n",
    "import pandas as pd\n",
    "from sklearn.cluster import KMeans\n",
    "import matplotlib.pyplot as plt\n",
    "from scipy.stats import pearsonr \n",
    "import seaborn as sns\n",
    "import plotly.express as px\n",
    "from sklearn.preprocessing import StandardScaler\n",
    "from sklearn.decomposition import PCA\n",
    "from sklearn.pipeline import make_pipeline\n",
    "from sklearn.metrics import silhouette_score\n",
    "from scipy.stats.mstats import trimmed_var\n"
   ]
  },
  {
   "cell_type": "code",
   "execution_count": 91,
   "id": "3756050e-c4b3-41e5-96fd-0e0dcecf98ba",
   "metadata": {},
   "outputs": [
    {
     "data": {
      "text/html": [
       "<div>\n",
       "<style scoped>\n",
       "    .dataframe tbody tr th:only-of-type {\n",
       "        vertical-align: middle;\n",
       "    }\n",
       "\n",
       "    .dataframe tbody tr th {\n",
       "        vertical-align: top;\n",
       "    }\n",
       "\n",
       "    .dataframe thead th {\n",
       "        text-align: right;\n",
       "    }\n",
       "</style>\n",
       "<table border=\"1\" class=\"dataframe\">\n",
       "  <thead>\n",
       "    <tr style=\"text-align: right;\">\n",
       "      <th></th>\n",
       "      <th>ID</th>\n",
       "      <th>Year_Birth</th>\n",
       "      <th>Education</th>\n",
       "      <th>Marital_Status</th>\n",
       "      <th>Income</th>\n",
       "      <th>Kidhome</th>\n",
       "      <th>Teenhome</th>\n",
       "      <th>Dt_Customer</th>\n",
       "      <th>Recency</th>\n",
       "      <th>MntWines</th>\n",
       "      <th>...</th>\n",
       "      <th>NumWebVisitsMonth</th>\n",
       "      <th>AcceptedCmp3</th>\n",
       "      <th>AcceptedCmp4</th>\n",
       "      <th>AcceptedCmp5</th>\n",
       "      <th>AcceptedCmp1</th>\n",
       "      <th>AcceptedCmp2</th>\n",
       "      <th>Complain</th>\n",
       "      <th>Z_CostContact</th>\n",
       "      <th>Z_Revenue</th>\n",
       "      <th>Response</th>\n",
       "    </tr>\n",
       "  </thead>\n",
       "  <tbody>\n",
       "    <tr>\n",
       "      <th>0</th>\n",
       "      <td>5524</td>\n",
       "      <td>1957</td>\n",
       "      <td>Graduation</td>\n",
       "      <td>Single</td>\n",
       "      <td>58138.0</td>\n",
       "      <td>0</td>\n",
       "      <td>0</td>\n",
       "      <td>04-09-2012</td>\n",
       "      <td>58</td>\n",
       "      <td>635</td>\n",
       "      <td>...</td>\n",
       "      <td>7</td>\n",
       "      <td>0</td>\n",
       "      <td>0</td>\n",
       "      <td>0</td>\n",
       "      <td>0</td>\n",
       "      <td>0</td>\n",
       "      <td>0</td>\n",
       "      <td>3</td>\n",
       "      <td>11</td>\n",
       "      <td>1</td>\n",
       "    </tr>\n",
       "    <tr>\n",
       "      <th>1</th>\n",
       "      <td>2174</td>\n",
       "      <td>1954</td>\n",
       "      <td>Graduation</td>\n",
       "      <td>Single</td>\n",
       "      <td>46344.0</td>\n",
       "      <td>1</td>\n",
       "      <td>1</td>\n",
       "      <td>08-03-2014</td>\n",
       "      <td>38</td>\n",
       "      <td>11</td>\n",
       "      <td>...</td>\n",
       "      <td>5</td>\n",
       "      <td>0</td>\n",
       "      <td>0</td>\n",
       "      <td>0</td>\n",
       "      <td>0</td>\n",
       "      <td>0</td>\n",
       "      <td>0</td>\n",
       "      <td>3</td>\n",
       "      <td>11</td>\n",
       "      <td>0</td>\n",
       "    </tr>\n",
       "    <tr>\n",
       "      <th>2</th>\n",
       "      <td>4141</td>\n",
       "      <td>1965</td>\n",
       "      <td>Graduation</td>\n",
       "      <td>Together</td>\n",
       "      <td>71613.0</td>\n",
       "      <td>0</td>\n",
       "      <td>0</td>\n",
       "      <td>21-08-2013</td>\n",
       "      <td>26</td>\n",
       "      <td>426</td>\n",
       "      <td>...</td>\n",
       "      <td>4</td>\n",
       "      <td>0</td>\n",
       "      <td>0</td>\n",
       "      <td>0</td>\n",
       "      <td>0</td>\n",
       "      <td>0</td>\n",
       "      <td>0</td>\n",
       "      <td>3</td>\n",
       "      <td>11</td>\n",
       "      <td>0</td>\n",
       "    </tr>\n",
       "    <tr>\n",
       "      <th>3</th>\n",
       "      <td>6182</td>\n",
       "      <td>1984</td>\n",
       "      <td>Graduation</td>\n",
       "      <td>Together</td>\n",
       "      <td>26646.0</td>\n",
       "      <td>1</td>\n",
       "      <td>0</td>\n",
       "      <td>10-02-2014</td>\n",
       "      <td>26</td>\n",
       "      <td>11</td>\n",
       "      <td>...</td>\n",
       "      <td>6</td>\n",
       "      <td>0</td>\n",
       "      <td>0</td>\n",
       "      <td>0</td>\n",
       "      <td>0</td>\n",
       "      <td>0</td>\n",
       "      <td>0</td>\n",
       "      <td>3</td>\n",
       "      <td>11</td>\n",
       "      <td>0</td>\n",
       "    </tr>\n",
       "    <tr>\n",
       "      <th>4</th>\n",
       "      <td>5324</td>\n",
       "      <td>1981</td>\n",
       "      <td>PhD</td>\n",
       "      <td>Married</td>\n",
       "      <td>58293.0</td>\n",
       "      <td>1</td>\n",
       "      <td>0</td>\n",
       "      <td>19-01-2014</td>\n",
       "      <td>94</td>\n",
       "      <td>173</td>\n",
       "      <td>...</td>\n",
       "      <td>5</td>\n",
       "      <td>0</td>\n",
       "      <td>0</td>\n",
       "      <td>0</td>\n",
       "      <td>0</td>\n",
       "      <td>0</td>\n",
       "      <td>0</td>\n",
       "      <td>3</td>\n",
       "      <td>11</td>\n",
       "      <td>0</td>\n",
       "    </tr>\n",
       "  </tbody>\n",
       "</table>\n",
       "<p>5 rows × 29 columns</p>\n",
       "</div>"
      ],
      "text/plain": [
       "     ID  Year_Birth   Education Marital_Status   Income  Kidhome  Teenhome  \\\n",
       "0  5524        1957  Graduation         Single  58138.0        0         0   \n",
       "1  2174        1954  Graduation         Single  46344.0        1         1   \n",
       "2  4141        1965  Graduation       Together  71613.0        0         0   \n",
       "3  6182        1984  Graduation       Together  26646.0        1         0   \n",
       "4  5324        1981         PhD        Married  58293.0        1         0   \n",
       "\n",
       "  Dt_Customer  Recency  MntWines  ...  NumWebVisitsMonth  AcceptedCmp3  \\\n",
       "0  04-09-2012       58       635  ...                  7             0   \n",
       "1  08-03-2014       38        11  ...                  5             0   \n",
       "2  21-08-2013       26       426  ...                  4             0   \n",
       "3  10-02-2014       26        11  ...                  6             0   \n",
       "4  19-01-2014       94       173  ...                  5             0   \n",
       "\n",
       "   AcceptedCmp4  AcceptedCmp5  AcceptedCmp1  AcceptedCmp2  Complain  \\\n",
       "0             0             0             0             0         0   \n",
       "1             0             0             0             0         0   \n",
       "2             0             0             0             0         0   \n",
       "3             0             0             0             0         0   \n",
       "4             0             0             0             0         0   \n",
       "\n",
       "   Z_CostContact  Z_Revenue  Response  \n",
       "0              3         11         1  \n",
       "1              3         11         0  \n",
       "2              3         11         0  \n",
       "3              3         11         0  \n",
       "4              3         11         0  \n",
       "\n",
       "[5 rows x 29 columns]"
      ]
     },
     "execution_count": 91,
     "metadata": {},
     "output_type": "execute_result"
    }
   ],
   "source": [
    "# Read the data \n",
    "df = pd.read_csv('/Users/kang/Documents/Portfolio/Customer-data/marketing_campaign.csv',delimiter='\\t')\n",
    "df.head()"
   ]
  },
  {
   "cell_type": "markdown",
   "id": "6f85aed0-822d-4996-ac57-059d72dfeb14",
   "metadata": {},
   "source": [
    "## 1.0 Exploratory Data analysis\n",
    "To understand the dataset features through general data exploration"
   ]
  },
  {
   "cell_type": "markdown",
   "id": "7b37b05d-f084-4418-97b0-896eec5c02b4",
   "metadata": {},
   "source": [
    "### 1.1 Information about the data "
   ]
  },
  {
   "cell_type": "code",
   "execution_count": 92,
   "id": "4d097c55-5696-4b5f-911c-8a5c64db7182",
   "metadata": {},
   "outputs": [
    {
     "name": "stdout",
     "output_type": "stream",
     "text": [
      "Total Records are: 2240\n"
     ]
    },
    {
     "data": {
      "text/html": [
       "<div>\n",
       "<style scoped>\n",
       "    .dataframe tbody tr th:only-of-type {\n",
       "        vertical-align: middle;\n",
       "    }\n",
       "\n",
       "    .dataframe tbody tr th {\n",
       "        vertical-align: top;\n",
       "    }\n",
       "\n",
       "    .dataframe thead th {\n",
       "        text-align: right;\n",
       "    }\n",
       "</style>\n",
       "<table border=\"1\" class=\"dataframe\">\n",
       "  <thead>\n",
       "    <tr style=\"text-align: right;\">\n",
       "      <th></th>\n",
       "      <th>ID</th>\n",
       "      <th>Year_Birth</th>\n",
       "      <th>Income</th>\n",
       "      <th>Kidhome</th>\n",
       "      <th>Teenhome</th>\n",
       "      <th>Recency</th>\n",
       "      <th>MntWines</th>\n",
       "      <th>MntFruits</th>\n",
       "      <th>MntMeatProducts</th>\n",
       "      <th>MntFishProducts</th>\n",
       "      <th>...</th>\n",
       "      <th>NumWebVisitsMonth</th>\n",
       "      <th>AcceptedCmp3</th>\n",
       "      <th>AcceptedCmp4</th>\n",
       "      <th>AcceptedCmp5</th>\n",
       "      <th>AcceptedCmp1</th>\n",
       "      <th>AcceptedCmp2</th>\n",
       "      <th>Complain</th>\n",
       "      <th>Z_CostContact</th>\n",
       "      <th>Z_Revenue</th>\n",
       "      <th>Response</th>\n",
       "    </tr>\n",
       "  </thead>\n",
       "  <tbody>\n",
       "    <tr>\n",
       "      <th>count</th>\n",
       "      <td>2240.000000</td>\n",
       "      <td>2240.000000</td>\n",
       "      <td>2216.000000</td>\n",
       "      <td>2240.000000</td>\n",
       "      <td>2240.000000</td>\n",
       "      <td>2240.000000</td>\n",
       "      <td>2240.000000</td>\n",
       "      <td>2240.000000</td>\n",
       "      <td>2240.000000</td>\n",
       "      <td>2240.000000</td>\n",
       "      <td>...</td>\n",
       "      <td>2240.000000</td>\n",
       "      <td>2240.000000</td>\n",
       "      <td>2240.000000</td>\n",
       "      <td>2240.000000</td>\n",
       "      <td>2240.000000</td>\n",
       "      <td>2240.000000</td>\n",
       "      <td>2240.000000</td>\n",
       "      <td>2240.0</td>\n",
       "      <td>2240.0</td>\n",
       "      <td>2240.000000</td>\n",
       "    </tr>\n",
       "    <tr>\n",
       "      <th>mean</th>\n",
       "      <td>5592.159821</td>\n",
       "      <td>1968.805804</td>\n",
       "      <td>52247.251354</td>\n",
       "      <td>0.444196</td>\n",
       "      <td>0.506250</td>\n",
       "      <td>49.109375</td>\n",
       "      <td>303.935714</td>\n",
       "      <td>26.302232</td>\n",
       "      <td>166.950000</td>\n",
       "      <td>37.525446</td>\n",
       "      <td>...</td>\n",
       "      <td>5.316518</td>\n",
       "      <td>0.072768</td>\n",
       "      <td>0.074554</td>\n",
       "      <td>0.072768</td>\n",
       "      <td>0.064286</td>\n",
       "      <td>0.013393</td>\n",
       "      <td>0.009375</td>\n",
       "      <td>3.0</td>\n",
       "      <td>11.0</td>\n",
       "      <td>0.149107</td>\n",
       "    </tr>\n",
       "    <tr>\n",
       "      <th>std</th>\n",
       "      <td>3246.662198</td>\n",
       "      <td>11.984069</td>\n",
       "      <td>25173.076661</td>\n",
       "      <td>0.538398</td>\n",
       "      <td>0.544538</td>\n",
       "      <td>28.962453</td>\n",
       "      <td>336.597393</td>\n",
       "      <td>39.773434</td>\n",
       "      <td>225.715373</td>\n",
       "      <td>54.628979</td>\n",
       "      <td>...</td>\n",
       "      <td>2.426645</td>\n",
       "      <td>0.259813</td>\n",
       "      <td>0.262728</td>\n",
       "      <td>0.259813</td>\n",
       "      <td>0.245316</td>\n",
       "      <td>0.114976</td>\n",
       "      <td>0.096391</td>\n",
       "      <td>0.0</td>\n",
       "      <td>0.0</td>\n",
       "      <td>0.356274</td>\n",
       "    </tr>\n",
       "    <tr>\n",
       "      <th>min</th>\n",
       "      <td>0.000000</td>\n",
       "      <td>1893.000000</td>\n",
       "      <td>1730.000000</td>\n",
       "      <td>0.000000</td>\n",
       "      <td>0.000000</td>\n",
       "      <td>0.000000</td>\n",
       "      <td>0.000000</td>\n",
       "      <td>0.000000</td>\n",
       "      <td>0.000000</td>\n",
       "      <td>0.000000</td>\n",
       "      <td>...</td>\n",
       "      <td>0.000000</td>\n",
       "      <td>0.000000</td>\n",
       "      <td>0.000000</td>\n",
       "      <td>0.000000</td>\n",
       "      <td>0.000000</td>\n",
       "      <td>0.000000</td>\n",
       "      <td>0.000000</td>\n",
       "      <td>3.0</td>\n",
       "      <td>11.0</td>\n",
       "      <td>0.000000</td>\n",
       "    </tr>\n",
       "    <tr>\n",
       "      <th>25%</th>\n",
       "      <td>2828.250000</td>\n",
       "      <td>1959.000000</td>\n",
       "      <td>35303.000000</td>\n",
       "      <td>0.000000</td>\n",
       "      <td>0.000000</td>\n",
       "      <td>24.000000</td>\n",
       "      <td>23.750000</td>\n",
       "      <td>1.000000</td>\n",
       "      <td>16.000000</td>\n",
       "      <td>3.000000</td>\n",
       "      <td>...</td>\n",
       "      <td>3.000000</td>\n",
       "      <td>0.000000</td>\n",
       "      <td>0.000000</td>\n",
       "      <td>0.000000</td>\n",
       "      <td>0.000000</td>\n",
       "      <td>0.000000</td>\n",
       "      <td>0.000000</td>\n",
       "      <td>3.0</td>\n",
       "      <td>11.0</td>\n",
       "      <td>0.000000</td>\n",
       "    </tr>\n",
       "    <tr>\n",
       "      <th>50%</th>\n",
       "      <td>5458.500000</td>\n",
       "      <td>1970.000000</td>\n",
       "      <td>51381.500000</td>\n",
       "      <td>0.000000</td>\n",
       "      <td>0.000000</td>\n",
       "      <td>49.000000</td>\n",
       "      <td>173.500000</td>\n",
       "      <td>8.000000</td>\n",
       "      <td>67.000000</td>\n",
       "      <td>12.000000</td>\n",
       "      <td>...</td>\n",
       "      <td>6.000000</td>\n",
       "      <td>0.000000</td>\n",
       "      <td>0.000000</td>\n",
       "      <td>0.000000</td>\n",
       "      <td>0.000000</td>\n",
       "      <td>0.000000</td>\n",
       "      <td>0.000000</td>\n",
       "      <td>3.0</td>\n",
       "      <td>11.0</td>\n",
       "      <td>0.000000</td>\n",
       "    </tr>\n",
       "    <tr>\n",
       "      <th>75%</th>\n",
       "      <td>8427.750000</td>\n",
       "      <td>1977.000000</td>\n",
       "      <td>68522.000000</td>\n",
       "      <td>1.000000</td>\n",
       "      <td>1.000000</td>\n",
       "      <td>74.000000</td>\n",
       "      <td>504.250000</td>\n",
       "      <td>33.000000</td>\n",
       "      <td>232.000000</td>\n",
       "      <td>50.000000</td>\n",
       "      <td>...</td>\n",
       "      <td>7.000000</td>\n",
       "      <td>0.000000</td>\n",
       "      <td>0.000000</td>\n",
       "      <td>0.000000</td>\n",
       "      <td>0.000000</td>\n",
       "      <td>0.000000</td>\n",
       "      <td>0.000000</td>\n",
       "      <td>3.0</td>\n",
       "      <td>11.0</td>\n",
       "      <td>0.000000</td>\n",
       "    </tr>\n",
       "    <tr>\n",
       "      <th>max</th>\n",
       "      <td>11191.000000</td>\n",
       "      <td>1996.000000</td>\n",
       "      <td>666666.000000</td>\n",
       "      <td>2.000000</td>\n",
       "      <td>2.000000</td>\n",
       "      <td>99.000000</td>\n",
       "      <td>1493.000000</td>\n",
       "      <td>199.000000</td>\n",
       "      <td>1725.000000</td>\n",
       "      <td>259.000000</td>\n",
       "      <td>...</td>\n",
       "      <td>20.000000</td>\n",
       "      <td>1.000000</td>\n",
       "      <td>1.000000</td>\n",
       "      <td>1.000000</td>\n",
       "      <td>1.000000</td>\n",
       "      <td>1.000000</td>\n",
       "      <td>1.000000</td>\n",
       "      <td>3.0</td>\n",
       "      <td>11.0</td>\n",
       "      <td>1.000000</td>\n",
       "    </tr>\n",
       "  </tbody>\n",
       "</table>\n",
       "<p>8 rows × 26 columns</p>\n",
       "</div>"
      ],
      "text/plain": [
       "                 ID   Year_Birth         Income      Kidhome     Teenhome  \\\n",
       "count   2240.000000  2240.000000    2216.000000  2240.000000  2240.000000   \n",
       "mean    5592.159821  1968.805804   52247.251354     0.444196     0.506250   \n",
       "std     3246.662198    11.984069   25173.076661     0.538398     0.544538   \n",
       "min        0.000000  1893.000000    1730.000000     0.000000     0.000000   \n",
       "25%     2828.250000  1959.000000   35303.000000     0.000000     0.000000   \n",
       "50%     5458.500000  1970.000000   51381.500000     0.000000     0.000000   \n",
       "75%     8427.750000  1977.000000   68522.000000     1.000000     1.000000   \n",
       "max    11191.000000  1996.000000  666666.000000     2.000000     2.000000   \n",
       "\n",
       "           Recency     MntWines    MntFruits  MntMeatProducts  \\\n",
       "count  2240.000000  2240.000000  2240.000000      2240.000000   \n",
       "mean     49.109375   303.935714    26.302232       166.950000   \n",
       "std      28.962453   336.597393    39.773434       225.715373   \n",
       "min       0.000000     0.000000     0.000000         0.000000   \n",
       "25%      24.000000    23.750000     1.000000        16.000000   \n",
       "50%      49.000000   173.500000     8.000000        67.000000   \n",
       "75%      74.000000   504.250000    33.000000       232.000000   \n",
       "max      99.000000  1493.000000   199.000000      1725.000000   \n",
       "\n",
       "       MntFishProducts  ...  NumWebVisitsMonth  AcceptedCmp3  AcceptedCmp4  \\\n",
       "count      2240.000000  ...        2240.000000   2240.000000   2240.000000   \n",
       "mean         37.525446  ...           5.316518      0.072768      0.074554   \n",
       "std          54.628979  ...           2.426645      0.259813      0.262728   \n",
       "min           0.000000  ...           0.000000      0.000000      0.000000   \n",
       "25%           3.000000  ...           3.000000      0.000000      0.000000   \n",
       "50%          12.000000  ...           6.000000      0.000000      0.000000   \n",
       "75%          50.000000  ...           7.000000      0.000000      0.000000   \n",
       "max         259.000000  ...          20.000000      1.000000      1.000000   \n",
       "\n",
       "       AcceptedCmp5  AcceptedCmp1  AcceptedCmp2     Complain  Z_CostContact  \\\n",
       "count   2240.000000   2240.000000   2240.000000  2240.000000         2240.0   \n",
       "mean       0.072768      0.064286      0.013393     0.009375            3.0   \n",
       "std        0.259813      0.245316      0.114976     0.096391            0.0   \n",
       "min        0.000000      0.000000      0.000000     0.000000            3.0   \n",
       "25%        0.000000      0.000000      0.000000     0.000000            3.0   \n",
       "50%        0.000000      0.000000      0.000000     0.000000            3.0   \n",
       "75%        0.000000      0.000000      0.000000     0.000000            3.0   \n",
       "max        1.000000      1.000000      1.000000     1.000000            3.0   \n",
       "\n",
       "       Z_Revenue     Response  \n",
       "count     2240.0  2240.000000  \n",
       "mean        11.0     0.149107  \n",
       "std          0.0     0.356274  \n",
       "min         11.0     0.000000  \n",
       "25%         11.0     0.000000  \n",
       "50%         11.0     0.000000  \n",
       "75%         11.0     0.000000  \n",
       "max         11.0     1.000000  \n",
       "\n",
       "[8 rows x 26 columns]"
      ]
     },
     "execution_count": 92,
     "metadata": {},
     "output_type": "execute_result"
    }
   ],
   "source": [
    "print('Total Records are:', len(df))\n",
    "df.describe()\n"
   ]
  },
  {
   "cell_type": "code",
   "execution_count": 134,
   "id": "843a1652-dcd5-4aa1-9341-e4f6ccb90620",
   "metadata": {},
   "outputs": [
    {
     "name": "stdout",
     "output_type": "stream",
     "text": [
      "There are Null data found in dataset\n",
      "<class 'pandas.core.frame.DataFrame'>\n",
      "RangeIndex: 2240 entries, 0 to 2239\n",
      "Data columns (total 29 columns):\n",
      " #   Column               Non-Null Count  Dtype  \n",
      "---  ------               --------------  -----  \n",
      " 0   ID                   2240 non-null   int64  \n",
      " 1   Year_Birth           2240 non-null   int64  \n",
      " 2   Education            2240 non-null   object \n",
      " 3   Marital_Status       2240 non-null   object \n",
      " 4   Income               2216 non-null   float64\n",
      " 5   Kidhome              2240 non-null   int64  \n",
      " 6   Teenhome             2240 non-null   int64  \n",
      " 7   Dt_Customer          2240 non-null   object \n",
      " 8   Recency              2240 non-null   int64  \n",
      " 9   MntWines             2240 non-null   int64  \n",
      " 10  MntFruits            2240 non-null   int64  \n",
      " 11  MntMeatProducts      2240 non-null   int64  \n",
      " 12  MntFishProducts      2240 non-null   int64  \n",
      " 13  MntSweetProducts     2240 non-null   int64  \n",
      " 14  MntGoldProds         2240 non-null   int64  \n",
      " 15  NumDealsPurchases    2240 non-null   int64  \n",
      " 16  NumWebPurchases      2240 non-null   int64  \n",
      " 17  NumCatalogPurchases  2240 non-null   int64  \n",
      " 18  NumStorePurchases    2240 non-null   int64  \n",
      " 19  NumWebVisitsMonth    2240 non-null   int64  \n",
      " 20  AcceptedCmp3         2240 non-null   int64  \n",
      " 21  AcceptedCmp4         2240 non-null   int64  \n",
      " 22  AcceptedCmp5         2240 non-null   int64  \n",
      " 23  AcceptedCmp1         2240 non-null   int64  \n",
      " 24  AcceptedCmp2         2240 non-null   int64  \n",
      " 25  Complain             2240 non-null   int64  \n",
      " 26  Z_CostContact        2240 non-null   int64  \n",
      " 27  Z_Revenue            2240 non-null   int64  \n",
      " 28  Response             2240 non-null   int64  \n",
      "dtypes: float64(1), int64(25), object(3)\n",
      "memory usage: 507.6+ KB\n"
     ]
    }
   ],
   "source": [
    "print('There are Null data found in dataset')\n",
    "df.info()"
   ]
  },
  {
   "cell_type": "code",
   "execution_count": 136,
   "id": "8182a7e6-bf20-4ed3-8d6e-c6796fe7a1a8",
   "metadata": {},
   "outputs": [
    {
     "name": "stdout",
     "output_type": "stream",
     "text": [
      "The total number of data-points after removing the rows with missing values are: 2216\n"
     ]
    }
   ],
   "source": [
    "#To remove the NA values\n",
    "df= df.dropna()\n",
    "print(\"The total number of data-points after removing the rows with missing values are:\", len(df))"
   ]
  },
  {
   "cell_type": "markdown",
   "id": "8eaba0aa-6f0a-4f5c-baf9-a2ebaa8622ad",
   "metadata": {},
   "source": [
    "## 2.0 Clustering using multiple features\n",
    "\n",
    "For K-Mean Clustering method, we specifically look into the numerical data as importance features for clustering purpose. In our work, we will be adopting multiple features for clustering purpose, rather than just focus in two features. To ease the clustering process and feature selection, we drop the categorical data. Using model like k-mode clustering might work better for cateogrical data. "
   ]
  },
  {
   "cell_type": "code",
   "execution_count": 137,
   "id": "9e5982ec-225f-435c-a26f-250ab27bddfd",
   "metadata": {},
   "outputs": [],
   "source": [
    "df_all_features = df.drop(columns=['ID','Year_Birth', 'Education', 'Marital_Status','Dt_Customer','AcceptedCmp3', 'AcceptedCmp4', 'AcceptedCmp5', 'AcceptedCmp1',\n",
    "       'AcceptedCmp2', 'Complain', 'Z_CostContact', 'Z_Revenue', 'Response'])"
   ]
  },
  {
   "cell_type": "markdown",
   "id": "df1f3613-96d2-444d-95d3-815d30ac6fc2",
   "metadata": {},
   "source": [
    "The larger variance might indicates a better clustering purpose as the data is more spread out. However, we do need to check the skewness of each features column. If selected feature is skewed, trimmed variance might need to be applied"
   ]
  },
  {
   "cell_type": "code",
   "execution_count": 138,
   "id": "fcc38f58-84f3-4e44-a5ea-fa56dc40f816",
   "metadata": {},
   "outputs": [
    {
     "data": {
      "image/png": "[encoded data removed]",
      "text/plain": [
       "<Figure size 1000x5000 with 15 Axes>"
      ]
     },
     "metadata": {},
     "output_type": "display_data"
    }
   ],
   "source": [
    "fig, axes = plt.subplots(len(df_all_features.columns),1, figsize=(10, 50))  # Adjust the figure size as needed\n",
    "\n",
    "for i, col in enumerate(df_all_features.columns):\n",
    "    sns.boxplot(x=df_all_features[col], ax=axes[i])\n",
    "    # axes[i].set_title(col)\n",
    "\n",
    "plt.show()"
   ]
  },
  {
   "cell_type": "markdown",
   "id": "560014c6-0762-42a3-834a-ec5051070355",
   "metadata": {},
   "source": [
    "Since some of data seem to be skewed, we trimmed the variance to check either the top feature will be changed after variance trimming"
   ]
  },
  {
   "cell_type": "code",
   "execution_count": 196,
   "id": "92106b8a-62d9-49ae-8da9-50fe13654f1d",
   "metadata": {},
   "outputs": [
    {
     "data": {
      "text/plain": [
       "MntGoldProds       2.684837e+03\n",
       "MntFishProducts    2.997791e+03\n",
       "MntMeatProducts    5.030299e+04\n",
       "MntWines           1.137901e+05\n",
       "Income             6.336838e+08\n",
       "dtype: float64"
      ]
     },
     "execution_count": 196,
     "metadata": {},
     "output_type": "execute_result"
    }
   ],
   "source": [
    "## top feature before trimming \n",
    "features_high_variance = df_all_features.var().sort_values().tail(5)\n",
    "features_high_variance"
   ]
  },
  {
   "cell_type": "code",
   "execution_count": 197,
   "id": "54baec55-31c2-4ca6-816f-6122ea62499a",
   "metadata": {},
   "outputs": [
    {
     "data": {
      "text/plain": [
       "MntGoldProds       8.260097e+02\n",
       "MntFishProducts    8.895623e+02\n",
       "MntMeatProducts    1.641430e+04\n",
       "MntWines           5.575440e+04\n",
       "Income             2.438078e+08\n",
       "dtype: float64"
      ]
     },
     "execution_count": 197,
     "metadata": {},
     "output_type": "execute_result"
    }
   ],
   "source": [
    "features_trimmed = df_all_features.apply(func=trimmed_var).sort_values().tail(5)\n",
    "features_trimmed"
   ]
  },
  {
   "cell_type": "code",
   "execution_count": 198,
   "id": "221c78aa-7475-4d77-a754-951f57214269",
   "metadata": {},
   "outputs": [
    {
     "data": {
      "text/html": [
       "<div>\n",
       "<style scoped>\n",
       "    .dataframe tbody tr th:only-of-type {\n",
       "        vertical-align: middle;\n",
       "    }\n",
       "\n",
       "    .dataframe tbody tr th {\n",
       "        vertical-align: top;\n",
       "    }\n",
       "\n",
       "    .dataframe thead th {\n",
       "        text-align: right;\n",
       "    }\n",
       "</style>\n",
       "<table border=\"1\" class=\"dataframe\">\n",
       "  <thead>\n",
       "    <tr style=\"text-align: right;\">\n",
       "      <th></th>\n",
       "      <th>MntGoldProds</th>\n",
       "      <th>MntFishProducts</th>\n",
       "      <th>MntMeatProducts</th>\n",
       "      <th>MntWines</th>\n",
       "      <th>Income</th>\n",
       "    </tr>\n",
       "  </thead>\n",
       "  <tbody>\n",
       "    <tr>\n",
       "      <th>0</th>\n",
       "      <td>88</td>\n",
       "      <td>172</td>\n",
       "      <td>546</td>\n",
       "      <td>635</td>\n",
       "      <td>58138.0</td>\n",
       "    </tr>\n",
       "    <tr>\n",
       "      <th>1</th>\n",
       "      <td>6</td>\n",
       "      <td>2</td>\n",
       "      <td>6</td>\n",
       "      <td>11</td>\n",
       "      <td>46344.0</td>\n",
       "    </tr>\n",
       "    <tr>\n",
       "      <th>2</th>\n",
       "      <td>42</td>\n",
       "      <td>111</td>\n",
       "      <td>127</td>\n",
       "      <td>426</td>\n",
       "      <td>71613.0</td>\n",
       "    </tr>\n",
       "    <tr>\n",
       "      <th>3</th>\n",
       "      <td>5</td>\n",
       "      <td>10</td>\n",
       "      <td>20</td>\n",
       "      <td>11</td>\n",
       "      <td>26646.0</td>\n",
       "    </tr>\n",
       "    <tr>\n",
       "      <th>4</th>\n",
       "      <td>15</td>\n",
       "      <td>46</td>\n",
       "      <td>118</td>\n",
       "      <td>173</td>\n",
       "      <td>58293.0</td>\n",
       "    </tr>\n",
       "    <tr>\n",
       "      <th>...</th>\n",
       "      <td>...</td>\n",
       "      <td>...</td>\n",
       "      <td>...</td>\n",
       "      <td>...</td>\n",
       "      <td>...</td>\n",
       "    </tr>\n",
       "    <tr>\n",
       "      <th>2235</th>\n",
       "      <td>247</td>\n",
       "      <td>42</td>\n",
       "      <td>182</td>\n",
       "      <td>709</td>\n",
       "      <td>61223.0</td>\n",
       "    </tr>\n",
       "    <tr>\n",
       "      <th>2236</th>\n",
       "      <td>8</td>\n",
       "      <td>0</td>\n",
       "      <td>30</td>\n",
       "      <td>406</td>\n",
       "      <td>64014.0</td>\n",
       "    </tr>\n",
       "    <tr>\n",
       "      <th>2237</th>\n",
       "      <td>24</td>\n",
       "      <td>32</td>\n",
       "      <td>217</td>\n",
       "      <td>908</td>\n",
       "      <td>56981.0</td>\n",
       "    </tr>\n",
       "    <tr>\n",
       "      <th>2238</th>\n",
       "      <td>61</td>\n",
       "      <td>80</td>\n",
       "      <td>214</td>\n",
       "      <td>428</td>\n",
       "      <td>69245.0</td>\n",
       "    </tr>\n",
       "    <tr>\n",
       "      <th>2239</th>\n",
       "      <td>21</td>\n",
       "      <td>2</td>\n",
       "      <td>61</td>\n",
       "      <td>84</td>\n",
       "      <td>52869.0</td>\n",
       "    </tr>\n",
       "  </tbody>\n",
       "</table>\n",
       "<p>2216 rows × 5 columns</p>\n",
       "</div>"
      ],
      "text/plain": [
       "      MntGoldProds  MntFishProducts  MntMeatProducts  MntWines   Income\n",
       "0               88              172              546       635  58138.0\n",
       "1                6                2                6        11  46344.0\n",
       "2               42              111              127       426  71613.0\n",
       "3                5               10               20        11  26646.0\n",
       "4               15               46              118       173  58293.0\n",
       "...            ...              ...              ...       ...      ...\n",
       "2235           247               42              182       709  61223.0\n",
       "2236             8                0               30       406  64014.0\n",
       "2237            24               32              217       908  56981.0\n",
       "2238            61               80              214       428  69245.0\n",
       "2239            21                2               61        84  52869.0\n",
       "\n",
       "[2216 rows x 5 columns]"
      ]
     },
     "execution_count": 198,
     "metadata": {},
     "output_type": "execute_result"
    }
   ],
   "source": [
    "## before and after trimming showed not much difference the features selected \n",
    "selected_features = features_trimmed.index\n",
    "\n",
    "df_features = df_all_features[selected_features]\n",
    "df_features"
   ]
  },
  {
   "cell_type": "markdown",
   "id": "a42826ff-5cdd-452a-ba65-fe3f553a384c",
   "metadata": {},
   "source": [
    "### Important Message for feature selection\n",
    "From the selected features, the 'PRODUCT' feature and the income are with the greater variance which can serve as a better indicator when coming to segment the customer we are having in our database. Features such as kidhome, teenhome might not be a good indicator for that as the data is not in high variance which enable a better classification"
   ]
  },
  {
   "cell_type": "markdown",
   "id": "2278f436-6944-44c6-964f-49b7599ed06f",
   "metadata": {},
   "source": [
    "### 2.1 Standard Scaler for all the features\n",
    "Prior building the K-Means model, we need to standardize the value within all our feature column for ease of computation.\n",
    "\n",
    "Message learnt from Worldquant University Data Science Lab: (https://learn.wqu.edu/)\n",
    "\n",
    "Standardization is a widely used scaling technique to transform features before fitting into models. Feature scaling changes all a dataset's continuous features to give us a more consistent range of values. Specifically, we subtract the mean from each data point and then divide by the standard deviation with the help of scikit-learn modules.\n",
    "\n",
    "The goal of standardization is to improve model performance having all continuous features be on the same scale. It's useful in at least two circumstances:\n",
    "\n",
    "* For machine leaning algorithms that use Euclidean distance (k-means and k-nearest neighbors), different scales can distort the calculation of distance and hurt model performance.\n",
    "* For dimensionality reduction (principal component analysis), it can improve the model's ability to finds combinations of features that have the most variance."
   ]
  },
  {
   "cell_type": "code",
   "execution_count": 199,
   "id": "13dbb280-359d-43b4-a0a0-5cfeeeb69538",
   "metadata": {},
   "outputs": [],
   "source": [
    "data_summary = df_features.aggregate(['mean','std']).astype(int)"
   ]
  },
  {
   "cell_type": "code",
   "execution_count": 200,
   "id": "fa1c2a6c-4b04-452b-8627-f87ca49be43e",
   "metadata": {},
   "outputs": [
    {
     "data": {
      "text/html": [
       "<div>\n",
       "<style scoped>\n",
       "    .dataframe tbody tr th:only-of-type {\n",
       "        vertical-align: middle;\n",
       "    }\n",
       "\n",
       "    .dataframe tbody tr th {\n",
       "        vertical-align: top;\n",
       "    }\n",
       "\n",
       "    .dataframe thead th {\n",
       "        text-align: right;\n",
       "    }\n",
       "</style>\n",
       "<table border=\"1\" class=\"dataframe\">\n",
       "  <thead>\n",
       "    <tr style=\"text-align: right;\">\n",
       "      <th></th>\n",
       "      <th>MntGoldProds</th>\n",
       "      <th>MntFishProducts</th>\n",
       "      <th>MntMeatProducts</th>\n",
       "      <th>MntWines</th>\n",
       "      <th>Income</th>\n",
       "    </tr>\n",
       "  </thead>\n",
       "  <tbody>\n",
       "    <tr>\n",
       "      <th>mean</th>\n",
       "      <td>43</td>\n",
       "      <td>37</td>\n",
       "      <td>166</td>\n",
       "      <td>305</td>\n",
       "      <td>52247</td>\n",
       "    </tr>\n",
       "    <tr>\n",
       "      <th>std</th>\n",
       "      <td>51</td>\n",
       "      <td>54</td>\n",
       "      <td>224</td>\n",
       "      <td>337</td>\n",
       "      <td>25173</td>\n",
       "    </tr>\n",
       "  </tbody>\n",
       "</table>\n",
       "</div>"
      ],
      "text/plain": [
       "      MntGoldProds  MntFishProducts  MntMeatProducts  MntWines  Income\n",
       "mean            43               37              166       305   52247\n",
       "std             51               54              224       337   25173"
      ]
     },
     "execution_count": 200,
     "metadata": {},
     "output_type": "execute_result"
    }
   ],
   "source": [
    "data_summary"
   ]
  },
  {
   "cell_type": "code",
   "execution_count": 201,
   "id": "09ed40d2-5164-43a7-926a-56e2c6867b1b",
   "metadata": {},
   "outputs": [
    {
     "name": "stdout",
     "output_type": "stream",
     "text": [
      "X_scaled shape: (2216, 5)\n"
     ]
    },
    {
     "data": {
      "text/html": [
       "<div>\n",
       "<style scoped>\n",
       "    .dataframe tbody tr th:only-of-type {\n",
       "        vertical-align: middle;\n",
       "    }\n",
       "\n",
       "    .dataframe tbody tr th {\n",
       "        vertical-align: top;\n",
       "    }\n",
       "\n",
       "    .dataframe thead th {\n",
       "        text-align: right;\n",
       "    }\n",
       "</style>\n",
       "<table border=\"1\" class=\"dataframe\">\n",
       "  <thead>\n",
       "    <tr style=\"text-align: right;\">\n",
       "      <th></th>\n",
       "      <th>MntGoldProds</th>\n",
       "      <th>MntFishProducts</th>\n",
       "      <th>MntMeatProducts</th>\n",
       "      <th>MntWines</th>\n",
       "      <th>Income</th>\n",
       "    </tr>\n",
       "  </thead>\n",
       "  <tbody>\n",
       "    <tr>\n",
       "      <th>0</th>\n",
       "      <td>0.850031</td>\n",
       "      <td>2.454568</td>\n",
       "      <td>1.690227</td>\n",
       "      <td>0.978226</td>\n",
       "      <td>0.234063</td>\n",
       "    </tr>\n",
       "    <tr>\n",
       "      <th>1</th>\n",
       "      <td>-0.732867</td>\n",
       "      <td>-0.651038</td>\n",
       "      <td>-0.717986</td>\n",
       "      <td>-0.872024</td>\n",
       "      <td>-0.234559</td>\n",
       "    </tr>\n",
       "    <tr>\n",
       "      <th>2</th>\n",
       "      <td>-0.037937</td>\n",
       "      <td>1.340203</td>\n",
       "      <td>-0.178368</td>\n",
       "      <td>0.358511</td>\n",
       "      <td>0.769478</td>\n",
       "    </tr>\n",
       "    <tr>\n",
       "      <th>3</th>\n",
       "      <td>-0.752171</td>\n",
       "      <td>-0.504892</td>\n",
       "      <td>-0.655551</td>\n",
       "      <td>-0.872024</td>\n",
       "      <td>-1.017239</td>\n",
       "    </tr>\n",
       "    <tr>\n",
       "      <th>4</th>\n",
       "      <td>-0.559135</td>\n",
       "      <td>0.152766</td>\n",
       "      <td>-0.218505</td>\n",
       "      <td>-0.391671</td>\n",
       "      <td>0.240221</td>\n",
       "    </tr>\n",
       "  </tbody>\n",
       "</table>\n",
       "</div>"
      ],
      "text/plain": [
       "   MntGoldProds  MntFishProducts  MntMeatProducts  MntWines    Income\n",
       "0      0.850031         2.454568         1.690227  0.978226  0.234063\n",
       "1     -0.732867        -0.651038        -0.717986 -0.872024 -0.234559\n",
       "2     -0.037937         1.340203        -0.178368  0.358511  0.769478\n",
       "3     -0.752171        -0.504892        -0.655551 -0.872024 -1.017239\n",
       "4     -0.559135         0.152766        -0.218505 -0.391671  0.240221"
      ]
     },
     "execution_count": 201,
     "metadata": {},
     "output_type": "execute_result"
    }
   ],
   "source": [
    "## Instantiate the transformer from scikit-learn\n",
    "scaler = StandardScaler()\n",
    "\n",
    "## transform the df_features' data\n",
    "X_scaled_data = scaler.fit_transform(df_features) # rename as X_scaled_data because X normally refer to input data in machine learning\n",
    "\n",
    "## Putting the scaled data back into dataframe\n",
    "\n",
    "X_scaled = pd.DataFrame(X_scaled_data,columns=df_features.columns)\n",
    "\n",
    "print(\"X_scaled shape:\", X_scaled.shape)\n",
    "X_scaled.head()\n"
   ]
  },
  {
   "cell_type": "code",
   "execution_count": 202,
   "id": "1388fadf-0d04-4f85-a09c-3c47af83d182",
   "metadata": {},
   "outputs": [
    {
     "data": {
      "text/html": [
       "<div>\n",
       "<style scoped>\n",
       "    .dataframe tbody tr th:only-of-type {\n",
       "        vertical-align: middle;\n",
       "    }\n",
       "\n",
       "    .dataframe tbody tr th {\n",
       "        vertical-align: top;\n",
       "    }\n",
       "\n",
       "    .dataframe thead th {\n",
       "        text-align: right;\n",
       "    }\n",
       "</style>\n",
       "<table border=\"1\" class=\"dataframe\">\n",
       "  <thead>\n",
       "    <tr style=\"text-align: right;\">\n",
       "      <th></th>\n",
       "      <th>MntGoldProds</th>\n",
       "      <th>MntFishProducts</th>\n",
       "      <th>MntMeatProducts</th>\n",
       "      <th>MntWines</th>\n",
       "      <th>Income</th>\n",
       "    </tr>\n",
       "  </thead>\n",
       "  <tbody>\n",
       "    <tr>\n",
       "      <th>mean</th>\n",
       "      <td>0</td>\n",
       "      <td>0</td>\n",
       "      <td>0</td>\n",
       "      <td>0</td>\n",
       "      <td>0</td>\n",
       "    </tr>\n",
       "    <tr>\n",
       "      <th>std</th>\n",
       "      <td>1</td>\n",
       "      <td>1</td>\n",
       "      <td>1</td>\n",
       "      <td>1</td>\n",
       "      <td>1</td>\n",
       "    </tr>\n",
       "  </tbody>\n",
       "</table>\n",
       "</div>"
      ],
      "text/plain": [
       "      MntGoldProds  MntFishProducts  MntMeatProducts  MntWines  Income\n",
       "mean             0                0                0         0       0\n",
       "std              1                1                1         1       1"
      ]
     },
     "execution_count": 202,
     "metadata": {},
     "output_type": "execute_result"
    }
   ],
   "source": [
    "# to check either the data is scaled accoridngly\n",
    "X_scaled.aggregate(['mean','std']).astype(int)"
   ]
  },
  {
   "cell_type": "markdown",
   "id": "1b6f3047-5d01-4763-8f99-008bb1c063e9",
   "metadata": {},
   "source": [
    "### 2.2 Clustering, determination of how many cluster should be applied \n",
    "\n",
    "The number of clusters are determined through elbow method by deriving the inertia and silhouette score "
   ]
  },
  {
   "cell_type": "code",
   "execution_count": 203,
   "id": "b468e262-c7a8-469f-bef4-c07a64f68e4e",
   "metadata": {},
   "outputs": [],
   "source": [
    "## there is a future warning on Kmeans module, try to ignore it, to make our code looks clean \n",
    "\n",
    "import warnings\n",
    "\n",
    "warnings.filterwarnings(\"ignore\", category=FutureWarning)"
   ]
  },
  {
   "cell_type": "code",
   "execution_count": 204,
   "id": "de591e14-aeb2-4cf4-84ad-0d916849cddd",
   "metadata": {},
   "outputs": [
    {
     "name": "stdout",
     "output_type": "stream",
     "text": [
      "Inertia: [6252.699287760409, 5155.7134801505945, 4445.513711370615]\n",
      "\n",
      "Silhouette Scores: [0.47632441775010176, 0.2739172294089761, 0.21453054536556962]\n"
     ]
    }
   ],
   "source": [
    "# set a range of cluster intended \n",
    "\n",
    "nclusters = range(2,11)\n",
    "\n",
    "# have two lists to store the inertia and silhouette scores \n",
    "inertia_errors = []\n",
    "silhouette_scores = []\n",
    "\n",
    "# loop through the cluster using ncluster to train K-mean model, getting the inertia and silhouette scores\n",
    "\n",
    "for i in nclusters:\n",
    "    \n",
    "    # instantiate model\n",
    "    model = make_pipeline(\n",
    "        StandardScaler(),\n",
    "        KMeans(n_clusters=i,random_state=10)\n",
    "    )\n",
    "        \n",
    "    # train the model \n",
    "    model.fit(df_features)\n",
    "    \n",
    "    # get the inertia scores\n",
    "    inertia_errors.append(model.named_steps['kmeans'].inertia_)\n",
    "        \n",
    "    # get the silhouette scores\n",
    "    silhouette_scores.append(\n",
    "        silhouette_score(df_features,model.named_steps['kmeans'].labels_)\n",
    "    )\n",
    "    \n",
    "print(\"Inertia:\", inertia_errors[:3])\n",
    "print()\n",
    "print(\"Silhouette Scores:\", silhouette_scores[:3])"
   ]
  },
  {
   "cell_type": "markdown",
   "id": "e22bf659-ed34-4715-96bb-f9780db6a2f2",
   "metadata": {},
   "source": [
    "### 2.2 Elbow method in determining the number of clusters\n"
   ]
  },
  {
   "cell_type": "code",
   "execution_count": 205,
   "id": "e5a15b87-d890-4305-8292-23897647ea58",
   "metadata": {},
   "outputs": [
    {
     "data": {
      "application/vnd.plotly.v1+json": {
       "config": {
        "plotlyServerURL": "https://plot.ly"
       },
       "data": [
        {
         "hovertemplate": "x=%{x}<br>y=%{y}<extra></extra>",
         "legendgroup": "",
         "line": {
          "color": "#636efa",
          "dash": "solid"
         },
         "marker": {
          "symbol": "circle"
         },
         "mode": "lines",
         "name": "",
         "orientation": "v",
         "showlegend": false,
         "type": "scatter",
         "x": [
          2,
          3,
          4,
          5,
          6,
          7,
          8,
          9,
          10
         ],
         "xaxis": "x",
         "y": [
          6252.699287760409,
          5155.7134801505945,
          4445.513711370615,
          3894.081231215565,
          3339.3018314378523,
          3014.655486617691,
          2709.1380939845512,
          2568.418124722253,
          2402.0759135331505
         ],
         "yaxis": "y"
        }
       ],
       "layout": {
        "autosize": true,
        "legend": {
         "tracegroupgap": 0
        },
        "template": {
         "data": {
          "bar": [
           {
            "error_x": {
             "color": "#2a3f5f"
            },
            "error_y": {
             "color": "#2a3f5f"
            },
            "marker": {
             "line": {
              "color": "#E5ECF6",
              "width": 0.5
             },
             "pattern": {
              "fillmode": "overlay",
              "size": 10,
              "solidity": 0.2
             }
            },
            "type": "bar"
           }
          ],
          "barpolar": [
           {
            "marker": {
             "line": {
              "color": "#E5ECF6",
              "width": 0.5
             },
             "pattern": {
              "fillmode": "overlay",
              "size": 10,
              "solidity": 0.2
             }
            },
            "type": "barpolar"
           }
          ],
          "carpet": [
           {
            "aaxis": {
             "endlinecolor": "#2a3f5f",
             "gridcolor": "white",
             "linecolor": "white",
             "minorgridcolor": "white",
             "startlinecolor": "#2a3f5f"
            },
            "baxis": {
             "endlinecolor": "#2a3f5f",
             "gridcolor": "white",
             "linecolor": "white",
             "minorgridcolor": "white",
             "startlinecolor": "#2a3f5f"
            },
            "type": "carpet"
           }
          ],
          "choropleth": [
           {
            "colorbar": {
             "outlinewidth": 0,
             "ticks": ""
            },
            "type": "choropleth"
           }
          ],
          "contour": [
           {
            "colorbar": {
             "outlinewidth": 0,
             "ticks": ""
            },
            "colorscale": [
             [
              0,
              "#0d0887"
             ],
             [
              0.1111111111111111,
              "#46039f"
             ],
             [
              0.2222222222222222,
              "#7201a8"
             ],
             [
              0.3333333333333333,
              "#9c179e"
             ],
             [
              0.4444444444444444,
              "#bd3786"
             ],
             [
              0.5555555555555556,
              "#d8576b"
             ],
             [
              0.6666666666666666,
              "#ed7953"
             ],
             [
              0.7777777777777778,
              "#fb9f3a"
             ],
             [
              0.8888888888888888,
              "#fdca26"
             ],
             [
              1,
              "#f0f921"
             ]
            ],
            "type": "contour"
           }
          ],
          "contourcarpet": [
           {
            "colorbar": {
             "outlinewidth": 0,
             "ticks": ""
            },
            "type": "contourcarpet"
           }
          ],
          "heatmap": [
           {
            "colorbar": {
             "outlinewidth": 0,
             "ticks": ""
            },
            "colorscale": [
             [
              0,
              "#0d0887"
             ],
             [
              0.1111111111111111,
              "#46039f"
             ],
             [
              0.2222222222222222,
              "#7201a8"
             ],
             [
              0.3333333333333333,
              "#9c179e"
             ],
             [
              0.4444444444444444,
              "#bd3786"
             ],
             [
              0.5555555555555556,
              "#d8576b"
             ],
             [
              0.6666666666666666,
              "#ed7953"
             ],
             [
              0.7777777777777778,
              "#fb9f3a"
             ],
             [
              0.8888888888888888,
              "#fdca26"
             ],
             [
              1,
              "#f0f921"
             ]
            ],
            "type": "heatmap"
           }
          ],
          "heatmapgl": [
           {
            "colorbar": {
             "outlinewidth": 0,
             "ticks": ""
            },
            "colorscale": [
             [
              0,
              "#0d0887"
             ],
             [
              0.1111111111111111,
              "#46039f"
             ],
             [
              0.2222222222222222,
              "#7201a8"
             ],
             [
              0.3333333333333333,
              "#9c179e"
             ],
             [
              0.4444444444444444,
              "#bd3786"
             ],
             [
              0.5555555555555556,
              "#d8576b"
             ],
             [
              0.6666666666666666,
              "#ed7953"
             ],
             [
              0.7777777777777778,
              "#fb9f3a"
             ],
             [
              0.8888888888888888,
              "#fdca26"
             ],
             [
              1,
              "#f0f921"
             ]
            ],
            "type": "heatmapgl"
           }
          ],
          "histogram": [
           {
            "marker": {
             "pattern": {
              "fillmode": "overlay",
              "size": 10,
              "solidity": 0.2
             }
            },
            "type": "histogram"
           }
          ],
          "histogram2d": [
           {
            "colorbar": {
             "outlinewidth": 0,
             "ticks": ""
            },
            "colorscale": [
             [
              0,
              "#0d0887"
             ],
             [
              0.1111111111111111,
              "#46039f"
             ],
             [
              0.2222222222222222,
              "#7201a8"
             ],
             [
              0.3333333333333333,
              "#9c179e"
             ],
             [
              0.4444444444444444,
              "#bd3786"
             ],
             [
              0.5555555555555556,
              "#d8576b"
             ],
             [
              0.6666666666666666,
              "#ed7953"
             ],
             [
              0.7777777777777778,
              "#fb9f3a"
             ],
             [
              0.8888888888888888,
              "#fdca26"
             ],
             [
              1,
              "#f0f921"
             ]
            ],
            "type": "histogram2d"
           }
          ],
          "histogram2dcontour": [
           {
            "colorbar": {
             "outlinewidth": 0,
             "ticks": ""
            },
            "colorscale": [
             [
              0,
              "#0d0887"
             ],
             [
              0.1111111111111111,
              "#46039f"
             ],
             [
              0.2222222222222222,
              "#7201a8"
             ],
             [
              0.3333333333333333,
              "#9c179e"
             ],
             [
              0.4444444444444444,
              "#bd3786"
             ],
             [
              0.5555555555555556,
              "#d8576b"
             ],
             [
              0.6666666666666666,
              "#ed7953"
             ],
             [
              0.7777777777777778,
              "#fb9f3a"
             ],
             [
              0.8888888888888888,
              "#fdca26"
             ],
             [
              1,
              "#f0f921"
             ]
            ],
            "type": "histogram2dcontour"
           }
          ],
          "mesh3d": [
           {
            "colorbar": {
             "outlinewidth": 0,
             "ticks": ""
            },
            "type": "mesh3d"
           }
          ],
          "parcoords": [
           {
            "line": {
             "colorbar": {
              "outlinewidth": 0,
              "ticks": ""
             }
            },
            "type": "parcoords"
           }
          ],
          "pie": [
           {
            "automargin": true,
            "type": "pie"
           }
          ],
          "scatter": [
           {
            "fillpattern": {
             "fillmode": "overlay",
             "size": 10,
             "solidity": 0.2
            },
            "type": "scatter"
           }
          ],
          "scatter3d": [
           {
            "line": {
             "colorbar": {
              "outlinewidth": 0,
              "ticks": ""
             }
            },
            "marker": {
             "colorbar": {
              "outlinewidth": 0,
              "ticks": ""
             }
            },
            "type": "scatter3d"
           }
          ],
          "scattercarpet": [
           {
            "marker": {
             "colorbar": {
              "outlinewidth": 0,
              "ticks": ""
             }
            },
            "type": "scattercarpet"
           }
          ],
          "scattergeo": [
           {
            "marker": {
             "colorbar": {
              "outlinewidth": 0,
              "ticks": ""
             }
            },
            "type": "scattergeo"
           }
          ],
          "scattergl": [
           {
            "marker": {
             "colorbar": {
              "outlinewidth": 0,
              "ticks": ""
             }
            },
            "type": "scattergl"
           }
          ],
          "scattermapbox": [
           {
            "marker": {
             "colorbar": {
              "outlinewidth": 0,
              "ticks": ""
             }
            },
            "type": "scattermapbox"
           }
          ],
          "scatterpolar": [
           {
            "marker": {
             "colorbar": {
              "outlinewidth": 0,
              "ticks": ""
             }
            },
            "type": "scatterpolar"
           }
          ],
          "scatterpolargl": [
           {
            "marker": {
             "colorbar": {
              "outlinewidth": 0,
              "ticks": ""
             }
            },
            "type": "scatterpolargl"
           }
          ],
          "scatterternary": [
           {
            "marker": {
             "colorbar": {
              "outlinewidth": 0,
              "ticks": ""
             }
            },
            "type": "scatterternary"
           }
          ],
          "surface": [
           {
            "colorbar": {
             "outlinewidth": 0,
             "ticks": ""
            },
            "colorscale": [
             [
              0,
              "#0d0887"
             ],
             [
              0.1111111111111111,
              "#46039f"
             ],
             [
              0.2222222222222222,
              "#7201a8"
             ],
             [
              0.3333333333333333,
              "#9c179e"
             ],
             [
              0.4444444444444444,
              "#bd3786"
             ],
             [
              0.5555555555555556,
              "#d8576b"
             ],
             [
              0.6666666666666666,
              "#ed7953"
             ],
             [
              0.7777777777777778,
              "#fb9f3a"
             ],
             [
              0.8888888888888888,
              "#fdca26"
             ],
             [
              1,
              "#f0f921"
             ]
            ],
            "type": "surface"
           }
          ],
          "table": [
           {
            "cells": {
             "fill": {
              "color": "#EBF0F8"
             },
             "line": {
              "color": "white"
             }
            },
            "header": {
             "fill": {
              "color": "#C8D4E3"
             },
             "line": {
              "color": "white"
             }
            },
            "type": "table"
           }
          ]
         },
         "layout": {
          "annotationdefaults": {
           "arrowcolor": "#2a3f5f",
           "arrowhead": 0,
           "arrowwidth": 1
          },
          "autotypenumbers": "strict",
          "coloraxis": {
           "colorbar": {
            "outlinewidth": 0,
            "ticks": ""
           }
          },
          "colorscale": {
           "diverging": [
            [
             0,
             "#8e0152"
            ],
            [
             0.1,
             "#c51b7d"
            ],
            [
             0.2,
             "#de77ae"
            ],
            [
             0.3,
             "#f1b6da"
            ],
            [
             0.4,
             "#fde0ef"
            ],
            [
             0.5,
             "#f7f7f7"
            ],
            [
             0.6,
             "#e6f5d0"
            ],
            [
             0.7,
             "#b8e186"
            ],
            [
             0.8,
             "#7fbc41"
            ],
            [
             0.9,
             "#4d9221"
            ],
            [
             1,
             "#276419"
            ]
           ],
           "sequential": [
            [
             0,
             "#0d0887"
            ],
            [
             0.1111111111111111,
             "#46039f"
            ],
            [
             0.2222222222222222,
             "#7201a8"
            ],
            [
             0.3333333333333333,
             "#9c179e"
            ],
            [
             0.4444444444444444,
             "#bd3786"
            ],
            [
             0.5555555555555556,
             "#d8576b"
            ],
            [
             0.6666666666666666,
             "#ed7953"
            ],
            [
             0.7777777777777778,
             "#fb9f3a"
            ],
            [
             0.8888888888888888,
             "#fdca26"
            ],
            [
             1,
             "#f0f921"
            ]
           ],
           "sequentialminus": [
            [
             0,
             "#0d0887"
            ],
            [
             0.1111111111111111,
             "#46039f"
            ],
            [
             0.2222222222222222,
             "#7201a8"
            ],
            [
             0.3333333333333333,
             "#9c179e"
            ],
            [
             0.4444444444444444,
             "#bd3786"
            ],
            [
             0.5555555555555556,
             "#d8576b"
            ],
            [
             0.6666666666666666,
             "#ed7953"
            ],
            [
             0.7777777777777778,
             "#fb9f3a"
            ],
            [
             0.8888888888888888,
             "#fdca26"
            ],
            [
             1,
             "#f0f921"
            ]
           ]
          },
          "colorway": [
           "#636efa",
           "#EF553B",
           "#00cc96",
           "#ab63fa",
           "#FFA15A",
           "#19d3f3",
           "#FF6692",
           "#B6E880",
           "#FF97FF",
           "#FECB52"
          ],
          "font": {
           "color": "#2a3f5f"
          },
          "geo": {
           "bgcolor": "white",
           "lakecolor": "white",
           "landcolor": "#E5ECF6",
           "showlakes": true,
           "showland": true,
           "subunitcolor": "white"
          },
          "hoverlabel": {
           "align": "left"
          },
          "hovermode": "closest",
          "mapbox": {
           "style": "light"
          },
          "paper_bgcolor": "white",
          "plot_bgcolor": "#E5ECF6",
          "polar": {
           "angularaxis": {
            "gridcolor": "white",
            "linecolor": "white",
            "ticks": ""
           },
           "bgcolor": "#E5ECF6",
           "radialaxis": {
            "gridcolor": "white",
            "linecolor": "white",
            "ticks": ""
           }
          },
          "scene": {
           "xaxis": {
            "backgroundcolor": "#E5ECF6",
            "gridcolor": "white",
            "gridwidth": 2,
            "linecolor": "white",
            "showbackground": true,
            "ticks": "",
            "zerolinecolor": "white"
           },
           "yaxis": {
            "backgroundcolor": "#E5ECF6",
            "gridcolor": "white",
            "gridwidth": 2,
            "linecolor": "white",
            "showbackground": true,
            "ticks": "",
            "zerolinecolor": "white"
           },
           "zaxis": {
            "backgroundcolor": "#E5ECF6",
            "gridcolor": "white",
            "gridwidth": 2,
            "linecolor": "white",
            "showbackground": true,
            "ticks": "",
            "zerolinecolor": "white"
           }
          },
          "shapedefaults": {
           "line": {
            "color": "#2a3f5f"
           }
          },
          "ternary": {
           "aaxis": {
            "gridcolor": "white",
            "linecolor": "white",
            "ticks": ""
           },
           "baxis": {
            "gridcolor": "white",
            "linecolor": "white",
            "ticks": ""
           },
           "bgcolor": "#E5ECF6",
           "caxis": {
            "gridcolor": "white",
            "linecolor": "white",
            "ticks": ""
           }
          },
          "title": {
           "x": 0.05
          },
          "xaxis": {
           "automargin": true,
           "gridcolor": "white",
           "linecolor": "white",
           "ticks": "",
           "title": {
            "standoff": 15
           },
           "zerolinecolor": "white",
           "zerolinewidth": 2
          },
          "yaxis": {
           "automargin": true,
           "gridcolor": "white",
           "linecolor": "white",
           "ticks": "",
           "title": {
            "standoff": 15
           },
           "zerolinecolor": "white",
           "zerolinewidth": 2
          }
         }
        },
        "title": {
         "text": "Inertia vs Number of Clusters"
        },
        "xaxis": {
         "anchor": "y",
         "autorange": true,
         "domain": [
          0,
          1
         ],
         "range": [
          2,
          10
         ],
         "title": {
          "text": "Number of Clusters(k)"
         },
         "type": "linear"
        },
        "yaxis": {
         "anchor": "x",
         "autorange": true,
         "domain": [
          0,
          1
         ],
         "range": [
          2188.152392742747,
          6466.622808550812
         ],
         "title": {
          "text": "Inertia"
         },
         "type": "linear"
        }
       }
      },
      "image/png": "[encoded data removed]",
      "text/html": [
       "<div>                            <div id=\"b3c6cbf8-c54e-434d-be58-d55a87ab8053\" class=\"plotly-graph-div\" style=\"height:525px; width:100%;\"></div>            <script type=\"text/javascript\">                require([\"plotly\"], function(Plotly) {                    window.PLOTLYENV=window.PLOTLYENV || {};                                    if (document.getElementById(\"b3c6cbf8-c54e-434d-be58-d55a87ab8053\")) {                    Plotly.newPlot(                        \"b3c6cbf8-c54e-434d-be58-d55a87ab8053\",                        [{\"hovertemplate\":\"x=%{x}\\u003cbr\\u003ey=%{y}\\u003cextra\\u003e\\u003c\\u002fextra\\u003e\",\"legendgroup\":\"\",\"line\":{\"color\":\"#636efa\",\"dash\":\"solid\"},\"marker\":{\"symbol\":\"circle\"},\"mode\":\"lines\",\"name\":\"\",\"orientation\":\"v\",\"showlegend\":false,\"x\":[2,3,4,5,6,7,8,9,10],\"xaxis\":\"x\",\"y\":[6252.699287760409,5155.7134801505945,4445.513711370615,3894.081231215565,3339.3018314378523,3014.655486617691,2709.1380939845512,2568.418124722253,2402.0759135331505],\"yaxis\":\"y\",\"type\":\"scatter\"}],                        {\"template\":{\"data\":{\"histogram2dcontour\":[{\"type\":\"histogram2dcontour\",\"colorbar\":{\"outlinewidth\":0,\"ticks\":\"\"},\"colorscale\":[[0.0,\"#0d0887\"],[0.1111111111111111,\"#46039f\"],[0.2222222222222222,\"#7201a8\"],[0.3333333333333333,\"#9c179e\"],[0.4444444444444444,\"#bd3786\"],[0.5555555555555556,\"#d8576b\"],[0.6666666666666666,\"#ed7953\"],[0.7777777777777778,\"#fb9f3a\"],[0.8888888888888888,\"#fdca26\"],[1.0,\"#f0f921\"]]}],\"choropleth\":[{\"type\":\"choropleth\",\"colorbar\":{\"outlinewidth\":0,\"ticks\":\"\"}}],\"histogram2d\":[{\"type\":\"histogram2d\",\"colorbar\":{\"outlinewidth\":0,\"ticks\":\"\"},\"colorscale\":[[0.0,\"#0d0887\"],[0.1111111111111111,\"#46039f\"],[0.2222222222222222,\"#7201a8\"],[0.3333333333333333,\"#9c179e\"],[0.4444444444444444,\"#bd3786\"],[0.5555555555555556,\"#d8576b\"],[0.6666666666666666,\"#ed7953\"],[0.7777777777777778,\"#fb9f3a\"],[0.8888888888888888,\"#fdca26\"],[1.0,\"#f0f921\"]]}],\"heatmap\":[{\"type\":\"heatmap\",\"colorbar\":{\"outlinewidth\":0,\"ticks\":\"\"},\"colorscale\":[[0.0,\"#0d0887\"],[0.1111111111111111,\"#46039f\"],[0.2222222222222222,\"#7201a8\"],[0.3333333333333333,\"#9c179e\"],[0.4444444444444444,\"#bd3786\"],[0.5555555555555556,\"#d8576b\"],[0.6666666666666666,\"#ed7953\"],[0.7777777777777778,\"#fb9f3a\"],[0.8888888888888888,\"#fdca26\"],[1.0,\"#f0f921\"]]}],\"heatmapgl\":[{\"type\":\"heatmapgl\",\"colorbar\":{\"outlinewidth\":0,\"ticks\":\"\"},\"colorscale\":[[0.0,\"#0d0887\"],[0.1111111111111111,\"#46039f\"],[0.2222222222222222,\"#7201a8\"],[0.3333333333333333,\"#9c179e\"],[0.4444444444444444,\"#bd3786\"],[0.5555555555555556,\"#d8576b\"],[0.6666666666666666,\"#ed7953\"],[0.7777777777777778,\"#fb9f3a\"],[0.8888888888888888,\"#fdca26\"],[1.0,\"#f0f921\"]]}],\"contourcarpet\":[{\"type\":\"contourcarpet\",\"colorbar\":{\"outlinewidth\":0,\"ticks\":\"\"}}],\"contour\":[{\"type\":\"contour\",\"colorbar\":{\"outlinewidth\":0,\"ticks\":\"\"},\"colorscale\":[[0.0,\"#0d0887\"],[0.1111111111111111,\"#46039f\"],[0.2222222222222222,\"#7201a8\"],[0.3333333333333333,\"#9c179e\"],[0.4444444444444444,\"#bd3786\"],[0.5555555555555556,\"#d8576b\"],[0.6666666666666666,\"#ed7953\"],[0.7777777777777778,\"#fb9f3a\"],[0.8888888888888888,\"#fdca26\"],[1.0,\"#f0f921\"]]}],\"surface\":[{\"type\":\"surface\",\"colorbar\":{\"outlinewidth\":0,\"ticks\":\"\"},\"colorscale\":[[0.0,\"#0d0887\"],[0.1111111111111111,\"#46039f\"],[0.2222222222222222,\"#7201a8\"],[0.3333333333333333,\"#9c179e\"],[0.4444444444444444,\"#bd3786\"],[0.5555555555555556,\"#d8576b\"],[0.6666666666666666,\"#ed7953\"],[0.7777777777777778,\"#fb9f3a\"],[0.8888888888888888,\"#fdca26\"],[1.0,\"#f0f921\"]]}],\"mesh3d\":[{\"type\":\"mesh3d\",\"colorbar\":{\"outlinewidth\":0,\"ticks\":\"\"}}],\"scatter\":[{\"fillpattern\":{\"fillmode\":\"overlay\",\"size\":10,\"solidity\":0.2},\"type\":\"scatter\"}],\"parcoords\":[{\"type\":\"parcoords\",\"line\":{\"colorbar\":{\"outlinewidth\":0,\"ticks\":\"\"}}}],\"scatterpolargl\":[{\"type\":\"scatterpolargl\",\"marker\":{\"colorbar\":{\"outlinewidth\":0,\"ticks\":\"\"}}}],\"bar\":[{\"error_x\":{\"color\":\"#2a3f5f\"},\"error_y\":{\"color\":\"#2a3f5f\"},\"marker\":{\"line\":{\"color\":\"#E5ECF6\",\"width\":0.5},\"pattern\":{\"fillmode\":\"overlay\",\"size\":10,\"solidity\":0.2}},\"type\":\"bar\"}],\"scattergeo\":[{\"type\":\"scattergeo\",\"marker\":{\"colorbar\":{\"outlinewidth\":0,\"ticks\":\"\"}}}],\"scatterpolar\":[{\"type\":\"scatterpolar\",\"marker\":{\"colorbar\":{\"outlinewidth\":0,\"ticks\":\"\"}}}],\"histogram\":[{\"marker\":{\"pattern\":{\"fillmode\":\"overlay\",\"size\":10,\"solidity\":0.2}},\"type\":\"histogram\"}],\"scattergl\":[{\"type\":\"scattergl\",\"marker\":{\"colorbar\":{\"outlinewidth\":0,\"ticks\":\"\"}}}],\"scatter3d\":[{\"type\":\"scatter3d\",\"line\":{\"colorbar\":{\"outlinewidth\":0,\"ticks\":\"\"}},\"marker\":{\"colorbar\":{\"outlinewidth\":0,\"ticks\":\"\"}}}],\"scattermapbox\":[{\"type\":\"scattermapbox\",\"marker\":{\"colorbar\":{\"outlinewidth\":0,\"ticks\":\"\"}}}],\"scatterternary\":[{\"type\":\"scatterternary\",\"marker\":{\"colorbar\":{\"outlinewidth\":0,\"ticks\":\"\"}}}],\"scattercarpet\":[{\"type\":\"scattercarpet\",\"marker\":{\"colorbar\":{\"outlinewidth\":0,\"ticks\":\"\"}}}],\"carpet\":[{\"aaxis\":{\"endlinecolor\":\"#2a3f5f\",\"gridcolor\":\"white\",\"linecolor\":\"white\",\"minorgridcolor\":\"white\",\"startlinecolor\":\"#2a3f5f\"},\"baxis\":{\"endlinecolor\":\"#2a3f5f\",\"gridcolor\":\"white\",\"linecolor\":\"white\",\"minorgridcolor\":\"white\",\"startlinecolor\":\"#2a3f5f\"},\"type\":\"carpet\"}],\"table\":[{\"cells\":{\"fill\":{\"color\":\"#EBF0F8\"},\"line\":{\"color\":\"white\"}},\"header\":{\"fill\":{\"color\":\"#C8D4E3\"},\"line\":{\"color\":\"white\"}},\"type\":\"table\"}],\"barpolar\":[{\"marker\":{\"line\":{\"color\":\"#E5ECF6\",\"width\":0.5},\"pattern\":{\"fillmode\":\"overlay\",\"size\":10,\"solidity\":0.2}},\"type\":\"barpolar\"}],\"pie\":[{\"automargin\":true,\"type\":\"pie\"}]},\"layout\":{\"autotypenumbers\":\"strict\",\"colorway\":[\"#636efa\",\"#EF553B\",\"#00cc96\",\"#ab63fa\",\"#FFA15A\",\"#19d3f3\",\"#FF6692\",\"#B6E880\",\"#FF97FF\",\"#FECB52\"],\"font\":{\"color\":\"#2a3f5f\"},\"hovermode\":\"closest\",\"hoverlabel\":{\"align\":\"left\"},\"paper_bgcolor\":\"white\",\"plot_bgcolor\":\"#E5ECF6\",\"polar\":{\"bgcolor\":\"#E5ECF6\",\"angularaxis\":{\"gridcolor\":\"white\",\"linecolor\":\"white\",\"ticks\":\"\"},\"radialaxis\":{\"gridcolor\":\"white\",\"linecolor\":\"white\",\"ticks\":\"\"}},\"ternary\":{\"bgcolor\":\"#E5ECF6\",\"aaxis\":{\"gridcolor\":\"white\",\"linecolor\":\"white\",\"ticks\":\"\"},\"baxis\":{\"gridcolor\":\"white\",\"linecolor\":\"white\",\"ticks\":\"\"},\"caxis\":{\"gridcolor\":\"white\",\"linecolor\":\"white\",\"ticks\":\"\"}},\"coloraxis\":{\"colorbar\":{\"outlinewidth\":0,\"ticks\":\"\"}},\"colorscale\":{\"sequential\":[[0.0,\"#0d0887\"],[0.1111111111111111,\"#46039f\"],[0.2222222222222222,\"#7201a8\"],[0.3333333333333333,\"#9c179e\"],[0.4444444444444444,\"#bd3786\"],[0.5555555555555556,\"#d8576b\"],[0.6666666666666666,\"#ed7953\"],[0.7777777777777778,\"#fb9f3a\"],[0.8888888888888888,\"#fdca26\"],[1.0,\"#f0f921\"]],\"sequentialminus\":[[0.0,\"#0d0887\"],[0.1111111111111111,\"#46039f\"],[0.2222222222222222,\"#7201a8\"],[0.3333333333333333,\"#9c179e\"],[0.4444444444444444,\"#bd3786\"],[0.5555555555555556,\"#d8576b\"],[0.6666666666666666,\"#ed7953\"],[0.7777777777777778,\"#fb9f3a\"],[0.8888888888888888,\"#fdca26\"],[1.0,\"#f0f921\"]],\"diverging\":[[0,\"#8e0152\"],[0.1,\"#c51b7d\"],[0.2,\"#de77ae\"],[0.3,\"#f1b6da\"],[0.4,\"#fde0ef\"],[0.5,\"#f7f7f7\"],[0.6,\"#e6f5d0\"],[0.7,\"#b8e186\"],[0.8,\"#7fbc41\"],[0.9,\"#4d9221\"],[1,\"#276419\"]]},\"xaxis\":{\"gridcolor\":\"white\",\"linecolor\":\"white\",\"ticks\":\"\",\"title\":{\"standoff\":15},\"zerolinecolor\":\"white\",\"automargin\":true,\"zerolinewidth\":2},\"yaxis\":{\"gridcolor\":\"white\",\"linecolor\":\"white\",\"ticks\":\"\",\"title\":{\"standoff\":15},\"zerolinecolor\":\"white\",\"automargin\":true,\"zerolinewidth\":2},\"scene\":{\"xaxis\":{\"backgroundcolor\":\"#E5ECF6\",\"gridcolor\":\"white\",\"linecolor\":\"white\",\"showbackground\":true,\"ticks\":\"\",\"zerolinecolor\":\"white\",\"gridwidth\":2},\"yaxis\":{\"backgroundcolor\":\"#E5ECF6\",\"gridcolor\":\"white\",\"linecolor\":\"white\",\"showbackground\":true,\"ticks\":\"\",\"zerolinecolor\":\"white\",\"gridwidth\":2},\"zaxis\":{\"backgroundcolor\":\"#E5ECF6\",\"gridcolor\":\"white\",\"linecolor\":\"white\",\"showbackground\":true,\"ticks\":\"\",\"zerolinecolor\":\"white\",\"gridwidth\":2}},\"shapedefaults\":{\"line\":{\"color\":\"#2a3f5f\"}},\"annotationdefaults\":{\"arrowcolor\":\"#2a3f5f\",\"arrowhead\":0,\"arrowwidth\":1},\"geo\":{\"bgcolor\":\"white\",\"landcolor\":\"#E5ECF6\",\"subunitcolor\":\"white\",\"showland\":true,\"showlakes\":true,\"lakecolor\":\"white\"},\"title\":{\"x\":0.05},\"mapbox\":{\"style\":\"light\"}}},\"xaxis\":{\"anchor\":\"y\",\"domain\":[0.0,1.0],\"title\":{\"text\":\"Number of Clusters(k)\"}},\"yaxis\":{\"anchor\":\"x\",\"domain\":[0.0,1.0],\"title\":{\"text\":\"Inertia\"}},\"legend\":{\"tracegroupgap\":0},\"title\":{\"text\":\"Inertia vs Number of Clusters\"}},                        {\"responsive\": true}                    ).then(function(){\n",
       "                            \n",
       "var gd = document.getElementById('b3c6cbf8-c54e-434d-be58-d55a87ab8053');\n",
       "var x = new MutationObserver(function (mutations, observer) {{\n",
       "        var display = window.getComputedStyle(gd).display;\n",
       "        if (!display || display === 'none') {{\n",
       "            console.log([gd, 'removed!']);\n",
       "            Plotly.purge(gd);\n",
       "            observer.disconnect();\n",
       "        }}\n",
       "}});\n",
       "\n",
       "// Listen for the removal of the full notebook cells\n",
       "var notebookContainer = gd.closest('#notebook-container');\n",
       "if (notebookContainer) {{\n",
       "    x.observe(notebookContainer, {childList: true});\n",
       "}}\n",
       "\n",
       "// Listen for the clearing of the current output cell\n",
       "var outputEl = gd.closest('.output');\n",
       "if (outputEl) {{\n",
       "    x.observe(outputEl, {childList: true});\n",
       "}}\n",
       "\n",
       "                        })                };                });            </script>        </div>"
      ]
     },
     "metadata": {},
     "output_type": "display_data"
    }
   ],
   "source": [
    "# Create line plot of `inertia_errors` vs `n_clusters`\n",
    "fig = px.line(x=nclusters,y=inertia_errors,title='Inertia vs Number of Clusters')\n",
    "\n",
    "fig.update_layout(xaxis_title='Number of Clusters(k)',yaxis_title='Inertia')\n",
    "fig.show()"
   ]
  },
  {
   "cell_type": "markdown",
   "id": "929a68b6-4192-4297-a927-15caad06319e",
   "metadata": {},
   "source": [
    "Interpretation: The line flatten at 3 or 4 clusters \n",
    "\n"
   ]
  },
  {
   "cell_type": "code",
   "execution_count": 206,
   "id": "c0fcce04-17a4-439c-af5d-aaa899017a11",
   "metadata": {},
   "outputs": [
    {
     "data": {
      "application/vnd.plotly.v1+json": {
       "config": {
        "plotlyServerURL": "https://plot.ly"
       },
       "data": [
        {
         "hovertemplate": "x=%{x}<br>y=%{y}<extra></extra>",
         "legendgroup": "",
         "line": {
          "color": "#636efa",
          "dash": "solid"
         },
         "marker": {
          "symbol": "circle"
         },
         "mode": "lines",
         "name": "",
         "orientation": "v",
         "showlegend": false,
         "type": "scatter",
         "x": [
          2,
          3,
          4,
          5,
          6,
          7,
          8,
          9,
          10
         ],
         "xaxis": "x",
         "y": [
          0.47632441775010176,
          0.2739172294089761,
          0.21453054536556962,
          0.17312710079449403,
          0.1772285282972476,
          0.1434428840889619,
          0.11716395890257293,
          0.11429128804807269,
          0.09099648577061716
         ],
         "yaxis": "y"
        }
       ],
       "layout": {
        "autosize": true,
        "legend": {
         "tracegroupgap": 0
        },
        "template": {
         "data": {
          "bar": [
           {
            "error_x": {
             "color": "#2a3f5f"
            },
            "error_y": {
             "color": "#2a3f5f"
            },
            "marker": {
             "line": {
              "color": "#E5ECF6",
              "width": 0.5
             },
             "pattern": {
              "fillmode": "overlay",
              "size": 10,
              "solidity": 0.2
             }
            },
            "type": "bar"
           }
          ],
          "barpolar": [
           {
            "marker": {
             "line": {
              "color": "#E5ECF6",
              "width": 0.5
             },
             "pattern": {
              "fillmode": "overlay",
              "size": 10,
              "solidity": 0.2
             }
            },
            "type": "barpolar"
           }
          ],
          "carpet": [
           {
            "aaxis": {
             "endlinecolor": "#2a3f5f",
             "gridcolor": "white",
             "linecolor": "white",
             "minorgridcolor": "white",
             "startlinecolor": "#2a3f5f"
            },
            "baxis": {
             "endlinecolor": "#2a3f5f",
             "gridcolor": "white",
             "linecolor": "white",
             "minorgridcolor": "white",
             "startlinecolor": "#2a3f5f"
            },
            "type": "carpet"
           }
          ],
          "choropleth": [
           {
            "colorbar": {
             "outlinewidth": 0,
             "ticks": ""
            },
            "type": "choropleth"
           }
          ],
          "contour": [
           {
            "colorbar": {
             "outlinewidth": 0,
             "ticks": ""
            },
            "colorscale": [
             [
              0,
              "#0d0887"
             ],
             [
              0.1111111111111111,
              "#46039f"
             ],
             [
              0.2222222222222222,
              "#7201a8"
             ],
             [
              0.3333333333333333,
              "#9c179e"
             ],
             [
              0.4444444444444444,
              "#bd3786"
             ],
             [
              0.5555555555555556,
              "#d8576b"
             ],
             [
              0.6666666666666666,
              "#ed7953"
             ],
             [
              0.7777777777777778,
              "#fb9f3a"
             ],
             [
              0.8888888888888888,
              "#fdca26"
             ],
             [
              1,
              "#f0f921"
             ]
            ],
            "type": "contour"
           }
          ],
          "contourcarpet": [
           {
            "colorbar": {
             "outlinewidth": 0,
             "ticks": ""
            },
            "type": "contourcarpet"
           }
          ],
          "heatmap": [
           {
            "colorbar": {
             "outlinewidth": 0,
             "ticks": ""
            },
            "colorscale": [
             [
              0,
              "#0d0887"
             ],
             [
              0.1111111111111111,
              "#46039f"
             ],
             [
              0.2222222222222222,
              "#7201a8"
             ],
             [
              0.3333333333333333,
              "#9c179e"
             ],
             [
              0.4444444444444444,
              "#bd3786"
             ],
             [
              0.5555555555555556,
              "#d8576b"
             ],
             [
              0.6666666666666666,
              "#ed7953"
             ],
             [
              0.7777777777777778,
              "#fb9f3a"
             ],
             [
              0.8888888888888888,
              "#fdca26"
             ],
             [
              1,
              "#f0f921"
             ]
            ],
            "type": "heatmap"
           }
          ],
          "heatmapgl": [
           {
            "colorbar": {
             "outlinewidth": 0,
             "ticks": ""
            },
            "colorscale": [
             [
              0,
              "#0d0887"
             ],
             [
              0.1111111111111111,
              "#46039f"
             ],
             [
              0.2222222222222222,
              "#7201a8"
             ],
             [
              0.3333333333333333,
              "#9c179e"
             ],
             [
              0.4444444444444444,
              "#bd3786"
             ],
             [
              0.5555555555555556,
              "#d8576b"
             ],
             [
              0.6666666666666666,
              "#ed7953"
             ],
             [
              0.7777777777777778,
              "#fb9f3a"
             ],
             [
              0.8888888888888888,
              "#fdca26"
             ],
             [
              1,
              "#f0f921"
             ]
            ],
            "type": "heatmapgl"
           }
          ],
          "histogram": [
           {
            "marker": {
             "pattern": {
              "fillmode": "overlay",
              "size": 10,
              "solidity": 0.2
             }
            },
            "type": "histogram"
           }
          ],
          "histogram2d": [
           {
            "colorbar": {
             "outlinewidth": 0,
             "ticks": ""
            },
            "colorscale": [
             [
              0,
              "#0d0887"
             ],
             [
              0.1111111111111111,
              "#46039f"
             ],
             [
              0.2222222222222222,
              "#7201a8"
             ],
             [
              0.3333333333333333,
              "#9c179e"
             ],
             [
              0.4444444444444444,
              "#bd3786"
             ],
             [
              0.5555555555555556,
              "#d8576b"
             ],
             [
              0.6666666666666666,
              "#ed7953"
             ],
             [
              0.7777777777777778,
              "#fb9f3a"
             ],
             [
              0.8888888888888888,
              "#fdca26"
             ],
             [
              1,
              "#f0f921"
             ]
            ],
            "type": "histogram2d"
           }
          ],
          "histogram2dcontour": [
           {
            "colorbar": {
             "outlinewidth": 0,
             "ticks": ""
            },
            "colorscale": [
             [
              0,
              "#0d0887"
             ],
             [
              0.1111111111111111,
              "#46039f"
             ],
             [
              0.2222222222222222,
              "#7201a8"
             ],
             [
              0.3333333333333333,
              "#9c179e"
             ],
             [
              0.4444444444444444,
              "#bd3786"
             ],
             [
              0.5555555555555556,
              "#d8576b"
             ],
             [
              0.6666666666666666,
              "#ed7953"
             ],
             [
              0.7777777777777778,
              "#fb9f3a"
             ],
             [
              0.8888888888888888,
              "#fdca26"
             ],
             [
              1,
              "#f0f921"
             ]
            ],
            "type": "histogram2dcontour"
           }
          ],
          "mesh3d": [
           {
            "colorbar": {
             "outlinewidth": 0,
             "ticks": ""
            },
            "type": "mesh3d"
           }
          ],
          "parcoords": [
           {
            "line": {
             "colorbar": {
              "outlinewidth": 0,
              "ticks": ""
             }
            },
            "type": "parcoords"
           }
          ],
          "pie": [
           {
            "automargin": true,
            "type": "pie"
           }
          ],
          "scatter": [
           {
            "fillpattern": {
             "fillmode": "overlay",
             "size": 10,
             "solidity": 0.2
            },
            "type": "scatter"
           }
          ],
          "scatter3d": [
           {
            "line": {
             "colorbar": {
              "outlinewidth": 0,
              "ticks": ""
             }
            },
            "marker": {
             "colorbar": {
              "outlinewidth": 0,
              "ticks": ""
             }
            },
            "type": "scatter3d"
           }
          ],
          "scattercarpet": [
           {
            "marker": {
             "colorbar": {
              "outlinewidth": 0,
              "ticks": ""
             }
            },
            "type": "scattercarpet"
           }
          ],
          "scattergeo": [
           {
            "marker": {
             "colorbar": {
              "outlinewidth": 0,
              "ticks": ""
             }
            },
            "type": "scattergeo"
           }
          ],
          "scattergl": [
           {
            "marker": {
             "colorbar": {
              "outlinewidth": 0,
              "ticks": ""
             }
            },
            "type": "scattergl"
           }
          ],
          "scattermapbox": [
           {
            "marker": {
             "colorbar": {
              "outlinewidth": 0,
              "ticks": ""
             }
            },
            "type": "scattermapbox"
           }
          ],
          "scatterpolar": [
           {
            "marker": {
             "colorbar": {
              "outlinewidth": 0,
              "ticks": ""
             }
            },
            "type": "scatterpolar"
           }
          ],
          "scatterpolargl": [
           {
            "marker": {
             "colorbar": {
              "outlinewidth": 0,
              "ticks": ""
             }
            },
            "type": "scatterpolargl"
           }
          ],
          "scatterternary": [
           {
            "marker": {
             "colorbar": {
              "outlinewidth": 0,
              "ticks": ""
             }
            },
            "type": "scatterternary"
           }
          ],
          "surface": [
           {
            "colorbar": {
             "outlinewidth": 0,
             "ticks": ""
            },
            "colorscale": [
             [
              0,
              "#0d0887"
             ],
             [
              0.1111111111111111,
              "#46039f"
             ],
             [
              0.2222222222222222,
              "#7201a8"
             ],
             [
              0.3333333333333333,
              "#9c179e"
             ],
             [
              0.4444444444444444,
              "#bd3786"
             ],
             [
              0.5555555555555556,
              "#d8576b"
             ],
             [
              0.6666666666666666,
              "#ed7953"
             ],
             [
              0.7777777777777778,
              "#fb9f3a"
             ],
             [
              0.8888888888888888,
              "#fdca26"
             ],
             [
              1,
              "#f0f921"
             ]
            ],
            "type": "surface"
           }
          ],
          "table": [
           {
            "cells": {
             "fill": {
              "color": "#EBF0F8"
             },
             "line": {
              "color": "white"
             }
            },
            "header": {
             "fill": {
              "color": "#C8D4E3"
             },
             "line": {
              "color": "white"
             }
            },
            "type": "table"
           }
          ]
         },
         "layout": {
          "annotationdefaults": {
           "arrowcolor": "#2a3f5f",
           "arrowhead": 0,
           "arrowwidth": 1
          },
          "autotypenumbers": "strict",
          "coloraxis": {
           "colorbar": {
            "outlinewidth": 0,
            "ticks": ""
           }
          },
          "colorscale": {
           "diverging": [
            [
             0,
             "#8e0152"
            ],
            [
             0.1,
             "#c51b7d"
            ],
            [
             0.2,
             "#de77ae"
            ],
            [
             0.3,
             "#f1b6da"
            ],
            [
             0.4,
             "#fde0ef"
            ],
            [
             0.5,
             "#f7f7f7"
            ],
            [
             0.6,
             "#e6f5d0"
            ],
            [
             0.7,
             "#b8e186"
            ],
            [
             0.8,
             "#7fbc41"
            ],
            [
             0.9,
             "#4d9221"
            ],
            [
             1,
             "#276419"
            ]
           ],
           "sequential": [
            [
             0,
             "#0d0887"
            ],
            [
             0.1111111111111111,
             "#46039f"
            ],
            [
             0.2222222222222222,
             "#7201a8"
            ],
            [
             0.3333333333333333,
             "#9c179e"
            ],
            [
             0.4444444444444444,
             "#bd3786"
            ],
            [
             0.5555555555555556,
             "#d8576b"
            ],
            [
             0.6666666666666666,
             "#ed7953"
            ],
            [
             0.7777777777777778,
             "#fb9f3a"
            ],
            [
             0.8888888888888888,
             "#fdca26"
            ],
            [
             1,
             "#f0f921"
            ]
           ],
           "sequentialminus": [
            [
             0,
             "#0d0887"
            ],
            [
             0.1111111111111111,
             "#46039f"
            ],
            [
             0.2222222222222222,
             "#7201a8"
            ],
            [
             0.3333333333333333,
             "#9c179e"
            ],
            [
             0.4444444444444444,
             "#bd3786"
            ],
            [
             0.5555555555555556,
             "#d8576b"
            ],
            [
             0.6666666666666666,
             "#ed7953"
            ],
            [
             0.7777777777777778,
             "#fb9f3a"
            ],
            [
             0.8888888888888888,
             "#fdca26"
            ],
            [
             1,
             "#f0f921"
            ]
           ]
          },
          "colorway": [
           "#636efa",
           "#EF553B",
           "#00cc96",
           "#ab63fa",
           "#FFA15A",
           "#19d3f3",
           "#FF6692",
           "#B6E880",
           "#FF97FF",
           "#FECB52"
          ],
          "font": {
           "color": "#2a3f5f"
          },
          "geo": {
           "bgcolor": "white",
           "lakecolor": "white",
           "landcolor": "#E5ECF6",
           "showlakes": true,
           "showland": true,
           "subunitcolor": "white"
          },
          "hoverlabel": {
           "align": "left"
          },
          "hovermode": "closest",
          "mapbox": {
           "style": "light"
          },
          "paper_bgcolor": "white",
          "plot_bgcolor": "#E5ECF6",
          "polar": {
           "angularaxis": {
            "gridcolor": "white",
            "linecolor": "white",
            "ticks": ""
           },
           "bgcolor": "#E5ECF6",
           "radialaxis": {
            "gridcolor": "white",
            "linecolor": "white",
            "ticks": ""
           }
          },
          "scene": {
           "xaxis": {
            "backgroundcolor": "#E5ECF6",
            "gridcolor": "white",
            "gridwidth": 2,
            "linecolor": "white",
            "showbackground": true,
            "ticks": "",
            "zerolinecolor": "white"
           },
           "yaxis": {
            "backgroundcolor": "#E5ECF6",
            "gridcolor": "white",
            "gridwidth": 2,
            "linecolor": "white",
            "showbackground": true,
            "ticks": "",
            "zerolinecolor": "white"
           },
           "zaxis": {
            "backgroundcolor": "#E5ECF6",
            "gridcolor": "white",
            "gridwidth": 2,
            "linecolor": "white",
            "showbackground": true,
            "ticks": "",
            "zerolinecolor": "white"
           }
          },
          "shapedefaults": {
           "line": {
            "color": "#2a3f5f"
           }
          },
          "ternary": {
           "aaxis": {
            "gridcolor": "white",
            "linecolor": "white",
            "ticks": ""
           },
           "baxis": {
            "gridcolor": "white",
            "linecolor": "white",
            "ticks": ""
           },
           "bgcolor": "#E5ECF6",
           "caxis": {
            "gridcolor": "white",
            "linecolor": "white",
            "ticks": ""
           }
          },
          "title": {
           "x": 0.05
          },
          "xaxis": {
           "automargin": true,
           "gridcolor": "white",
           "linecolor": "white",
           "ticks": "",
           "title": {
            "standoff": 15
           },
           "zerolinecolor": "white",
           "zerolinewidth": 2
          },
          "yaxis": {
           "automargin": true,
           "gridcolor": "white",
           "linecolor": "white",
           "ticks": "",
           "title": {
            "standoff": 15
           },
           "zerolinecolor": "white",
           "zerolinewidth": 2
          }
         }
        },
        "title": {
         "text": "K-Means Model: Silhouette Score vs Number of Clusters"
        },
        "xaxis": {
         "anchor": "y",
         "autorange": true,
         "domain": [
          0,
          1
         ],
         "range": [
          2,
          10
         ],
         "title": {
          "text": "Number of Clusters(k)"
         },
         "type": "linear"
        },
        "yaxis": {
         "anchor": "x",
         "autorange": true,
         "domain": [
          0,
          1
         ],
         "range": [
          0.06958937843842357,
          0.49773152508229535
         ],
         "title": {
          "text": "Silhouette Score"
         },
         "type": "linear"
        }
       }
      },
      "image/png": "[encoded data removed]",
      "text/html": [
       "<div>                            <div id=\"8f133557-e546-4938-93c6-3e2e9252d8dc\" class=\"plotly-graph-div\" style=\"height:525px; width:100%;\"></div>            <script type=\"text/javascript\">                require([\"plotly\"], function(Plotly) {                    window.PLOTLYENV=window.PLOTLYENV || {};                                    if (document.getElementById(\"8f133557-e546-4938-93c6-3e2e9252d8dc\")) {                    Plotly.newPlot(                        \"8f133557-e546-4938-93c6-3e2e9252d8dc\",                        [{\"hovertemplate\":\"x=%{x}\\u003cbr\\u003ey=%{y}\\u003cextra\\u003e\\u003c\\u002fextra\\u003e\",\"legendgroup\":\"\",\"line\":{\"color\":\"#636efa\",\"dash\":\"solid\"},\"marker\":{\"symbol\":\"circle\"},\"mode\":\"lines\",\"name\":\"\",\"orientation\":\"v\",\"showlegend\":false,\"x\":[2,3,4,5,6,7,8,9,10],\"xaxis\":\"x\",\"y\":[0.47632441775010176,0.2739172294089761,0.21453054536556962,0.17312710079449403,0.1772285282972476,0.1434428840889619,0.11716395890257293,0.11429128804807269,0.09099648577061716],\"yaxis\":\"y\",\"type\":\"scatter\"}],                        {\"template\":{\"data\":{\"histogram2dcontour\":[{\"type\":\"histogram2dcontour\",\"colorbar\":{\"outlinewidth\":0,\"ticks\":\"\"},\"colorscale\":[[0.0,\"#0d0887\"],[0.1111111111111111,\"#46039f\"],[0.2222222222222222,\"#7201a8\"],[0.3333333333333333,\"#9c179e\"],[0.4444444444444444,\"#bd3786\"],[0.5555555555555556,\"#d8576b\"],[0.6666666666666666,\"#ed7953\"],[0.7777777777777778,\"#fb9f3a\"],[0.8888888888888888,\"#fdca26\"],[1.0,\"#f0f921\"]]}],\"choropleth\":[{\"type\":\"choropleth\",\"colorbar\":{\"outlinewidth\":0,\"ticks\":\"\"}}],\"histogram2d\":[{\"type\":\"histogram2d\",\"colorbar\":{\"outlinewidth\":0,\"ticks\":\"\"},\"colorscale\":[[0.0,\"#0d0887\"],[0.1111111111111111,\"#46039f\"],[0.2222222222222222,\"#7201a8\"],[0.3333333333333333,\"#9c179e\"],[0.4444444444444444,\"#bd3786\"],[0.5555555555555556,\"#d8576b\"],[0.6666666666666666,\"#ed7953\"],[0.7777777777777778,\"#fb9f3a\"],[0.8888888888888888,\"#fdca26\"],[1.0,\"#f0f921\"]]}],\"heatmap\":[{\"type\":\"heatmap\",\"colorbar\":{\"outlinewidth\":0,\"ticks\":\"\"},\"colorscale\":[[0.0,\"#0d0887\"],[0.1111111111111111,\"#46039f\"],[0.2222222222222222,\"#7201a8\"],[0.3333333333333333,\"#9c179e\"],[0.4444444444444444,\"#bd3786\"],[0.5555555555555556,\"#d8576b\"],[0.6666666666666666,\"#ed7953\"],[0.7777777777777778,\"#fb9f3a\"],[0.8888888888888888,\"#fdca26\"],[1.0,\"#f0f921\"]]}],\"heatmapgl\":[{\"type\":\"heatmapgl\",\"colorbar\":{\"outlinewidth\":0,\"ticks\":\"\"},\"colorscale\":[[0.0,\"#0d0887\"],[0.1111111111111111,\"#46039f\"],[0.2222222222222222,\"#7201a8\"],[0.3333333333333333,\"#9c179e\"],[0.4444444444444444,\"#bd3786\"],[0.5555555555555556,\"#d8576b\"],[0.6666666666666666,\"#ed7953\"],[0.7777777777777778,\"#fb9f3a\"],[0.8888888888888888,\"#fdca26\"],[1.0,\"#f0f921\"]]}],\"contourcarpet\":[{\"type\":\"contourcarpet\",\"colorbar\":{\"outlinewidth\":0,\"ticks\":\"\"}}],\"contour\":[{\"type\":\"contour\",\"colorbar\":{\"outlinewidth\":0,\"ticks\":\"\"},\"colorscale\":[[0.0,\"#0d0887\"],[0.1111111111111111,\"#46039f\"],[0.2222222222222222,\"#7201a8\"],[0.3333333333333333,\"#9c179e\"],[0.4444444444444444,\"#bd3786\"],[0.5555555555555556,\"#d8576b\"],[0.6666666666666666,\"#ed7953\"],[0.7777777777777778,\"#fb9f3a\"],[0.8888888888888888,\"#fdca26\"],[1.0,\"#f0f921\"]]}],\"surface\":[{\"type\":\"surface\",\"colorbar\":{\"outlinewidth\":0,\"ticks\":\"\"},\"colorscale\":[[0.0,\"#0d0887\"],[0.1111111111111111,\"#46039f\"],[0.2222222222222222,\"#7201a8\"],[0.3333333333333333,\"#9c179e\"],[0.4444444444444444,\"#bd3786\"],[0.5555555555555556,\"#d8576b\"],[0.6666666666666666,\"#ed7953\"],[0.7777777777777778,\"#fb9f3a\"],[0.8888888888888888,\"#fdca26\"],[1.0,\"#f0f921\"]]}],\"mesh3d\":[{\"type\":\"mesh3d\",\"colorbar\":{\"outlinewidth\":0,\"ticks\":\"\"}}],\"scatter\":[{\"fillpattern\":{\"fillmode\":\"overlay\",\"size\":10,\"solidity\":0.2},\"type\":\"scatter\"}],\"parcoords\":[{\"type\":\"parcoords\",\"line\":{\"colorbar\":{\"outlinewidth\":0,\"ticks\":\"\"}}}],\"scatterpolargl\":[{\"type\":\"scatterpolargl\",\"marker\":{\"colorbar\":{\"outlinewidth\":0,\"ticks\":\"\"}}}],\"bar\":[{\"error_x\":{\"color\":\"#2a3f5f\"},\"error_y\":{\"color\":\"#2a3f5f\"},\"marker\":{\"line\":{\"color\":\"#E5ECF6\",\"width\":0.5},\"pattern\":{\"fillmode\":\"overlay\",\"size\":10,\"solidity\":0.2}},\"type\":\"bar\"}],\"scattergeo\":[{\"type\":\"scattergeo\",\"marker\":{\"colorbar\":{\"outlinewidth\":0,\"ticks\":\"\"}}}],\"scatterpolar\":[{\"type\":\"scatterpolar\",\"marker\":{\"colorbar\":{\"outlinewidth\":0,\"ticks\":\"\"}}}],\"histogram\":[{\"marker\":{\"pattern\":{\"fillmode\":\"overlay\",\"size\":10,\"solidity\":0.2}},\"type\":\"histogram\"}],\"scattergl\":[{\"type\":\"scattergl\",\"marker\":{\"colorbar\":{\"outlinewidth\":0,\"ticks\":\"\"}}}],\"scatter3d\":[{\"type\":\"scatter3d\",\"line\":{\"colorbar\":{\"outlinewidth\":0,\"ticks\":\"\"}},\"marker\":{\"colorbar\":{\"outlinewidth\":0,\"ticks\":\"\"}}}],\"scattermapbox\":[{\"type\":\"scattermapbox\",\"marker\":{\"colorbar\":{\"outlinewidth\":0,\"ticks\":\"\"}}}],\"scatterternary\":[{\"type\":\"scatterternary\",\"marker\":{\"colorbar\":{\"outlinewidth\":0,\"ticks\":\"\"}}}],\"scattercarpet\":[{\"type\":\"scattercarpet\",\"marker\":{\"colorbar\":{\"outlinewidth\":0,\"ticks\":\"\"}}}],\"carpet\":[{\"aaxis\":{\"endlinecolor\":\"#2a3f5f\",\"gridcolor\":\"white\",\"linecolor\":\"white\",\"minorgridcolor\":\"white\",\"startlinecolor\":\"#2a3f5f\"},\"baxis\":{\"endlinecolor\":\"#2a3f5f\",\"gridcolor\":\"white\",\"linecolor\":\"white\",\"minorgridcolor\":\"white\",\"startlinecolor\":\"#2a3f5f\"},\"type\":\"carpet\"}],\"table\":[{\"cells\":{\"fill\":{\"color\":\"#EBF0F8\"},\"line\":{\"color\":\"white\"}},\"header\":{\"fill\":{\"color\":\"#C8D4E3\"},\"line\":{\"color\":\"white\"}},\"type\":\"table\"}],\"barpolar\":[{\"marker\":{\"line\":{\"color\":\"#E5ECF6\",\"width\":0.5},\"pattern\":{\"fillmode\":\"overlay\",\"size\":10,\"solidity\":0.2}},\"type\":\"barpolar\"}],\"pie\":[{\"automargin\":true,\"type\":\"pie\"}]},\"layout\":{\"autotypenumbers\":\"strict\",\"colorway\":[\"#636efa\",\"#EF553B\",\"#00cc96\",\"#ab63fa\",\"#FFA15A\",\"#19d3f3\",\"#FF6692\",\"#B6E880\",\"#FF97FF\",\"#FECB52\"],\"font\":{\"color\":\"#2a3f5f\"},\"hovermode\":\"closest\",\"hoverlabel\":{\"align\":\"left\"},\"paper_bgcolor\":\"white\",\"plot_bgcolor\":\"#E5ECF6\",\"polar\":{\"bgcolor\":\"#E5ECF6\",\"angularaxis\":{\"gridcolor\":\"white\",\"linecolor\":\"white\",\"ticks\":\"\"},\"radialaxis\":{\"gridcolor\":\"white\",\"linecolor\":\"white\",\"ticks\":\"\"}},\"ternary\":{\"bgcolor\":\"#E5ECF6\",\"aaxis\":{\"gridcolor\":\"white\",\"linecolor\":\"white\",\"ticks\":\"\"},\"baxis\":{\"gridcolor\":\"white\",\"linecolor\":\"white\",\"ticks\":\"\"},\"caxis\":{\"gridcolor\":\"white\",\"linecolor\":\"white\",\"ticks\":\"\"}},\"coloraxis\":{\"colorbar\":{\"outlinewidth\":0,\"ticks\":\"\"}},\"colorscale\":{\"sequential\":[[0.0,\"#0d0887\"],[0.1111111111111111,\"#46039f\"],[0.2222222222222222,\"#7201a8\"],[0.3333333333333333,\"#9c179e\"],[0.4444444444444444,\"#bd3786\"],[0.5555555555555556,\"#d8576b\"],[0.6666666666666666,\"#ed7953\"],[0.7777777777777778,\"#fb9f3a\"],[0.8888888888888888,\"#fdca26\"],[1.0,\"#f0f921\"]],\"sequentialminus\":[[0.0,\"#0d0887\"],[0.1111111111111111,\"#46039f\"],[0.2222222222222222,\"#7201a8\"],[0.3333333333333333,\"#9c179e\"],[0.4444444444444444,\"#bd3786\"],[0.5555555555555556,\"#d8576b\"],[0.6666666666666666,\"#ed7953\"],[0.7777777777777778,\"#fb9f3a\"],[0.8888888888888888,\"#fdca26\"],[1.0,\"#f0f921\"]],\"diverging\":[[0,\"#8e0152\"],[0.1,\"#c51b7d\"],[0.2,\"#de77ae\"],[0.3,\"#f1b6da\"],[0.4,\"#fde0ef\"],[0.5,\"#f7f7f7\"],[0.6,\"#e6f5d0\"],[0.7,\"#b8e186\"],[0.8,\"#7fbc41\"],[0.9,\"#4d9221\"],[1,\"#276419\"]]},\"xaxis\":{\"gridcolor\":\"white\",\"linecolor\":\"white\",\"ticks\":\"\",\"title\":{\"standoff\":15},\"zerolinecolor\":\"white\",\"automargin\":true,\"zerolinewidth\":2},\"yaxis\":{\"gridcolor\":\"white\",\"linecolor\":\"white\",\"ticks\":\"\",\"title\":{\"standoff\":15},\"zerolinecolor\":\"white\",\"automargin\":true,\"zerolinewidth\":2},\"scene\":{\"xaxis\":{\"backgroundcolor\":\"#E5ECF6\",\"gridcolor\":\"white\",\"linecolor\":\"white\",\"showbackground\":true,\"ticks\":\"\",\"zerolinecolor\":\"white\",\"gridwidth\":2},\"yaxis\":{\"backgroundcolor\":\"#E5ECF6\",\"gridcolor\":\"white\",\"linecolor\":\"white\",\"showbackground\":true,\"ticks\":\"\",\"zerolinecolor\":\"white\",\"gridwidth\":2},\"zaxis\":{\"backgroundcolor\":\"#E5ECF6\",\"gridcolor\":\"white\",\"linecolor\":\"white\",\"showbackground\":true,\"ticks\":\"\",\"zerolinecolor\":\"white\",\"gridwidth\":2}},\"shapedefaults\":{\"line\":{\"color\":\"#2a3f5f\"}},\"annotationdefaults\":{\"arrowcolor\":\"#2a3f5f\",\"arrowhead\":0,\"arrowwidth\":1},\"geo\":{\"bgcolor\":\"white\",\"landcolor\":\"#E5ECF6\",\"subunitcolor\":\"white\",\"showland\":true,\"showlakes\":true,\"lakecolor\":\"white\"},\"title\":{\"x\":0.05},\"mapbox\":{\"style\":\"light\"}}},\"xaxis\":{\"anchor\":\"y\",\"domain\":[0.0,1.0],\"title\":{\"text\":\"Number of Clusters(k)\"}},\"yaxis\":{\"anchor\":\"x\",\"domain\":[0.0,1.0],\"title\":{\"text\":\"Silhouette Score\"}},\"legend\":{\"tracegroupgap\":0},\"title\":{\"text\":\"K-Means Model: Silhouette Score vs Number of Clusters\"}},                        {\"responsive\": true}                    ).then(function(){\n",
       "                            \n",
       "var gd = document.getElementById('8f133557-e546-4938-93c6-3e2e9252d8dc');\n",
       "var x = new MutationObserver(function (mutations, observer) {{\n",
       "        var display = window.getComputedStyle(gd).display;\n",
       "        if (!display || display === 'none') {{\n",
       "            console.log([gd, 'removed!']);\n",
       "            Plotly.purge(gd);\n",
       "            observer.disconnect();\n",
       "        }}\n",
       "}});\n",
       "\n",
       "// Listen for the removal of the full notebook cells\n",
       "var notebookContainer = gd.closest('#notebook-container');\n",
       "if (notebookContainer) {{\n",
       "    x.observe(notebookContainer, {childList: true});\n",
       "}}\n",
       "\n",
       "// Listen for the clearing of the current output cell\n",
       "var outputEl = gd.closest('.output');\n",
       "if (outputEl) {{\n",
       "    x.observe(outputEl, {childList: true});\n",
       "}}\n",
       "\n",
       "                        })                };                });            </script>        </div>"
      ]
     },
     "metadata": {},
     "output_type": "display_data"
    }
   ],
   "source": [
    "# Create a line plot of `silhouette_scores` vs `n_clusters`\n",
    "fig = fig = px.line(x=nclusters,y=silhouette_scores,\n",
    "                    title='K-Means Model: Silhouette Score vs Number of Clusters')\n",
    "fig.update_layout(xaxis_title='Number of Clusters(k)',yaxis_title='Silhouette Score')\n",
    "\n",
    "\n",
    "fig.show()"
   ]
  },
  {
   "cell_type": "markdown",
   "id": "e243da7b-26f4-4688-b458-6fec00635da6",
   "metadata": {},
   "source": [
    "Interpretation: the silhouette score higher at 3 compared to 4, \n",
    "\n",
    "Putting the information from this plot together with our inertia plot, it seems like the best setting for `n_clusters` will be 3. "
   ]
  },
  {
   "cell_type": "code",
   "execution_count": 207,
   "id": "3512b945-9fb9-4a3e-b9e8-2e7bcae36ee6",
   "metadata": {},
   "outputs": [
    {
     "data": {
      "text/html": [
       "<style>#sk-container-id-4 {color: black;background-color: white;}#sk-container-id-4 pre{padding: 0;}#sk-container-id-4 div.sk-toggleable {background-color: white;}#sk-container-id-4 label.sk-toggleable__label {cursor: pointer;display: block;width: 100%;margin-bottom: 0;padding: 0.3em;box-sizing: border-box;text-align: center;}#sk-container-id-4 label.sk-toggleable__label-arrow:before {content: \"▸\";float: left;margin-right: 0.25em;color: #696969;}#sk-container-id-4 label.sk-toggleable__label-arrow:hover:before {color: black;}#sk-container-id-4 div.sk-estimator:hover label.sk-toggleable__label-arrow:before {color: black;}#sk-container-id-4 div.sk-toggleable__content {max-height: 0;max-width: 0;overflow: hidden;text-align: left;background-color: #f0f8ff;}#sk-container-id-4 div.sk-toggleable__content pre {margin: 0.2em;color: black;border-radius: 0.25em;background-color: #f0f8ff;}#sk-container-id-4 input.sk-toggleable__control:checked~div.sk-toggleable__content {max-height: 200px;max-width: 100%;overflow: auto;}#sk-container-id-4 input.sk-toggleable__control:checked~label.sk-toggleable__label-arrow:before {content: \"▾\";}#sk-container-id-4 div.sk-estimator input.sk-toggleable__control:checked~label.sk-toggleable__label {background-color: #d4ebff;}#sk-container-id-4 div.sk-label input.sk-toggleable__control:checked~label.sk-toggleable__label {background-color: #d4ebff;}#sk-container-id-4 input.sk-hidden--visually {border: 0;clip: rect(1px 1px 1px 1px);clip: rect(1px, 1px, 1px, 1px);height: 1px;margin: -1px;overflow: hidden;padding: 0;position: absolute;width: 1px;}#sk-container-id-4 div.sk-estimator {font-family: monospace;background-color: #f0f8ff;border: 1px dotted black;border-radius: 0.25em;box-sizing: border-box;margin-bottom: 0.5em;}#sk-container-id-4 div.sk-estimator:hover {background-color: #d4ebff;}#sk-container-id-4 div.sk-parallel-item::after {content: \"\";width: 100%;border-bottom: 1px solid gray;flex-grow: 1;}#sk-container-id-4 div.sk-label:hover label.sk-toggleable__label {background-color: #d4ebff;}#sk-container-id-4 div.sk-serial::before {content: \"\";position: absolute;border-left: 1px solid gray;box-sizing: border-box;top: 0;bottom: 0;left: 50%;z-index: 0;}#sk-container-id-4 div.sk-serial {display: flex;flex-direction: column;align-items: center;background-color: white;padding-right: 0.2em;padding-left: 0.2em;position: relative;}#sk-container-id-4 div.sk-item {position: relative;z-index: 1;}#sk-container-id-4 div.sk-parallel {display: flex;align-items: stretch;justify-content: center;background-color: white;position: relative;}#sk-container-id-4 div.sk-item::before, #sk-container-id-4 div.sk-parallel-item::before {content: \"\";position: absolute;border-left: 1px solid gray;box-sizing: border-box;top: 0;bottom: 0;left: 50%;z-index: -1;}#sk-container-id-4 div.sk-parallel-item {display: flex;flex-direction: column;z-index: 1;position: relative;background-color: white;}#sk-container-id-4 div.sk-parallel-item:first-child::after {align-self: flex-end;width: 50%;}#sk-container-id-4 div.sk-parallel-item:last-child::after {align-self: flex-start;width: 50%;}#sk-container-id-4 div.sk-parallel-item:only-child::after {width: 0;}#sk-container-id-4 div.sk-dashed-wrapped {border: 1px dashed gray;margin: 0 0.4em 0.5em 0.4em;box-sizing: border-box;padding-bottom: 0.4em;background-color: white;}#sk-container-id-4 div.sk-label label {font-family: monospace;font-weight: bold;display: inline-block;line-height: 1.2em;}#sk-container-id-4 div.sk-label-container {text-align: center;}#sk-container-id-4 div.sk-container {/* jupyter's `normalize.less` sets `[hidden] { display: none; }` but bootstrap.min.css set `[hidden] { display: none !important; }` so we also need the `!important` here to be able to override the default hidden behavior on the sphinx rendered scikit-learn.org. See: https://github.com/scikit-learn/scikit-learn/issues/21755 */display: inline-block !important;position: relative;}#sk-container-id-4 div.sk-text-repr-fallback {display: none;}</style><div id=\"sk-container-id-4\" class=\"sk-top-container\"><div class=\"sk-text-repr-fallback\"><pre>Pipeline(steps=[(&#x27;standardscaler&#x27;, StandardScaler()),\n",
       "                (&#x27;kmeans&#x27;, KMeans(n_clusters=3, random_state=42))])</pre><b>In a Jupyter environment, please rerun this cell to show the HTML representation or trust the notebook. <br />On GitHub, the HTML representation is unable to render, please try loading this page with nbviewer.org.</b></div><div class=\"sk-container\" hidden><div class=\"sk-item sk-dashed-wrapped\"><div class=\"sk-label-container\"><div class=\"sk-label sk-toggleable\"><input class=\"sk-toggleable__control sk-hidden--visually\" id=\"sk-estimator-id-8\" type=\"checkbox\" ><label for=\"sk-estimator-id-8\" class=\"sk-toggleable__label sk-toggleable__label-arrow\">Pipeline</label><div class=\"sk-toggleable__content\"><pre>Pipeline(steps=[(&#x27;standardscaler&#x27;, StandardScaler()),\n",
       "                (&#x27;kmeans&#x27;, KMeans(n_clusters=3, random_state=42))])</pre></div></div></div><div class=\"sk-serial\"><div class=\"sk-item\"><div class=\"sk-estimator sk-toggleable\"><input class=\"sk-toggleable__control sk-hidden--visually\" id=\"sk-estimator-id-9\" type=\"checkbox\" ><label for=\"sk-estimator-id-9\" class=\"sk-toggleable__label sk-toggleable__label-arrow\">StandardScaler</label><div class=\"sk-toggleable__content\"><pre>StandardScaler()</pre></div></div></div><div class=\"sk-item\"><div class=\"sk-estimator sk-toggleable\"><input class=\"sk-toggleable__control sk-hidden--visually\" id=\"sk-estimator-id-10\" type=\"checkbox\" ><label for=\"sk-estimator-id-10\" class=\"sk-toggleable__label sk-toggleable__label-arrow\">KMeans</label><div class=\"sk-toggleable__content\"><pre>KMeans(n_clusters=3, random_state=42)</pre></div></div></div></div></div></div></div>"
      ],
      "text/plain": [
       "Pipeline(steps=[('standardscaler', StandardScaler()),\n",
       "                ('kmeans', KMeans(n_clusters=3, random_state=42))])"
      ]
     },
     "execution_count": 207,
     "metadata": {},
     "output_type": "execute_result"
    }
   ],
   "source": [
    "# building the final model\n",
    "final_model = make_pipeline(\n",
    "    StandardScaler(),\n",
    "    KMeans(random_state=42,n_clusters=3)\n",
    ")\n",
    "final_model.fit(df_features)"
   ]
  },
  {
   "cell_type": "markdown",
   "id": "dbde40ca-6fdf-4aea-a250-f5fe2a729ba1",
   "metadata": {},
   "source": [
    "## 3.0 Conveying the message "
   ]
  },
  {
   "cell_type": "code",
   "execution_count": 208,
   "id": "f7105eda-1dc3-4465-8118-6e99731f8d96",
   "metadata": {},
   "outputs": [
    {
     "name": "stdout",
     "output_type": "stream",
     "text": [
      "[2 1 0 1 1]\n"
     ]
    }
   ],
   "source": [
    "labels = final_model.named_steps.kmeans.labels_\n",
    "print(labels[:5])"
   ]
  },
  {
   "cell_type": "code",
   "execution_count": 218,
   "id": "68a80d7f-f3cc-4b55-8994-3b17fab57d07",
   "metadata": {},
   "outputs": [],
   "source": [
    "# group the cluster by using the labels defined from our K-Mean clustering model\n",
    "segmented_df = df_features.groupby(labels).mean()"
   ]
  },
  {
   "cell_type": "code",
   "execution_count": 210,
   "id": "c61e9b0c-34bb-471f-96da-ac2e59bb0891",
   "metadata": {},
   "outputs": [
    {
     "data": {
      "text/html": [
       "<div>\n",
       "<style scoped>\n",
       "    .dataframe tbody tr th:only-of-type {\n",
       "        vertical-align: middle;\n",
       "    }\n",
       "\n",
       "    .dataframe tbody tr th {\n",
       "        vertical-align: top;\n",
       "    }\n",
       "\n",
       "    .dataframe thead th {\n",
       "        text-align: right;\n",
       "    }\n",
       "</style>\n",
       "<table border=\"1\" class=\"dataframe\">\n",
       "  <thead>\n",
       "    <tr style=\"text-align: right;\">\n",
       "      <th></th>\n",
       "      <th>MntGoldProds</th>\n",
       "      <th>MntFishProducts</th>\n",
       "      <th>MntMeatProducts</th>\n",
       "      <th>MntWines</th>\n",
       "      <th>Income</th>\n",
       "    </tr>\n",
       "  </thead>\n",
       "  <tbody>\n",
       "    <tr>\n",
       "      <th>0</th>\n",
       "      <td>74.602024</td>\n",
       "      <td>33.983137</td>\n",
       "      <td>187.553120</td>\n",
       "      <td>563.006745</td>\n",
       "      <td>64619.772344</td>\n",
       "    </tr>\n",
       "    <tr>\n",
       "      <th>1</th>\n",
       "      <td>16.357500</td>\n",
       "      <td>9.047500</td>\n",
       "      <td>31.761667</td>\n",
       "      <td>71.772500</td>\n",
       "      <td>36936.723333</td>\n",
       "    </tr>\n",
       "    <tr>\n",
       "      <th>2</th>\n",
       "      <td>79.335697</td>\n",
       "      <td>123.867612</td>\n",
       "      <td>521.820331</td>\n",
       "      <td>605.420804</td>\n",
       "      <td>78336.444444</td>\n",
       "    </tr>\n",
       "  </tbody>\n",
       "</table>\n",
       "</div>"
      ],
      "text/plain": [
       "   MntGoldProds  MntFishProducts  MntMeatProducts    MntWines        Income\n",
       "0     74.602024        33.983137       187.553120  563.006745  64619.772344\n",
       "1     16.357500         9.047500        31.761667   71.772500  36936.723333\n",
       "2     79.335697       123.867612       521.820331  605.420804  78336.444444"
      ]
     },
     "execution_count": 210,
     "metadata": {},
     "output_type": "execute_result"
    }
   ],
   "source": [
    "segmented_df"
   ]
  },
  {
   "cell_type": "code",
   "execution_count": 219,
   "id": "71cbad6e-9f72-42c0-ba53-612190304865",
   "metadata": {},
   "outputs": [],
   "source": [
    "# the value of income is much higher than the products. Hence, we might visualise it seperately\n",
    "\n",
    "segmented_without_income = segmented_df.drop(columns='Income')"
   ]
  },
  {
   "cell_type": "code",
   "execution_count": 220,
   "id": "8207136f-ce4e-4cbe-b6a7-ae7336a3e62f",
   "metadata": {},
   "outputs": [
    {
     "data": {
      "application/vnd.plotly.v1+json": {
       "config": {
        "plotlyServerURL": "https://plot.ly"
       },
       "data": [
        {
         "alignmentgroup": "True",
         "hovertemplate": "variable=MntGoldProds<br>index=%{x}<br>value=%{y}<extra></extra>",
         "legendgroup": "MntGoldProds",
         "marker": {
          "color": "#636efa",
          "pattern": {
           "shape": ""
          }
         },
         "name": "MntGoldProds",
         "offsetgroup": "MntGoldProds",
         "orientation": "v",
         "showlegend": true,
         "textposition": "auto",
         "type": "bar",
         "x": [
          0,
          1,
          2
         ],
         "xaxis": "x",
         "y": [
          74.60202360876897,
          16.3575,
          79.33569739952719
         ],
         "yaxis": "y"
        },
        {
         "alignmentgroup": "True",
         "hovertemplate": "variable=MntFishProducts<br>index=%{x}<br>value=%{y}<extra></extra>",
         "legendgroup": "MntFishProducts",
         "marker": {
          "color": "#EF553B",
          "pattern": {
           "shape": ""
          }
         },
         "name": "MntFishProducts",
         "offsetgroup": "MntFishProducts",
         "orientation": "v",
         "showlegend": true,
         "textposition": "auto",
         "type": "bar",
         "x": [
          0,
          1,
          2
         ],
         "xaxis": "x",
         "y": [
          33.98313659359191,
          9.0475,
          123.8676122931442
         ],
         "yaxis": "y"
        },
        {
         "alignmentgroup": "True",
         "hovertemplate": "variable=MntMeatProducts<br>index=%{x}<br>value=%{y}<extra></extra>",
         "legendgroup": "MntMeatProducts",
         "marker": {
          "color": "#00cc96",
          "pattern": {
           "shape": ""
          }
         },
         "name": "MntMeatProducts",
         "offsetgroup": "MntMeatProducts",
         "orientation": "v",
         "showlegend": true,
         "textposition": "auto",
         "type": "bar",
         "x": [
          0,
          1,
          2
         ],
         "xaxis": "x",
         "y": [
          187.5531197301855,
          31.761666666666667,
          521.8203309692672
         ],
         "yaxis": "y"
        },
        {
         "alignmentgroup": "True",
         "hovertemplate": "variable=MntWines<br>index=%{x}<br>value=%{y}<extra></extra>",
         "legendgroup": "MntWines",
         "marker": {
          "color": "#ab63fa",
          "pattern": {
           "shape": ""
          }
         },
         "name": "MntWines",
         "offsetgroup": "MntWines",
         "orientation": "v",
         "showlegend": true,
         "textposition": "auto",
         "type": "bar",
         "x": [
          0,
          1,
          2
         ],
         "xaxis": "x",
         "y": [
          563.0067453625633,
          71.7725,
          605.4208037825059
         ],
         "yaxis": "y"
        }
       ],
       "layout": {
        "autosize": true,
        "barmode": "group",
        "legend": {
         "title": {
          "text": "variable"
         },
         "tracegroupgap": 0
        },
        "template": {
         "data": {
          "bar": [
           {
            "error_x": {
             "color": "#2a3f5f"
            },
            "error_y": {
             "color": "#2a3f5f"
            },
            "marker": {
             "line": {
              "color": "#E5ECF6",
              "width": 0.5
             },
             "pattern": {
              "fillmode": "overlay",
              "size": 10,
              "solidity": 0.2
             }
            },
            "type": "bar"
           }
          ],
          "barpolar": [
           {
            "marker": {
             "line": {
              "color": "#E5ECF6",
              "width": 0.5
             },
             "pattern": {
              "fillmode": "overlay",
              "size": 10,
              "solidity": 0.2
             }
            },
            "type": "barpolar"
           }
          ],
          "carpet": [
           {
            "aaxis": {
             "endlinecolor": "#2a3f5f",
             "gridcolor": "white",
             "linecolor": "white",
             "minorgridcolor": "white",
             "startlinecolor": "#2a3f5f"
            },
            "baxis": {
             "endlinecolor": "#2a3f5f",
             "gridcolor": "white",
             "linecolor": "white",
             "minorgridcolor": "white",
             "startlinecolor": "#2a3f5f"
            },
            "type": "carpet"
           }
          ],
          "choropleth": [
           {
            "colorbar": {
             "outlinewidth": 0,
             "ticks": ""
            },
            "type": "choropleth"
           }
          ],
          "contour": [
           {
            "colorbar": {
             "outlinewidth": 0,
             "ticks": ""
            },
            "colorscale": [
             [
              0,
              "#0d0887"
             ],
             [
              0.1111111111111111,
              "#46039f"
             ],
             [
              0.2222222222222222,
              "#7201a8"
             ],
             [
              0.3333333333333333,
              "#9c179e"
             ],
             [
              0.4444444444444444,
              "#bd3786"
             ],
             [
              0.5555555555555556,
              "#d8576b"
             ],
             [
              0.6666666666666666,
              "#ed7953"
             ],
             [
              0.7777777777777778,
              "#fb9f3a"
             ],
             [
              0.8888888888888888,
              "#fdca26"
             ],
             [
              1,
              "#f0f921"
             ]
            ],
            "type": "contour"
           }
          ],
          "contourcarpet": [
           {
            "colorbar": {
             "outlinewidth": 0,
             "ticks": ""
            },
            "type": "contourcarpet"
           }
          ],
          "heatmap": [
           {
            "colorbar": {
             "outlinewidth": 0,
             "ticks": ""
            },
            "colorscale": [
             [
              0,
              "#0d0887"
             ],
             [
              0.1111111111111111,
              "#46039f"
             ],
             [
              0.2222222222222222,
              "#7201a8"
             ],
             [
              0.3333333333333333,
              "#9c179e"
             ],
             [
              0.4444444444444444,
              "#bd3786"
             ],
             [
              0.5555555555555556,
              "#d8576b"
             ],
             [
              0.6666666666666666,
              "#ed7953"
             ],
             [
              0.7777777777777778,
              "#fb9f3a"
             ],
             [
              0.8888888888888888,
              "#fdca26"
             ],
             [
              1,
              "#f0f921"
             ]
            ],
            "type": "heatmap"
           }
          ],
          "heatmapgl": [
           {
            "colorbar": {
             "outlinewidth": 0,
             "ticks": ""
            },
            "colorscale": [
             [
              0,
              "#0d0887"
             ],
             [
              0.1111111111111111,
              "#46039f"
             ],
             [
              0.2222222222222222,
              "#7201a8"
             ],
             [
              0.3333333333333333,
              "#9c179e"
             ],
             [
              0.4444444444444444,
              "#bd3786"
             ],
             [
              0.5555555555555556,
              "#d8576b"
             ],
             [
              0.6666666666666666,
              "#ed7953"
             ],
             [
              0.7777777777777778,
              "#fb9f3a"
             ],
             [
              0.8888888888888888,
              "#fdca26"
             ],
             [
              1,
              "#f0f921"
             ]
            ],
            "type": "heatmapgl"
           }
          ],
          "histogram": [
           {
            "marker": {
             "pattern": {
              "fillmode": "overlay",
              "size": 10,
              "solidity": 0.2
             }
            },
            "type": "histogram"
           }
          ],
          "histogram2d": [
           {
            "colorbar": {
             "outlinewidth": 0,
             "ticks": ""
            },
            "colorscale": [
             [
              0,
              "#0d0887"
             ],
             [
              0.1111111111111111,
              "#46039f"
             ],
             [
              0.2222222222222222,
              "#7201a8"
             ],
             [
              0.3333333333333333,
              "#9c179e"
             ],
             [
              0.4444444444444444,
              "#bd3786"
             ],
             [
              0.5555555555555556,
              "#d8576b"
             ],
             [
              0.6666666666666666,
              "#ed7953"
             ],
             [
              0.7777777777777778,
              "#fb9f3a"
             ],
             [
              0.8888888888888888,
              "#fdca26"
             ],
             [
              1,
              "#f0f921"
             ]
            ],
            "type": "histogram2d"
           }
          ],
          "histogram2dcontour": [
           {
            "colorbar": {
             "outlinewidth": 0,
             "ticks": ""
            },
            "colorscale": [
             [
              0,
              "#0d0887"
             ],
             [
              0.1111111111111111,
              "#46039f"
             ],
             [
              0.2222222222222222,
              "#7201a8"
             ],
             [
              0.3333333333333333,
              "#9c179e"
             ],
             [
              0.4444444444444444,
              "#bd3786"
             ],
             [
              0.5555555555555556,
              "#d8576b"
             ],
             [
              0.6666666666666666,
              "#ed7953"
             ],
             [
              0.7777777777777778,
              "#fb9f3a"
             ],
             [
              0.8888888888888888,
              "#fdca26"
             ],
             [
              1,
              "#f0f921"
             ]
            ],
            "type": "histogram2dcontour"
           }
          ],
          "mesh3d": [
           {
            "colorbar": {
             "outlinewidth": 0,
             "ticks": ""
            },
            "type": "mesh3d"
           }
          ],
          "parcoords": [
           {
            "line": {
             "colorbar": {
              "outlinewidth": 0,
              "ticks": ""
             }
            },
            "type": "parcoords"
           }
          ],
          "pie": [
           {
            "automargin": true,
            "type": "pie"
           }
          ],
          "scatter": [
           {
            "fillpattern": {
             "fillmode": "overlay",
             "size": 10,
             "solidity": 0.2
            },
            "type": "scatter"
           }
          ],
          "scatter3d": [
           {
            "line": {
             "colorbar": {
              "outlinewidth": 0,
              "ticks": ""
             }
            },
            "marker": {
             "colorbar": {
              "outlinewidth": 0,
              "ticks": ""
             }
            },
            "type": "scatter3d"
           }
          ],
          "scattercarpet": [
           {
            "marker": {
             "colorbar": {
              "outlinewidth": 0,
              "ticks": ""
             }
            },
            "type": "scattercarpet"
           }
          ],
          "scattergeo": [
           {
            "marker": {
             "colorbar": {
              "outlinewidth": 0,
              "ticks": ""
             }
            },
            "type": "scattergeo"
           }
          ],
          "scattergl": [
           {
            "marker": {
             "colorbar": {
              "outlinewidth": 0,
              "ticks": ""
             }
            },
            "type": "scattergl"
           }
          ],
          "scattermapbox": [
           {
            "marker": {
             "colorbar": {
              "outlinewidth": 0,
              "ticks": ""
             }
            },
            "type": "scattermapbox"
           }
          ],
          "scatterpolar": [
           {
            "marker": {
             "colorbar": {
              "outlinewidth": 0,
              "ticks": ""
             }
            },
            "type": "scatterpolar"
           }
          ],
          "scatterpolargl": [
           {
            "marker": {
             "colorbar": {
              "outlinewidth": 0,
              "ticks": ""
             }
            },
            "type": "scatterpolargl"
           }
          ],
          "scatterternary": [
           {
            "marker": {
             "colorbar": {
              "outlinewidth": 0,
              "ticks": ""
             }
            },
            "type": "scatterternary"
           }
          ],
          "surface": [
           {
            "colorbar": {
             "outlinewidth": 0,
             "ticks": ""
            },
            "colorscale": [
             [
              0,
              "#0d0887"
             ],
             [
              0.1111111111111111,
              "#46039f"
             ],
             [
              0.2222222222222222,
              "#7201a8"
             ],
             [
              0.3333333333333333,
              "#9c179e"
             ],
             [
              0.4444444444444444,
              "#bd3786"
             ],
             [
              0.5555555555555556,
              "#d8576b"
             ],
             [
              0.6666666666666666,
              "#ed7953"
             ],
             [
              0.7777777777777778,
              "#fb9f3a"
             ],
             [
              0.8888888888888888,
              "#fdca26"
             ],
             [
              1,
              "#f0f921"
             ]
            ],
            "type": "surface"
           }
          ],
          "table": [
           {
            "cells": {
             "fill": {
              "color": "#EBF0F8"
             },
             "line": {
              "color": "white"
             }
            },
            "header": {
             "fill": {
              "color": "#C8D4E3"
             },
             "line": {
              "color": "white"
             }
            },
            "type": "table"
           }
          ]
         },
         "layout": {
          "annotationdefaults": {
           "arrowcolor": "#2a3f5f",
           "arrowhead": 0,
           "arrowwidth": 1
          },
          "autotypenumbers": "strict",
          "coloraxis": {
           "colorbar": {
            "outlinewidth": 0,
            "ticks": ""
           }
          },
          "colorscale": {
           "diverging": [
            [
             0,
             "#8e0152"
            ],
            [
             0.1,
             "#c51b7d"
            ],
            [
             0.2,
             "#de77ae"
            ],
            [
             0.3,
             "#f1b6da"
            ],
            [
             0.4,
             "#fde0ef"
            ],
            [
             0.5,
             "#f7f7f7"
            ],
            [
             0.6,
             "#e6f5d0"
            ],
            [
             0.7,
             "#b8e186"
            ],
            [
             0.8,
             "#7fbc41"
            ],
            [
             0.9,
             "#4d9221"
            ],
            [
             1,
             "#276419"
            ]
           ],
           "sequential": [
            [
             0,
             "#0d0887"
            ],
            [
             0.1111111111111111,
             "#46039f"
            ],
            [
             0.2222222222222222,
             "#7201a8"
            ],
            [
             0.3333333333333333,
             "#9c179e"
            ],
            [
             0.4444444444444444,
             "#bd3786"
            ],
            [
             0.5555555555555556,
             "#d8576b"
            ],
            [
             0.6666666666666666,
             "#ed7953"
            ],
            [
             0.7777777777777778,
             "#fb9f3a"
            ],
            [
             0.8888888888888888,
             "#fdca26"
            ],
            [
             1,
             "#f0f921"
            ]
           ],
           "sequentialminus": [
            [
             0,
             "#0d0887"
            ],
            [
             0.1111111111111111,
             "#46039f"
            ],
            [
             0.2222222222222222,
             "#7201a8"
            ],
            [
             0.3333333333333333,
             "#9c179e"
            ],
            [
             0.4444444444444444,
             "#bd3786"
            ],
            [
             0.5555555555555556,
             "#d8576b"
            ],
            [
             0.6666666666666666,
             "#ed7953"
            ],
            [
             0.7777777777777778,
             "#fb9f3a"
            ],
            [
             0.8888888888888888,
             "#fdca26"
            ],
            [
             1,
             "#f0f921"
            ]
           ]
          },
          "colorway": [
           "#636efa",
           "#EF553B",
           "#00cc96",
           "#ab63fa",
           "#FFA15A",
           "#19d3f3",
           "#FF6692",
           "#B6E880",
           "#FF97FF",
           "#FECB52"
          ],
          "font": {
           "color": "#2a3f5f"
          },
          "geo": {
           "bgcolor": "white",
           "lakecolor": "white",
           "landcolor": "#E5ECF6",
           "showlakes": true,
           "showland": true,
           "subunitcolor": "white"
          },
          "hoverlabel": {
           "align": "left"
          },
          "hovermode": "closest",
          "mapbox": {
           "style": "light"
          },
          "paper_bgcolor": "white",
          "plot_bgcolor": "#E5ECF6",
          "polar": {
           "angularaxis": {
            "gridcolor": "white",
            "linecolor": "white",
            "ticks": ""
           },
           "bgcolor": "#E5ECF6",
           "radialaxis": {
            "gridcolor": "white",
            "linecolor": "white",
            "ticks": ""
           }
          },
          "scene": {
           "xaxis": {
            "backgroundcolor": "#E5ECF6",
            "gridcolor": "white",
            "gridwidth": 2,
            "linecolor": "white",
            "showbackground": true,
            "ticks": "",
            "zerolinecolor": "white"
           },
           "yaxis": {
            "backgroundcolor": "#E5ECF6",
            "gridcolor": "white",
            "gridwidth": 2,
            "linecolor": "white",
            "showbackground": true,
            "ticks": "",
            "zerolinecolor": "white"
           },
           "zaxis": {
            "backgroundcolor": "#E5ECF6",
            "gridcolor": "white",
            "gridwidth": 2,
            "linecolor": "white",
            "showbackground": true,
            "ticks": "",
            "zerolinecolor": "white"
           }
          },
          "shapedefaults": {
           "line": {
            "color": "#2a3f5f"
           }
          },
          "ternary": {
           "aaxis": {
            "gridcolor": "white",
            "linecolor": "white",
            "ticks": ""
           },
           "baxis": {
            "gridcolor": "white",
            "linecolor": "white",
            "ticks": ""
           },
           "bgcolor": "#E5ECF6",
           "caxis": {
            "gridcolor": "white",
            "linecolor": "white",
            "ticks": ""
           }
          },
          "title": {
           "x": 0.05
          },
          "xaxis": {
           "automargin": true,
           "gridcolor": "white",
           "linecolor": "white",
           "ticks": "",
           "title": {
            "standoff": 15
           },
           "zerolinecolor": "white",
           "zerolinewidth": 2
          },
          "yaxis": {
           "automargin": true,
           "gridcolor": "white",
           "linecolor": "white",
           "ticks": "",
           "title": {
            "standoff": 15
           },
           "zerolinecolor": "white",
           "zerolinewidth": 2
          }
         }
        },
        "title": {
         "text": "Average amount spend on the Products"
        },
        "xaxis": {
         "anchor": "y",
         "autorange": true,
         "domain": [
          0,
          1
         ],
         "range": [
          -0.5,
          2.5
         ],
         "title": {
          "text": "cluster"
         },
         "type": "linear"
        },
        "yaxis": {
         "anchor": "x",
         "autorange": true,
         "domain": [
          0,
          1
         ],
         "range": [
          0,
          637.2850566131641
         ],
         "title": {
          "text": "Value [$]"
         },
         "type": "linear"
        }
       }
      },
      "image/png": "[encoded data removed]",
      "text/html": [
       "<div>                            <div id=\"70511065-daf2-4be9-b22e-1bc1872592bf\" class=\"plotly-graph-div\" style=\"height:525px; width:100%;\"></div>            <script type=\"text/javascript\">                require([\"plotly\"], function(Plotly) {                    window.PLOTLYENV=window.PLOTLYENV || {};                                    if (document.getElementById(\"70511065-daf2-4be9-b22e-1bc1872592bf\")) {                    Plotly.newPlot(                        \"70511065-daf2-4be9-b22e-1bc1872592bf\",                        [{\"alignmentgroup\":\"True\",\"hovertemplate\":\"variable=MntGoldProds\\u003cbr\\u003eindex=%{x}\\u003cbr\\u003evalue=%{y}\\u003cextra\\u003e\\u003c\\u002fextra\\u003e\",\"legendgroup\":\"MntGoldProds\",\"marker\":{\"color\":\"#636efa\",\"pattern\":{\"shape\":\"\"}},\"name\":\"MntGoldProds\",\"offsetgroup\":\"MntGoldProds\",\"orientation\":\"v\",\"showlegend\":true,\"textposition\":\"auto\",\"x\":[0,1,2],\"xaxis\":\"x\",\"y\":[74.60202360876897,16.3575,79.33569739952719],\"yaxis\":\"y\",\"type\":\"bar\"},{\"alignmentgroup\":\"True\",\"hovertemplate\":\"variable=MntFishProducts\\u003cbr\\u003eindex=%{x}\\u003cbr\\u003evalue=%{y}\\u003cextra\\u003e\\u003c\\u002fextra\\u003e\",\"legendgroup\":\"MntFishProducts\",\"marker\":{\"color\":\"#EF553B\",\"pattern\":{\"shape\":\"\"}},\"name\":\"MntFishProducts\",\"offsetgroup\":\"MntFishProducts\",\"orientation\":\"v\",\"showlegend\":true,\"textposition\":\"auto\",\"x\":[0,1,2],\"xaxis\":\"x\",\"y\":[33.98313659359191,9.0475,123.8676122931442],\"yaxis\":\"y\",\"type\":\"bar\"},{\"alignmentgroup\":\"True\",\"hovertemplate\":\"variable=MntMeatProducts\\u003cbr\\u003eindex=%{x}\\u003cbr\\u003evalue=%{y}\\u003cextra\\u003e\\u003c\\u002fextra\\u003e\",\"legendgroup\":\"MntMeatProducts\",\"marker\":{\"color\":\"#00cc96\",\"pattern\":{\"shape\":\"\"}},\"name\":\"MntMeatProducts\",\"offsetgroup\":\"MntMeatProducts\",\"orientation\":\"v\",\"showlegend\":true,\"textposition\":\"auto\",\"x\":[0,1,2],\"xaxis\":\"x\",\"y\":[187.5531197301855,31.761666666666667,521.8203309692672],\"yaxis\":\"y\",\"type\":\"bar\"},{\"alignmentgroup\":\"True\",\"hovertemplate\":\"variable=MntWines\\u003cbr\\u003eindex=%{x}\\u003cbr\\u003evalue=%{y}\\u003cextra\\u003e\\u003c\\u002fextra\\u003e\",\"legendgroup\":\"MntWines\",\"marker\":{\"color\":\"#ab63fa\",\"pattern\":{\"shape\":\"\"}},\"name\":\"MntWines\",\"offsetgroup\":\"MntWines\",\"orientation\":\"v\",\"showlegend\":true,\"textposition\":\"auto\",\"x\":[0,1,2],\"xaxis\":\"x\",\"y\":[563.0067453625633,71.7725,605.4208037825059],\"yaxis\":\"y\",\"type\":\"bar\"}],                        {\"template\":{\"data\":{\"histogram2dcontour\":[{\"type\":\"histogram2dcontour\",\"colorbar\":{\"outlinewidth\":0,\"ticks\":\"\"},\"colorscale\":[[0.0,\"#0d0887\"],[0.1111111111111111,\"#46039f\"],[0.2222222222222222,\"#7201a8\"],[0.3333333333333333,\"#9c179e\"],[0.4444444444444444,\"#bd3786\"],[0.5555555555555556,\"#d8576b\"],[0.6666666666666666,\"#ed7953\"],[0.7777777777777778,\"#fb9f3a\"],[0.8888888888888888,\"#fdca26\"],[1.0,\"#f0f921\"]]}],\"choropleth\":[{\"type\":\"choropleth\",\"colorbar\":{\"outlinewidth\":0,\"ticks\":\"\"}}],\"histogram2d\":[{\"type\":\"histogram2d\",\"colorbar\":{\"outlinewidth\":0,\"ticks\":\"\"},\"colorscale\":[[0.0,\"#0d0887\"],[0.1111111111111111,\"#46039f\"],[0.2222222222222222,\"#7201a8\"],[0.3333333333333333,\"#9c179e\"],[0.4444444444444444,\"#bd3786\"],[0.5555555555555556,\"#d8576b\"],[0.6666666666666666,\"#ed7953\"],[0.7777777777777778,\"#fb9f3a\"],[0.8888888888888888,\"#fdca26\"],[1.0,\"#f0f921\"]]}],\"heatmap\":[{\"type\":\"heatmap\",\"colorbar\":{\"outlinewidth\":0,\"ticks\":\"\"},\"colorscale\":[[0.0,\"#0d0887\"],[0.1111111111111111,\"#46039f\"],[0.2222222222222222,\"#7201a8\"],[0.3333333333333333,\"#9c179e\"],[0.4444444444444444,\"#bd3786\"],[0.5555555555555556,\"#d8576b\"],[0.6666666666666666,\"#ed7953\"],[0.7777777777777778,\"#fb9f3a\"],[0.8888888888888888,\"#fdca26\"],[1.0,\"#f0f921\"]]}],\"heatmapgl\":[{\"type\":\"heatmapgl\",\"colorbar\":{\"outlinewidth\":0,\"ticks\":\"\"},\"colorscale\":[[0.0,\"#0d0887\"],[0.1111111111111111,\"#46039f\"],[0.2222222222222222,\"#7201a8\"],[0.3333333333333333,\"#9c179e\"],[0.4444444444444444,\"#bd3786\"],[0.5555555555555556,\"#d8576b\"],[0.6666666666666666,\"#ed7953\"],[0.7777777777777778,\"#fb9f3a\"],[0.8888888888888888,\"#fdca26\"],[1.0,\"#f0f921\"]]}],\"contourcarpet\":[{\"type\":\"contourcarpet\",\"colorbar\":{\"outlinewidth\":0,\"ticks\":\"\"}}],\"contour\":[{\"type\":\"contour\",\"colorbar\":{\"outlinewidth\":0,\"ticks\":\"\"},\"colorscale\":[[0.0,\"#0d0887\"],[0.1111111111111111,\"#46039f\"],[0.2222222222222222,\"#7201a8\"],[0.3333333333333333,\"#9c179e\"],[0.4444444444444444,\"#bd3786\"],[0.5555555555555556,\"#d8576b\"],[0.6666666666666666,\"#ed7953\"],[0.7777777777777778,\"#fb9f3a\"],[0.8888888888888888,\"#fdca26\"],[1.0,\"#f0f921\"]]}],\"surface\":[{\"type\":\"surface\",\"colorbar\":{\"outlinewidth\":0,\"ticks\":\"\"},\"colorscale\":[[0.0,\"#0d0887\"],[0.1111111111111111,\"#46039f\"],[0.2222222222222222,\"#7201a8\"],[0.3333333333333333,\"#9c179e\"],[0.4444444444444444,\"#bd3786\"],[0.5555555555555556,\"#d8576b\"],[0.6666666666666666,\"#ed7953\"],[0.7777777777777778,\"#fb9f3a\"],[0.8888888888888888,\"#fdca26\"],[1.0,\"#f0f921\"]]}],\"mesh3d\":[{\"type\":\"mesh3d\",\"colorbar\":{\"outlinewidth\":0,\"ticks\":\"\"}}],\"scatter\":[{\"fillpattern\":{\"fillmode\":\"overlay\",\"size\":10,\"solidity\":0.2},\"type\":\"scatter\"}],\"parcoords\":[{\"type\":\"parcoords\",\"line\":{\"colorbar\":{\"outlinewidth\":0,\"ticks\":\"\"}}}],\"scatterpolargl\":[{\"type\":\"scatterpolargl\",\"marker\":{\"colorbar\":{\"outlinewidth\":0,\"ticks\":\"\"}}}],\"bar\":[{\"error_x\":{\"color\":\"#2a3f5f\"},\"error_y\":{\"color\":\"#2a3f5f\"},\"marker\":{\"line\":{\"color\":\"#E5ECF6\",\"width\":0.5},\"pattern\":{\"fillmode\":\"overlay\",\"size\":10,\"solidity\":0.2}},\"type\":\"bar\"}],\"scattergeo\":[{\"type\":\"scattergeo\",\"marker\":{\"colorbar\":{\"outlinewidth\":0,\"ticks\":\"\"}}}],\"scatterpolar\":[{\"type\":\"scatterpolar\",\"marker\":{\"colorbar\":{\"outlinewidth\":0,\"ticks\":\"\"}}}],\"histogram\":[{\"marker\":{\"pattern\":{\"fillmode\":\"overlay\",\"size\":10,\"solidity\":0.2}},\"type\":\"histogram\"}],\"scattergl\":[{\"type\":\"scattergl\",\"marker\":{\"colorbar\":{\"outlinewidth\":0,\"ticks\":\"\"}}}],\"scatter3d\":[{\"type\":\"scatter3d\",\"line\":{\"colorbar\":{\"outlinewidth\":0,\"ticks\":\"\"}},\"marker\":{\"colorbar\":{\"outlinewidth\":0,\"ticks\":\"\"}}}],\"scattermapbox\":[{\"type\":\"scattermapbox\",\"marker\":{\"colorbar\":{\"outlinewidth\":0,\"ticks\":\"\"}}}],\"scatterternary\":[{\"type\":\"scatterternary\",\"marker\":{\"colorbar\":{\"outlinewidth\":0,\"ticks\":\"\"}}}],\"scattercarpet\":[{\"type\":\"scattercarpet\",\"marker\":{\"colorbar\":{\"outlinewidth\":0,\"ticks\":\"\"}}}],\"carpet\":[{\"aaxis\":{\"endlinecolor\":\"#2a3f5f\",\"gridcolor\":\"white\",\"linecolor\":\"white\",\"minorgridcolor\":\"white\",\"startlinecolor\":\"#2a3f5f\"},\"baxis\":{\"endlinecolor\":\"#2a3f5f\",\"gridcolor\":\"white\",\"linecolor\":\"white\",\"minorgridcolor\":\"white\",\"startlinecolor\":\"#2a3f5f\"},\"type\":\"carpet\"}],\"table\":[{\"cells\":{\"fill\":{\"color\":\"#EBF0F8\"},\"line\":{\"color\":\"white\"}},\"header\":{\"fill\":{\"color\":\"#C8D4E3\"},\"line\":{\"color\":\"white\"}},\"type\":\"table\"}],\"barpolar\":[{\"marker\":{\"line\":{\"color\":\"#E5ECF6\",\"width\":0.5},\"pattern\":{\"fillmode\":\"overlay\",\"size\":10,\"solidity\":0.2}},\"type\":\"barpolar\"}],\"pie\":[{\"automargin\":true,\"type\":\"pie\"}]},\"layout\":{\"autotypenumbers\":\"strict\",\"colorway\":[\"#636efa\",\"#EF553B\",\"#00cc96\",\"#ab63fa\",\"#FFA15A\",\"#19d3f3\",\"#FF6692\",\"#B6E880\",\"#FF97FF\",\"#FECB52\"],\"font\":{\"color\":\"#2a3f5f\"},\"hovermode\":\"closest\",\"hoverlabel\":{\"align\":\"left\"},\"paper_bgcolor\":\"white\",\"plot_bgcolor\":\"#E5ECF6\",\"polar\":{\"bgcolor\":\"#E5ECF6\",\"angularaxis\":{\"gridcolor\":\"white\",\"linecolor\":\"white\",\"ticks\":\"\"},\"radialaxis\":{\"gridcolor\":\"white\",\"linecolor\":\"white\",\"ticks\":\"\"}},\"ternary\":{\"bgcolor\":\"#E5ECF6\",\"aaxis\":{\"gridcolor\":\"white\",\"linecolor\":\"white\",\"ticks\":\"\"},\"baxis\":{\"gridcolor\":\"white\",\"linecolor\":\"white\",\"ticks\":\"\"},\"caxis\":{\"gridcolor\":\"white\",\"linecolor\":\"white\",\"ticks\":\"\"}},\"coloraxis\":{\"colorbar\":{\"outlinewidth\":0,\"ticks\":\"\"}},\"colorscale\":{\"sequential\":[[0.0,\"#0d0887\"],[0.1111111111111111,\"#46039f\"],[0.2222222222222222,\"#7201a8\"],[0.3333333333333333,\"#9c179e\"],[0.4444444444444444,\"#bd3786\"],[0.5555555555555556,\"#d8576b\"],[0.6666666666666666,\"#ed7953\"],[0.7777777777777778,\"#fb9f3a\"],[0.8888888888888888,\"#fdca26\"],[1.0,\"#f0f921\"]],\"sequentialminus\":[[0.0,\"#0d0887\"],[0.1111111111111111,\"#46039f\"],[0.2222222222222222,\"#7201a8\"],[0.3333333333333333,\"#9c179e\"],[0.4444444444444444,\"#bd3786\"],[0.5555555555555556,\"#d8576b\"],[0.6666666666666666,\"#ed7953\"],[0.7777777777777778,\"#fb9f3a\"],[0.8888888888888888,\"#fdca26\"],[1.0,\"#f0f921\"]],\"diverging\":[[0,\"#8e0152\"],[0.1,\"#c51b7d\"],[0.2,\"#de77ae\"],[0.3,\"#f1b6da\"],[0.4,\"#fde0ef\"],[0.5,\"#f7f7f7\"],[0.6,\"#e6f5d0\"],[0.7,\"#b8e186\"],[0.8,\"#7fbc41\"],[0.9,\"#4d9221\"],[1,\"#276419\"]]},\"xaxis\":{\"gridcolor\":\"white\",\"linecolor\":\"white\",\"ticks\":\"\",\"title\":{\"standoff\":15},\"zerolinecolor\":\"white\",\"automargin\":true,\"zerolinewidth\":2},\"yaxis\":{\"gridcolor\":\"white\",\"linecolor\":\"white\",\"ticks\":\"\",\"title\":{\"standoff\":15},\"zerolinecolor\":\"white\",\"automargin\":true,\"zerolinewidth\":2},\"scene\":{\"xaxis\":{\"backgroundcolor\":\"#E5ECF6\",\"gridcolor\":\"white\",\"linecolor\":\"white\",\"showbackground\":true,\"ticks\":\"\",\"zerolinecolor\":\"white\",\"gridwidth\":2},\"yaxis\":{\"backgroundcolor\":\"#E5ECF6\",\"gridcolor\":\"white\",\"linecolor\":\"white\",\"showbackground\":true,\"ticks\":\"\",\"zerolinecolor\":\"white\",\"gridwidth\":2},\"zaxis\":{\"backgroundcolor\":\"#E5ECF6\",\"gridcolor\":\"white\",\"linecolor\":\"white\",\"showbackground\":true,\"ticks\":\"\",\"zerolinecolor\":\"white\",\"gridwidth\":2}},\"shapedefaults\":{\"line\":{\"color\":\"#2a3f5f\"}},\"annotationdefaults\":{\"arrowcolor\":\"#2a3f5f\",\"arrowhead\":0,\"arrowwidth\":1},\"geo\":{\"bgcolor\":\"white\",\"landcolor\":\"#E5ECF6\",\"subunitcolor\":\"white\",\"showland\":true,\"showlakes\":true,\"lakecolor\":\"white\"},\"title\":{\"x\":0.05},\"mapbox\":{\"style\":\"light\"}}},\"xaxis\":{\"anchor\":\"y\",\"domain\":[0.0,1.0],\"title\":{\"text\":\"cluster\"}},\"yaxis\":{\"anchor\":\"x\",\"domain\":[0.0,1.0],\"title\":{\"text\":\"Value [$]\"}},\"legend\":{\"title\":{\"text\":\"variable\"},\"tracegroupgap\":0},\"title\":{\"text\":\"Average amount spend on the Products\"},\"barmode\":\"group\"},                        {\"responsive\": true}                    ).then(function(){\n",
       "                            \n",
       "var gd = document.getElementById('70511065-daf2-4be9-b22e-1bc1872592bf');\n",
       "var x = new MutationObserver(function (mutations, observer) {{\n",
       "        var display = window.getComputedStyle(gd).display;\n",
       "        if (!display || display === 'none') {{\n",
       "            console.log([gd, 'removed!']);\n",
       "            Plotly.purge(gd);\n",
       "            observer.disconnect();\n",
       "        }}\n",
       "}});\n",
       "\n",
       "// Listen for the removal of the full notebook cells\n",
       "var notebookContainer = gd.closest('#notebook-container');\n",
       "if (notebookContainer) {{\n",
       "    x.observe(notebookContainer, {childList: true});\n",
       "}}\n",
       "\n",
       "// Listen for the clearing of the current output cell\n",
       "var outputEl = gd.closest('.output');\n",
       "if (outputEl) {{\n",
       "    x.observe(outputEl, {childList: true});\n",
       "}}\n",
       "\n",
       "                        })                };                });            </script>        </div>"
      ]
     },
     "metadata": {},
     "output_type": "display_data"
    }
   ],
   "source": [
    "# Create side-by-side bar chart of segmented without income \n",
    "fig = px.bar(segmented_without_income,\n",
    "            barmode=\"group\",\n",
    "            title=\"Average amount spend on the Products\")\n",
    "fig.update_layout(xaxis_title='cluster',yaxis_title='Value [$]')\n",
    "fig.show()"
   ]
  },
  {
   "cell_type": "code",
   "execution_count": 222,
   "id": "4828b72e-446a-4d67-9d2a-feff9e5421d7",
   "metadata": {},
   "outputs": [
    {
     "data": {
      "application/vnd.plotly.v1+json": {
       "config": {
        "plotlyServerURL": "https://plot.ly"
       },
       "data": [
        {
         "alignmentgroup": "True",
         "hovertemplate": "variable=Income<br>index=%{x}<br>value=%{y}<extra></extra>",
         "legendgroup": "Income",
         "marker": {
          "color": "#636efa",
          "pattern": {
           "shape": ""
          }
         },
         "name": "Income",
         "offsetgroup": "Income",
         "orientation": "v",
         "showlegend": true,
         "textposition": "auto",
         "type": "bar",
         "x": [
          0,
          1,
          2
         ],
         "xaxis": "x",
         "y": [
          64619.772344013494,
          36936.723333333335,
          78336.44444444444
         ],
         "yaxis": "y"
        }
       ],
       "layout": {
        "autosize": true,
        "barmode": "relative",
        "legend": {
         "title": {
          "text": "variable"
         },
         "tracegroupgap": 0
        },
        "template": {
         "data": {
          "bar": [
           {
            "error_x": {
             "color": "#2a3f5f"
            },
            "error_y": {
             "color": "#2a3f5f"
            },
            "marker": {
             "line": {
              "color": "#E5ECF6",
              "width": 0.5
             },
             "pattern": {
              "fillmode": "overlay",
              "size": 10,
              "solidity": 0.2
             }
            },
            "type": "bar"
           }
          ],
          "barpolar": [
           {
            "marker": {
             "line": {
              "color": "#E5ECF6",
              "width": 0.5
             },
             "pattern": {
              "fillmode": "overlay",
              "size": 10,
              "solidity": 0.2
             }
            },
            "type": "barpolar"
           }
          ],
          "carpet": [
           {
            "aaxis": {
             "endlinecolor": "#2a3f5f",
             "gridcolor": "white",
             "linecolor": "white",
             "minorgridcolor": "white",
             "startlinecolor": "#2a3f5f"
            },
            "baxis": {
             "endlinecolor": "#2a3f5f",
             "gridcolor": "white",
             "linecolor": "white",
             "minorgridcolor": "white",
             "startlinecolor": "#2a3f5f"
            },
            "type": "carpet"
           }
          ],
          "choropleth": [
           {
            "colorbar": {
             "outlinewidth": 0,
             "ticks": ""
            },
            "type": "choropleth"
           }
          ],
          "contour": [
           {
            "colorbar": {
             "outlinewidth": 0,
             "ticks": ""
            },
            "colorscale": [
             [
              0,
              "#0d0887"
             ],
             [
              0.1111111111111111,
              "#46039f"
             ],
             [
              0.2222222222222222,
              "#7201a8"
             ],
             [
              0.3333333333333333,
              "#9c179e"
             ],
             [
              0.4444444444444444,
              "#bd3786"
             ],
             [
              0.5555555555555556,
              "#d8576b"
             ],
             [
              0.6666666666666666,
              "#ed7953"
             ],
             [
              0.7777777777777778,
              "#fb9f3a"
             ],
             [
              0.8888888888888888,
              "#fdca26"
             ],
             [
              1,
              "#f0f921"
             ]
            ],
            "type": "contour"
           }
          ],
          "contourcarpet": [
           {
            "colorbar": {
             "outlinewidth": 0,
             "ticks": ""
            },
            "type": "contourcarpet"
           }
          ],
          "heatmap": [
           {
            "colorbar": {
             "outlinewidth": 0,
             "ticks": ""
            },
            "colorscale": [
             [
              0,
              "#0d0887"
             ],
             [
              0.1111111111111111,
              "#46039f"
             ],
             [
              0.2222222222222222,
              "#7201a8"
             ],
             [
              0.3333333333333333,
              "#9c179e"
             ],
             [
              0.4444444444444444,
              "#bd3786"
             ],
             [
              0.5555555555555556,
              "#d8576b"
             ],
             [
              0.6666666666666666,
              "#ed7953"
             ],
             [
              0.7777777777777778,
              "#fb9f3a"
             ],
             [
              0.8888888888888888,
              "#fdca26"
             ],
             [
              1,
              "#f0f921"
             ]
            ],
            "type": "heatmap"
           }
          ],
          "heatmapgl": [
           {
            "colorbar": {
             "outlinewidth": 0,
             "ticks": ""
            },
            "colorscale": [
             [
              0,
              "#0d0887"
             ],
             [
              0.1111111111111111,
              "#46039f"
             ],
             [
              0.2222222222222222,
              "#7201a8"
             ],
             [
              0.3333333333333333,
              "#9c179e"
             ],
             [
              0.4444444444444444,
              "#bd3786"
             ],
             [
              0.5555555555555556,
              "#d8576b"
             ],
             [
              0.6666666666666666,
              "#ed7953"
             ],
             [
              0.7777777777777778,
              "#fb9f3a"
             ],
             [
              0.8888888888888888,
              "#fdca26"
             ],
             [
              1,
              "#f0f921"
             ]
            ],
            "type": "heatmapgl"
           }
          ],
          "histogram": [
           {
            "marker": {
             "pattern": {
              "fillmode": "overlay",
              "size": 10,
              "solidity": 0.2
             }
            },
            "type": "histogram"
           }
          ],
          "histogram2d": [
           {
            "colorbar": {
             "outlinewidth": 0,
             "ticks": ""
            },
            "colorscale": [
             [
              0,
              "#0d0887"
             ],
             [
              0.1111111111111111,
              "#46039f"
             ],
             [
              0.2222222222222222,
              "#7201a8"
             ],
             [
              0.3333333333333333,
              "#9c179e"
             ],
             [
              0.4444444444444444,
              "#bd3786"
             ],
             [
              0.5555555555555556,
              "#d8576b"
             ],
             [
              0.6666666666666666,
              "#ed7953"
             ],
             [
              0.7777777777777778,
              "#fb9f3a"
             ],
             [
              0.8888888888888888,
              "#fdca26"
             ],
             [
              1,
              "#f0f921"
             ]
            ],
            "type": "histogram2d"
           }
          ],
          "histogram2dcontour": [
           {
            "colorbar": {
             "outlinewidth": 0,
             "ticks": ""
            },
            "colorscale": [
             [
              0,
              "#0d0887"
             ],
             [
              0.1111111111111111,
              "#46039f"
             ],
             [
              0.2222222222222222,
              "#7201a8"
             ],
             [
              0.3333333333333333,
              "#9c179e"
             ],
             [
              0.4444444444444444,
              "#bd3786"
             ],
             [
              0.5555555555555556,
              "#d8576b"
             ],
             [
              0.6666666666666666,
              "#ed7953"
             ],
             [
              0.7777777777777778,
              "#fb9f3a"
             ],
             [
              0.8888888888888888,
              "#fdca26"
             ],
             [
              1,
              "#f0f921"
             ]
            ],
            "type": "histogram2dcontour"
           }
          ],
          "mesh3d": [
           {
            "colorbar": {
             "outlinewidth": 0,
             "ticks": ""
            },
            "type": "mesh3d"
           }
          ],
          "parcoords": [
           {
            "line": {
             "colorbar": {
              "outlinewidth": 0,
              "ticks": ""
             }
            },
            "type": "parcoords"
           }
          ],
          "pie": [
           {
            "automargin": true,
            "type": "pie"
           }
          ],
          "scatter": [
           {
            "fillpattern": {
             "fillmode": "overlay",
             "size": 10,
             "solidity": 0.2
            },
            "type": "scatter"
           }
          ],
          "scatter3d": [
           {
            "line": {
             "colorbar": {
              "outlinewidth": 0,
              "ticks": ""
             }
            },
            "marker": {
             "colorbar": {
              "outlinewidth": 0,
              "ticks": ""
             }
            },
            "type": "scatter3d"
           }
          ],
          "scattercarpet": [
           {
            "marker": {
             "colorbar": {
              "outlinewidth": 0,
              "ticks": ""
             }
            },
            "type": "scattercarpet"
           }
          ],
          "scattergeo": [
           {
            "marker": {
             "colorbar": {
              "outlinewidth": 0,
              "ticks": ""
             }
            },
            "type": "scattergeo"
           }
          ],
          "scattergl": [
           {
            "marker": {
             "colorbar": {
              "outlinewidth": 0,
              "ticks": ""
             }
            },
            "type": "scattergl"
           }
          ],
          "scattermapbox": [
           {
            "marker": {
             "colorbar": {
              "outlinewidth": 0,
              "ticks": ""
             }
            },
            "type": "scattermapbox"
           }
          ],
          "scatterpolar": [
           {
            "marker": {
             "colorbar": {
              "outlinewidth": 0,
              "ticks": ""
             }
            },
            "type": "scatterpolar"
           }
          ],
          "scatterpolargl": [
           {
            "marker": {
             "colorbar": {
              "outlinewidth": 0,
              "ticks": ""
             }
            },
            "type": "scatterpolargl"
           }
          ],
          "scatterternary": [
           {
            "marker": {
             "colorbar": {
              "outlinewidth": 0,
              "ticks": ""
             }
            },
            "type": "scatterternary"
           }
          ],
          "surface": [
           {
            "colorbar": {
             "outlinewidth": 0,
             "ticks": ""
            },
            "colorscale": [
             [
              0,
              "#0d0887"
             ],
             [
              0.1111111111111111,
              "#46039f"
             ],
             [
              0.2222222222222222,
              "#7201a8"
             ],
             [
              0.3333333333333333,
              "#9c179e"
             ],
             [
              0.4444444444444444,
              "#bd3786"
             ],
             [
              0.5555555555555556,
              "#d8576b"
             ],
             [
              0.6666666666666666,
              "#ed7953"
             ],
             [
              0.7777777777777778,
              "#fb9f3a"
             ],
             [
              0.8888888888888888,
              "#fdca26"
             ],
             [
              1,
              "#f0f921"
             ]
            ],
            "type": "surface"
           }
          ],
          "table": [
           {
            "cells": {
             "fill": {
              "color": "#EBF0F8"
             },
             "line": {
              "color": "white"
             }
            },
            "header": {
             "fill": {
              "color": "#C8D4E3"
             },
             "line": {
              "color": "white"
             }
            },
            "type": "table"
           }
          ]
         },
         "layout": {
          "annotationdefaults": {
           "arrowcolor": "#2a3f5f",
           "arrowhead": 0,
           "arrowwidth": 1
          },
          "autotypenumbers": "strict",
          "coloraxis": {
           "colorbar": {
            "outlinewidth": 0,
            "ticks": ""
           }
          },
          "colorscale": {
           "diverging": [
            [
             0,
             "#8e0152"
            ],
            [
             0.1,
             "#c51b7d"
            ],
            [
             0.2,
             "#de77ae"
            ],
            [
             0.3,
             "#f1b6da"
            ],
            [
             0.4,
             "#fde0ef"
            ],
            [
             0.5,
             "#f7f7f7"
            ],
            [
             0.6,
             "#e6f5d0"
            ],
            [
             0.7,
             "#b8e186"
            ],
            [
             0.8,
             "#7fbc41"
            ],
            [
             0.9,
             "#4d9221"
            ],
            [
             1,
             "#276419"
            ]
           ],
           "sequential": [
            [
             0,
             "#0d0887"
            ],
            [
             0.1111111111111111,
             "#46039f"
            ],
            [
             0.2222222222222222,
             "#7201a8"
            ],
            [
             0.3333333333333333,
             "#9c179e"
            ],
            [
             0.4444444444444444,
             "#bd3786"
            ],
            [
             0.5555555555555556,
             "#d8576b"
            ],
            [
             0.6666666666666666,
             "#ed7953"
            ],
            [
             0.7777777777777778,
             "#fb9f3a"
            ],
            [
             0.8888888888888888,
             "#fdca26"
            ],
            [
             1,
             "#f0f921"
            ]
           ],
           "sequentialminus": [
            [
             0,
             "#0d0887"
            ],
            [
             0.1111111111111111,
             "#46039f"
            ],
            [
             0.2222222222222222,
             "#7201a8"
            ],
            [
             0.3333333333333333,
             "#9c179e"
            ],
            [
             0.4444444444444444,
             "#bd3786"
            ],
            [
             0.5555555555555556,
             "#d8576b"
            ],
            [
             0.6666666666666666,
             "#ed7953"
            ],
            [
             0.7777777777777778,
             "#fb9f3a"
            ],
            [
             0.8888888888888888,
             "#fdca26"
            ],
            [
             1,
             "#f0f921"
            ]
           ]
          },
          "colorway": [
           "#636efa",
           "#EF553B",
           "#00cc96",
           "#ab63fa",
           "#FFA15A",
           "#19d3f3",
           "#FF6692",
           "#B6E880",
           "#FF97FF",
           "#FECB52"
          ],
          "font": {
           "color": "#2a3f5f"
          },
          "geo": {
           "bgcolor": "white",
           "lakecolor": "white",
           "landcolor": "#E5ECF6",
           "showlakes": true,
           "showland": true,
           "subunitcolor": "white"
          },
          "hoverlabel": {
           "align": "left"
          },
          "hovermode": "closest",
          "mapbox": {
           "style": "light"
          },
          "paper_bgcolor": "white",
          "plot_bgcolor": "#E5ECF6",
          "polar": {
           "angularaxis": {
            "gridcolor": "white",
            "linecolor": "white",
            "ticks": ""
           },
           "bgcolor": "#E5ECF6",
           "radialaxis": {
            "gridcolor": "white",
            "linecolor": "white",
            "ticks": ""
           }
          },
          "scene": {
           "xaxis": {
            "backgroundcolor": "#E5ECF6",
            "gridcolor": "white",
            "gridwidth": 2,
            "linecolor": "white",
            "showbackground": true,
            "ticks": "",
            "zerolinecolor": "white"
           },
           "yaxis": {
            "backgroundcolor": "#E5ECF6",
            "gridcolor": "white",
            "gridwidth": 2,
            "linecolor": "white",
            "showbackground": true,
            "ticks": "",
            "zerolinecolor": "white"
           },
           "zaxis": {
            "backgroundcolor": "#E5ECF6",
            "gridcolor": "white",
            "gridwidth": 2,
            "linecolor": "white",
            "showbackground": true,
            "ticks": "",
            "zerolinecolor": "white"
           }
          },
          "shapedefaults": {
           "line": {
            "color": "#2a3f5f"
           }
          },
          "ternary": {
           "aaxis": {
            "gridcolor": "white",
            "linecolor": "white",
            "ticks": ""
           },
           "baxis": {
            "gridcolor": "white",
            "linecolor": "white",
            "ticks": ""
           },
           "bgcolor": "#E5ECF6",
           "caxis": {
            "gridcolor": "white",
            "linecolor": "white",
            "ticks": ""
           }
          },
          "title": {
           "x": 0.05
          },
          "xaxis": {
           "automargin": true,
           "gridcolor": "white",
           "linecolor": "white",
           "ticks": "",
           "title": {
            "standoff": 15
           },
           "zerolinecolor": "white",
           "zerolinewidth": 2
          },
          "yaxis": {
           "automargin": true,
           "gridcolor": "white",
           "linecolor": "white",
           "ticks": "",
           "title": {
            "standoff": 15
           },
           "zerolinecolor": "white",
           "zerolinewidth": 2
          }
         }
        },
        "title": {
         "text": "Incomes by Cluster"
        },
        "xaxis": {
         "anchor": "y",
         "autorange": true,
         "domain": [
          0,
          1
         ],
         "range": [
          -0.5,
          2.5
         ],
         "title": {
          "text": "cluster"
         },
         "type": "linear"
        },
        "yaxis": {
         "anchor": "x",
         "autorange": true,
         "domain": [
          0,
          1
         ],
         "range": [
          0,
          82459.41520467836
         ],
         "title": {
          "text": "Value [$]"
         },
         "type": "linear"
        }
       }
      },
      "image/png": "[encoded data removed]",
      "text/html": [
       "<div>                            <div id=\"49dd43f8-fae6-4335-93d2-52881ecc25d2\" class=\"plotly-graph-div\" style=\"height:525px; width:100%;\"></div>            <script type=\"text/javascript\">                require([\"plotly\"], function(Plotly) {                    window.PLOTLYENV=window.PLOTLYENV || {};                                    if (document.getElementById(\"49dd43f8-fae6-4335-93d2-52881ecc25d2\")) {                    Plotly.newPlot(                        \"49dd43f8-fae6-4335-93d2-52881ecc25d2\",                        [{\"alignmentgroup\":\"True\",\"hovertemplate\":\"variable=Income\\u003cbr\\u003eindex=%{x}\\u003cbr\\u003evalue=%{y}\\u003cextra\\u003e\\u003c\\u002fextra\\u003e\",\"legendgroup\":\"Income\",\"marker\":{\"color\":\"#636efa\",\"pattern\":{\"shape\":\"\"}},\"name\":\"Income\",\"offsetgroup\":\"Income\",\"orientation\":\"v\",\"showlegend\":true,\"textposition\":\"auto\",\"x\":[0,1,2],\"xaxis\":\"x\",\"y\":[64619.772344013494,36936.723333333335,78336.44444444444],\"yaxis\":\"y\",\"type\":\"bar\"}],                        {\"template\":{\"data\":{\"histogram2dcontour\":[{\"type\":\"histogram2dcontour\",\"colorbar\":{\"outlinewidth\":0,\"ticks\":\"\"},\"colorscale\":[[0.0,\"#0d0887\"],[0.1111111111111111,\"#46039f\"],[0.2222222222222222,\"#7201a8\"],[0.3333333333333333,\"#9c179e\"],[0.4444444444444444,\"#bd3786\"],[0.5555555555555556,\"#d8576b\"],[0.6666666666666666,\"#ed7953\"],[0.7777777777777778,\"#fb9f3a\"],[0.8888888888888888,\"#fdca26\"],[1.0,\"#f0f921\"]]}],\"choropleth\":[{\"type\":\"choropleth\",\"colorbar\":{\"outlinewidth\":0,\"ticks\":\"\"}}],\"histogram2d\":[{\"type\":\"histogram2d\",\"colorbar\":{\"outlinewidth\":0,\"ticks\":\"\"},\"colorscale\":[[0.0,\"#0d0887\"],[0.1111111111111111,\"#46039f\"],[0.2222222222222222,\"#7201a8\"],[0.3333333333333333,\"#9c179e\"],[0.4444444444444444,\"#bd3786\"],[0.5555555555555556,\"#d8576b\"],[0.6666666666666666,\"#ed7953\"],[0.7777777777777778,\"#fb9f3a\"],[0.8888888888888888,\"#fdca26\"],[1.0,\"#f0f921\"]]}],\"heatmap\":[{\"type\":\"heatmap\",\"colorbar\":{\"outlinewidth\":0,\"ticks\":\"\"},\"colorscale\":[[0.0,\"#0d0887\"],[0.1111111111111111,\"#46039f\"],[0.2222222222222222,\"#7201a8\"],[0.3333333333333333,\"#9c179e\"],[0.4444444444444444,\"#bd3786\"],[0.5555555555555556,\"#d8576b\"],[0.6666666666666666,\"#ed7953\"],[0.7777777777777778,\"#fb9f3a\"],[0.8888888888888888,\"#fdca26\"],[1.0,\"#f0f921\"]]}],\"heatmapgl\":[{\"type\":\"heatmapgl\",\"colorbar\":{\"outlinewidth\":0,\"ticks\":\"\"},\"colorscale\":[[0.0,\"#0d0887\"],[0.1111111111111111,\"#46039f\"],[0.2222222222222222,\"#7201a8\"],[0.3333333333333333,\"#9c179e\"],[0.4444444444444444,\"#bd3786\"],[0.5555555555555556,\"#d8576b\"],[0.6666666666666666,\"#ed7953\"],[0.7777777777777778,\"#fb9f3a\"],[0.8888888888888888,\"#fdca26\"],[1.0,\"#f0f921\"]]}],\"contourcarpet\":[{\"type\":\"contourcarpet\",\"colorbar\":{\"outlinewidth\":0,\"ticks\":\"\"}}],\"contour\":[{\"type\":\"contour\",\"colorbar\":{\"outlinewidth\":0,\"ticks\":\"\"},\"colorscale\":[[0.0,\"#0d0887\"],[0.1111111111111111,\"#46039f\"],[0.2222222222222222,\"#7201a8\"],[0.3333333333333333,\"#9c179e\"],[0.4444444444444444,\"#bd3786\"],[0.5555555555555556,\"#d8576b\"],[0.6666666666666666,\"#ed7953\"],[0.7777777777777778,\"#fb9f3a\"],[0.8888888888888888,\"#fdca26\"],[1.0,\"#f0f921\"]]}],\"surface\":[{\"type\":\"surface\",\"colorbar\":{\"outlinewidth\":0,\"ticks\":\"\"},\"colorscale\":[[0.0,\"#0d0887\"],[0.1111111111111111,\"#46039f\"],[0.2222222222222222,\"#7201a8\"],[0.3333333333333333,\"#9c179e\"],[0.4444444444444444,\"#bd3786\"],[0.5555555555555556,\"#d8576b\"],[0.6666666666666666,\"#ed7953\"],[0.7777777777777778,\"#fb9f3a\"],[0.8888888888888888,\"#fdca26\"],[1.0,\"#f0f921\"]]}],\"mesh3d\":[{\"type\":\"mesh3d\",\"colorbar\":{\"outlinewidth\":0,\"ticks\":\"\"}}],\"scatter\":[{\"fillpattern\":{\"fillmode\":\"overlay\",\"size\":10,\"solidity\":0.2},\"type\":\"scatter\"}],\"parcoords\":[{\"type\":\"parcoords\",\"line\":{\"colorbar\":{\"outlinewidth\":0,\"ticks\":\"\"}}}],\"scatterpolargl\":[{\"type\":\"scatterpolargl\",\"marker\":{\"colorbar\":{\"outlinewidth\":0,\"ticks\":\"\"}}}],\"bar\":[{\"error_x\":{\"color\":\"#2a3f5f\"},\"error_y\":{\"color\":\"#2a3f5f\"},\"marker\":{\"line\":{\"color\":\"#E5ECF6\",\"width\":0.5},\"pattern\":{\"fillmode\":\"overlay\",\"size\":10,\"solidity\":0.2}},\"type\":\"bar\"}],\"scattergeo\":[{\"type\":\"scattergeo\",\"marker\":{\"colorbar\":{\"outlinewidth\":0,\"ticks\":\"\"}}}],\"scatterpolar\":[{\"type\":\"scatterpolar\",\"marker\":{\"colorbar\":{\"outlinewidth\":0,\"ticks\":\"\"}}}],\"histogram\":[{\"marker\":{\"pattern\":{\"fillmode\":\"overlay\",\"size\":10,\"solidity\":0.2}},\"type\":\"histogram\"}],\"scattergl\":[{\"type\":\"scattergl\",\"marker\":{\"colorbar\":{\"outlinewidth\":0,\"ticks\":\"\"}}}],\"scatter3d\":[{\"type\":\"scatter3d\",\"line\":{\"colorbar\":{\"outlinewidth\":0,\"ticks\":\"\"}},\"marker\":{\"colorbar\":{\"outlinewidth\":0,\"ticks\":\"\"}}}],\"scattermapbox\":[{\"type\":\"scattermapbox\",\"marker\":{\"colorbar\":{\"outlinewidth\":0,\"ticks\":\"\"}}}],\"scatterternary\":[{\"type\":\"scatterternary\",\"marker\":{\"colorbar\":{\"outlinewidth\":0,\"ticks\":\"\"}}}],\"scattercarpet\":[{\"type\":\"scattercarpet\",\"marker\":{\"colorbar\":{\"outlinewidth\":0,\"ticks\":\"\"}}}],\"carpet\":[{\"aaxis\":{\"endlinecolor\":\"#2a3f5f\",\"gridcolor\":\"white\",\"linecolor\":\"white\",\"minorgridcolor\":\"white\",\"startlinecolor\":\"#2a3f5f\"},\"baxis\":{\"endlinecolor\":\"#2a3f5f\",\"gridcolor\":\"white\",\"linecolor\":\"white\",\"minorgridcolor\":\"white\",\"startlinecolor\":\"#2a3f5f\"},\"type\":\"carpet\"}],\"table\":[{\"cells\":{\"fill\":{\"color\":\"#EBF0F8\"},\"line\":{\"color\":\"white\"}},\"header\":{\"fill\":{\"color\":\"#C8D4E3\"},\"line\":{\"color\":\"white\"}},\"type\":\"table\"}],\"barpolar\":[{\"marker\":{\"line\":{\"color\":\"#E5ECF6\",\"width\":0.5},\"pattern\":{\"fillmode\":\"overlay\",\"size\":10,\"solidity\":0.2}},\"type\":\"barpolar\"}],\"pie\":[{\"automargin\":true,\"type\":\"pie\"}]},\"layout\":{\"autotypenumbers\":\"strict\",\"colorway\":[\"#636efa\",\"#EF553B\",\"#00cc96\",\"#ab63fa\",\"#FFA15A\",\"#19d3f3\",\"#FF6692\",\"#B6E880\",\"#FF97FF\",\"#FECB52\"],\"font\":{\"color\":\"#2a3f5f\"},\"hovermode\":\"closest\",\"hoverlabel\":{\"align\":\"left\"},\"paper_bgcolor\":\"white\",\"plot_bgcolor\":\"#E5ECF6\",\"polar\":{\"bgcolor\":\"#E5ECF6\",\"angularaxis\":{\"gridcolor\":\"white\",\"linecolor\":\"white\",\"ticks\":\"\"},\"radialaxis\":{\"gridcolor\":\"white\",\"linecolor\":\"white\",\"ticks\":\"\"}},\"ternary\":{\"bgcolor\":\"#E5ECF6\",\"aaxis\":{\"gridcolor\":\"white\",\"linecolor\":\"white\",\"ticks\":\"\"},\"baxis\":{\"gridcolor\":\"white\",\"linecolor\":\"white\",\"ticks\":\"\"},\"caxis\":{\"gridcolor\":\"white\",\"linecolor\":\"white\",\"ticks\":\"\"}},\"coloraxis\":{\"colorbar\":{\"outlinewidth\":0,\"ticks\":\"\"}},\"colorscale\":{\"sequential\":[[0.0,\"#0d0887\"],[0.1111111111111111,\"#46039f\"],[0.2222222222222222,\"#7201a8\"],[0.3333333333333333,\"#9c179e\"],[0.4444444444444444,\"#bd3786\"],[0.5555555555555556,\"#d8576b\"],[0.6666666666666666,\"#ed7953\"],[0.7777777777777778,\"#fb9f3a\"],[0.8888888888888888,\"#fdca26\"],[1.0,\"#f0f921\"]],\"sequentialminus\":[[0.0,\"#0d0887\"],[0.1111111111111111,\"#46039f\"],[0.2222222222222222,\"#7201a8\"],[0.3333333333333333,\"#9c179e\"],[0.4444444444444444,\"#bd3786\"],[0.5555555555555556,\"#d8576b\"],[0.6666666666666666,\"#ed7953\"],[0.7777777777777778,\"#fb9f3a\"],[0.8888888888888888,\"#fdca26\"],[1.0,\"#f0f921\"]],\"diverging\":[[0,\"#8e0152\"],[0.1,\"#c51b7d\"],[0.2,\"#de77ae\"],[0.3,\"#f1b6da\"],[0.4,\"#fde0ef\"],[0.5,\"#f7f7f7\"],[0.6,\"#e6f5d0\"],[0.7,\"#b8e186\"],[0.8,\"#7fbc41\"],[0.9,\"#4d9221\"],[1,\"#276419\"]]},\"xaxis\":{\"gridcolor\":\"white\",\"linecolor\":\"white\",\"ticks\":\"\",\"title\":{\"standoff\":15},\"zerolinecolor\":\"white\",\"automargin\":true,\"zerolinewidth\":2},\"yaxis\":{\"gridcolor\":\"white\",\"linecolor\":\"white\",\"ticks\":\"\",\"title\":{\"standoff\":15},\"zerolinecolor\":\"white\",\"automargin\":true,\"zerolinewidth\":2},\"scene\":{\"xaxis\":{\"backgroundcolor\":\"#E5ECF6\",\"gridcolor\":\"white\",\"linecolor\":\"white\",\"showbackground\":true,\"ticks\":\"\",\"zerolinecolor\":\"white\",\"gridwidth\":2},\"yaxis\":{\"backgroundcolor\":\"#E5ECF6\",\"gridcolor\":\"white\",\"linecolor\":\"white\",\"showbackground\":true,\"ticks\":\"\",\"zerolinecolor\":\"white\",\"gridwidth\":2},\"zaxis\":{\"backgroundcolor\":\"#E5ECF6\",\"gridcolor\":\"white\",\"linecolor\":\"white\",\"showbackground\":true,\"ticks\":\"\",\"zerolinecolor\":\"white\",\"gridwidth\":2}},\"shapedefaults\":{\"line\":{\"color\":\"#2a3f5f\"}},\"annotationdefaults\":{\"arrowcolor\":\"#2a3f5f\",\"arrowhead\":0,\"arrowwidth\":1},\"geo\":{\"bgcolor\":\"white\",\"landcolor\":\"#E5ECF6\",\"subunitcolor\":\"white\",\"showland\":true,\"showlakes\":true,\"lakecolor\":\"white\"},\"title\":{\"x\":0.05},\"mapbox\":{\"style\":\"light\"}}},\"xaxis\":{\"anchor\":\"y\",\"domain\":[0.0,1.0],\"title\":{\"text\":\"cluster\"}},\"yaxis\":{\"anchor\":\"x\",\"domain\":[0.0,1.0],\"title\":{\"text\":\"Value [$]\"}},\"legend\":{\"title\":{\"text\":\"variable\"},\"tracegroupgap\":0},\"title\":{\"text\":\"Incomes by Cluster\"},\"barmode\":\"relative\"},                        {\"responsive\": true}                    ).then(function(){\n",
       "                            \n",
       "var gd = document.getElementById('49dd43f8-fae6-4335-93d2-52881ecc25d2');\n",
       "var x = new MutationObserver(function (mutations, observer) {{\n",
       "        var display = window.getComputedStyle(gd).display;\n",
       "        if (!display || display === 'none') {{\n",
       "            console.log([gd, 'removed!']);\n",
       "            Plotly.purge(gd);\n",
       "            observer.disconnect();\n",
       "        }}\n",
       "}});\n",
       "\n",
       "// Listen for the removal of the full notebook cells\n",
       "var notebookContainer = gd.closest('#notebook-container');\n",
       "if (notebookContainer) {{\n",
       "    x.observe(notebookContainer, {childList: true});\n",
       "}}\n",
       "\n",
       "// Listen for the clearing of the current output cell\n",
       "var outputEl = gd.closest('.output');\n",
       "if (outputEl) {{\n",
       "    x.observe(outputEl, {childList: true});\n",
       "}}\n",
       "\n",
       "                        })                };                });            </script>        </div>"
      ]
     },
     "metadata": {},
     "output_type": "display_data"
    }
   ],
   "source": [
    "# Create side-by-side bar chart of `xgb`\n",
    "fig = px.bar(segmented_df['Income'],\n",
    "            # barmode=\"group\",\n",
    "            title=\"Incomes by Cluster\")\n",
    "fig.update_layout(xaxis_title='cluster',yaxis_title='Value [$]')\n",
    "fig.show()"
   ]
  },
  {
   "cell_type": "markdown",
   "id": "25d5f755-58d4-4270-b3be-4a79a94f5d38",
   "metadata": {},
   "source": [
    "## Interpretation based on the clustering \n",
    "\n",
    "Upon the clustering, we can distinctlly identified 3 cluster with different purchasing pattern and income level. \n",
    "\n",
    "We primarily look into average amount spent on the products especially the wines, gold, meat and fish for past 2 years after based on our feature selection process. &#128031;&#127863;&#127830;\n",
    "\n",
    "From the prespective of income level, the cluster 2 is with highest mean income level, followed by cluster 0, and cluster 1. In relation to that, cluster 1 has the lowest spending on these products for the past two years. In comparison between cluster 0 and 2, a clear distinct purchasing pattern can be observed, in which the customer in cluster 2 have consumed more fish and meat products as their source of protein. Hence, promotion on these categories of product can primarily target the customer in cluster 2 as they have more purchasing power in these products.\n",
    "\n",
    "Aside from that, it might make sense as well to not include other features such as number of teens, kids, acceptance of promotion and places of purchase as all these factor will be eventually factorized in the amount of spending in those products. Based on these products, we then can roll out promotion to the targeted customers based on categories of product. \n"
   ]
  },
  {
   "cell_type": "markdown",
   "id": "ae889499-6965-4c73-adcd-e75acdbe3b81",
   "metadata": {},
   "source": [
    "## 4.0 Reduction of dimension to visualise data "
   ]
  },
  {
   "cell_type": "code",
   "execution_count": 226,
   "id": "fd4d07ac-442a-40f4-9d53-3c459aa01a42",
   "metadata": {},
   "outputs": [
    {
     "name": "stdout",
     "output_type": "stream",
     "text": [
      "X_pca shape: (2216, 2)\n"
     ]
    },
    {
     "data": {
      "text/html": [
       "<div>\n",
       "<style scoped>\n",
       "    .dataframe tbody tr th:only-of-type {\n",
       "        vertical-align: middle;\n",
       "    }\n",
       "\n",
       "    .dataframe tbody tr th {\n",
       "        vertical-align: top;\n",
       "    }\n",
       "\n",
       "    .dataframe thead th {\n",
       "        text-align: right;\n",
       "    }\n",
       "</style>\n",
       "<table border=\"1\" class=\"dataframe\">\n",
       "  <thead>\n",
       "    <tr style=\"text-align: right;\">\n",
       "      <th></th>\n",
       "      <th>PC1</th>\n",
       "      <th>PC2</th>\n",
       "    </tr>\n",
       "  </thead>\n",
       "  <tbody>\n",
       "    <tr>\n",
       "      <th>0</th>\n",
       "      <td>2.785844</td>\n",
       "      <td>-0.647253</td>\n",
       "    </tr>\n",
       "    <tr>\n",
       "      <th>1</th>\n",
       "      <td>-1.422486</td>\n",
       "      <td>0.280257</td>\n",
       "    </tr>\n",
       "    <tr>\n",
       "      <th>2</th>\n",
       "      <td>1.010728</td>\n",
       "      <td>0.029267</td>\n",
       "    </tr>\n",
       "    <tr>\n",
       "      <th>3</th>\n",
       "      <td>-1.696867</td>\n",
       "      <td>-0.052971</td>\n",
       "    </tr>\n",
       "    <tr>\n",
       "      <th>4</th>\n",
       "      <td>-0.317302</td>\n",
       "      <td>0.347185</td>\n",
       "    </tr>\n",
       "  </tbody>\n",
       "</table>\n",
       "</div>"
      ],
      "text/plain": [
       "        PC1       PC2\n",
       "0  2.785844 -0.647253\n",
       "1 -1.422486  0.280257\n",
       "2  1.010728  0.029267\n",
       "3 -1.696867 -0.052971\n",
       "4 -0.317302  0.347185"
      ]
     },
     "execution_count": 226,
     "metadata": {},
     "output_type": "execute_result"
    }
   ],
   "source": [
    "## PCA to visualise data\n",
    "\n",
    "# Instantiate transformer\n",
    "pca = PCA(n_components=2,random_state=10)\n",
    "\n",
    "# Transform `X`\n",
    "X_t = pca.fit_transform(X_scaled)\n",
    "\n",
    "# Put `X_t` into DataFrame\n",
    "X_pca = pd.DataFrame(X_t,columns=['PC1','PC2'])\n",
    "\n",
    "print(\"X_pca shape:\", X_pca.shape)\n",
    "X_pca.head()"
   ]
  },
  {
   "cell_type": "code",
   "execution_count": 228,
   "id": "b5c1007d-3a37-48a8-82ce-90691a0eb42d",
   "metadata": {},
   "outputs": [
    {
     "data": {
      "application/vnd.plotly.v1+json": {
       "config": {
        "plotlyServerURL": "https://plot.ly"
       },
       "data": [
        {
         "hovertemplate": "color=2<br>x=%{x}<br>y=%{y}<extra></extra>",
         "legendgroup": "2",
         "marker": {
          "color": "#636efa",
          "symbol": "circle"
         },
         "mode": "markers",
         "name": "2",
         "showlegend": true,
         "type": "scattergl",
         "x": [
          2.785843689755298,
          2.1378737051806747,
          1.4698809188803774,
          2.051359174315876,
          1.7060430276516805,
          1.1760573440725317,
          2.248856206536648,
          2.9318571298705387,
          2.135811159611525,
          4.040480952906133,
          4.256358519159561,
          1.6488029795905148,
          2.312008784613281,
          1.4578591077672658,
          2.7681839708648144,
          2.2422840020105044,
          2.1622237840464913,
          2.9414931227569983,
          3.6177072526931506,
          2.747294233276316,
          2.5440054558137275,
          2.427231932456537,
          1.721663545140889,
          3.283321177006111,
          4.737599154708201,
          1.4826919627420048,
          3.2390887406786453,
          2.6135173821212407,
          2.3031490798178282,
          4.029668276595301,
          2.1964375558483216,
          2.4150446418305616,
          2.5440054558137275,
          2.481256040031957,
          2.366601706898059,
          2.1815149483862353,
          2.392766362205588,
          3.068061220484401,
          2.912281738809731,
          1.3829740197793754,
          2.471921739113456,
          2.537201896556473,
          3.51861499786643,
          3.91030462908707,
          2.786077907679156,
          2.2991206358209375,
          4.18295902257762,
          2.8246849638651215,
          4.020388222939245,
          2.015165596950135,
          2.8798088637691497,
          1.6493145384122025,
          1.6791925997672024,
          2.421041341954854,
          4.66572403750253,
          2.304995042424551,
          1.9406005160208306,
          1.9676791267477873,
          2.7798578549112647,
          3.8797268098863285,
          2.2199546928576086,
          2.5069175247754987,
          2.7411247247559847,
          1.7237450754638806,
          2.4017230048404667,
          4.0237637143208005,
          2.5842110392506425,
          4.189401395490546,
          2.504764779254511,
          1.579360010127458,
          2.383780188166176,
          1.3846823742050642,
          2.32831802480419,
          2.93300701447314,
          3.2682281104138795,
          3.5098664744204844,
          1.8572846028058374,
          1.6073619817452158,
          4.288709485585059,
          2.386268520063367,
          2.1777630967424395,
          4.020388222939245,
          1.6930518363603324,
          1.4878177457930934,
          3.7490983745866373,
          3.4515141206620705,
          1.0606674994450822,
          2.2924218164320744,
          2.7433085912448223,
          3.0733762137865837,
          2.196882408733017,
          3.637088955293101,
          1.800365288149654,
          2.6169465140653063,
          1.7523454458356238,
          2.563149626331059,
          2.2760372689211743,
          1.2383796209777524,
          1.4764533727141957,
          3.5798553454755266,
          3.191066081108083,
          2.9560497525729965,
          1.6197278964271167,
          2.3271788909134674,
          1.8180764310341853,
          3.8098180060110867,
          2.435756003306871,
          1.4764533727141957,
          2.3898068772399066,
          2.75609886502248,
          1.5918030977808373,
          3.4208540661435283,
          4.297138152847741,
          1.72199168612027,
          3.6574988276656484,
          0.9524852581093215,
          3.5257510094212656,
          0.5017626616838471,
          3.6561532741537253,
          4.380796785259173,
          1.480951419738305,
          1.559170105104263,
          1.604521031815441,
          2.743568633245854,
          1.8917091197811147,
          4.257489961292951,
          2.2572607762773673,
          2.298894057259336,
          1.9826586114557272,
          2.8583262442819555,
          1.9012718027937738,
          1.7549054026920072,
          3.141436234146727,
          1.5735176153844297,
          2.5488855645916693,
          2.3443255256386184,
          2.2261543341907655,
          2.51409540626137,
          4.38839464471837,
          2.21889536547955,
          3.3855376588720074,
          1.3958827110598082,
          3.6104112219108093,
          1.3380261081871183,
          2.131958511037981,
          2.5488301664801516,
          1.8335527622075838,
          2.4900588511140085,
          2.347768972009732,
          2.258822514285482,
          2.189079352005019,
          3.1694225588023266,
          2.058780692350825,
          3.8665351096764264,
          3.8384408419651836,
          2.877110172226443,
          3.1975401640439602,
          2.2049441334441413,
          3.6561532741537253,
          4.139592428585517,
          1.1760573440725317,
          2.6132925231393456,
          1.3450600683130634,
          4.022625126389321,
          2.269991379721817,
          2.314159181998338,
          1.624098665040422,
          4.579317257679306,
          1.4084041120118986,
          2.6302664011493024,
          3.508991722794271,
          3.3638036144683636,
          3.199825821316674,
          4.090238949068544,
          1.579360010127458,
          1.7453811283635663,
          1.6965425923654809,
          1.9254790217613755,
          5.143607164109059,
          3.17051893396007,
          1.786252964163401,
          1.7673517811260469,
          3.263335921322204,
          3.483852717388613,
          2.6337455964348,
          4.510169861021351,
          3.2442857944436145,
          1.3425457521630695,
          2.070715055077452,
          1.2792666030062312,
          3.1273111309036437,
          3.141436234146727,
          4.615491231538165,
          1.9748288941009462,
          2.217558881915942,
          3.356351763884446,
          1.44687996162792,
          2.747294233276316,
          2.2847529873224675,
          1.8407937583101865,
          1.9748288941009462,
          4.858756797455255,
          1.8259065047633054,
          3.5143047400303593,
          3.3803809821869666,
          2.2959277694853997,
          3.8721829702766652,
          2.5548139918615993,
          2.8184414808045273,
          3.0393481195778502,
          1.5452267277884624,
          3.6574988276656484,
          2.9583887397317303,
          1.6466670971558195,
          4.44792222161357,
          2.3600472072024252,
          2.075468476934111,
          2.960672375451271,
          1.528764599822404,
          2.1389525272139416,
          1.769136255570365,
          1.4328091059107262,
          2.197309521382369,
          2.3099024370431405,
          4.333783791027485,
          3.8493194327895286,
          1.9981254346914221,
          1.4441699255694034,
          2.051359174315876,
          2.9676538498162355,
          2.383780188166176,
          2.812310775671129,
          2.142538722526482,
          1.2078972345229386,
          4.789585029061961,
          2.67114284421545,
          2.45068604915929,
          3.0393481195778502,
          2.1501181408924332,
          1.123379024401462,
          4.600631969534349,
          4.941930835406347,
          3.5539019392699926,
          5.143607164109059,
          1.7978975502361894,
          3.158125140538681,
          2.647231334327147,
          2.100633115663014,
          2.0655284165421537,
          2.9887980848471387,
          2.758595571050242,
          1.7167706778224026,
          2.075468476934111,
          2.9663962815999483,
          2.719030215610795,
          1.4609190131223306,
          3.7182937000890073,
          2.0877256919895104,
          3.476095905868046,
          2.2261543341907655,
          1.1622380745645409,
          2.786077907679156,
          3.085335633321391,
          4.150721702195525,
          4.833707858781149,
          1.6437381390513417,
          1.6346178936575217,
          1.44687996162792,
          3.783975613118965,
          3.141436234146727,
          1.840197988744731,
          3.3678494433689385,
          3.158125140538681,
          2.877110172226443,
          1.939366241294606,
          2.0125808276709103,
          3.7746325015348905,
          1.8525276908422985,
          1.3848916516062355,
          2.6010761644689486,
          3.222733563321251,
          2.859661457352227,
          4.244061075000688,
          2.03316657447025,
          1.9795643910717837,
          1.8140491857642638,
          1.6624844402562682,
          2.397093377952788,
          2.2847529873224675,
          1.5726833213405362,
          1.3908437238367963,
          4.333783791027485,
          2.2408676456072043,
          1.2822270490208003,
          2.2824177380688635,
          1.0394208283662143,
          2.109659702490786,
          5.010332159694068,
          2.2199546928576086,
          1.3582903888143287,
          2.386268520063367,
          1.5932345024004981,
          2.267980808320563,
          4.32243143564528,
          2.831741536154327,
          2.142538722526482,
          2.166014990764602,
          2.9108780851296134,
          1.8180764310341853,
          2.8395004379593316,
          2.212146042607193,
          2.62283488323303,
          2.2924218164320744,
          1.7672644746541155,
          3.8119924508617777,
          1.3157183506033192,
          3.8194682378620732,
          3.4831851265303264,
          3.1154647340865624,
          3.888667199635751,
          2.621406415431797,
          3.1415164640864175,
          2.5307748640335666,
          2.2749965862151025,
          3.0166968415875743,
          1.948870022863422,
          3.364212902879711,
          1.7167706778224026,
          2.465999891951701,
          2.571041959231178,
          2.8511828483733317,
          2.267980808320563,
          3.13526738941523,
          3.307848983224753,
          3.768640999771177,
          2.3845114715402134,
          1.8696472010559324,
          2.629104787270528,
          2.3933337383007545,
          1.2356820131549267,
          3.9394654373830273,
          2.628484616974722,
          2.159055373035949,
          2.722999954504658,
          1.7678575417000675,
          1.9792754124782883,
          2.024675793322778,
          1.7179996182948187,
          1.8487998627696016,
          2.186849248569343,
          2.719030215610795,
          4.67683655509781,
          1.4388157674369761,
          3.420697017321742,
          2.636936985170155,
          4.18295902257762,
          3.806706521000764,
          1.4815037161979172,
          2.713370602065197,
          1.4084041120118986,
          2.4665692894516753,
          2.609913936992878,
          1.786252964163401,
          3.033221740573433,
          2.589186049090457,
          1.690488372834975,
          1.5816598386372416,
          2.019787254445817,
          1.6670733886465159,
          2.640778012150899,
          2.4947425854836456,
          2.6913320669335947,
          1.2438591114373567,
          2.557011051696078,
          2.3822683905301534,
          1.5397754535793247,
          2.5552056667273226,
          3.216450265350214,
          1.6260600616236847,
          2.273244790058427,
          4.2031891575445135,
          3.331763019101729,
          3.8046475339994577,
          2.664584868673382,
          1.7969697754454113,
          2.7800401304028544,
          3.8679669170666107,
          2.7429901601077744,
          0.7395592539344409,
          2.6086020543247384,
          2.812429870347449,
          2.043305227169048,
          1.6027636741846345,
          3.007593900619882,
          1.6882965681444624,
          2.3210634759166777,
          1.723528831202371,
          2.3066551313978656,
          3.4760797744839826,
          3.1992828222180707,
          2.9520786840684896,
          2.6144801107276634,
          2.812310775671129,
          2.615996930748725,
          3.0337476962928234,
          4.206501121042239,
          2.731450942219091,
          2.629104787270528,
          1.725777963869711,
          1.3365108104265946,
          4.176109130218902,
          4.197044232550442,
          1.456351065808081,
          2.320572486105236,
          3.0337476962928234,
          2.9117464803589486,
          3.8384408419651836,
          1.8831354209640139,
          2.981560112413216,
          2.1226281831273015,
          2.03316657447025,
          2.312008784613281,
          10.098358325709079
         ],
         "xaxis": "x",
         "y": [
          -0.6472526341746008,
          -0.3690335482759696,
          1.2525938949899083,
          2.19089058089151,
          0.6156891188063559,
          -0.5083297412610385,
          -0.22730027750340032,
          -2.575354308949656,
          1.5318831191815296,
          -2.616061955998426,
          -1.684330942655444,
          0.21366761678411572,
          0.34705122788924087,
          0.35959042404115077,
          0.28199481268403004,
          0.5653028156631634,
          0.3836596560106921,
          1.517801683584023,
          0.9303587868333084,
          -1.066393352130342,
          -2.332766805420523,
          -1.1619702196246389,
          1.0161597328684635,
          1.0149299023071376,
          -2.0401641379851156,
          1.6444089281111134,
          2.1970218902906846,
          -0.07191536843262915,
          0.0786092378464911,
          3.653519781156409,
          -1.579274692273899,
          1.5242318581868672,
          -2.332766805420523,
          1.0100459860409123,
          -0.8344774906693369,
          1.179443405943236,
          -1.1426253720677033,
          -0.9805921844376752,
          -0.6519133765405531,
          1.0417479229492126,
          1.6475772000667914,
          0.5801889250897576,
          0.989262753049768,
          -2.1616762252066715,
          0.3998686868413008,
          -0.1115900104054304,
          -1.277392542710691,
          -0.5791419042591271,
          -3.0723910355888355,
          -1.3861374859436861,
          -0.889611203830591,
          0.11201039810380024,
          -0.6056839051355478,
          0.4832635796038492,
          -2.1031645346289096,
          -0.6299049090700498,
          1.3077282138945259,
          -1.7959190572219756,
          0.11535980324534494,
          -1.8618021569906218,
          0.913460412710483,
          -2.226098751987069,
          -2.416163107421005,
          0.6665003152129862,
          0.7516671657056315,
          0.23282314949444982,
          0.8354065160658575,
          -2.377663598809086,
          1.258616211100969,
          -0.28019660768771876,
          0.7525539858144272,
          0.4256971275599152,
          0.8100020690811067,
          -0.805764667035387,
          2.23917412069436,
          0.8904762991576315,
          -0.9274145230253781,
          0.881741267675814,
          0.48279916613252744,
          -0.18011428069022795,
          -1.7728921586359077,
          -3.0723910355888355,
          -0.36704086687829784,
          0.2516038951208523,
          -0.160330745943863,
          0.16735707757297444,
          0.2384824272916802,
          -0.4002870246424925,
          1.181668522878879,
          1.731308477620743,
          2.260561525254433,
          -1.205891477819087,
          0.06170732833547022,
          1.1984907953037167,
          0.2845843120348724,
          0.22669939930669858,
          1.1468816244054438,
          0.012196772552100714,
          -1.1600431400353097,
          -1.334742063487617,
          1.6740400697949906,
          -1.6290923692564636,
          0.41812128781170543,
          0.7304951140211234,
          -0.7622879941680754,
          -2.4715783161407594,
          1.3804188530814099,
          -1.1600431400353097,
          0.6547210083423075,
          -0.725864054702164,
          1.4553816458313997,
          0.305320315119596,
          -1.9702467934975292,
          0.24401322677886156,
          1.4755489829754411,
          0.7558361169161597,
          -0.652947653282472,
          -1.173114785437653,
          1.246759936777363,
          3.6491511397424596,
          0.1273610949637029,
          -0.9335248877174046,
          0.5511539836196175,
          -1.134835548424112,
          0.23247819616073204,
          -2.875525290350417,
          0.798031959365159,
          -1.884531310552958,
          1.9302699432439516,
          -2.139067745160315,
          -0.3737955899483003,
          0.21590664474461763,
          -1.2855885588916127,
          -0.033850713711146695,
          0.5160203470003649,
          1.323665260166533,
          0.00651221859442947,
          0.26716481992661467,
          -0.43633546591337113,
          -1.043692103214311,
          -2.1485661649120273,
          1.357660145971441,
          -1.5212083511654666,
          1.2235867851909028,
          0.3744144283963909,
          0.8396126845301969,
          0.20256274545256936,
          -0.35038104151465166,
          1.2911653080597112,
          1.9154405556661815,
          0.7794845033172462,
          -0.8897216340712524,
          0.1372179194864768,
          -0.10011248894211885,
          0.19318294340177303,
          -2.716576203177823,
          0.4374959442843829,
          0.366903713110225,
          1.246759936777363,
          -0.5302368471578545,
          -0.5083297412610385,
          0.076170511566266,
          0.36984046066909576,
          -2.9329639766721987,
          1.4994451101977655,
          1.1159156152806902,
          1.0989052169244122,
          0.9766105710536277,
          -0.31487167674823363,
          1.0484950963473603,
          -2.435507128643188,
          0.3051399985467584,
          -1.4045970148307736,
          -1.1069291270882098,
          -0.28019660768771876,
          1.0784015528740205,
          0.012332149247935582,
          -0.01787222515474238,
          -0.6704941076579992,
          1.108123723200462,
          1.4639273571937215,
          0.7232892934717766,
          1.2160993170237722,
          -2.958400657234227,
          1.5734509043218867,
          -0.6094531810559299,
          -1.019813823825516,
          -0.6748101599904998,
          1.51127716070786,
          -0.5912108630944403,
          1.776849231269218,
          -1.2855885588916127,
          -1.3719712445637744,
          -0.32322930019440804,
          0.8283913223368731,
          1.5422420377778907,
          0.2790846722507626,
          -1.066393352130342,
          -1.9179503948729164,
          0.539808749807772,
          -0.32322930019440804,
          -0.9407732781649385,
          -0.5231270791649073,
          -0.9068413964195317,
          0.2173417817858981,
          0.030555566688491922,
          -0.17581044849627386,
          -0.4542479376101331,
          1.8522588653162042,
          0.7404682040362313,
          1.016528534351728,
          1.4755489829754411,
          0.37986558833215894,
          -0.15486766911780295,
          -0.015098707998813741,
          1.7722821385796652,
          1.1793861888635933,
          0.3325960726653521,
          -0.3849517055230062,
          1.062791187332474,
          -1.1931556867165867,
          0.6853467728616998,
          0.057589169489628556,
          1.0876739194383669,
          0.9293219945888425,
          -0.559666097703956,
          -1.384430750747539,
          1.1499678378284441,
          2.19089058089151,
          1.4450434371696133,
          0.7525539858144272,
          0.5182976062346685,
          0.9386987215876998,
          -0.8216999571587313,
          -0.713823400894156,
          1.6169124966118418,
          1.0961523246455678,
          0.7404682040362313,
          1.034878337147847,
          0.1683272671769701,
          -2.244842287461999,
          -1.3865371850949006,
          -0.5933473740172168,
          -0.6704941076579992,
          -0.012975699314339489,
          0.05460817210838455,
          -0.21211328721110415,
          -1.1452373119771564,
          -0.43879938635311816,
          -1.9070687681881138,
          -0.5317502802305825,
          0.24580084822936382,
          1.1793861888635933,
          -1.5591826200469054,
          -0.25844886008500795,
          -0.5562803537708214,
          1.0352564928257024,
          -0.6111902892691002,
          0.4838976207620934,
          0.00651221859442947,
          -0.14709017150828776,
          0.3998686868413008,
          0.18282051046148862,
          -0.8064982347941965,
          -0.8249563672285766,
          1.163679020856508,
          0.6150961010604913,
          0.2790846722507626,
          1.7360188988595147,
          -1.2855885588916127,
          0.6162881144596077,
          -1.3642808279209464,
          0.05460817210838455,
          -2.716576203177823,
          -0.14178297074074583,
          1.5825389675048844,
          1.8237102015645297,
          -0.6436822551890135,
          -1.051006565776659,
          -0.2811548795524115,
          -1.487557304514817,
          1.3551825375724398,
          -2.4039888621841725,
          -0.06868494702163873,
          1.0277979182735508,
          -0.4970298367298883,
          -0.42709573982381827,
          -0.1735984856312524,
          -1.9179503948729164,
          -0.30200947159123187,
          0.16740136867567637,
          0.9293219945888425,
          2.1593293448809656,
          1.2033377599452861,
          0.9856510794961221,
          0.1516637126682762,
          0.49170185014159434,
          -0.38759956159824155,
          0.913460412710483,
          -1.124763172736462,
          -0.18011428069022795,
          -0.7237120177888507,
          -0.9366971911515634,
          3.7655426130812986,
          0.8942193721212579,
          0.9386987215876998,
          1.1228222732368163,
          1.6304290077862138,
          -0.7622879941680754,
          -1.4379286855301412,
          0.046806932981518806,
          0.8527705044951404,
          -0.4002870246424925,
          -0.19406520834868277,
          -1.1707498042530444,
          -0.6953655910790887,
          0.6553210832137615,
          0.6157568463085291,
          2.30542000703927,
          0.13371233106663102,
          0.6488541217147664,
          -2.6055498945691298,
          -0.3535830216546397,
          0.8595506338504336,
          -1.6467989921277877,
          0.3679065596793942,
          1.3253181598168535,
          0.24580084822936382,
          0.06601836387716152,
          -1.900636593243839,
          -0.43680454493617565,
          -0.9366971911515634,
          -2.2576599610700527,
          0.9949589439792438,
          0.8305971475741306,
          0.9503589680533119,
          -0.014311562930312518,
          -1.5755143840446222,
          -1.2210191756227025,
          -0.048385499274351026,
          -1.874410064231565,
          0.5524563150711969,
          -0.31695524609678183,
          -1.4104513386051218,
          0.26720571474229216,
          0.7335611804042841,
          0.904588374633118,
          1.2998749736246196,
          1.0154845565661048,
          0.9619352272792445,
          -0.25844886008500795,
          -1.205065193825882,
          -0.41593853182327695,
          -2.500352546194239,
          1.4160639468827239,
          -1.277392542710691,
          -0.4544278833809645,
          -0.4043735877045656,
          0.7941034052823925,
          -0.31487167674823363,
          0.47583702810093786,
          -0.8031670911188022,
          1.4639273571937215,
          -0.2004724949897191,
          0.9404868511444445,
          0.8463829348723528,
          1.136386023290139,
          -0.6147050301375797,
          -0.9052435217303799,
          -2.997363003580308,
          -0.6266495434555704,
          -2.090040406708472,
          0.683370729690553,
          -0.2876473317799486,
          2.3046545387819557,
          0.7568241498565755,
          1.9799540385514107,
          0.354844556271933,
          0.6277185479283498,
          0.2963770828329624,
          -0.12526053154683814,
          0.6545896887579165,
          1.623348305249852,
          1.5688163447280852,
          -0.17322420739670405,
          -0.7784999667217215,
          -0.10938576238412628,
          2.0902647664909457,
          -1.055321805908158,
          -2.9987130267419615,
          -0.6253332298556679,
          0.28160470058238357,
          0.36517920041047264,
          -0.16242074195380568,
          1.026223609942973,
          -0.4071625679557227,
          0.6616641106494221,
          0.7019930408711417,
          -3.450067220593965,
          -1.412970849190015,
          1.9829773695707573,
          -0.7741088272718659,
          0.5182976062346685,
          2.142840247760825,
          -2.1830649385288456,
          -1.203210073874453,
          0.06675209060130015,
          -1.5755143840446222,
          1.136582898682197,
          -0.883026237783154,
          -0.7121713324695071,
          -0.5462358609452744,
          0.1353679324981208,
          1.4798497984828927,
          -2.1830649385288456,
          1.2571211646181193,
          0.19318294340177303,
          -0.09057333714380945,
          0.988149440622184,
          1.139348618216789,
          -0.06868494702163873,
          0.34705122788924087,
          10.264052897047
         ],
         "yaxis": "y"
        },
        {
         "hovertemplate": "color=1<br>x=%{x}<br>y=%{y}<extra></extra>",
         "legendgroup": "1",
         "marker": {
          "color": "#EF553B",
          "symbol": "circle"
         },
         "mode": "markers",
         "name": "1",
         "showlegend": true,
         "type": "scattergl",
         "x": [
          -1.422486184175814,
          -1.696867082125511,
          -0.31730231479671533,
          -0.06244677104206616,
          -1.331222377104404,
          -1.6937213272193186,
          -2.1053506215052034,
          -1.9885511306150225,
          -0.7108217201210415,
          -1.918006741354839,
          -1.4334625530097957,
          -0.061584089456574904,
          -1.1722532570827728,
          -0.5041011453542921,
          -1.7433656371421369,
          -0.7600664014757954,
          -1.282810199089131,
          -2.0824586044906424,
          -0.49060795460622886,
          -1.4170283932373675,
          -0.589705723932378,
          -1.319828946750801,
          -1.5082570305889917,
          -1.448487779234002,
          -1.8283776479575504,
          -1.8864131398008834,
          -2.0878986210690185,
          -1.7102369685927608,
          -1.4267327328228707,
          -0.15063476451056879,
          -1.380743861019637,
          -1.760977538097949,
          -1.7428461144656542,
          -1.7489151375991103,
          -1.696670440764609,
          -1.582785339324952,
          -1.801052544731346,
          -1.4001799172517178,
          -1.8170843576042162,
          -1.6317582028535633,
          -0.49060795460622886,
          -1.664715447304969,
          -1.4484180516065273,
          -0.7105726565112279,
          -1.0130618197428922,
          -1.511319431905336,
          -1.8598880087647613,
          -1.6165633694437487,
          -1.3096682376418898,
          -0.45171374986985335,
          -1.3112316345484714,
          -1.6053134122028192,
          -1.7502374820922046,
          -1.1255630233770797,
          -1.2553168879754262,
          -1.100974001894796,
          -1.510351495340577,
          -1.832210979815699,
          -1.5816195525015828,
          -1.9012334896014076,
          -1.667488227925759,
          -1.2030047261852617,
          -1.0352023530220305,
          -2.034821169586897,
          -1.4633903212333206,
          -1.488970400671662,
          -1.5806974062455363,
          -1.6037061204097915,
          -1.594393483642798,
          -1.0830140667710821,
          -1.174947653948305,
          -0.28863836022487055,
          -0.2955041433129838,
          -1.3779589063032969,
          -0.9480318896622169,
          -1.2126588714259936,
          -0.98074792492961,
          -1.7514367817759415,
          -1.662897310805258,
          -1.2188226093903878,
          -0.96625287114994,
          -1.6123637992967008,
          -1.6007503793025002,
          -1.6011114528289039,
          -1.0557481816635628,
          -1.2103594038267216,
          -0.9532900081036952,
          -1.5628281539063014,
          -1.6210285459384433,
          -1.0894910419525803,
          -1.9362093456715896,
          -1.637979258015865,
          -1.738060120948134,
          -1.713557746803907,
          -1.7012675430575899,
          -1.3708041818561472,
          -1.3897843175135753,
          -1.41465018308141,
          -1.3879209449005712,
          -0.8505474700815759,
          -1.6755444474966052,
          -0.5735999222191956,
          -1.5346399281271108,
          -1.8403332613501282,
          -1.6228998439644107,
          -0.579305595204286,
          -1.4202822317857928,
          -0.686559734853314,
          -1.1016275239112734,
          -0.356575147612053,
          -1.3698327170174271,
          -0.7480940795842447,
          -1.0725833734438166,
          -1.5082112521922404,
          -1.0792836789207818,
          -1.6815694426486607,
          -0.7524898905784261,
          -1.5770632748831426,
          -1.9976210694478227,
          -1.7041397132358358,
          -1.8862717284509718,
          -1.9553918576118632,
          -1.1627704972140083,
          -1.884861048925356,
          -1.7461238922021631,
          -1.570938226952353,
          -1.713190355766326,
          -1.3513203476220819,
          -1.7362163222819957,
          -0.8256342498680966,
          -1.8450898408831424,
          -1.574718685788976,
          -1.9366147855258191,
          -0.9421940454616154,
          -1.5749273042483658,
          -0.9916855230541658,
          -1.3842009196125884,
          -0.9848364389854334,
          -1.6859866691581746,
          -1.6622173141968049,
          -0.7592745038929108,
          -1.681425621139932,
          -1.5197095500455986,
          -1.5394704160492565,
          -0.061584089456574904,
          -1.4723823881914195,
          -1.5588901654741818,
          -0.7959886216692976,
          -1.641562499899656,
          -1.219412094935456,
          -1.7349893425051832,
          -1.7400997463710652,
          -1.5981773108775779,
          -1.3796392063168457,
          -1.550494777747358,
          -1.3257179629282005,
          -0.7845049059468275,
          -1.6607032074614532,
          -1.5644360949031075,
          -0.9972186541404978,
          -1.9581263098316357,
          -1.864657730941354,
          -0.904569062850019,
          -1.7762798754123768,
          -1.272511023740872,
          -1.6974589270548757,
          -1.5968082203726632,
          -1.4615973551327968,
          -0.42855266645041895,
          -1.910253829242735,
          -1.7922376049442714,
          -1.3048930717515097,
          -1.428831882790452,
          -1.8410372094196217,
          -1.5418208909725728,
          -1.5100446523776947,
          -1.8409850619740553,
          -1.5101776388296737,
          -1.2491744281680808,
          -0.35163687422053186,
          -1.8237968579946018,
          -1.4650625739963927,
          -1.6501662138800108,
          -1.704246738844011,
          -1.5189493594405854,
          -1.2263602632170618,
          -0.5909419114842908,
          -1.6595180327294357,
          -1.5749273042483658,
          -1.6213607126293725,
          -1.6552768439946308,
          -0.8390972830239205,
          -1.6929206263992793,
          -1.5067516959671905,
          -1.1191344670228711,
          -1.5256110397685307,
          -1.7215045217312088,
          -1.6605598339082905,
          -1.7112798856414897,
          -1.9363876248022336,
          -0.5670494126208921,
          -1.0830140667710821,
          -1.6357079782924386,
          -2.0113014693246107,
          -1.3471272998853494,
          -0.8588140091695304,
          -0.9583156291977896,
          -1.0067948512506262,
          -1.8776250808445192,
          -1.81481223454903,
          -1.7679995942882898,
          -1.6483090346082914,
          -1.1973036497751932,
          -0.4559485545134867,
          -0.6852539909559573,
          -1.3851681689289712,
          -1.6766946528073743,
          -0.5882585285489896,
          -1.6937213272193186,
          -0.6492581711120918,
          -1.64467093543504,
          -0.40072097657815714,
          -1.549629740651468,
          -1.560997305687296,
          -1.6165633694437487,
          -1.991526045071254,
          -1.4144434903785326,
          -1.9773536305634667,
          -1.6757375222472297,
          -1.308319488859008,
          -0.5836271628120888,
          -1.552890392942371,
          -2.115022061434452,
          -1.706052031944805,
          -0.9973856637219412,
          -1.9812677378433186,
          -1.7215045217312088,
          -1.8428881196005475,
          -1.8794708992016487,
          -1.1360745977828408,
          -1.7525339600033862,
          -0.3809751593894091,
          -1.5251031600896618,
          -0.7975016890183425,
          -0.915630512314549,
          -0.8808839800614845,
          -1.149904998988183,
          -1.2549467936591865,
          -1.7217235986897503,
          -0.374874237004431,
          -1.616300027672884,
          -1.5361390346070773,
          -1.8693573989849528,
          -1.5296081499401404,
          -0.4596166169764007,
          -1.4059480885669275,
          -1.5874626263628409,
          -0.7863439731353861,
          -1.1462148444918168,
          -2.0543996721796955,
          -1.2360018387721081,
          -0.8433998127008148,
          -1.2504086457411872,
          -1.5938099318297714,
          -1.4261326697181325,
          -0.9126683479615207,
          -1.308319488859008,
          -1.3612126423714563,
          -1.1139100711423617,
          -0.8801344308429906,
          -0.6683698427347085,
          -1.3266522013902244,
          -1.7443716613837736,
          -1.6477086928331883,
          -0.4701788729336644,
          -0.9705059490413864,
          -1.6429252573452517,
          -0.11832779483827556,
          -0.2789802223752493,
          -0.5542182841504414,
          -0.509824656335733,
          -1.714387730326626,
          -0.838772814417506,
          -1.3546182734595447,
          -0.7628776287022029,
          -1.6539334895403475,
          -1.6313897786006726,
          -1.0992526999193635,
          -1.7839539162873843,
          -1.0979034136202126,
          -1.721246389496018,
          -1.8255093383755783,
          -1.4391683361273893,
          -1.5741864618760721,
          -1.3519222133702007,
          -0.9991632162490148,
          -1.7997543641277385,
          -1.5366810807014473,
          -0.651723311123918,
          -0.7695865073142353,
          -1.787348926732577,
          -1.4305920340198333,
          -1.6271635200868937,
          -1.5930920715132522,
          -1.1664675491313001,
          -0.6638507275840669,
          -1.5451436216032224,
          -0.8907807357062622,
          -1.9379645903694105,
          -1.330888463883932,
          -0.8931208421973351,
          -1.2162036480730571,
          -1.3153548146249545,
          -1.3191280971279984,
          -1.54379016457401,
          -1.676472551152947,
          -0.4956738507259721,
          -1.7121523674886683,
          -1.3595673791320302,
          -1.5278464657089688,
          -0.5528218192225997,
          -1.758545913144225,
          -1.7114982516989234,
          -1.526492762599219,
          -1.6293376110520397,
          -1.6352605332518655,
          -1.726419243115486,
          -1.15055070809309,
          -1.2634950324099854,
          -1.448487779234002,
          -1.8145135304606312,
          -1.5741244856502865,
          -1.1155216764872964,
          -0.9960250287295824,
          -1.86834160266884,
          -1.864657730941354,
          -0.7253904570375763,
          -1.6343756340285662,
          -1.2173580530198904,
          -1.034657589914151,
          -0.6310737306940423,
          -1.4128898577907585,
          -1.6299632879530734,
          -2.0058200647831015,
          -1.3791436816490514,
          -1.3928040175133283,
          -1.40339298390083,
          -1.4856819089946645,
          -0.6038160976963665,
          -1.0534910531634707,
          -0.813964419393173,
          -1.6764153540804987,
          -1.2709557271642038,
          -0.6031501786260322,
          -0.8982138688532613,
          -1.3513203476220819,
          -0.6872970455814055,
          -0.3955619609086277,
          -1.9363876248022336,
          -1.4489187745304868,
          -2.0001978889516483,
          -1.673466675659635,
          -1.4859890639132678,
          -1.6888040832195979,
          -1.7621579074788603,
          -0.9379396626269612,
          -1.8505742527666968,
          -1.1886154125821322,
          -0.9654275813918194,
          -0.6726732836575205,
          -0.6069867279524576,
          -2.0074855959157447,
          -1.1294941141555632,
          -0.9907129357401202,
          -1.6473104188710008,
          -1.7472321461866105,
          -0.04715064435678563,
          -1.2378447195434292,
          -1.4795150933644816,
          -1.5100446523776947,
          -1.8283920451809716,
          -1.2425150927553792,
          -0.7828660043857949,
          -1.7427409458445755,
          -1.4640085750366532,
          -1.9681798443960195,
          -1.8542266971235408,
          -1.4202822317857928,
          -0.47912889413915405,
          -1.6834447956812986,
          -0.37110061088607926,
          -0.8480359927177702,
          -0.14478065080687974,
          -1.9388593720071354,
          -1.4071431667868846,
          -1.2851282978866452,
          -1.1887156972490558,
          -1.937950930444407,
          -1.6427014656603312,
          -0.6251017491072832,
          -1.3443071496415244,
          -1.4137987573252184,
          -1.470173901709065,
          -1.4474922162366457,
          -0.7386964468240126,
          -0.7199309492807427,
          -1.5320050935770746,
          -1.9612305736192208,
          -1.5753496872013486,
          -1.436332165024598,
          -1.3335326013386242,
          -1.5754025179602795,
          -1.870830441584365,
          -1.730926572651769,
          -1.6702672819057534,
          -1.8239643599884705,
          -1.9374822738613295,
          -0.7946731269929439,
          -1.833505108481789,
          -0.886165921019471,
          -0.8055483447678405,
          -0.9171870416899622,
          -1.8062330234619906,
          -1.3766745870991541,
          -1.0493415659373868,
          -0.6776507758059879,
          -1.2123674432704603,
          -0.24770716254885833,
          -1.5927295527062686,
          -1.795622278304968,
          -0.2705106440186143,
          -1.7330027112116726,
          -0.4631145116954643,
          -1.666191692170279,
          -1.8152504055217438,
          -1.3519222133702007,
          -1.587719914576156,
          -1.9311686720111876,
          -1.1222739477562855,
          -0.4761363832033835,
          -1.7527982779600686,
          -1.6330492509182029,
          -0.3903141656228561,
          -1.4051959113525943,
          -1.4604007609330478,
          -1.105968542532539,
          -1.3779589063032969,
          -1.7619853923966364,
          -0.9773667966136138,
          -1.9120277365958915,
          -1.6930235005693925,
          -0.7821666998466527,
          -1.590700555974519,
          -1.6016136422811038,
          -1.8293702310098896,
          -0.8746693005389559,
          -2.149432380791227,
          -0.2877474886025516,
          -0.5159853358266385,
          -0.7859033766632136,
          -1.9866749088774736,
          -1.523101265369321,
          -1.757442909021464,
          -1.0196860067408404,
          -1.04823412782364,
          -1.6560810276382907,
          -1.561335313862763,
          -1.453397334128117,
          -1.6580138213643165,
          -1.280651351474178,
          -1.0465433805897126,
          -1.4791747769931816,
          -1.5097202543675843,
          -0.44678875310371297,
          -1.7869882827576553,
          -0.9789464828080594,
          -1.6766637772779212,
          -0.9646806468561079,
          -0.6763909460001603,
          -1.3734846914980794,
          -1.3495615453747378,
          -0.9914811059991999,
          -1.2087154201539974,
          -0.6639573254363496,
          -1.4163595398990332,
          -1.3513950283618978,
          -1.5723628680267594,
          -0.43420708974695577,
          -1.0473510243553987,
          -1.7716128799758404,
          -1.6582668372991884,
          -1.883804269464306,
          -0.29522670835720854,
          -1.466636627473691,
          -1.7100830807426308,
          -1.178545160401163,
          -1.139580140720448,
          -1.028896199556073,
          -1.3391079672974824,
          -1.9201792070731656,
          -1.089840125345615,
          -0.49233889354785443,
          -1.4344996626233262,
          -1.397598175566474,
          -0.9104942461340877,
          -1.5425127544305084,
          -1.6520587455031501,
          -1.4404951467762914,
          -1.7347173143380434,
          -0.06770588567266797,
          -0.47912889413915405,
          -1.4069578662659528,
          -1.4286019331457849,
          -2.2523971223458474,
          -1.5983045767931523,
          -0.39031365052817163,
          -1.6130347920288126,
          -1.8634562917414843,
          -0.5034181285597328,
          -0.9055476508036504,
          -1.6473104188710008,
          -1.6123637992967008,
          -0.6953995585885874,
          -1.788244464313499,
          -1.0298990978092515,
          -0.39236157637363406,
          -1.721246389496018,
          -1.6375088658031227,
          -1.2626104195622834,
          -1.2583325508166674,
          -1.4611740399294184,
          -1.572927617116283,
          -0.46521565564610984,
          -0.8327642264047573,
          -1.6457856789518925,
          -1.6640111991266047,
          -1.5612064173264129,
          -1.7344352746032514,
          -1.6044172726308967,
          -1.7797237580412233,
          -1.5594046596050013,
          -1.7166376950542679,
          -1.7269629332268528,
          -1.6167996345356648,
          -0.8628693159533259,
          -1.4812331124855085,
          -1.3227979897284168,
          -1.5155513912050869,
          -1.5318064448213635,
          -1.8993124827917227,
          -1.6261997577639649,
          -1.540008402962516,
          -1.3186654006173237,
          -1.8083356203142027,
          -1.6102154917616065,
          -1.730993629419675,
          -1.092855957820317,
          -0.8458674475412741,
          0.0987975359496722,
          -1.488970400671662,
          -0.3009463772877124,
          -1.904976673359657,
          -1.9180626660770779,
          -1.6582668372991884,
          -1.5033101199848053,
          -1.8252004398319581,
          -0.4992941008273618,
          -1.5474753591857187,
          -0.8941594430497376,
          -1.5771842054509406,
          -1.8664144597630852,
          -1.4887617384938365,
          -1.2698492097320666,
          -1.5067516959671905,
          -1.1011253261419356,
          -0.1483462490906249,
          -1.8282928533203449,
          -0.06461900411321435,
          -0.4509023738093506,
          -0.9011231613694022,
          -1.552985818010225,
          -1.3220800932308407,
          -1.7997543641277385,
          -0.5381876965622596,
          -1.335242112025405,
          -1.9732453023234346,
          -1.4872480180080583,
          -1.5248923500898317,
          -1.5284485594041908,
          -0.42221262979106666,
          -0.9773046490972441,
          -0.6352942274235864,
          -0.761140453142886,
          -1.2668062508769093,
          -1.9519934534609507,
          -1.8277763603885788,
          -1.3592711831883508,
          -0.690841375103079,
          -1.526839826050624,
          -2.0824586044906424,
          -0.844661993577783,
          -1.5125470841719042,
          -1.7762134048360518,
          -1.515429688230095,
          -1.8391042446704144,
          -1.1850545265128816,
          -0.5989384358347405,
          -1.7775608426495557,
          -2.1506255881227774,
          -0.920972346119088,
          -1.8509809844471357,
          -0.5124890644836623,
          -0.842603624349117,
          -0.5117639859002013,
          -1.3047676269373774,
          -1.2580153991401497,
          -1.4034461032477303,
          -2.0109057534994825,
          -1.8428881196005475,
          -1.7857213003228265,
          -1.1044053837020413,
          -1.7041876564731586,
          -0.16416150452741116,
          -1.5996772561291963,
          -0.6008334564281119,
          -1.0917602030605067,
          -1.6146162080932267,
          -1.8296151553513031,
          -1.8751159705656186,
          -1.3812713200820728,
          -1.4402333742611306,
          -1.3725666725453183,
          -0.9056763633049086,
          -0.8705348772272685,
          -1.1728379131775135,
          -0.7199309492807427,
          -0.8808873683617479,
          -1.0287538468116801,
          -1.9366147855258191,
          -1.9532831086004052,
          -1.4897399101785307,
          -1.4029248131509986,
          -0.9341454304323807,
          -0.4326893209527187,
          -1.2550700884705885,
          -1.4989771559450862,
          -1.386253737820544,
          -1.8564032167834112,
          -1.7795263659459046,
          -1.3420609401912775,
          -1.559974080274982,
          -1.6969612401570984,
          -0.44893913224098037,
          -1.5331875957111047,
          -1.1588835906578525,
          -1.5664101616751254,
          -1.3850247589272182,
          -1.7058750437593544,
          -1.5511414335518627,
          -1.0766024005501977,
          -1.706052031944805,
          -1.292060089387099,
          -1.8378505704197947,
          -1.097992489070739,
          -0.9609785997909772,
          -2.3069674924232046,
          -1.8199020511673183,
          -1.560799748998431,
          -1.9635578795738968,
          -0.5588593123090113,
          -1.5703311703692782,
          -1.488970400671662,
          -1.6566345774192814,
          -1.2410290437358265,
          -1.668924604258402,
          -1.2296770180757501,
          -1.1241764837490407,
          -1.699740908224644,
          -1.558901668877583,
          -1.3837517991663042,
          -0.7842773479306276,
          -1.6012480852358613,
          -0.41946079582396073,
          -1.6238019039989284,
          -0.5494106763852097,
          -1.1568416150423757,
          -1.990068018042584,
          -1.884861048925356,
          -1.3711412288561546,
          -1.5190727337111747,
          -1.3643244677258533,
          -0.5515739553556093,
          -1.5821299965585387,
          -1.923251953325026,
          -1.7933651268437474,
          -0.7797016621056748,
          -0.4396813089205486,
          -0.9043422194746774,
          -0.6096581542027564,
          -1.751706067387719,
          -1.3942326455538712,
          -1.272511023740872,
          -1.454647752051904,
          -1.8282820375730422,
          -1.7407457253597225,
          -1.1188047044174954,
          -1.4617675158387717,
          -0.5754806723849489,
          -0.31106734515461487,
          -1.3918229973108411,
          -1.5709034577649723,
          -0.8526796095561592,
          -0.8790011013569908,
          -1.6384105104263287,
          -1.8709275270648345,
          -1.2425150927553792,
          -1.7834266945145587,
          -0.45171374986985335,
          -1.89907572761422,
          -0.5002450803198804,
          -1.3542089187006259,
          -1.4550778888766291,
          -1.7837479925546043,
          -0.2599733326240403,
          -0.5657064833262562,
          -1.568759093073178,
          -1.2378447195434292,
          -0.4766822487833405,
          -0.7875736730989791,
          -1.27120861927957,
          -1.6343756340285662,
          -0.6726732836575205,
          -0.7981810775921787,
          -0.6932069987359568,
          -1.709626846359427,
          -0.7109209926618549,
          -0.9503738915353223,
          -0.8840483169499813,
          -1.8630738308981323,
          -1.8252004398319581,
          -1.4415198062123156,
          -0.3772111927352341,
          -1.5775621668266542,
          -1.5627051171578872,
          -1.2301869654348812,
          -1.781836650480235,
          -1.5976963802311666,
          -1.7219358550408836,
          -0.6041575895105833,
          -1.1037018769677853,
          -0.5445126329264547,
          -1.2759921646420533,
          -0.838772814417506,
          -0.46956278105316795,
          -1.2720470337708072,
          -1.50173619512818,
          -1.122229411119926,
          -1.5248923500898317,
          -0.8173030839903058,
          -1.4800982717899331,
          -1.8393195138863787,
          -1.7143408307200598,
          -1.286463897037307,
          -1.673466675659635,
          -1.6085914480026113,
          -1.6520587455031501,
          -1.5301429627894085,
          -1.445271599893951,
          0.34858086099023705,
          -1.730993629419675,
          -1.6041229572194795,
          -1.6455143025511059,
          -0.6975287764996043,
          -1.6055395565172987,
          -0.6041575895105833,
          -1.8635015674891873,
          -1.261811557992421,
          -1.04823412782364,
          -1.5327634687670117,
          -1.6257493132935503,
          -1.726099807944719,
          -0.781070192079015,
          -0.9051989453358066,
          -1.5114571018353324,
          0.05598353156182945,
          -1.0890712201424397,
          -1.5767846551266214,
          -0.1432202380449278,
          -1.4163595398990332,
          -1.9069325158387829,
          -1.730837327158022,
          -1.5793110971917774,
          -1.594814853595555,
          -1.2276646299335365,
          -1.6372868203473316,
          -1.2943084120049533,
          -1.1321777383850764,
          -1.0217611535743787,
          -1.9016666869203611,
          -1.7930317310800776,
          -0.5053884631180077,
          -0.37400639145177866,
          -1.0680108976946614,
          -0.19471837239797052,
          -1.5010627441430928,
          -1.6463893014869793,
          -1.6041229572194795,
          -0.6283073765495057,
          -1.1191344670228711,
          -1.688240169731978,
          -0.7238728448022012,
          -1.5366810807014473,
          -1.3636596263484952,
          -1.3596058032149718,
          -1.430403872689825,
          -1.560997305687296,
          -2.285433145172061,
          -1.4805351432060323,
          -1.7589837741647842,
          -0.9016843958625735,
          -1.1191344670228711,
          -1.588254343221671,
          -1.340625544212727,
          -2.119344398803341,
          -1.6091289368760107,
          -1.383692257192667,
          -1.3796392063168457,
          -1.4186607977856012,
          -1.1652716868479225,
          -1.597818014311984,
          -1.1210872559222915,
          -1.6151959751933473,
          -0.9849321199009291,
          -1.665232028581096,
          -1.5072399295183279,
          -1.04823412782364,
          -0.6776507758059879,
          -1.8609766074934813,
          -1.3508263047237654,
          -0.6419777400158411,
          -1.5318064448213635,
          -1.6674648775660628,
          -0.6283073765495057,
          -1.203815134732333,
          -1.0838533583308039,
          -1.3612126423714563,
          -0.13759503181342536,
          -1.6960490589217154,
          -1.4131941216844472,
          -1.488970400671662,
          -1.1485941715690549,
          -0.5800591852352305,
          -1.325283121490994,
          -1.4402333742611306,
          -1.8862969056809633,
          -0.9043422194746774,
          -1.2220646758876323,
          -0.5874716462779143,
          -1.9374822738613295,
          -0.8617545019284162,
          -1.5900172284969631,
          -1.4844845975714847,
          -1.7633836323928862,
          -1.3109563803796647,
          -0.6065510675983299,
          -0.3009463772877124,
          -1.9127113473104342,
          -1.0639622586127158,
          -1.6755444474966052,
          -1.790890689645409,
          -0.6364711952680514,
          -0.5002450803198804,
          -1.2036443719132977,
          -1.8238297274827748,
          -0.8548449814780696,
          -0.9851808898366043,
          -1.836379568660221,
          -1.4927169148181794,
          -1.0264778739923808,
          -1.2242764309012322,
          -1.9116418658151662,
          -0.5909419114842908,
          -1.451921933999696,
          -1.6943770402605083,
          -1.5935427788217327,
          -1.7502374820922046,
          -1.596410405305402,
          -0.5608599704089412,
          -0.9088257056539969,
          -1.6134611159684327,
          -1.368463171659982,
          -1.8013426086801534,
          -1.5561056506759852,
          -0.9830098368129024,
          -0.90418300336086,
          -1.2912708073117072,
          -1.5418208909725728,
          -1.3416228564662978,
          -1.5205252659765724,
          -1.191235480942962,
          -1.673926980149805,
          -1.1245986399897554,
          -1.899952323170224,
          -0.7043119825941624,
          -1.5608627868836835,
          -1.2459437335819177,
          -1.8596736150675235,
          -1.9072063952365135,
          -0.7288773389408643,
          -1.5063498791876464,
          -1.9544050712115313,
          -1.7583180951382162,
          -1.7719781460889914,
          -1.498958231235352,
          -1.5487099404454139,
          -1.5331875957111047,
          -1.8171826646529439,
          -1.7906613719663198,
          -1.3756162414941704,
          -0.6314553351352544,
          -0.9500488855335998,
          -1.4545820640326124,
          -1.7505348659598476,
          -1.8375996022128083,
          -1.0070446389807237,
          -1.9932804303814056,
          -0.9088594323344361,
          -1.8102228400047824,
          -1.190529661894757,
          -1.7210494304551434,
          -1.3599663985957844,
          -1.673466675659635,
          -1.4513937138536281,
          -0.5269029378826959,
          -1.5065391596564057,
          -0.8946104397481848,
          -0.5577605236833258,
          -1.1884744608665982,
          -1.718324369460042,
          -1.5571538324424088,
          -0.49807723998643777,
          -1.6501662138800108,
          -1.9481073202685384,
          -1.350652859395815,
          -1.2431122337373213,
          -1.5423286678905705,
          -1.8929277656887566,
          -1.7204250050645258,
          -1.6517567528831167,
          -1.738060120948134,
          -0.7252906475280209,
          -1.6131592338737442,
          -0.9583156291977896,
          -1.5420971570346853,
          -1.190529661894757,
          -1.4001799172517178,
          -1.3360948653869917,
          -1.4069695823653146,
          -1.7792771455819123,
          -1.2283879917743972,
          -1.1498873315358642,
          -0.945161130871035,
          -1.2583842719296703,
          -1.4604007609330478,
          -1.3643244677258533,
          -1.430403872689825,
          -0.900041372333263,
          -1.6572362510870715,
          -0.41922032488096933,
          -1.5009851407971706,
          -0.8050487172626593,
          -0.7524898905784261,
          -1.4257667289686284,
          -1.8450898408831424,
          -1.6016136422811038,
          -1.9101977778973367,
          -0.39917959672271935,
          -1.7422270278142784,
          -1.4232598191049588,
          -1.4550778888766291,
          -1.7877404684910687,
          -0.46017920834134124,
          -1.2027001738959893,
          -1.5279043941160837,
          -1.0317981443491775,
          -0.8584290572687,
          -0.8808873683617479,
          -1.4144580838425578,
          -0.9752950659545673,
          -1.461213769169384,
          -1.7901611314250636,
          -0.45446834204804754,
          -2.2636930586149693,
          -1.5253584620725358,
          -1.7690734869572706,
          -1.9022888646147227,
          -1.0525165324241699,
          -1.7093588465754677,
          -2.060133774976378,
          -0.1483462490906249,
          -1.6008539971194427,
          -1.6587347021742664,
          -1.089701401298262,
          -1.7480069563115779,
          -1.4263094911726102,
          -1.3938336222033192,
          -1.7624019010762653,
          -1.683336935793476,
          -1.1921149738400565,
          -1.7220817530381374,
          -0.3172095414036506,
          -1.3998583644091018,
          -0.47975563592024306,
          -1.5229772733758442,
          -0.8880718887479073,
          -1.3897843175135753,
          -0.22632352084165883,
          -0.35163687422053186,
          -1.3708041818561472,
          -1.824677659389883,
          -0.2248598578156072,
          -1.7184054434601774,
          -1.035517746039302,
          -1.5950593758894414,
          -1.5648457686992805,
          -1.5969250211665351,
          -1.6384105104263287,
          -1.5847929787822306,
          -1.6640111991266047,
          -1.6888815598434157,
          -1.4879917131017557,
          -1.8862613831389798,
          -1.058425337152156,
          -1.840727717296606,
          -1.602906803739165,
          -1.629261775084462,
          -0.326844695130653,
          -1.7054241440047269,
          -1.7499261159018427,
          -1.7317338647762077,
          -1.7904204278726847,
          -1.2327577711728366,
          -1.4978157307374718,
          -1.2943084120049533,
          -1.1658641090653816,
          -0.3860433118346828,
          -1.7623216285612715,
          -0.5183416702613861,
          -0.9088257056539969,
          -1.4247590608941045,
          -1.0567456891860523,
          -1.1024831110062359,
          -1.5064682769173057,
          -1.1498873315358642,
          -0.7039321432165498,
          -0.9379396626269612,
          0.2350339102940443,
          -1.4522433626638696,
          -1.5155323627500816,
          -1.6899897800671755,
          -1.3323752375914386,
          -1.6131592338737442,
          -0.8964527071301263,
          -0.46834840719520293,
          -1.8864131398008834,
          -0.6891213134262695,
          -1.5281354903215192,
          -0.2989175763771429,
          -1.1996050723278693,
          -2.0307018655662876,
          -0.16931004160718305,
          -0.9610258051137027,
          -1.8441108444616725,
          -1.8068449126835042,
          -1.5573086738993918,
          -1.7297420586463361,
          -1.3227979897284168,
          -1.6967097909085453,
          -0.4600315733265755,
          -1.2505164989137525,
          -1.597818014311984,
          -1.4583534569380001,
          -1.7430102224880313,
          -1.9105523427812434,
          -1.7406032987561326,
          -1.579222849455389,
          -1.3340068614038167,
          -0.7274933353464713,
          -1.6266470665982715,
          -1.7400997463710652,
          -1.7766542788131214,
          -1.8317062058118472,
          -1.9594019828235645,
          -0.22872468685303676,
          -1.350216243920268,
          -1.6927015246570147,
          -1.4217755495761177,
          -0.9524557328806568,
          -1.1116477229725525,
          -1.6652875533189109,
          -1.5493773562591129,
          -1.2747656459417898,
          -1.4567390356755958,
          -1.219412094935456,
          -1.5156676027712144,
          -1.3115225557387162,
          -1.3787210512986683,
          -1.5806635746990367,
          -0.3686539927746657,
          -1.7877404684910687,
          0.0987975359496722,
          -1.763844312906247,
          -1.4027713713825098,
          -1.0821956259180652,
          -1.6382567402226704,
          -1.6667167577875956,
          -0.6014076618307607,
          -1.7849353469693694,
          -1.3857133961753054,
          -0.683795357331415,
          -1.2673018496388517,
          -1.8835483432105027,
          -1.7519845501122575,
          -1.8239643599884705,
          -0.8964527071301263,
          -0.7931730814411526,
          -1.6662609178155954,
          -0.9707727330706327,
          -0.4006806726928464,
          -1.5099777439453181,
          -1.7822576082115542,
          -1.366704281975401,
          -1.8489391297981728,
          -1.2538667830297496,
          -1.330201990604612,
          -1.7201004572128853,
          -1.667488227925759,
          -1.564085025587308,
          -0.6257424008142093,
          -0.9817136926982346,
          -1.870830441584365,
          -0.8946841021419439,
          -1.1529771708891676,
          -1.9453091373923508,
          -1.5954905896569396,
          -1.3385768834882474,
          -1.591636860060215,
          -1.734802339299828,
          -1.4574940706049555,
          -0.5950230220180536,
          -1.4256230162203518,
          -1.3603047345108705,
          -1.7909421753407841,
          -0.9817136926982346,
          -1.6943770402605083,
          -1.6312364058684532,
          -1.133550602156779,
          -1.6566105879971371,
          -0.6384684494548309,
          -0.6734443986420102,
          -0.4364934673732965,
          -1.915977614654899,
          -1.5705482886514932,
          -1.4293663001130474,
          -0.5874716462779143,
          -0.9654275813918194,
          -1.7271119045381538,
          -0.7577913231040798,
          -1.261811557992421,
          -1.5888829913227358,
          -1.300908481052405,
          -1.7205464022484647,
          -1.3919401092783634,
          -1.8159861266435573,
          -2.09402116392424,
          -1.174180691722173,
          -1.5539945519292038,
          -1.530979318812574,
          -0.5874716462779143,
          -1.6384105104263287,
          -1.3060672029128324,
          -1.6713136964778321,
          -1.8487281142656686,
          -1.3681322845912356,
          -0.44253966081345514,
          -1.577426859434445,
          -2.1887423215194954,
          -1.6328903593631934,
          -1.7058750437593544,
          -1.9116418658151662,
          -0.45460622790202404,
          -0.4863211527514556,
          -2.0225805020545153,
          -1.6682868685878705,
          -1.6082537916565924,
          -1.8485355742184655,
          -1.803232931210684,
          -1.5968082203726632,
          -0.5053884631180077,
          -0.974718656151021
         ],
         "xaxis": "x",
         "y": [
          0.28025716742216533,
          -0.05297133406857171,
          0.34718462555171686,
          0.1925361709902361,
          -0.09616737837779997,
          0.09559021752599439,
          -0.47077233440614,
          -0.5512930589658671,
          0.5885179530990368,
          -0.1934924749797303,
          0.28417863286571043,
          -0.868523967099426,
          -0.5681615264837206,
          -0.7369547942922008,
          -0.33210852021071025,
          0.005691808262596321,
          0.05045944128396136,
          -0.2633432282949901,
          -1.167514555340074,
          0.31154874647859976,
          -0.2896848473694125,
          0.41169230639401194,
          -0.6123679859964208,
          0.28303041317295313,
          -0.13674981597764627,
          -0.0767603302248994,
          -0.4521041284206012,
          -1.0939199846850753,
          0.10249047009791179,
          0.5909675425757133,
          0.024661819974231412,
          -0.0004746178325148518,
          -0.20699287237165478,
          0.15145879923414496,
          -0.06029699329399264,
          0.2505134688144699,
          -0.09047304380848428,
          -0.08314297544958953,
          -0.02183642326391622,
          -0.35395746288796964,
          -1.167514555340074,
          0.022487193401346653,
          0.24588774242834543,
          0.1836089832265868,
          0.5138941875800557,
          0.2639743542118621,
          0.033454403044592886,
          -0.08187720425994509,
          0.4744714477494553,
          0.12320257671840257,
          0.27606864655141844,
          0.12809995777709834,
          -0.1691030911492539,
          0.44219544263192856,
          -0.10316556333775367,
          0.09728604476141672,
          -0.31339622638716985,
          -0.12466290234675595,
          0.04492994960347943,
          -0.17771991310702423,
          0.07852868805947047,
          0.5088916992683806,
          0.1311019763281088,
          -0.41763968626967324,
          -0.017792304915780793,
          -0.11066902997415265,
          0.16297816666329418,
          -0.3263385860878398,
          0.19403960780079768,
          -0.21487339608073724,
          0.29801007255521716,
          0.49278730564027484,
          0.6923560648713104,
          -0.20825929957508305,
          0.5975571917483647,
          0.5964768454545718,
          0.33628167128604075,
          0.04068274848103165,
          -0.03184158109218042,
          -0.09484954617920965,
          0.6022259409538069,
          -0.2799108286521935,
          0.02478496681915957,
          -0.20573522089592097,
          0.1013944981763812,
          0.46451638339996953,
          -0.21693350630933136,
          0.25220249570223363,
          0.21765527983370384,
          0.48088723744791173,
          -0.2562954112064072,
          -0.030674087627631193,
          -0.08293651950992115,
          -0.10877475735370146,
          0.13920305206068131,
          0.3327891365314262,
          -0.6731654348803804,
          -0.19021684637763564,
          -0.06853510423308687,
          0.4541096480980355,
          0.018680401251043706,
          -0.7212727985683893,
          0.2592465181573958,
          -0.3393611002290562,
          -0.13752648290028643,
          0.01456670250244638,
          0.33192698149040234,
          0.02959790621358238,
          0.39271238509204554,
          -0.022302373167108192,
          0.46153851310918254,
          -0.49629172337276567,
          -0.02813626827110554,
          0.21739202876742056,
          -0.19043077602926076,
          0.16872347657768094,
          -0.08630459656388377,
          0.18524004867300622,
          -0.22910010650520746,
          -0.35533202385770485,
          0.001958487664802896,
          -0.6196469388459668,
          0.5379028748272984,
          -0.022702843635527464,
          0.1278322736294021,
          -0.07311903403251675,
          -0.058909414339686425,
          -0.361684623849339,
          0.12840442736326457,
          0.22794466965199492,
          -0.2752034284443539,
          0.258853755249,
          -0.3493588929703701,
          0.2956535144011004,
          0.14329796236770198,
          0.21412150579025752,
          -0.04108891358856172,
          -0.7309194623989017,
          -0.3647925963427796,
          0.07361590579319298,
          0.5669616781684741,
          0.012109981656973757,
          0.05238978416067254,
          -0.38111205351367855,
          -0.868523967099426,
          0.3177393887884454,
          -0.1845229854350519,
          -0.336351147127268,
          -0.02203085281007644,
          0.004586180623888265,
          -0.3960758532481999,
          -0.01601654870239429,
          0.05778900560263024,
          0.2025540969021426,
          0.0640982813532344,
          0.4213853780229727,
          -0.4887246586775585,
          -0.35927922591767864,
          -0.23965348644392193,
          0.1434559480372105,
          -0.4375021083876349,
          -0.03193292754027192,
          0.396016576722496,
          0.09393478293589444,
          -0.12012303301838241,
          0.023580279572446267,
          0.013968731976955745,
          0.3796978756582332,
          0.06185136752487416,
          -0.2548612391730146,
          0.054912882253373735,
          0.5313258624157355,
          -0.007661585767319116,
          -0.05830230568474382,
          0.08045757682416657,
          -0.06956769058434153,
          -0.14889040957818545,
          -0.24295405842707254,
          0.020489403572824413,
          0.6372490333475979,
          0.017664840978215263,
          0.32161996509575946,
          -0.01189701437634976,
          0.10256564439260363,
          0.12016403833721663,
          0.35972793986017926,
          -0.003929144870104361,
          -0.047121622689417046,
          0.14329796236770198,
          -0.020319783150349248,
          0.16324032941320943,
          -0.045260056501491605,
          -0.07835724466628835,
          0.23176980936093167,
          -0.11736217576705833,
          -0.66813404578732,
          0.09201191692602229,
          -0.06453163646334993,
          0.15867780970328763,
          -0.14594676604044535,
          -1.0607002573371906,
          -0.21487339608073724,
          0.12060848778955524,
          -0.44020411952778804,
          -0.050739761026034544,
          0.7406950996429531,
          0.20710445673960712,
          -0.10878571931163707,
          -0.42471648606435763,
          -0.11530143560896061,
          -0.7052552586194996,
          0.059419470483444356,
          0.10785103760653922,
          -1.6528690567999027,
          0.8186229238409964,
          0.3780837648334213,
          -0.0008764760443254601,
          0.665592064837321,
          0.09559021752599439,
          0.7295821958435363,
          -0.49535274138200186,
          -0.11888546343960839,
          -0.6281236337062792,
          0.1943517395509402,
          -0.08187720425994509,
          -0.107336916020335,
          0.39533545676247,
          -0.4406725389178124,
          0.056224770527925245,
          0.37231242828336686,
          0.4416646257637535,
          0.14229855255786092,
          -0.41746044189310194,
          -0.005488412648023992,
          0.4769753424333528,
          -0.12317996742409634,
          0.09201191692602229,
          -0.2760789721311108,
          -0.09318605831669223,
          0.21827368770334044,
          -0.10674578321354973,
          0.07463792806898986,
          0.15586042799152522,
          -0.22865075916577313,
          -0.25958741538796715,
          0.4049594329919572,
          0.30740146852301664,
          -0.4596729484482557,
          0.0842922187444877,
          0.6601581027242671,
          0.1754300315530506,
          0.18716160741465543,
          -0.2021852178587583,
          0.27065794510127067,
          0.5571718286794837,
          -0.08753432240627589,
          0.25149171703742773,
          -0.9513233442871095,
          0.4522529001747124,
          -0.16959127808622124,
          -0.1662618804435672,
          0.30836948160512667,
          0.5092296829236732,
          -0.3024741138363318,
          0.4269988889259522,
          -1.7205981528140992,
          0.37231242828336686,
          -0.05071908641484926,
          -0.061129599062377124,
          0.5340619924879136,
          -0.18455762850534546,
          -0.024878372186023463,
          -0.12849631327844624,
          -0.018353730092562668,
          -0.5722162943997223,
          -1.2726615882624417,
          0.10288276553304761,
          -0.1904420887890886,
          -0.6009138382887727,
          0.8120326137216105,
          0.25501094077988135,
          0.00590870053938556,
          0.35788045985738076,
          0.31132056251391943,
          0.37384264329311884,
          -0.399531231881043,
          -0.3603894584312896,
          0.12528361902529722,
          -0.09156167990592963,
          0.2107468752332961,
          -0.47800744984142246,
          0.05714535677101108,
          -0.012891415186534154,
          -0.5882278656871442,
          -0.6957857321323234,
          0.17786749702078425,
          -0.4573128585310671,
          -0.03826118936505957,
          0.11292218115452524,
          0.01356035858442977,
          0.07180738383428747,
          0.3428140402737159,
          0.23373731133924608,
          0.2548885325498666,
          -0.12670124111280945,
          0.5588102109620388,
          0.22835046877402673,
          0.03659026600458309,
          -0.3060329642210509,
          0.31943176037684445,
          0.5148191405262939,
          0.49331532633139275,
          0.2300410490989815,
          -0.7278737140682524,
          0.2692193065168148,
          -0.08601395340011425,
          0.35122118818702563,
          -0.32532992878584627,
          0.015985972561805548,
          -0.13689173626326556,
          0.7505661217415263,
          -0.5585222287686374,
          -0.20283571159987812,
          0.29335762747396993,
          -0.2392976758052972,
          0.1023952709054466,
          0.07311517885776503,
          0.27519912135261504,
          -0.908939111486788,
          0.28303041317295313,
          0.024937717570603816,
          -0.11973850617272586,
          -0.5127002989376414,
          0.29193296163378585,
          -0.32576737215679463,
          -0.03193292754027192,
          0.16018034014553512,
          0.17692416402931238,
          0.32437399240686265,
          -0.16313153569124167,
          0.5297970263484169,
          -0.39446882204585415,
          0.20337401914406622,
          -0.24470472692669978,
          -0.024664552612372204,
          0.13898425075552176,
          -0.3673480665847499,
          0.3611714554700689,
          -0.08729927250880327,
          0.3299979510962622,
          0.35069391602447403,
          -0.006544453831833366,
          0.34724358047181136,
          0.2954564720068652,
          0.4869775078797241,
          -0.361684623849339,
          -0.7062721586425745,
          0.8914013295327733,
          -0.14594676604044535,
          -0.3312805807819416,
          -0.1955411554907131,
          -0.4806532241098387,
          0.315484872113366,
          -0.36032262256551795,
          0.08492042933334164,
          0.3164007961732105,
          0.03937492056877931,
          -0.04495076359393685,
          -0.24186579533686475,
          0.7409524918702435,
          -0.8845329152709401,
          -0.33410692717155444,
          -0.015010341058838788,
          0.605807040388251,
          0.12247650476535957,
          0.0418298617764414,
          -0.01366277479934243,
          0.23833932398260035,
          -0.08660608976663806,
          -0.06956769058434153,
          -0.0730696685414066,
          -0.563408331393348,
          0.29211904370259795,
          -0.054001436816107,
          0.2985690209399799,
          -0.0922584680976981,
          -0.8056772487909478,
          0.33192698149040234,
          0.3997041419660405,
          0.20822463158179866,
          0.15146195906214077,
          0.06045280704101153,
          0.328118609099055,
          -0.22877907284402318,
          -0.15163202897298744,
          0.2809885742413166,
          -0.40458473292764296,
          -0.22466315232995032,
          0.003089934712694161,
          0.6500097532086304,
          -0.02365657294279212,
          0.06832080079360234,
          -0.009073585195811182,
          -0.36399237097046666,
          -0.37239518092007223,
          -0.6527350400427301,
          0.0136158845318532,
          -0.37137534359754787,
          0.30191196846065954,
          0.2579211941442783,
          0.41595538939944193,
          0.09602887692782308,
          -0.2026878303737731,
          0.03093625525484706,
          0.0700306086003524,
          -0.3224298522045108,
          -0.16687693065618833,
          -0.05887965688290023,
          -0.36036687278432733,
          0.43674344147423055,
          -0.5034939347042029,
          0.3375342162249028,
          -0.1755337884232568,
          0.2701985217769231,
          -0.6403610114988286,
          0.4582724968124561,
          0.5743589918324947,
          -0.0839961543840666,
          -0.4459816841413369,
          -0.19731262617907805,
          0.9120285894787482,
          0.052390950012092014,
          -1.0594258256317926,
          -0.2024139653214368,
          -0.19362459789552317,
          -0.6957857321323234,
          0.21442740482477562,
          -0.1921750599500564,
          0.37071980191322285,
          0.8077003761930993,
          -0.24554751777047326,
          0.1938120603216212,
          -0.5943228722755168,
          0.26865115256343675,
          -0.1265166463705852,
          -0.09317324607231219,
          -0.20825929957508305,
          -0.23197481804659492,
          0.2806358128018437,
          -0.3968808416199154,
          -0.0010672987315229416,
          0.45877805543489947,
          0.27592212633147134,
          0.24436593910135526,
          -0.011476452178196582,
          0.0366132691628581,
          -0.358684964466238,
          -1.100136327140672,
          0.5836786673903848,
          0.37249344113879856,
          -0.06040385925705122,
          -0.1536901940723121,
          -0.1639264288018638,
          -0.1110761770058026,
          -0.30823877232848557,
          -0.32385948405822607,
          -0.59706492646914,
          -0.11167617970202406,
          0.20663280188059888,
          0.40453970561849323,
          0.38716616533914994,
          0.2654682651390122,
          -0.14900942542137577,
          -0.31764040989803666,
          -0.019754017735826895,
          0.3777525087149228,
          -0.4383717887880535,
          0.3370055170932614,
          0.34881480584090524,
          0.20723142296502892,
          0.3826271433078705,
          0.18246749854290958,
          -0.16333372844581165,
          -0.3896567480332304,
          0.30337134223004253,
          -0.111562698038689,
          0.024681420775274108,
          -1.5445498116955814,
          -0.1744533219099089,
          -0.11709094970792863,
          0.14339785911224046,
          -0.3911985593088603,
          0.0577008294078944,
          0.057532013064465454,
          -0.08986663189138462,
          0.23681542631236782,
          0.14205727752986586,
          -0.31499175491476245,
          0.17077436911304458,
          -0.1497102600118567,
          0.5425222370134936,
          -0.15460434256991185,
          0.08611862081438697,
          0.34614896211170365,
          0.29103420764471477,
          0.03451407016973735,
          0.08262529666473882,
          0.23728634460486753,
          -0.5298509629568849,
          0.03232440952173036,
          0.3997041419660405,
          -0.2406491971439135,
          0.2802445817099945,
          -0.3250139132709693,
          0.024218337890729944,
          0.6132608006585041,
          0.14541900912611097,
          -0.018244928668924097,
          0.2940140329326908,
          0.42644356160262203,
          0.12247650476535957,
          -0.2799108286521935,
          -0.21194922785643727,
          -0.2533660800914309,
          -0.17400101221524902,
          -0.4692157489391689,
          -0.47800744984142246,
          0.16124441858531532,
          0.49909110168286736,
          -0.12291923809516198,
          0.018651615079301225,
          0.2241398551012086,
          0.485699577880188,
          0.4211047436751956,
          0.032733698736163545,
          -0.3742264648246941,
          0.20793314899371007,
          0.13013856627102321,
          0.10497052474817431,
          -0.35733735801739797,
          -0.2767677130159404,
          -0.6249837876446285,
          0.12326814035485636,
          -0.12569965018169377,
          -0.6623472871962784,
          0.016878685584353507,
          0.3168030787288815,
          0.13502405080483096,
          0.21252829101596643,
          -0.2009487562787136,
          0.11327705629901834,
          0.20733823561096532,
          -0.2965829287908892,
          0.07595460121737364,
          -0.3846294641244661,
          -0.08706745872107804,
          0.2818263993196143,
          0.304584942952784,
          -0.32573056602383593,
          -0.11066902997415265,
          0.8678994090340673,
          -0.3304208429655102,
          -0.044874171736304265,
          0.14339785911224046,
          0.15786818416529472,
          0.034927612254855814,
          -0.05263608558671241,
          0.23634630182317337,
          0.11478191827044647,
          0.2739876694350792,
          -0.024076958389503023,
          0.2849322029427425,
          0.041866292235528645,
          0.23176980936093167,
          0.5675075561308871,
          0.1482106368680194,
          0.05709596886884126,
          -0.4471133719710606,
          -0.4267643945027958,
          0.4895850341961011,
          -0.23220357606520856,
          0.46168602509248335,
          -0.4573128585310671,
          0.7162166591499264,
          0.5138705869254006,
          -0.10446031206763252,
          -0.19409146455834164,
          -0.7537785329888507,
          0.1253372738136917,
          -0.4909780726982549,
          0.08474006913473399,
          0.013277019110652113,
          -0.12090298963541767,
          0.16571979117688135,
          -0.2910416899590095,
          -0.029113443538094533,
          0.0573138604043127,
          0.15548554283154853,
          0.1961862881361961,
          -0.2633432282949901,
          0.33838450635725953,
          0.17961703212939886,
          -0.35934015072373654,
          -0.06203780223426,
          -0.049565551397284226,
          -0.03232302604655671,
          0.5828623380711203,
          -0.07627279746326693,
          -0.3494829876464638,
          0.4318015699436142,
          -0.0022985476299130308,
          0.356880971294852,
          -0.1304558661360702,
          0.8442320516646225,
          0.4160954028642292,
          0.2691753968262003,
          -0.015183754857482004,
          -0.28792910946532635,
          -0.2760789721311108,
          -0.19702297413419614,
          0.44941363092922565,
          0.14145797892510736,
          0.08159281883684666,
          -0.1604955104829754,
          0.4545533021246155,
          0.29639083005180855,
          -0.8559747299663975,
          0.05074793594954285,
          -0.0983096963184125,
          0.21073930365340413,
          0.11229900431458972,
          0.1895880796654073,
          0.049903645144251635,
          0.5255784568128764,
          0.04437579924095132,
          -0.6527350400427301,
          0.20579613956528517,
          0.3559881390312779,
          -0.3493588929703701,
          -0.18579881043788346,
          0.15077731697985358,
          0.08395002322071442,
          0.24673939660235433,
          -0.4820104022722379,
          0.058559508644928406,
          0.22203993776006634,
          -0.17052630468570745,
          -0.9029844513500511,
          -0.10760651662796311,
          -0.07807735947139452,
          0.11588443912401876,
          -0.4246278604655087,
          -0.10195532076961686,
          0.26762288702284587,
          0.33810861519729324,
          0.2081908009833751,
          0.10118004265859747,
          0.0013673387839785013,
          0.07654042816488948,
          0.4304811685699539,
          -0.005488412648023992,
          0.33597268291274296,
          -0.02657900193387824,
          0.470116515552711,
          -0.45162893864940595,
          -0.37491440194882536,
          -0.8948505985459552,
          0.22635655077530586,
          -0.06124975309814048,
          0.4574606360508656,
          0.17628451329912412,
          -0.11066902997415265,
          0.02057478826066905,
          0.076327081205719,
          -0.5600301219294481,
          0.4788968793633091,
          -0.08050497114977281,
          -0.15213625723548369,
          0.07087557741538847,
          0.12799767102284584,
          0.20263746343214387,
          0.24033452898633,
          -0.3525126767708763,
          0.1097927753121059,
          0.8488681978419351,
          -0.1499265384402404,
          -0.20110362998800127,
          -0.022702843635527464,
          0.2076915930207235,
          0.24478995924010674,
          0.44540441905915934,
          -0.14033243862681707,
          0.02824976309845155,
          -0.706433079486593,
          -0.18314062284555835,
          -0.22426079036740723,
          -0.3295377175043995,
          0.310606235352262,
          0.3383991225748234,
          0.05709311179567385,
          0.30036625542660916,
          -0.12012303301838241,
          -0.08328498472777683,
          -0.2125874375929229,
          -0.09077118997341739,
          0.16718680071586753,
          -0.6441704276954938,
          0.1957587233704779,
          -0.4180839002089868,
          0.05327273645793161,
          0.23672948720745066,
          -0.21039625534105633,
          0.4211238408277095,
          -0.4393236053114626,
          -0.06289745257758482,
          -0.563408331393348,
          -0.047529473854026526,
          0.12320257671840257,
          -0.2717093736587924,
          0.6177447068238112,
          -0.24069430089645621,
          0.04445752181445115,
          -0.46646115724833964,
          -0.05434734686487002,
          0.18477988430741285,
          0.12747699243056493,
          0.23833932398260035,
          0.3349645326565243,
          0.3944062057689642,
          0.4642414691739936,
          0.17692416402931238,
          0.7409524918702435,
          0.26063974912466575,
          0.7160827739744249,
          -0.49774877551765867,
          0.4241506520102653,
          -0.08800879641852646,
          0.1117605874514915,
          -0.09237766730992773,
          0.034927612254855814,
          0.3360843397304954,
          -0.46915769055553186,
          -0.5553908906814962,
          0.23319981680028573,
          -0.21303983912528174,
          0.11572997153608516,
          0.2612201686260594,
          0.012868844293731679,
          0.24980099756012772,
          -0.315803835998081,
          -1.038665564847906,
          -0.15973359000854412,
          0.35788045985738076,
          0.5628008429748608,
          -0.17496538636287304,
          0.2549307938969996,
          -0.6025707784478248,
          -0.7537785329888507,
          -0.171274567406125,
          -0.06620235015444638,
          0.030763653636969094,
          0.18326767461244514,
          0.480720302193797,
          -0.4806532241098387,
          -0.1418366914883568,
          0.08262529666473882,
          0.31743638536904073,
          0.025181513809389162,
          -1.8161429004167697,
          -0.08706745872107804,
          -0.07811492304173748,
          0.16149883971802217,
          0.8885375861379977,
          -0.1181464141897819,
          0.24980099756012772,
          -0.21811644342977166,
          -0.22556735262190006,
          -0.30823877232848557,
          0.022154266328037103,
          0.15598437331793058,
          -0.3134226162643589,
          0.39834002375808175,
          0.013499537532916097,
          0.26977267609192146,
          -1.0663098227783743,
          -0.04525358913872622,
          -0.32563203276971103,
          -0.3322894091292772,
          0.30337134223004253,
          -0.3148540162123448,
          0.017402101735906297,
          0.2782970700739979,
          -0.42990692930648544,
          -0.1492116980700161,
          0.1301239318798978,
          0.09767355402447211,
          0.6602218286878891,
          -0.16593818752079528,
          -0.1802809086439434,
          -0.3623527041611127,
          0.8910258747798605,
          0.024378372923283605,
          0.27317753391071714,
          0.6640861819076121,
          0.011500164950543101,
          0.16154259573960075,
          -0.07811492304173748,
          -0.19150314197676271,
          -0.11736217576705833,
          -0.5254878918590776,
          -0.22768228001512056,
          -0.03826118936505957,
          0.0017789340514812394,
          -0.6179719339274511,
          0.09530747355865517,
          0.1943517395509402,
          -0.3419971951778639,
          -0.25946306156409016,
          -0.41507993107421615,
          0.4684103746504373,
          -0.11736217576705833,
          -0.6872808959782303,
          -0.027253587135205957,
          -0.2934075150875172,
          0.08546777657709707,
          0.4494644870118011,
          0.2025540969021426,
          -0.30790672237725586,
          -0.6081018862520491,
          0.12903118096303798,
          0.570023665442324,
          0.1554951422537024,
          0.2359374147181799,
          0.019702658245094713,
          -0.3695370535575217,
          -0.30823877232848557,
          0.4582724968124561,
          0.002223851848671439,
          0.34866005940131073,
          0.2797329650066393,
          0.21252829101596643,
          -0.12180971428712833,
          -0.19150314197676271,
          0.2621985055780087,
          0.02073944267706233,
          -0.05071908641484926,
          0.3724270535683772,
          0.1733629362954519,
          0.34081427994535685,
          -0.11066902997415265,
          0.029261376971104605,
          -0.025560853554407625,
          0.28181380733785555,
          0.11229900431458972,
          -0.5816549921542229,
          0.310606235352262,
          0.43383011606469557,
          0.04487476661337144,
          -0.16687693065618833,
          -0.30042133946854627,
          0.13859513200448262,
          0.3319318548081279,
          0.028263610304806612,
          0.526153423281588,
          0.7186681974963087,
          0.8678994090340673,
          -0.4226087837460983,
          0.0960669709423043,
          0.018680401251043706,
          0.0439717583998114,
          0.4262773027130434,
          0.6177447068238112,
          0.4743986105507253,
          -0.3656051799875891,
          0.20323786035436553,
          0.5446282502727378,
          -0.2041892974048731,
          0.04666091233176424,
          0.08683511008566625,
          0.5688589182709088,
          -0.019277190453216114,
          -0.003929144870104361,
          0.28842602772081344,
          -0.004869746589732964,
          0.10034932183688708,
          -0.1691030911492539,
          0.21755020746630296,
          0.5594625855291181,
          0.28559115793653345,
          -0.4056170368572335,
          -0.19273299904612243,
          -0.07623150138955183,
          0.1563158847385067,
          -0.026976187851272555,
          -0.5143818782617576,
          0.006895558309562743,
          0.08045757682416657,
          0.10934826250492401,
          0.07264607148833215,
          0.2694737153031702,
          -0.291962394633545,
          -0.22438194141175619,
          -0.33361728456417594,
          0.38568636519345195,
          0.0888423133735982,
          -0.24570598136968497,
          -0.049213339442799875,
          -0.010769016354829512,
          -0.09903602746413231,
          0.2667603178199688,
          -0.18601168867318224,
          -0.2128796133496957,
          -0.33878859378081,
          0.1928426464576384,
          0.29836918179242655,
          0.26762288702284587,
          -0.20833992247373534,
          -0.8842678831387997,
          0.3004620388089513,
          0.19211908081988138,
          0.5642651424288321,
          0.21192816443549037,
          -0.43809238396100453,
          -0.1368527703151612,
          -0.007857114721939092,
          -0.1418661058091744,
          0.1296205682559735,
          -0.2666066300671544,
          0.5172331754427096,
          -0.30643264989134605,
          0.3373284825167581,
          -0.4806532241098387,
          -0.1401067741995655,
          0.5157443421820076,
          0.28611558040075086,
          0.15153250423204292,
          -0.5404951107964234,
          0.03395855826347999,
          -0.07936659818994826,
          -0.10470476519179296,
          0.2529232787606508,
          -0.01189701437634976,
          -0.26286816909954314,
          -0.04457380438158211,
          0.11595740679667128,
          0.1878639511485611,
          -0.450983187150292,
          -0.2745648840268338,
          0.21235640486087462,
          -0.08293651950992115,
          -0.6002772697154135,
          -0.13071939014444714,
          0.20710445673960712,
          0.3281430822030096,
          0.5172331754427096,
          -0.08314297544958953,
          0.09621293926966322,
          0.13054112064914114,
          -0.3379330395705941,
          0.016294769454282244,
          0.1234654138761545,
          0.07783670215372879,
          -0.2560901015168507,
          -0.1265166463705852,
          0.44540441905915934,
          0.09530747355865517,
          -0.7642699004492259,
          -0.21096898733231534,
          0.049608715409637655,
          0.10224392147207936,
          0.1463669173149747,
          -0.08630459656388377,
          0.19151385962255368,
          -0.2752034284443539,
          0.24436593910135526,
          -0.02380365384166744,
          0.23145019471014694,
          0.1356790936757337,
          0.3482075955709121,
          0.04445752181445115,
          -0.0902771908074262,
          -0.04712149165657612,
          -0.8980929711370793,
          -0.0782156214507105,
          0.008094143978373422,
          -0.045183284032046744,
          0.20579613956528517,
          0.29200517246580865,
          0.2849030600731807,
          0.14438673798252838,
          0.03267814873907526,
          0.8001530590574957,
          -0.33621569172602994,
          -0.18111416482034767,
          -0.139124278861223,
          -0.06430556898370285,
          0.4137187022646019,
          -0.3052483042318434,
          -0.3228785978661933,
          0.1482106368680194,
          0.04062528864901137,
          0.14492034976403556,
          0.042103097317606815,
          -0.06110037718973864,
          0.24796747486260212,
          0.42380972420257007,
          -0.25827716814184054,
          -0.05800452124388458,
          0.49529140787985143,
          0.09228404086070653,
          0.27002638890061126,
          0.14372787243705362,
          -0.14808046000401293,
          -0.02327725645293614,
          0.19458075471345898,
          -0.6731654348803804,
          1.421543259933092,
          0.6372490333475979,
          0.3327891365314262,
          -0.16938686375479428,
          0.8328649080057627,
          0.08800391533966746,
          0.46286610652094323,
          0.10389888898940822,
          0.10763958675071157,
          -0.14046003758888945,
          -0.4393236053114626,
          0.12561161043828928,
          -0.3742264648246941,
          0.15618867988083546,
          -0.24872183087013292,
          -0.08344703566753713,
          0.6671763754625732,
          -0.15742527769809142,
          -0.16661353692420114,
          0.14231442658048638,
          0.5004546456275256,
          0.1660601518719421,
          -0.09546612313307846,
          0.0264793174226002,
          -0.0989099816279693,
          -0.37865525572956565,
          0.14990434928274898,
          0.09767355402447211,
          0.47766532147582064,
          0.7216975033611804,
          0.07591719083999475,
          -0.04676538583438899,
          0.28559115793653345,
          0.3139126127112617,
          -0.35086141394250275,
          0.12731159676835613,
          0.09237284132576318,
          0.1234654138761545,
          -0.23038484737801657,
          0.3164007961732105,
          -1.275737263079583,
          0.1362808163835513,
          0.052262032826542355,
          6.815030574926586e-05,
          -0.6379553821979227,
          -0.13071939014444714,
          0.2912040769422159,
          0.26574169317451984,
          -0.0767603302248994,
          0.07697436799962952,
          -0.383529765347765,
          0.06286582587121758,
          -0.03355775482731299,
          -0.2374387445977225,
          0.1559451361183992,
          0.11831896662252256,
          -0.04050393083402458,
          0.07407145228442064,
          -0.4221368015046608,
          0.16643874661926472,
          0.3168030787288815,
          0.10775305191800204,
          0.5330209371863082,
          0.1071856936119995,
          0.12903118096303798,
          -0.0025065546472531506,
          0.02675800097662895,
          -0.03885305164764078,
          0.02536714684704909,
          -0.14845578711395266,
          0.11454088550649706,
          0.2042731300044433,
          0.0915856792066704,
          -0.01601654870239429,
          -0.1912631338157259,
          -0.8333437755627787,
          -0.08051079268253168,
          0.07669295551342142,
          0.024671746351445093,
          0.02283466221927578,
          0.3223425026090844,
          -0.2377713950404185,
          0.4960090986041469,
          0.10116591660418432,
          0.20987976542081044,
          0.1927746345843791,
          -0.6168787426897442,
          0.004586180623888265,
          0.3403623628749738,
          0.15226183403051058,
          -0.34745948687044037,
          0.020705099718582816,
          0.4658012690348532,
          -0.0902771908074262,
          -0.32573056602383593,
          -0.040036304469913374,
          -0.6521686640624711,
          -0.832148539268499,
          -0.051989911104722765,
          0.10927249009719449,
          0.5795860246927247,
          -0.17189087655145047,
          0.41136809488508447,
          -0.05124838485723659,
          0.4084280674578612,
          -0.4091081791383514,
          -0.6403987073772183,
          -0.3224298522045108,
          0.2912040769422159,
          -0.16284922353558157,
          0.14991322675407684,
          -0.6609816631749519,
          -0.08351659424626684,
          -0.32489158673305024,
          -0.10295059520908377,
          0.16848936382611052,
          -0.0462266477521767,
          0.14765112347372247,
          0.45210249259018237,
          0.1349528768621594,
          0.07852868805947047,
          -0.9479564966159489,
          0.6814857737719068,
          -0.152778780852427,
          -0.2026878303737731,
          0.6655626754616092,
          -0.8194462086458865,
          -0.10737150220400384,
          0.14847484944206907,
          -0.1937621009776274,
          -0.455831142497095,
          0.06412287241892882,
          0.1875047698046324,
          0.715364167682603,
          0.3644665781175832,
          0.4487993772348963,
          -0.4020859916958224,
          -0.152778780852427,
          -0.004869746589732964,
          0.11312029131833443,
          -0.038876016286502,
          0.13432282976553905,
          0.4896792957343639,
          0.6613547316493992,
          0.10193718700853528,
          -0.37515449447865623,
          0.06856514571774264,
          0.09449804016401242,
          0.04487476661337144,
          -0.24186579533686475,
          -0.11151876328305545,
          0.6976113600009314,
          -0.22556735262190006,
          -0.3591267267069312,
          0.49608555374180247,
          -0.1405510008077288,
          -0.06477886802221136,
          0.05470342959974066,
          -0.3026946478000675,
          0.08156108337369238,
          0.20778814394620188,
          -0.9030432729770561,
          0.04487476661337144,
          -0.4393236053114626,
          0.07146730323205903,
          0.13363273303311504,
          -0.4456774216403947,
          0.14968065932803742,
          0.08280869766626571,
          0.2575920263032818,
          -0.3654929934945705,
          0.14403330050799498,
          0.0013673387839785013,
          -0.019277190453216114,
          -0.5596986349301468,
          0.46577299751547196,
          -0.5902750158065196,
          0.14233320103183997,
          -0.34251118195844127,
          -0.5524335232193335,
          -0.001522552104490736,
          0.013968731976955745,
          0.8910258747798605,
          0.2669218101761453
         ],
         "yaxis": "y"
        },
        {
         "hovertemplate": "color=0<br>x=%{x}<br>y=%{y}<extra></extra>",
         "legendgroup": "0",
         "marker": {
          "color": "#00cc96",
          "symbol": "circle"
         },
         "mode": "markers",
         "name": "0",
         "showlegend": true,
         "type": "scattergl",
         "x": [
          1.0107275653758756,
          -0.18508155423719866,
          1.588336468187583,
          2.7909939502260794,
          0.2284019916986233,
          -0.20659563542619705,
          -0.16121205305818714,
          0.41976069039960223,
          1.472007501063008,
          0.4569507198239724,
          -0.3509089893307418,
          -0.1220098256470836,
          1.293680355226659,
          -0.22104929178282468,
          0.4322369009753364,
          1.1159015618828652,
          -0.19428749784985722,
          -0.03498315938823922,
          1.0462370207839728,
          -0.19422108053346437,
          1.4468258658025506,
          0.6679636098481875,
          0.6873377644282381,
          1.0315076881409235,
          2.1979476066414714,
          -0.1101692765628147,
          0.5560654167564918,
          -0.298384742532705,
          0.42992186166106056,
          0.057390979164501546,
          2.2839088722458287,
          1.000292339840457,
          0.19048031572214028,
          0.05928735088472787,
          -0.10558032345190338,
          0.8420178741919442,
          0.8169206991069984,
          0.6076787256246173,
          -0.039470071558002855,
          0.47448098885468554,
          -0.3491981566133465,
          0.6465132340950669,
          1.4429893589629066,
          1.9078464226281187,
          1.1133514139285285,
          0.44567171025660596,
          2.088486748635421,
          1.4273172353914527,
          0.47831302202912285,
          0.36479842286559927,
          -0.07431445482170493,
          1.0755137829665231,
          1.8914412719598954,
          2.841418687255056,
          0.9609237600014375,
          -0.15267124618897063,
          2.017909940317386,
          1.0460120799259915,
          0.3680333085261238,
          1.274984023470978,
          0.46683849279354195,
          0.7698317464562923,
          1.0310444937025434,
          0.14416024254651957,
          0.8353729589577388,
          1.2227758798333008,
          2.0452895669950064,
          1.2697971336571918,
          0.5742747591182465,
          0.40911396301682806,
          0.061225849611883494,
          1.5140134919110133,
          0.9630789609489445,
          1.0008561937944285,
          0.46683849279354195,
          0.08432229851512309,
          0.9037547775456195,
          0.8296700598743504,
          0.7714747301684576,
          0.2267032553268543,
          0.1130753371168838,
          1.0614612347435803,
          -0.3548288759738017,
          0.1468529596341376,
          0.5120546826648394,
          1.7454005641039947,
          1.7335141870408344,
          0.7452301818078044,
          1.5572995263819693,
          0.5074002634869166,
          0.3274439333733849,
          1.9398617458136267,
          0.7684380253080016,
          0.7382946368763454,
          0.6963658679428149,
          -0.041317334709626445,
          -0.2129046344262771,
          0.6437305147939497,
          0.3664186151812488,
          1.5563291968841342,
          1.8840660438673242,
          -0.211286247635839,
          1.3017544418181963,
          1.535354340835533,
          0.5049566348823776,
          0.3224662912275673,
          1.3572739688564452,
          1.3889214233614497,
          1.656974423128895,
          -0.05149494943544243,
          1.5775121361257483,
          1.1794547773765804,
          1.7101118207174015,
          2.1328928613664915,
          0.7750560833003973,
          1.4097856540089835,
          0.28241822971319125,
          0.579607156301105,
          0.6977283533251667,
          0.10968012938819435,
          0.607782748347066,
          0.7601564280291476,
          0.9907026530439291,
          1.9300580331480472,
          0.2870287403105717,
          0.1267443843950105,
          1.5882372959925473,
          0.07977028605341424,
          -0.06335489237496018,
          1.0382413951917184,
          0.8169206991069984,
          0.4432443400554331,
          0.8204905353161527,
          -0.11135844800304998,
          0.03183533108120965,
          2.1936571224929384,
          0.8970673732434897,
          0.7295274000503505,
          2.198450616208764,
          1.26362765636286,
          0.33576182335390575,
          1.1896401823857008,
          0.9872607212881441,
          2.8069696249562686,
          1.7700141875473423,
          1.1895068752723568,
          0.13612565279858413,
          1.0659772301705122,
          -0.37610854483321876,
          2.092702300075539,
          0.09882238083267514,
          -0.27712700186451106,
          1.0354106559790166,
          2.5634859691976395,
          1.0620828448462623,
          -0.014627823492888057,
          0.7041906172718927,
          -0.16121205305818714,
          0.06052961910822182,
          0.5990929222238063,
          -0.06929540153603415,
          0.4092938580748815,
          0.8060532622127441,
          0.9112319417339649,
          1.4911757084452715,
          0.7980347868957799,
          1.6604824700208196,
          1.7159280796569871,
          1.3017544418181963,
          0.7820128054935324,
          0.02354544732986727,
          0.8116142865552405,
          0.7024752101081854,
          0.4871038401156444,
          0.9703300527360675,
          1.705374069564648,
          0.19017073501054685,
          1.27501219453212,
          0.6493938640757235,
          0.3664186151812488,
          1.3417933921273335,
          0.36679676182987264,
          -0.08860491037327729,
          1.1592987254781737,
          1.1851990211333814,
          0.5830235779806671,
          1.3467627265625026,
          0.7135258713573597,
          -0.08552620345531187,
          2.5321501169065352,
          1.9736259638059046,
          1.9398617458136267,
          -0.39612786778729797,
          1.3018677079793683,
          0.47620431168420885,
          0.08125621013931256,
          1.3721688184935126,
          0.5407824582038219,
          1.0724175378586078,
          1.9306231512823853,
          0.4569507198239724,
          1.8908769690802207,
          0.5595456521828478,
          0.9984152032107799,
          1.705374069564648,
          1.3769367956671106,
          0.9118568105792308,
          1.3556601171555065,
          0.2003005855877131,
          1.9614832176678014,
          -0.15030065598789746,
          1.2271406981540747,
          0.187908827620634,
          1.0043450918971721,
          0.3620259055605316,
          0.7794613978737235,
          0.7412535002623561,
          1.646989131557953,
          -0.019963359181300967,
          0.7664773267948366,
          1.1165949977354137,
          0.42697379152071924,
          0.8879490887229947,
          0.24157759769469675,
          -0.21468350081681326,
          2.5634859691976395,
          1.7075877622957343,
          2.004627825576217,
          0.4528737668727763,
          1.3909955352908117,
          0.7970913473045959,
          1.94176811195627,
          0.1619919584446757,
          -0.2514612434877173,
          -0.20659563542619705,
          0.5568839003961988,
          1.271455533697516,
          -0.027074624832723344,
          0.42147468092382995,
          1.7711794150169855,
          0.8472400797921129,
          1.2674613785553026,
          -0.05252750307028819,
          0.31127635591317426,
          1.4822638554699004,
          1.9476081119552018,
          1.7239304829930322,
          1.180781698609826,
          0.6051841358040553,
          0.08882941840355198,
          1.3080313897241382,
          0.9379053627916443,
          2.092702300075539,
          1.6662701641239328,
          0.6605528800364053,
          1.9614832176678014,
          2.010526575184448,
          0.6273594001716479,
          0.7164401198269991,
          1.6680234515505337,
          0.48458144423419874,
          0.5475615761862296,
          0.7717556449782321,
          0.9026954393503597,
          0.019025863177462563,
          0.6454266114884802,
          1.0981335577185773,
          -0.2821083946415308,
          0.406261207289091,
          0.2498441067998132,
          1.3405215397445087,
          1.3906640196640123,
          1.0755137829665231,
          2.3976236921643816,
          0.39240833032835515,
          0.9968727371781247,
          0.6800690289892959,
          1.4458182210163388,
          0.8535214198937142,
          1.5532775263689125,
          0.2863990868120249,
          0.9895678903312924,
          0.3825164084857358,
          -0.28356878431713384,
          0.9021316528760246,
          1.5471190586693622,
          0.642267280753662,
          1.7810078355716503,
          2.610891114763349,
          0.5244037129445849,
          2.578710562922832,
          0.3273007094919875,
          -0.11643177179767102,
          1.6291533463482626,
          1.2927842165070014,
          1.0611476314445185,
          1.058148544399073,
          0.9872607212881441,
          0.7699423056330511,
          0.9846804726536883,
          0.5910548347011197,
          1.089281303435711,
          -0.18554649715506338,
          0.9275396683988288,
          2.1466546851283335,
          0.1551093379381687,
          -0.27895396336370465,
          0.7543283017433596,
          0.7003635400118323,
          0.057390979164501546,
          1.4051202396614408,
          -0.07087786055248203,
          0.736650351193445,
          1.5466127681827397,
          -0.07087786055248203,
          -0.28771137255255597,
          0.9917142436855516,
          -0.24321964402797072,
          0.5255521953972985,
          0.3746101112570278,
          1.4079971315242965,
          1.0008561937944285,
          0.7473835223610265,
          1.2708796582650914,
          0.8018509250288731,
          -0.22104392573217857,
          0.29427115018398725,
          1.3875172948379453,
          -0.15399762325489166,
          0.5370561204337125,
          1.180458276102341,
          0.3272830328022187,
          0.44586466811052505,
          0.8393100519509741,
          0.9115891903039531,
          0.4416396350718588,
          1.8783202340667275,
          0.5987497366694926,
          0.727867694014256,
          1.1592987254781737,
          0.8648035943206624,
          0.6325688773674977,
          0.6108692235699618,
          0.023520482879280494,
          1.120085296460567,
          2.1488725263738107,
          1.563137762848347,
          0.4169473439956855,
          0.6282857554229399,
          0.5541563786118561,
          0.6849368243556082,
          0.39478457718979587,
          1.644313996051229,
          0.7891870909371711,
          1.6707292659615287,
          -0.18927830792497652,
          0.35199086051573875,
          0.01626683250888266,
          -0.2344787036008694,
          0.12140191240094039,
          2.7648815737873966,
          -0.18266809525755834,
          1.0680366893525952,
          -0.34289494228091616,
          0.642267280753662,
          0.11389447164400533,
          1.4866737272236858,
          0.4241108249968362,
          0.30435041403081736,
          0.4384715180951431,
          -0.003084305808411942,
          0.7009847377043785,
          0.26627945118581453,
          1.0008561937944285,
          0.19060837788607546,
          0.24157759769469675,
          -0.07899839685216037,
          0.6754455980755482,
          0.3888077499549572,
          1.459317436928736,
          1.5563291968841342,
          1.7336984929459387,
          0.23045186837142764,
          1.9942998068252735,
          0.5549557358774219,
          1.5822387773083069,
          -0.2988954652552163,
          0.3156806241388855,
          1.1239207285175183,
          -0.3139798379391747,
          1.7510524448939853,
          0.3277464530673626,
          0.5990929222238063,
          0.5810540971345944,
          2.7143270279844893,
          0.38659193931234576,
          0.41684603405799314,
          1.6184946105760203,
          1.6814122067457622,
          0.09478587548500342,
          0.3303656500230273,
          0.8489390484942166,
          0.37650488328439574,
          0.1747518522862477,
          0.6323407570025062,
          0.4288489431248554,
          1.3405215397445087,
          0.406804063143528,
          0.02039734785882431,
          1.2605360230000955,
          0.1861975779761851,
          0.5700615204127591,
          0.9740954285319645,
          0.005772706235099761,
          0.4811976446526176,
          0.7069250219171933,
          0.453146659127186,
          0.7024752101081854,
          1.5334852108243413,
          0.7276915292387247,
          -0.18491084440302022,
          0.9902029631371897,
          1.588336468187583,
          1.1513986806937757,
          1.0462370207839728,
          0.014738643203057617,
          1.3799407294602521,
          0.8335622695497883,
          0.11227080103675256,
          1.9720339900076553,
          1.4745105524134106,
          0.1773819534329829,
          0.9139686283320372,
          0.07307636102463283,
          0.9703300527360675,
          0.004156197013540436,
          0.07666318721243565,
          2.4918018648410336,
          0.10004514471353612,
          0.5995370890146821,
          1.5477144713807023,
          1.5726046941924907,
          0.6465576080040808,
          0.9390055273725989,
          -0.05413199296903658,
          0.7798052645325182,
          0.09638345812862754,
          1.4911757084452715,
          0.16835487838438423,
          1.3439564767551007,
          0.1701909550549126,
          0.46205416535735466,
          0.5895211902386344,
          1.3289714527963972,
          -0.31730316222084465,
          0.6741784429958301,
          1.6332979560957304,
          0.3825164084857358,
          0.8610767793463642,
          0.5400350715908498,
          0.9740954285319645,
          -0.1295708045314724,
          0.2003005855877131,
          1.2369120243392335,
          -0.08027186443976335,
          1.4273172353914527,
          1.6900775370109076,
          0.5742747591182465,
          -0.014627823492888057,
          0.26577926778510097,
          0.6126466820847788,
          0.14864378790214625,
          1.188526653310388,
          1.249096682949307,
          0.9021316528760246,
          0.5006013562987865,
          0.9588445635977302,
          0.6100515908689611,
          -0.2776555832690942,
          1.0315076881409235,
          0.17349809290244503,
          0.4288489431248554,
          0.07845375795279262,
          0.7936315852842675,
          0.7023245872641571,
          0.6118462819769669,
          1.4015073540375889,
          2.1332140416716237,
          0.3304675950555646,
          0.8648035943206624,
          1.2231145026684258,
          0.5283533251291388,
          -0.3250238177367755,
          0.7842070941549476,
          0.05681324621044536,
          0.8336221175653343,
          1.2305607761215052,
          0.11288644780947854,
          -0.09197128448958275,
          1.3527237617019374,
          1.1654369020309499,
          1.914570664500135,
          1.6927950912727656,
          1.0520071462461342,
          0.8581191563414573,
          -0.026144798873710972,
          0.7828641851956761,
          1.3080313897241382,
          0.15025720830837447,
          1.1311646424714805,
          2.1559397202507657,
          0.5074002634869166,
          0.5069572390522377,
          -0.06272366516037513,
          -0.16260822931373387,
          1.9328135354449856,
          0.33657520256944495,
          1.131977975697396,
          2.386621522464647,
          0.8390236096447885,
          1.5179713757078752,
          0.5036494078149852,
          0.08437624213854542,
          0.27081739557725,
          1.1635163152222223,
          -0.10508365915318585,
          -0.41233349184083085,
          0.1955900051024005,
          1.8008750854379958,
          1.1484313787635763,
          2.493094181336203,
          0.31462535177267403,
          0.4657020469405047,
          1.4048499045214211,
          -0.008911319328744538,
          1.5313664840347418,
          0.2341083811428834,
          0.7711602510559813,
          -0.08430143240674118,
          0.007848514143571378,
          1.0363457878043134,
          1.619351921068202,
          1.5334852108243413,
          1.441234154041974,
          1.9942998068252735,
          0.7024752101081854,
          0.8592970129970485,
          1.7811764055988142,
          0.6662085333977064,
          0.09311659481910588,
          -0.1962699066756883,
          1.6814122067457622,
          0.6977283533251667,
          -0.11944361019043298,
          0.31462535177267403,
          3.5095136908776468,
          1.655332471367977,
          0.8970673732434897,
          1.2445238001516306,
          0.4834575297057203,
          0.4310229850950468,
          0.7305764245416575,
          0.8195216516897217,
          0.5780320943788114,
          1.8080359502786212,
          0.47831302202912285,
          2.225868129515723,
          0.7815994744334398,
          0.5458223759670391,
          0.15202810037679265,
          1.7767139161305185,
          -0.042539899211802124,
          2.597984980149276,
          2.9927110358419378,
          -0.08881526861752395,
          1.4158248336847779,
          2.550370124851795,
          0.04896362498807811,
          0.923747379291699,
          0.9843560219784169,
          2.595995087327106,
          0.18120550108675085,
          0.2508751794368092,
          0.5583911064291815,
          0.7962990540653446,
          -0.12226607078237518,
          0.30435041403081736,
          0.16950844483249103,
          0.001694679220591722,
          0.1917398629700393,
          2.241810315471163,
          0.8343880763682386,
          1.0467756780389958
         ],
         "xaxis": "x",
         "y": [
          0.029267402872449503,
          0.9308714248982685,
          0.8926253848152013,
          -0.5474610913322273,
          1.0612679793046582,
          0.9002361436658565,
          -1.2007052573020656,
          0.8846377698357932,
          0.9228142935640051,
          -0.6594190457375301,
          0.2534625633892721,
          0.987465918605283,
          -1.6160028646634201,
          1.1121237393256262,
          -0.6224084243934561,
          -0.5979437050339073,
          0.8290199883389301,
          0.27148417979002637,
          0.1619486699651605,
          -0.3238250001594292,
          -0.25425746786445524,
          -0.4230917004300861,
          0.7119227815840079,
          0.1593764263301542,
          0.6576223515760348,
          0.07241153615761192,
          1.0428078027585188,
          -0.3747502491174919,
          -2.1407290902030423,
          -0.025595202423895874,
          -0.8513792086699119,
          -1.8230251291439317,
          1.109831885726632,
          -0.419902401650629,
          0.46026695955310115,
          -0.9372538471610615,
          0.6560169952929419,
          0.6213527119938571,
          -1.7975023490673825,
          0.28838813081792863,
          -0.8283869295532795,
          0.21436366111672006,
          0.9857822997133665,
          1.3612217795847559,
          1.5933036911083125,
          -0.2777959753567231,
          -0.3688773066091165,
          -0.9526646381254263,
          -0.8943066214086771,
          1.0930735977855977,
          0.5052103424539615,
          0.39837673760251585,
          0.744707362480311,
          -1.2511268753737819,
          1.3266666230894857,
          -0.9081952728090665,
          1.7819835283552796,
          0.6904983161062993,
          1.131738605786581,
          0.0863374933683786,
          -2.031154769946011,
          -0.1298546017559488,
          0.8917786035013978,
          1.119702768284841,
          0.2714570858904941,
          -0.9615905281668453,
          -0.6000672293582794,
          1.0134533017296887,
          1.1123034708175696,
          0.9746816557683088,
          1.1352031689989157,
          -2.0203983023574565,
          0.3914887815450779,
          -0.8527599115628925,
          -2.031154769946011,
          -0.12903954310383575,
          -1.4559789674317873,
          0.9937286886184316,
          0.40656268910039733,
          0.7448152524281253,
          0.6048907732779005,
          1.5525314620986148,
          0.9426041807764913,
          -0.21188440552891316,
          -0.2633723624281271,
          0.06381864088150935,
          -0.6394591100907501,
          1.2835806558580143,
          0.9377829613307687,
          0.9288784729046301,
          1.233539331781407,
          0.04896440955740696,
          1.5322335947648569,
          1.4615600952610321,
          0.8729769765653113,
          0.49009769660825503,
          -0.22697460100338535,
          -1.405284842441284,
          0.5992510708773773,
          0.049844161898459985,
          -0.9430195520315724,
          -1.0330982100240247,
          -1.3699049876352385,
          0.35591623931166283,
          0.1236594180155694,
          0.3311770179712391,
          1.4521897644768362,
          -0.32115399139910705,
          1.3013416287056023,
          0.4765518670096972,
          0.7354546323854569,
          0.8947614553706124,
          -2.0449007310121896,
          1.8703506375489214,
          -2.3172843187504757,
          -0.24358385526488494,
          0.8943181979039819,
          0.480899979263088,
          0.33552517882796423,
          0.2574571757701791,
          1.1749086654570005,
          0.08705828947656166,
          1.6508414328976244,
          1.8541475363895559,
          0.14320503877710275,
          1.0848379180634327,
          -1.1621506311173546,
          -0.48319102868370417,
          -1.3152197906011929,
          0.4988470144917404,
          0.6560169952929419,
          -0.3628672541343817,
          -0.85964791842121,
          0.6110376797619471,
          0.7747042346650156,
          1.833247676123399,
          1.1596048856709662,
          0.4060459119323946,
          -1.0514805600037473,
          -0.4295222598612061,
          -0.23256718984085753,
          -0.7015596068268932,
          -0.04324306295499129,
          -1.0397623756483694,
          1.0708656590940586,
          1.6300819541338887,
          -0.8361839453159595,
          0.72310226946085,
          -1.0346478321144381,
          2.5634307927259923,
          -0.10304694983659801,
          0.44018334584821295,
          -1.4512342614819,
          1.760626460488768,
          0.4762658013943901,
          -1.3553373968774767,
          1.242780742302686,
          -1.2007052573020656,
          0.5641917372434463,
          -0.3822552515338712,
          0.30162359350177004,
          -0.01088488864925243,
          2.3002911076215926,
          0.6214469627169558,
          1.2236859255603938,
          0.3494407590600599,
          0.34974675162925817,
          0.06414989409116707,
          -1.3699049876352385,
          1.1304168029471877,
          -1.599001431809626,
          -1.4373560958431895,
          1.212574121608575,
          2.100520518090026,
          0.43938747986503507,
          -1.7297610647961326,
          -0.4145412760488006,
          -1.2810040275019305,
          -0.06425869499032989,
          0.5992510708773773,
          1.1717458613472587,
          -0.4762483890439915,
          0.8162395861048418,
          -1.0961226828298753,
          0.578300179177778,
          -0.3235614131261371,
          1.5495794626093704,
          0.7569877656878587,
          0.6843714452338537,
          -1.9490217649939994,
          2.021773666076414,
          0.04896440955740696,
          0.24947262980974858,
          -1.6197546909693112,
          -0.04782123877759711,
          0.13518610404940118,
          -1.401308874939487,
          1.471421777748798,
          -1.3979679698196736,
          -1.5793915673618741,
          -0.6594190457375301,
          1.3515938309705497,
          1.1191309489828352,
          0.434146841433823,
          -1.7297610647961326,
          -0.6057407745869485,
          1.3613476023862305,
          -1.0139444522722603,
          0.9567432475033094,
          -2.436592954984823,
          -0.004566177443873063,
          -0.5137640027350616,
          -1.1516687562938195,
          -2.4983525220053915,
          -1.5547751640294027,
          1.0093397299727087,
          0.35390996856043,
          -1.6894477804704007,
          0.6075445324591531,
          1.2516206551820528,
          -0.9034263446655612,
          0.4459993564952444,
          -0.5065009069605444,
          0.37494534191022494,
          0.3758036476512727,
          1.760626460488768,
          1.2242952020332285,
          2.1098953919845593,
          -1.4244137143715756,
          -1.0968830524575959,
          -1.6617285336047949,
          -1.6671154954772316,
          0.12161402894199252,
          -1.106616735277504,
          0.9002361436658565,
          -0.4872705301536956,
          1.1690009631375466,
          -1.1625620550357119,
          -1.6080310200166843,
          2.071877461899501,
          0.3970407074980886,
          -1.1760977372855608,
          -0.8611581487974302,
          -0.5320638744425499,
          0.4706506648159366,
          -1.4076801425950507,
          -2.541508684836726,
          -1.3999453916024351,
          0.5154529602134862,
          -0.9204143663419659,
          -1.367689986732238,
          0.8635958267383691,
          2.5634307927259923,
          0.4655368942049293,
          0.37459339578418577,
          -2.436592954984823,
          1.495096566659843,
          -0.7091402945396721,
          0.35311291505316594,
          -1.305156564969941,
          -0.9288037501529371,
          0.8927760928479571,
          -1.422137539005152,
          0.45616038145953575,
          -1.4352558192601417,
          -0.7095791083893015,
          -0.4999678709419324,
          0.22324706758167,
          -1.170767863933119,
          -0.4784794904891699,
          0.7901149824562346,
          -1.8573725109146806,
          0.39837673760251585,
          1.3389317733953323,
          0.5702096531654024,
          -1.9908798333281983,
          0.09565496039982235,
          -0.1188670320850945,
          -1.0160375128695647,
          0.4084549773782163,
          -1.148999447593217,
          -2.416221809758878,
          -2.714436770697779,
          0.37446879042303416,
          1.0591996755469728,
          0.7484947301491873,
          1.0498718193119476,
          -1.686078703419119,
          -0.7386734182113971,
          1.1063824794440074,
          -1.715978405327795,
          0.18073431428624845,
          -1.3065870166450297,
          0.9727062888594308,
          -0.9214661540877075,
          -1.115075853541119,
          -0.5804618493808869,
          -0.04324306295499129,
          0.9670781114889718,
          0.4328746908072488,
          0.3513872459614598,
          1.7573958454463614,
          0.7091327462302022,
          0.7822547608368451,
          -0.6723821786791944,
          -2.3535909745377883,
          0.2837591751937902,
          0.5196273322185054,
          0.2906572159505223,
          -0.025595202423895874,
          -1.025458052330888,
          0.49678356300340737,
          0.5909966605361844,
          0.5999620252430624,
          0.49678356300340737,
          0.8659213102755844,
          -0.23111002952882043,
          0.2942436743931112,
          1.1290775061401312,
          1.1412178990336819,
          0.9957095803291507,
          -0.8527599115628925,
          1.4207674110878101,
          0.18867093741752938,
          -0.9168496023197534,
          0.47861649144915397,
          -0.09944120811345943,
          0.17828274635138505,
          0.23832805378714766,
          0.4293011854274679,
          1.3520185471539028,
          0.4189287738803134,
          0.6375912857505209,
          0.04146023678232756,
          -0.070579093645795,
          1.086914167336158,
          1.0806319685068253,
          0.9317416688137571,
          0.17534236084738003,
          -1.0961226828298753,
          -2.1157248829675273,
          -1.0466700273935845,
          0.39919023297364026,
          -0.1297855010522588,
          0.664974235909093,
          -2.027651341127887,
          -1.1956493326553344,
          -2.7639213183594693,
          -1.3422005723610035,
          -0.2838613711824971,
          2.0882154240563984,
          0.361884944167023,
          1.6846898886045436,
          0.9055037098613888,
          -1.2843106596292064,
          1.06986753032917,
          0.41823936892360203,
          -1.0995987790097512,
          -0.8725024309509675,
          -2.2707333153240485,
          -1.2484260173448138,
          -4.247070522141365,
          0.47822194700659604,
          -0.9791386669993609,
          1.0498718193119476,
          0.6399446444615308,
          1.8276694555378281,
          0.17534241253713395,
          -0.6176103244050836,
          0.36557546545321784,
          0.8569648199700654,
          -0.1626989776825445,
          0.8830628732730179,
          -0.8527599115628925,
          -1.4088697378232038,
          0.37494534191022494,
          0.4286691782225579,
          0.7246404599710746,
          -0.9626043121657208,
          -2.995812603843021,
          0.049844161898459985,
          0.5835189375436208,
          0.3686517450705704,
          -0.8048483150490892,
          0.3197334628303154,
          1.2912151640437302,
          0.9126663986330524,
          0.11779083972552636,
          -2.467166797158299,
          0.1323680237692021,
          -1.076436598397658,
          0.9054476154073005,
          -0.3822552515338712,
          0.8852742499908051,
          0.1973672659444278,
          0.5016911009643499,
          0.7164544881191454,
          1.092522085988459,
          0.16887174769094804,
          -1.313849934597357,
          -0.5135639928549571,
          0.8082304403019276,
          0.9135392567517641,
          -0.6267431864486716,
          0.49136785190600657,
          -0.10882088750840385,
          0.7901149824562346,
          -0.08471931038922055,
          0.7645013226944716,
          0.8797405930230573,
          1.2922296886727258,
          1.5157907530513508,
          0.4817880445942098,
          0.5684158574877625,
          -0.14035778966972914,
          -0.18067667336416282,
          0.954300801738827,
          1.212574121608575,
          -1.0519877295787814,
          1.4633876765042555,
          0.4582446171334204,
          0.5281227880522301,
          0.8926253848152013,
          1.5632384571162963,
          0.1619486699651605,
          -0.33928862814673955,
          0.7409485471815817,
          1.1945921847000027,
          0.15250895726054886,
          0.5764446859725952,
          -1.8763421225707242,
          -1.1764805074502929,
          -0.2386590793576313,
          -1.2025510174459346,
          0.43938747986503507,
          0.6266908392112617,
          -0.5134965430855433,
          -1.4026943040228947,
          -0.29987562255480277,
          -0.32363362850920924,
          -0.8032622021547292,
          1.337879301966119,
          0.16344265694970295,
          -1.6765412208476433,
          -0.26224276773986105,
          0.151064614521961,
          0.9541473171008815,
          1.2236859255603938,
          0.39473535886138295,
          -0.6676326477604592,
          -0.6812292808994613,
          0.19337980614046507,
          1.1338091455014885,
          -1.5226690270939829,
          0.8435741179122305,
          1.2659924599258128,
          1.1200649232177706,
          -2.714436770697779,
          0.5462367622096229,
          -0.6314056879735572,
          0.4817880445942098,
          0.5896018222561293,
          0.9567432475033094,
          1.1496168515472476,
          0.962485182693482,
          -0.9526646381254263,
          -1.6150890629919246,
          1.1123034708175696,
          -1.3553373968774767,
          0.18254648153129013,
          -0.6552389661340307,
          -0.44956851524350705,
          0.4205759551116992,
          -0.11141686390634678,
          1.0591996755469728,
          -0.3139514490855272,
          0.9246994757449949,
          1.0276894355384858,
          -0.36256696750532297,
          0.1593764263301542,
          0.9904433350379193,
          -0.10882088750840385,
          -4.670375100212572,
          -0.7152491646481614,
          1.2149278033379312,
          -0.17068070233170693,
          -1.7624766981421913,
          -3.1062439409741343,
          0.538950722667353,
          -2.1157248829675273,
          -0.07410013887177047,
          0.4608590717931278,
          0.2686721045787382,
          1.617442270442668,
          -0.6965529820008721,
          0.6416746178419647,
          -0.020843738381448883,
          0.07345887350094374,
          0.7260989579119267,
          -3.45898298357525,
          0.3805589837337304,
          0.9096088960419879,
          1.4137682102764053,
          -0.625310577362082,
          0.39082386979816847,
          0.7609853320267235,
          0.10913592947702092,
          -1.367689986732238,
          -1.319977950983036,
          -2.0542935431509384,
          1.50734132382036,
          0.9288784729046301,
          -0.43707739036669213,
          -0.1384513830357365,
          1.0011111292457036,
          0.24248625561378487,
          -0.36996917919575933,
          -0.5215163309576626,
          -0.3696735643479931,
          -0.5824010861295306,
          1.8172599198967454,
          0.6644025266435485,
          -5.232701527192716,
          -1.5144007789780112,
          0.4469263567761793,
          -0.35043348048707723,
          -0.8421790157973146,
          0.65793838187621,
          1.0795390903748394,
          1.3610115700714276,
          -1.8903179559474867,
          0.24839571928949683,
          0.873480317941722,
          -1.1674565149773568,
          -1.9303615252326725,
          0.11713431952302258,
          0.3069702211492333,
          -1.799210565038709,
          -1.6199203532891515,
          -0.6223470491241958,
          0.5921518884502737,
          1.390644748373125,
          -1.0519877295787814,
          -1.7073984524085128,
          -0.8048483150490892,
          1.212574121608575,
          -0.4902196091577039,
          1.8468954078099884,
          0.06392307077983067,
          0.14304892550565376,
          -0.7661888777100244,
          0.16887174769094804,
          0.33552517882796423,
          0.22076082814566853,
          0.24839571928949683,
          -0.6783223712018113,
          0.5410718591536428,
          1.1596048856709662,
          1.225174385606699,
          -0.822874649633893,
          -0.31774815707204096,
          -0.8998409678228688,
          0.43731792761737476,
          1.1488548191174381,
          -3.502320610127843,
          -0.8943066214086771,
          1.8589519205337095,
          1.488469839551958,
          2.15110372466092,
          0.8342083179715011,
          0.06042127367933821,
          0.9366797162161393,
          -0.8564258469562905,
          -2.4339525633598287,
          0.7816991391229462,
          -0.4984514355277993,
          -2.549181910404031,
          0.8195345738023787,
          -2.9194121158959967,
          0.1714400373803902,
          -1.1080229440933553,
          -0.8121028370463514,
          -1.6895568198663737,
          0.04117748732455963,
          0.06452865479081173,
          0.6219607696946721,
          -0.6176103244050836,
          0.23139335993113433,
          -0.5468286773986574,
          0.7965099946568795,
          -2.6537904283680587,
          0.9498179157344144,
          -0.05870836041302487
         ],
         "yaxis": "y"
        }
       ],
       "layout": {
        "autosize": true,
        "legend": {
         "title": {
          "text": "color"
         },
         "tracegroupgap": 0
        },
        "template": {
         "data": {
          "bar": [
           {
            "error_x": {
             "color": "#2a3f5f"
            },
            "error_y": {
             "color": "#2a3f5f"
            },
            "marker": {
             "line": {
              "color": "#E5ECF6",
              "width": 0.5
             },
             "pattern": {
              "fillmode": "overlay",
              "size": 10,
              "solidity": 0.2
             }
            },
            "type": "bar"
           }
          ],
          "barpolar": [
           {
            "marker": {
             "line": {
              "color": "#E5ECF6",
              "width": 0.5
             },
             "pattern": {
              "fillmode": "overlay",
              "size": 10,
              "solidity": 0.2
             }
            },
            "type": "barpolar"
           }
          ],
          "carpet": [
           {
            "aaxis": {
             "endlinecolor": "#2a3f5f",
             "gridcolor": "white",
             "linecolor": "white",
             "minorgridcolor": "white",
             "startlinecolor": "#2a3f5f"
            },
            "baxis": {
             "endlinecolor": "#2a3f5f",
             "gridcolor": "white",
             "linecolor": "white",
             "minorgridcolor": "white",
             "startlinecolor": "#2a3f5f"
            },
            "type": "carpet"
           }
          ],
          "choropleth": [
           {
            "colorbar": {
             "outlinewidth": 0,
             "ticks": ""
            },
            "type": "choropleth"
           }
          ],
          "contour": [
           {
            "colorbar": {
             "outlinewidth": 0,
             "ticks": ""
            },
            "colorscale": [
             [
              0,
              "#0d0887"
             ],
             [
              0.1111111111111111,
              "#46039f"
             ],
             [
              0.2222222222222222,
              "#7201a8"
             ],
             [
              0.3333333333333333,
              "#9c179e"
             ],
             [
              0.4444444444444444,
              "#bd3786"
             ],
             [
              0.5555555555555556,
              "#d8576b"
             ],
             [
              0.6666666666666666,
              "#ed7953"
             ],
             [
              0.7777777777777778,
              "#fb9f3a"
             ],
             [
              0.8888888888888888,
              "#fdca26"
             ],
             [
              1,
              "#f0f921"
             ]
            ],
            "type": "contour"
           }
          ],
          "contourcarpet": [
           {
            "colorbar": {
             "outlinewidth": 0,
             "ticks": ""
            },
            "type": "contourcarpet"
           }
          ],
          "heatmap": [
           {
            "colorbar": {
             "outlinewidth": 0,
             "ticks": ""
            },
            "colorscale": [
             [
              0,
              "#0d0887"
             ],
             [
              0.1111111111111111,
              "#46039f"
             ],
             [
              0.2222222222222222,
              "#7201a8"
             ],
             [
              0.3333333333333333,
              "#9c179e"
             ],
             [
              0.4444444444444444,
              "#bd3786"
             ],
             [
              0.5555555555555556,
              "#d8576b"
             ],
             [
              0.6666666666666666,
              "#ed7953"
             ],
             [
              0.7777777777777778,
              "#fb9f3a"
             ],
             [
              0.8888888888888888,
              "#fdca26"
             ],
             [
              1,
              "#f0f921"
             ]
            ],
            "type": "heatmap"
           }
          ],
          "heatmapgl": [
           {
            "colorbar": {
             "outlinewidth": 0,
             "ticks": ""
            },
            "colorscale": [
             [
              0,
              "#0d0887"
             ],
             [
              0.1111111111111111,
              "#46039f"
             ],
             [
              0.2222222222222222,
              "#7201a8"
             ],
             [
              0.3333333333333333,
              "#9c179e"
             ],
             [
              0.4444444444444444,
              "#bd3786"
             ],
             [
              0.5555555555555556,
              "#d8576b"
             ],
             [
              0.6666666666666666,
              "#ed7953"
             ],
             [
              0.7777777777777778,
              "#fb9f3a"
             ],
             [
              0.8888888888888888,
              "#fdca26"
             ],
             [
              1,
              "#f0f921"
             ]
            ],
            "type": "heatmapgl"
           }
          ],
          "histogram": [
           {
            "marker": {
             "pattern": {
              "fillmode": "overlay",
              "size": 10,
              "solidity": 0.2
             }
            },
            "type": "histogram"
           }
          ],
          "histogram2d": [
           {
            "colorbar": {
             "outlinewidth": 0,
             "ticks": ""
            },
            "colorscale": [
             [
              0,
              "#0d0887"
             ],
             [
              0.1111111111111111,
              "#46039f"
             ],
             [
              0.2222222222222222,
              "#7201a8"
             ],
             [
              0.3333333333333333,
              "#9c179e"
             ],
             [
              0.4444444444444444,
              "#bd3786"
             ],
             [
              0.5555555555555556,
              "#d8576b"
             ],
             [
              0.6666666666666666,
              "#ed7953"
             ],
             [
              0.7777777777777778,
              "#fb9f3a"
             ],
             [
              0.8888888888888888,
              "#fdca26"
             ],
             [
              1,
              "#f0f921"
             ]
            ],
            "type": "histogram2d"
           }
          ],
          "histogram2dcontour": [
           {
            "colorbar": {
             "outlinewidth": 0,
             "ticks": ""
            },
            "colorscale": [
             [
              0,
              "#0d0887"
             ],
             [
              0.1111111111111111,
              "#46039f"
             ],
             [
              0.2222222222222222,
              "#7201a8"
             ],
             [
              0.3333333333333333,
              "#9c179e"
             ],
             [
              0.4444444444444444,
              "#bd3786"
             ],
             [
              0.5555555555555556,
              "#d8576b"
             ],
             [
              0.6666666666666666,
              "#ed7953"
             ],
             [
              0.7777777777777778,
              "#fb9f3a"
             ],
             [
              0.8888888888888888,
              "#fdca26"
             ],
             [
              1,
              "#f0f921"
             ]
            ],
            "type": "histogram2dcontour"
           }
          ],
          "mesh3d": [
           {
            "colorbar": {
             "outlinewidth": 0,
             "ticks": ""
            },
            "type": "mesh3d"
           }
          ],
          "parcoords": [
           {
            "line": {
             "colorbar": {
              "outlinewidth": 0,
              "ticks": ""
             }
            },
            "type": "parcoords"
           }
          ],
          "pie": [
           {
            "automargin": true,
            "type": "pie"
           }
          ],
          "scatter": [
           {
            "fillpattern": {
             "fillmode": "overlay",
             "size": 10,
             "solidity": 0.2
            },
            "type": "scatter"
           }
          ],
          "scatter3d": [
           {
            "line": {
             "colorbar": {
              "outlinewidth": 0,
              "ticks": ""
             }
            },
            "marker": {
             "colorbar": {
              "outlinewidth": 0,
              "ticks": ""
             }
            },
            "type": "scatter3d"
           }
          ],
          "scattercarpet": [
           {
            "marker": {
             "colorbar": {
              "outlinewidth": 0,
              "ticks": ""
             }
            },
            "type": "scattercarpet"
           }
          ],
          "scattergeo": [
           {
            "marker": {
             "colorbar": {
              "outlinewidth": 0,
              "ticks": ""
             }
            },
            "type": "scattergeo"
           }
          ],
          "scattergl": [
           {
            "marker": {
             "colorbar": {
              "outlinewidth": 0,
              "ticks": ""
             }
            },
            "type": "scattergl"
           }
          ],
          "scattermapbox": [
           {
            "marker": {
             "colorbar": {
              "outlinewidth": 0,
              "ticks": ""
             }
            },
            "type": "scattermapbox"
           }
          ],
          "scatterpolar": [
           {
            "marker": {
             "colorbar": {
              "outlinewidth": 0,
              "ticks": ""
             }
            },
            "type": "scatterpolar"
           }
          ],
          "scatterpolargl": [
           {
            "marker": {
             "colorbar": {
              "outlinewidth": 0,
              "ticks": ""
             }
            },
            "type": "scatterpolargl"
           }
          ],
          "scatterternary": [
           {
            "marker": {
             "colorbar": {
              "outlinewidth": 0,
              "ticks": ""
             }
            },
            "type": "scatterternary"
           }
          ],
          "surface": [
           {
            "colorbar": {
             "outlinewidth": 0,
             "ticks": ""
            },
            "colorscale": [
             [
              0,
              "#0d0887"
             ],
             [
              0.1111111111111111,
              "#46039f"
             ],
             [
              0.2222222222222222,
              "#7201a8"
             ],
             [
              0.3333333333333333,
              "#9c179e"
             ],
             [
              0.4444444444444444,
              "#bd3786"
             ],
             [
              0.5555555555555556,
              "#d8576b"
             ],
             [
              0.6666666666666666,
              "#ed7953"
             ],
             [
              0.7777777777777778,
              "#fb9f3a"
             ],
             [
              0.8888888888888888,
              "#fdca26"
             ],
             [
              1,
              "#f0f921"
             ]
            ],
            "type": "surface"
           }
          ],
          "table": [
           {
            "cells": {
             "fill": {
              "color": "#EBF0F8"
             },
             "line": {
              "color": "white"
             }
            },
            "header": {
             "fill": {
              "color": "#C8D4E3"
             },
             "line": {
              "color": "white"
             }
            },
            "type": "table"
           }
          ]
         },
         "layout": {
          "annotationdefaults": {
           "arrowcolor": "#2a3f5f",
           "arrowhead": 0,
           "arrowwidth": 1
          },
          "autotypenumbers": "strict",
          "coloraxis": {
           "colorbar": {
            "outlinewidth": 0,
            "ticks": ""
           }
          },
          "colorscale": {
           "diverging": [
            [
             0,
             "#8e0152"
            ],
            [
             0.1,
             "#c51b7d"
            ],
            [
             0.2,
             "#de77ae"
            ],
            [
             0.3,
             "#f1b6da"
            ],
            [
             0.4,
             "#fde0ef"
            ],
            [
             0.5,
             "#f7f7f7"
            ],
            [
             0.6,
             "#e6f5d0"
            ],
            [
             0.7,
             "#b8e186"
            ],
            [
             0.8,
             "#7fbc41"
            ],
            [
             0.9,
             "#4d9221"
            ],
            [
             1,
             "#276419"
            ]
           ],
           "sequential": [
            [
             0,
             "#0d0887"
            ],
            [
             0.1111111111111111,
             "#46039f"
            ],
            [
             0.2222222222222222,
             "#7201a8"
            ],
            [
             0.3333333333333333,
             "#9c179e"
            ],
            [
             0.4444444444444444,
             "#bd3786"
            ],
            [
             0.5555555555555556,
             "#d8576b"
            ],
            [
             0.6666666666666666,
             "#ed7953"
            ],
            [
             0.7777777777777778,
             "#fb9f3a"
            ],
            [
             0.8888888888888888,
             "#fdca26"
            ],
            [
             1,
             "#f0f921"
            ]
           ],
           "sequentialminus": [
            [
             0,
             "#0d0887"
            ],
            [
             0.1111111111111111,
             "#46039f"
            ],
            [
             0.2222222222222222,
             "#7201a8"
            ],
            [
             0.3333333333333333,
             "#9c179e"
            ],
            [
             0.4444444444444444,
             "#bd3786"
            ],
            [
             0.5555555555555556,
             "#d8576b"
            ],
            [
             0.6666666666666666,
             "#ed7953"
            ],
            [
             0.7777777777777778,
             "#fb9f3a"
            ],
            [
             0.8888888888888888,
             "#fdca26"
            ],
            [
             1,
             "#f0f921"
            ]
           ]
          },
          "colorway": [
           "#636efa",
           "#EF553B",
           "#00cc96",
           "#ab63fa",
           "#FFA15A",
           "#19d3f3",
           "#FF6692",
           "#B6E880",
           "#FF97FF",
           "#FECB52"
          ],
          "font": {
           "color": "#2a3f5f"
          },
          "geo": {
           "bgcolor": "white",
           "lakecolor": "white",
           "landcolor": "#E5ECF6",
           "showlakes": true,
           "showland": true,
           "subunitcolor": "white"
          },
          "hoverlabel": {
           "align": "left"
          },
          "hovermode": "closest",
          "mapbox": {
           "style": "light"
          },
          "paper_bgcolor": "white",
          "plot_bgcolor": "#E5ECF6",
          "polar": {
           "angularaxis": {
            "gridcolor": "white",
            "linecolor": "white",
            "ticks": ""
           },
           "bgcolor": "#E5ECF6",
           "radialaxis": {
            "gridcolor": "white",
            "linecolor": "white",
            "ticks": ""
           }
          },
          "scene": {
           "xaxis": {
            "backgroundcolor": "#E5ECF6",
            "gridcolor": "white",
            "gridwidth": 2,
            "linecolor": "white",
            "showbackground": true,
            "ticks": "",
            "zerolinecolor": "white"
           },
           "yaxis": {
            "backgroundcolor": "#E5ECF6",
            "gridcolor": "white",
            "gridwidth": 2,
            "linecolor": "white",
            "showbackground": true,
            "ticks": "",
            "zerolinecolor": "white"
           },
           "zaxis": {
            "backgroundcolor": "#E5ECF6",
            "gridcolor": "white",
            "gridwidth": 2,
            "linecolor": "white",
            "showbackground": true,
            "ticks": "",
            "zerolinecolor": "white"
           }
          },
          "shapedefaults": {
           "line": {
            "color": "#2a3f5f"
           }
          },
          "ternary": {
           "aaxis": {
            "gridcolor": "white",
            "linecolor": "white",
            "ticks": ""
           },
           "baxis": {
            "gridcolor": "white",
            "linecolor": "white",
            "ticks": ""
           },
           "bgcolor": "#E5ECF6",
           "caxis": {
            "gridcolor": "white",
            "linecolor": "white",
            "ticks": ""
           }
          },
          "title": {
           "x": 0.05
          },
          "xaxis": {
           "automargin": true,
           "gridcolor": "white",
           "linecolor": "white",
           "ticks": "",
           "title": {
            "standoff": 15
           },
           "zerolinecolor": "white",
           "zerolinewidth": 2
          },
          "yaxis": {
           "automargin": true,
           "gridcolor": "white",
           "linecolor": "white",
           "ticks": "",
           "title": {
            "standoff": 15
           },
           "zerolinecolor": "white",
           "zerolinewidth": 2
          }
         }
        },
        "title": {
         "text": "PCA Representation of Clusters"
        },
        "xaxis": {
         "anchor": "y",
         "autorange": true,
         "domain": [
          0,
          1
         ],
         "range": [
          -3.048236961402693,
          10.839627794688568
         ],
         "showspikes": false,
         "title": {
          "text": "PC1"
         },
         "type": "linear"
        },
        "yaxis": {
         "anchor": "x",
         "autorange": true,
         "domain": [
          0,
          1
         ],
         "range": [
          -6.511559902008615,
          11.542911271862899
         ],
         "showspikes": false,
         "title": {
          "text": "PC2"
         },
         "type": "linear"
        }
       }
      },
      "image/png": "[encoded data removed]",
      "text/html": [
       "<div>                            <div id=\"2f2c2187-d3ff-4d5c-8711-8c45c4937b45\" class=\"plotly-graph-div\" style=\"height:525px; width:100%;\"></div>            <script type=\"text/javascript\">                require([\"plotly\"], function(Plotly) {                    window.PLOTLYENV=window.PLOTLYENV || {};                                    if (document.getElementById(\"2f2c2187-d3ff-4d5c-8711-8c45c4937b45\")) {                    Plotly.newPlot(                        \"2f2c2187-d3ff-4d5c-8711-8c45c4937b45\",                        [{\"hovertemplate\":\"color=2\\u003cbr\\u003ex=%{x}\\u003cbr\\u003ey=%{y}\\u003cextra\\u003e\\u003c\\u002fextra\\u003e\",\"legendgroup\":\"2\",\"marker\":{\"color\":\"#636efa\",\"symbol\":\"circle\"},\"mode\":\"markers\",\"name\":\"2\",\"showlegend\":true,\"x\":[2.785843689755298,2.1378737051806747,1.4698809188803774,2.051359174315876,1.7060430276516805,1.1760573440725317,2.248856206536648,2.9318571298705387,2.135811159611525,4.040480952906133,4.256358519159561,1.6488029795905148,2.312008784613281,1.4578591077672658,2.7681839708648144,2.2422840020105044,2.1622237840464913,2.9414931227569983,3.6177072526931506,2.747294233276316,2.5440054558137275,2.427231932456537,1.721663545140889,3.283321177006111,4.737599154708201,1.4826919627420048,3.2390887406786453,2.6135173821212407,2.3031490798178282,4.029668276595301,2.1964375558483216,2.4150446418305616,2.5440054558137275,2.481256040031957,2.366601706898059,2.1815149483862353,2.392766362205588,3.068061220484401,2.912281738809731,1.3829740197793754,2.471921739113456,2.537201896556473,3.51861499786643,3.91030462908707,2.786077907679156,2.2991206358209375,4.18295902257762,2.8246849638651215,4.020388222939245,2.015165596950135,2.8798088637691497,1.6493145384122025,1.6791925997672024,2.421041341954854,4.66572403750253,2.304995042424551,1.9406005160208306,1.9676791267477873,2.7798578549112647,3.8797268098863285,2.2199546928576086,2.5069175247754987,2.7411247247559847,1.7237450754638806,2.4017230048404667,4.0237637143208005,2.5842110392506425,4.189401395490546,2.504764779254511,1.579360010127458,2.383780188166176,1.3846823742050642,2.32831802480419,2.93300701447314,3.2682281104138795,3.5098664744204844,1.8572846028058374,1.6073619817452158,4.288709485585059,2.386268520063367,2.1777630967424395,4.020388222939245,1.6930518363603324,1.4878177457930934,3.7490983745866373,3.4515141206620705,1.0606674994450822,2.2924218164320744,2.7433085912448223,3.0733762137865837,2.196882408733017,3.637088955293101,1.800365288149654,2.6169465140653063,1.7523454458356238,2.563149626331059,2.2760372689211743,1.2383796209777524,1.4764533727141957,3.5798553454755266,3.191066081108083,2.9560497525729965,1.6197278964271167,2.3271788909134674,1.8180764310341853,3.8098180060110867,2.435756003306871,1.4764533727141957,2.3898068772399066,2.75609886502248,1.5918030977808373,3.4208540661435283,4.297138152847741,1.72199168612027,3.6574988276656484,0.9524852581093215,3.5257510094212656,0.5017626616838471,3.6561532741537253,4.380796785259173,1.480951419738305,1.559170105104263,1.604521031815441,2.743568633245854,1.8917091197811147,4.257489961292951,2.2572607762773673,2.298894057259336,1.9826586114557272,2.8583262442819555,1.9012718027937738,1.7549054026920072,3.141436234146727,1.5735176153844297,2.5488855645916693,2.3443255256386184,2.2261543341907655,2.51409540626137,4.38839464471837,2.21889536547955,3.3855376588720074,1.3958827110598082,3.6104112219108093,1.3380261081871183,2.131958511037981,2.5488301664801516,1.8335527622075838,2.4900588511140085,2.347768972009732,2.258822514285482,2.189079352005019,3.1694225588023266,2.058780692350825,3.8665351096764264,3.8384408419651836,2.877110172226443,3.1975401640439602,2.2049441334441413,3.6561532741537253,4.139592428585517,1.1760573440725317,2.6132925231393456,1.3450600683130634,4.022625126389321,2.269991379721817,2.314159181998338,1.624098665040422,4.579317257679306,1.4084041120118986,2.6302664011493024,3.508991722794271,3.3638036144683636,3.199825821316674,4.090238949068544,1.579360010127458,1.7453811283635663,1.6965425923654809,1.9254790217613755,5.143607164109059,3.17051893396007,1.786252964163401,1.7673517811260469,3.263335921322204,3.483852717388613,2.6337455964348,4.510169861021351,3.2442857944436145,1.3425457521630695,2.070715055077452,1.2792666030062312,3.1273111309036437,3.141436234146727,4.615491231538165,1.9748288941009462,2.217558881915942,3.356351763884446,1.44687996162792,2.747294233276316,2.2847529873224675,1.8407937583101865,1.9748288941009462,4.858756797455255,1.8259065047633054,3.5143047400303593,3.3803809821869666,2.2959277694853997,3.8721829702766652,2.5548139918615993,2.8184414808045273,3.0393481195778502,1.5452267277884624,3.6574988276656484,2.9583887397317303,1.6466670971558195,4.44792222161357,2.3600472072024252,2.075468476934111,2.960672375451271,1.528764599822404,2.1389525272139416,1.769136255570365,1.4328091059107262,2.197309521382369,2.3099024370431405,4.333783791027485,3.8493194327895286,1.9981254346914221,1.4441699255694034,2.051359174315876,2.9676538498162355,2.383780188166176,2.812310775671129,2.142538722526482,1.2078972345229386,4.789585029061961,2.67114284421545,2.45068604915929,3.0393481195778502,2.1501181408924332,1.123379024401462,4.600631969534349,4.941930835406347,3.5539019392699926,5.143607164109059,1.7978975502361894,3.158125140538681,2.647231334327147,2.100633115663014,2.0655284165421537,2.9887980848471387,2.758595571050242,1.7167706778224026,2.075468476934111,2.9663962815999483,2.719030215610795,1.4609190131223306,3.7182937000890073,2.0877256919895104,3.476095905868046,2.2261543341907655,1.1622380745645409,2.786077907679156,3.085335633321391,4.150721702195525,4.833707858781149,1.6437381390513417,1.6346178936575217,1.44687996162792,3.783975613118965,3.141436234146727,1.840197988744731,3.3678494433689385,3.158125140538681,2.877110172226443,1.939366241294606,2.0125808276709103,3.7746325015348905,1.8525276908422985,1.3848916516062355,2.6010761644689486,3.222733563321251,2.859661457352227,4.244061075000688,2.03316657447025,1.9795643910717837,1.8140491857642638,1.6624844402562682,2.397093377952788,2.2847529873224675,1.5726833213405362,1.3908437238367963,4.333783791027485,2.2408676456072043,1.2822270490208003,2.2824177380688635,1.0394208283662143,2.109659702490786,5.010332159694068,2.2199546928576086,1.3582903888143287,2.386268520063367,1.5932345024004981,2.267980808320563,4.32243143564528,2.831741536154327,2.142538722526482,2.166014990764602,2.9108780851296134,1.8180764310341853,2.8395004379593316,2.212146042607193,2.62283488323303,2.2924218164320744,1.7672644746541155,3.8119924508617777,1.3157183506033192,3.8194682378620732,3.4831851265303264,3.1154647340865624,3.888667199635751,2.621406415431797,3.1415164640864175,2.5307748640335666,2.2749965862151025,3.0166968415875743,1.948870022863422,3.364212902879711,1.7167706778224026,2.465999891951701,2.571041959231178,2.8511828483733317,2.267980808320563,3.13526738941523,3.307848983224753,3.768640999771177,2.3845114715402134,1.8696472010559324,2.629104787270528,2.3933337383007545,1.2356820131549267,3.9394654373830273,2.628484616974722,2.159055373035949,2.722999954504658,1.7678575417000675,1.9792754124782883,2.024675793322778,1.7179996182948187,1.8487998627696016,2.186849248569343,2.719030215610795,4.67683655509781,1.4388157674369761,3.420697017321742,2.636936985170155,4.18295902257762,3.806706521000764,1.4815037161979172,2.713370602065197,1.4084041120118986,2.4665692894516753,2.609913936992878,1.786252964163401,3.033221740573433,2.589186049090457,1.690488372834975,1.5816598386372416,2.019787254445817,1.6670733886465159,2.640778012150899,2.4947425854836456,2.6913320669335947,1.2438591114373567,2.557011051696078,2.3822683905301534,1.5397754535793247,2.5552056667273226,3.216450265350214,1.6260600616236847,2.273244790058427,4.2031891575445135,3.331763019101729,3.8046475339994577,2.664584868673382,1.7969697754454113,2.7800401304028544,3.8679669170666107,2.7429901601077744,0.7395592539344409,2.6086020543247384,2.812429870347449,2.043305227169048,1.6027636741846345,3.007593900619882,1.6882965681444624,2.3210634759166777,1.723528831202371,2.3066551313978656,3.4760797744839826,3.1992828222180707,2.9520786840684896,2.6144801107276634,2.812310775671129,2.615996930748725,3.0337476962928234,4.206501121042239,2.731450942219091,2.629104787270528,1.725777963869711,1.3365108104265946,4.176109130218902,4.197044232550442,1.456351065808081,2.320572486105236,3.0337476962928234,2.9117464803589486,3.8384408419651836,1.8831354209640139,2.981560112413216,2.1226281831273015,2.03316657447025,2.312008784613281,10.098358325709079],\"xaxis\":\"x\",\"y\":[-0.6472526341746008,-0.3690335482759696,1.2525938949899083,2.19089058089151,0.6156891188063559,-0.5083297412610385,-0.22730027750340032,-2.575354308949656,1.5318831191815296,-2.616061955998426,-1.684330942655444,0.21366761678411572,0.34705122788924087,0.35959042404115077,0.28199481268403004,0.5653028156631634,0.3836596560106921,1.517801683584023,0.9303587868333084,-1.066393352130342,-2.332766805420523,-1.1619702196246389,1.0161597328684635,1.0149299023071376,-2.0401641379851156,1.6444089281111134,2.1970218902906846,-0.07191536843262915,0.0786092378464911,3.653519781156409,-1.579274692273899,1.5242318581868672,-2.332766805420523,1.0100459860409123,-0.8344774906693369,1.179443405943236,-1.1426253720677033,-0.9805921844376752,-0.6519133765405531,1.0417479229492126,1.6475772000667914,0.5801889250897576,0.989262753049768,-2.1616762252066715,0.3998686868413008,-0.1115900104054304,-1.277392542710691,-0.5791419042591271,-3.0723910355888355,-1.3861374859436861,-0.889611203830591,0.11201039810380024,-0.6056839051355478,0.4832635796038492,-2.1031645346289096,-0.6299049090700498,1.3077282138945259,-1.7959190572219756,0.11535980324534494,-1.8618021569906218,0.913460412710483,-2.226098751987069,-2.416163107421005,0.6665003152129862,0.7516671657056315,0.23282314949444982,0.8354065160658575,-2.377663598809086,1.258616211100969,-0.28019660768771876,0.7525539858144272,0.4256971275599152,0.8100020690811067,-0.805764667035387,2.23917412069436,0.8904762991576315,-0.9274145230253781,0.881741267675814,0.48279916613252744,-0.18011428069022795,-1.7728921586359077,-3.0723910355888355,-0.36704086687829784,0.2516038951208523,-0.160330745943863,0.16735707757297444,0.2384824272916802,-0.4002870246424925,1.181668522878879,1.731308477620743,2.260561525254433,-1.205891477819087,0.06170732833547022,1.1984907953037167,0.2845843120348724,0.22669939930669858,1.1468816244054438,0.012196772552100714,-1.1600431400353097,-1.334742063487617,1.6740400697949906,-1.6290923692564636,0.41812128781170543,0.7304951140211234,-0.7622879941680754,-2.4715783161407594,1.3804188530814099,-1.1600431400353097,0.6547210083423075,-0.725864054702164,1.4553816458313997,0.305320315119596,-1.9702467934975292,0.24401322677886156,1.4755489829754411,0.7558361169161597,-0.652947653282472,-1.173114785437653,1.246759936777363,3.6491511397424596,0.1273610949637029,-0.9335248877174046,0.5511539836196175,-1.134835548424112,0.23247819616073204,-2.875525290350417,0.798031959365159,-1.884531310552958,1.9302699432439516,-2.139067745160315,-0.3737955899483003,0.21590664474461763,-1.2855885588916127,-0.033850713711146695,0.5160203470003649,1.323665260166533,0.00651221859442947,0.26716481992661467,-0.43633546591337113,-1.043692103214311,-2.1485661649120273,1.357660145971441,-1.5212083511654666,1.2235867851909028,0.3744144283963909,0.8396126845301969,0.20256274545256936,-0.35038104151465166,1.2911653080597112,1.9154405556661815,0.7794845033172462,-0.8897216340712524,0.1372179194864768,-0.10011248894211885,0.19318294340177303,-2.716576203177823,0.4374959442843829,0.366903713110225,1.246759936777363,-0.5302368471578545,-0.5083297412610385,0.076170511566266,0.36984046066909576,-2.9329639766721987,1.4994451101977655,1.1159156152806902,1.0989052169244122,0.9766105710536277,-0.31487167674823363,1.0484950963473603,-2.435507128643188,0.3051399985467584,-1.4045970148307736,-1.1069291270882098,-0.28019660768771876,1.0784015528740205,0.012332149247935582,-0.01787222515474238,-0.6704941076579992,1.108123723200462,1.4639273571937215,0.7232892934717766,1.2160993170237722,-2.958400657234227,1.5734509043218867,-0.6094531810559299,-1.019813823825516,-0.6748101599904998,1.51127716070786,-0.5912108630944403,1.776849231269218,-1.2855885588916127,-1.3719712445637744,-0.32322930019440804,0.8283913223368731,1.5422420377778907,0.2790846722507626,-1.066393352130342,-1.9179503948729164,0.539808749807772,-0.32322930019440804,-0.9407732781649385,-0.5231270791649073,-0.9068413964195317,0.2173417817858981,0.030555566688491922,-0.17581044849627386,-0.4542479376101331,1.8522588653162042,0.7404682040362313,1.016528534351728,1.4755489829754411,0.37986558833215894,-0.15486766911780295,-0.015098707998813741,1.7722821385796652,1.1793861888635933,0.3325960726653521,-0.3849517055230062,1.062791187332474,-1.1931556867165867,0.6853467728616998,0.057589169489628556,1.0876739194383669,0.9293219945888425,-0.559666097703956,-1.384430750747539,1.1499678378284441,2.19089058089151,1.4450434371696133,0.7525539858144272,0.5182976062346685,0.9386987215876998,-0.8216999571587313,-0.713823400894156,1.6169124966118418,1.0961523246455678,0.7404682040362313,1.034878337147847,0.1683272671769701,-2.244842287461999,-1.3865371850949006,-0.5933473740172168,-0.6704941076579992,-0.012975699314339489,0.05460817210838455,-0.21211328721110415,-1.1452373119771564,-0.43879938635311816,-1.9070687681881138,-0.5317502802305825,0.24580084822936382,1.1793861888635933,-1.5591826200469054,-0.25844886008500795,-0.5562803537708214,1.0352564928257024,-0.6111902892691002,0.4838976207620934,0.00651221859442947,-0.14709017150828776,0.3998686868413008,0.18282051046148862,-0.8064982347941965,-0.8249563672285766,1.163679020856508,0.6150961010604913,0.2790846722507626,1.7360188988595147,-1.2855885588916127,0.6162881144596077,-1.3642808279209464,0.05460817210838455,-2.716576203177823,-0.14178297074074583,1.5825389675048844,1.8237102015645297,-0.6436822551890135,-1.051006565776659,-0.2811548795524115,-1.487557304514817,1.3551825375724398,-2.4039888621841725,-0.06868494702163873,1.0277979182735508,-0.4970298367298883,-0.42709573982381827,-0.1735984856312524,-1.9179503948729164,-0.30200947159123187,0.16740136867567637,0.9293219945888425,2.1593293448809656,1.2033377599452861,0.9856510794961221,0.1516637126682762,0.49170185014159434,-0.38759956159824155,0.913460412710483,-1.124763172736462,-0.18011428069022795,-0.7237120177888507,-0.9366971911515634,3.7655426130812986,0.8942193721212579,0.9386987215876998,1.1228222732368163,1.6304290077862138,-0.7622879941680754,-1.4379286855301412,0.046806932981518806,0.8527705044951404,-0.4002870246424925,-0.19406520834868277,-1.1707498042530444,-0.6953655910790887,0.6553210832137615,0.6157568463085291,2.30542000703927,0.13371233106663102,0.6488541217147664,-2.6055498945691298,-0.3535830216546397,0.8595506338504336,-1.6467989921277877,0.3679065596793942,1.3253181598168535,0.24580084822936382,0.06601836387716152,-1.900636593243839,-0.43680454493617565,-0.9366971911515634,-2.2576599610700527,0.9949589439792438,0.8305971475741306,0.9503589680533119,-0.014311562930312518,-1.5755143840446222,-1.2210191756227025,-0.048385499274351026,-1.874410064231565,0.5524563150711969,-0.31695524609678183,-1.4104513386051218,0.26720571474229216,0.7335611804042841,0.904588374633118,1.2998749736246196,1.0154845565661048,0.9619352272792445,-0.25844886008500795,-1.205065193825882,-0.41593853182327695,-2.500352546194239,1.4160639468827239,-1.277392542710691,-0.4544278833809645,-0.4043735877045656,0.7941034052823925,-0.31487167674823363,0.47583702810093786,-0.8031670911188022,1.4639273571937215,-0.2004724949897191,0.9404868511444445,0.8463829348723528,1.136386023290139,-0.6147050301375797,-0.9052435217303799,-2.997363003580308,-0.6266495434555704,-2.090040406708472,0.683370729690553,-0.2876473317799486,2.3046545387819557,0.7568241498565755,1.9799540385514107,0.354844556271933,0.6277185479283498,0.2963770828329624,-0.12526053154683814,0.6545896887579165,1.623348305249852,1.5688163447280852,-0.17322420739670405,-0.7784999667217215,-0.10938576238412628,2.0902647664909457,-1.055321805908158,-2.9987130267419615,-0.6253332298556679,0.28160470058238357,0.36517920041047264,-0.16242074195380568,1.026223609942973,-0.4071625679557227,0.6616641106494221,0.7019930408711417,-3.450067220593965,-1.412970849190015,1.9829773695707573,-0.7741088272718659,0.5182976062346685,2.142840247760825,-2.1830649385288456,-1.203210073874453,0.06675209060130015,-1.5755143840446222,1.136582898682197,-0.883026237783154,-0.7121713324695071,-0.5462358609452744,0.1353679324981208,1.4798497984828927,-2.1830649385288456,1.2571211646181193,0.19318294340177303,-0.09057333714380945,0.988149440622184,1.139348618216789,-0.06868494702163873,0.34705122788924087,10.264052897047],\"yaxis\":\"y\",\"type\":\"scattergl\"},{\"hovertemplate\":\"color=1\\u003cbr\\u003ex=%{x}\\u003cbr\\u003ey=%{y}\\u003cextra\\u003e\\u003c\\u002fextra\\u003e\",\"legendgroup\":\"1\",\"marker\":{\"color\":\"#EF553B\",\"symbol\":\"circle\"},\"mode\":\"markers\",\"name\":\"1\",\"showlegend\":true,\"x\":[-1.422486184175814,-1.696867082125511,-0.31730231479671533,-0.06244677104206616,-1.331222377104404,-1.6937213272193186,-2.1053506215052034,-1.9885511306150225,-0.7108217201210415,-1.918006741354839,-1.4334625530097957,-0.061584089456574904,-1.1722532570827728,-0.5041011453542921,-1.7433656371421369,-0.7600664014757954,-1.282810199089131,-2.0824586044906424,-0.49060795460622886,-1.4170283932373675,-0.589705723932378,-1.319828946750801,-1.5082570305889917,-1.448487779234002,-1.8283776479575504,-1.8864131398008834,-2.0878986210690185,-1.7102369685927608,-1.4267327328228707,-0.15063476451056879,-1.380743861019637,-1.760977538097949,-1.7428461144656542,-1.7489151375991103,-1.696670440764609,-1.582785339324952,-1.801052544731346,-1.4001799172517178,-1.8170843576042162,-1.6317582028535633,-0.49060795460622886,-1.664715447304969,-1.4484180516065273,-0.7105726565112279,-1.0130618197428922,-1.511319431905336,-1.8598880087647613,-1.6165633694437487,-1.3096682376418898,-0.45171374986985335,-1.3112316345484714,-1.6053134122028192,-1.7502374820922046,-1.1255630233770797,-1.2553168879754262,-1.100974001894796,-1.510351495340577,-1.832210979815699,-1.5816195525015828,-1.9012334896014076,-1.667488227925759,-1.2030047261852617,-1.0352023530220305,-2.034821169586897,-1.4633903212333206,-1.488970400671662,-1.5806974062455363,-1.6037061204097915,-1.594393483642798,-1.0830140667710821,-1.174947653948305,-0.28863836022487055,-0.2955041433129838,-1.3779589063032969,-0.9480318896622169,-1.2126588714259936,-0.98074792492961,-1.7514367817759415,-1.662897310805258,-1.2188226093903878,-0.96625287114994,-1.6123637992967008,-1.6007503793025002,-1.6011114528289039,-1.0557481816635628,-1.2103594038267216,-0.9532900081036952,-1.5628281539063014,-1.6210285459384433,-1.0894910419525803,-1.9362093456715896,-1.637979258015865,-1.738060120948134,-1.713557746803907,-1.7012675430575899,-1.3708041818561472,-1.3897843175135753,-1.41465018308141,-1.3879209449005712,-0.8505474700815759,-1.6755444474966052,-0.5735999222191956,-1.5346399281271108,-1.8403332613501282,-1.6228998439644107,-0.579305595204286,-1.4202822317857928,-0.686559734853314,-1.1016275239112734,-0.356575147612053,-1.3698327170174271,-0.7480940795842447,-1.0725833734438166,-1.5082112521922404,-1.0792836789207818,-1.6815694426486607,-0.7524898905784261,-1.5770632748831426,-1.9976210694478227,-1.7041397132358358,-1.8862717284509718,-1.9553918576118632,-1.1627704972140083,-1.884861048925356,-1.7461238922021631,-1.570938226952353,-1.713190355766326,-1.3513203476220819,-1.7362163222819957,-0.8256342498680966,-1.8450898408831424,-1.574718685788976,-1.9366147855258191,-0.9421940454616154,-1.5749273042483658,-0.9916855230541658,-1.3842009196125884,-0.9848364389854334,-1.6859866691581746,-1.6622173141968049,-0.7592745038929108,-1.681425621139932,-1.5197095500455986,-1.5394704160492565,-0.061584089456574904,-1.4723823881914195,-1.5588901654741818,-0.7959886216692976,-1.641562499899656,-1.219412094935456,-1.7349893425051832,-1.7400997463710652,-1.5981773108775779,-1.3796392063168457,-1.550494777747358,-1.3257179629282005,-0.7845049059468275,-1.6607032074614532,-1.5644360949031075,-0.9972186541404978,-1.9581263098316357,-1.864657730941354,-0.904569062850019,-1.7762798754123768,-1.272511023740872,-1.6974589270548757,-1.5968082203726632,-1.4615973551327968,-0.42855266645041895,-1.910253829242735,-1.7922376049442714,-1.3048930717515097,-1.428831882790452,-1.8410372094196217,-1.5418208909725728,-1.5100446523776947,-1.8409850619740553,-1.5101776388296737,-1.2491744281680808,-0.35163687422053186,-1.8237968579946018,-1.4650625739963927,-1.6501662138800108,-1.704246738844011,-1.5189493594405854,-1.2263602632170618,-0.5909419114842908,-1.6595180327294357,-1.5749273042483658,-1.6213607126293725,-1.6552768439946308,-0.8390972830239205,-1.6929206263992793,-1.5067516959671905,-1.1191344670228711,-1.5256110397685307,-1.7215045217312088,-1.6605598339082905,-1.7112798856414897,-1.9363876248022336,-0.5670494126208921,-1.0830140667710821,-1.6357079782924386,-2.0113014693246107,-1.3471272998853494,-0.8588140091695304,-0.9583156291977896,-1.0067948512506262,-1.8776250808445192,-1.81481223454903,-1.7679995942882898,-1.6483090346082914,-1.1973036497751932,-0.4559485545134867,-0.6852539909559573,-1.3851681689289712,-1.6766946528073743,-0.5882585285489896,-1.6937213272193186,-0.6492581711120918,-1.64467093543504,-0.40072097657815714,-1.549629740651468,-1.560997305687296,-1.6165633694437487,-1.991526045071254,-1.4144434903785326,-1.9773536305634667,-1.6757375222472297,-1.308319488859008,-0.5836271628120888,-1.552890392942371,-2.115022061434452,-1.706052031944805,-0.9973856637219412,-1.9812677378433186,-1.7215045217312088,-1.8428881196005475,-1.8794708992016487,-1.1360745977828408,-1.7525339600033862,-0.3809751593894091,-1.5251031600896618,-0.7975016890183425,-0.915630512314549,-0.8808839800614845,-1.149904998988183,-1.2549467936591865,-1.7217235986897503,-0.374874237004431,-1.616300027672884,-1.5361390346070773,-1.8693573989849528,-1.5296081499401404,-0.4596166169764007,-1.4059480885669275,-1.5874626263628409,-0.7863439731353861,-1.1462148444918168,-2.0543996721796955,-1.2360018387721081,-0.8433998127008148,-1.2504086457411872,-1.5938099318297714,-1.4261326697181325,-0.9126683479615207,-1.308319488859008,-1.3612126423714563,-1.1139100711423617,-0.8801344308429906,-0.6683698427347085,-1.3266522013902244,-1.7443716613837736,-1.6477086928331883,-0.4701788729336644,-0.9705059490413864,-1.6429252573452517,-0.11832779483827556,-0.2789802223752493,-0.5542182841504414,-0.509824656335733,-1.714387730326626,-0.838772814417506,-1.3546182734595447,-0.7628776287022029,-1.6539334895403475,-1.6313897786006726,-1.0992526999193635,-1.7839539162873843,-1.0979034136202126,-1.721246389496018,-1.8255093383755783,-1.4391683361273893,-1.5741864618760721,-1.3519222133702007,-0.9991632162490148,-1.7997543641277385,-1.5366810807014473,-0.651723311123918,-0.7695865073142353,-1.787348926732577,-1.4305920340198333,-1.6271635200868937,-1.5930920715132522,-1.1664675491313001,-0.6638507275840669,-1.5451436216032224,-0.8907807357062622,-1.9379645903694105,-1.330888463883932,-0.8931208421973351,-1.2162036480730571,-1.3153548146249545,-1.3191280971279984,-1.54379016457401,-1.676472551152947,-0.4956738507259721,-1.7121523674886683,-1.3595673791320302,-1.5278464657089688,-0.5528218192225997,-1.758545913144225,-1.7114982516989234,-1.526492762599219,-1.6293376110520397,-1.6352605332518655,-1.726419243115486,-1.15055070809309,-1.2634950324099854,-1.448487779234002,-1.8145135304606312,-1.5741244856502865,-1.1155216764872964,-0.9960250287295824,-1.86834160266884,-1.864657730941354,-0.7253904570375763,-1.6343756340285662,-1.2173580530198904,-1.034657589914151,-0.6310737306940423,-1.4128898577907585,-1.6299632879530734,-2.0058200647831015,-1.3791436816490514,-1.3928040175133283,-1.40339298390083,-1.4856819089946645,-0.6038160976963665,-1.0534910531634707,-0.813964419393173,-1.6764153540804987,-1.2709557271642038,-0.6031501786260322,-0.8982138688532613,-1.3513203476220819,-0.6872970455814055,-0.3955619609086277,-1.9363876248022336,-1.4489187745304868,-2.0001978889516483,-1.673466675659635,-1.4859890639132678,-1.6888040832195979,-1.7621579074788603,-0.9379396626269612,-1.8505742527666968,-1.1886154125821322,-0.9654275813918194,-0.6726732836575205,-0.6069867279524576,-2.0074855959157447,-1.1294941141555632,-0.9907129357401202,-1.6473104188710008,-1.7472321461866105,-0.04715064435678563,-1.2378447195434292,-1.4795150933644816,-1.5100446523776947,-1.8283920451809716,-1.2425150927553792,-0.7828660043857949,-1.7427409458445755,-1.4640085750366532,-1.9681798443960195,-1.8542266971235408,-1.4202822317857928,-0.47912889413915405,-1.6834447956812986,-0.37110061088607926,-0.8480359927177702,-0.14478065080687974,-1.9388593720071354,-1.4071431667868846,-1.2851282978866452,-1.1887156972490558,-1.937950930444407,-1.6427014656603312,-0.6251017491072832,-1.3443071496415244,-1.4137987573252184,-1.470173901709065,-1.4474922162366457,-0.7386964468240126,-0.7199309492807427,-1.5320050935770746,-1.9612305736192208,-1.5753496872013486,-1.436332165024598,-1.3335326013386242,-1.5754025179602795,-1.870830441584365,-1.730926572651769,-1.6702672819057534,-1.8239643599884705,-1.9374822738613295,-0.7946731269929439,-1.833505108481789,-0.886165921019471,-0.8055483447678405,-0.9171870416899622,-1.8062330234619906,-1.3766745870991541,-1.0493415659373868,-0.6776507758059879,-1.2123674432704603,-0.24770716254885833,-1.5927295527062686,-1.795622278304968,-0.2705106440186143,-1.7330027112116726,-0.4631145116954643,-1.666191692170279,-1.8152504055217438,-1.3519222133702007,-1.587719914576156,-1.9311686720111876,-1.1222739477562855,-0.4761363832033835,-1.7527982779600686,-1.6330492509182029,-0.3903141656228561,-1.4051959113525943,-1.4604007609330478,-1.105968542532539,-1.3779589063032969,-1.7619853923966364,-0.9773667966136138,-1.9120277365958915,-1.6930235005693925,-0.7821666998466527,-1.590700555974519,-1.6016136422811038,-1.8293702310098896,-0.8746693005389559,-2.149432380791227,-0.2877474886025516,-0.5159853358266385,-0.7859033766632136,-1.9866749088774736,-1.523101265369321,-1.757442909021464,-1.0196860067408404,-1.04823412782364,-1.6560810276382907,-1.561335313862763,-1.453397334128117,-1.6580138213643165,-1.280651351474178,-1.0465433805897126,-1.4791747769931816,-1.5097202543675843,-0.44678875310371297,-1.7869882827576553,-0.9789464828080594,-1.6766637772779212,-0.9646806468561079,-0.6763909460001603,-1.3734846914980794,-1.3495615453747378,-0.9914811059991999,-1.2087154201539974,-0.6639573254363496,-1.4163595398990332,-1.3513950283618978,-1.5723628680267594,-0.43420708974695577,-1.0473510243553987,-1.7716128799758404,-1.6582668372991884,-1.883804269464306,-0.29522670835720854,-1.466636627473691,-1.7100830807426308,-1.178545160401163,-1.139580140720448,-1.028896199556073,-1.3391079672974824,-1.9201792070731656,-1.089840125345615,-0.49233889354785443,-1.4344996626233262,-1.397598175566474,-0.9104942461340877,-1.5425127544305084,-1.6520587455031501,-1.4404951467762914,-1.7347173143380434,-0.06770588567266797,-0.47912889413915405,-1.4069578662659528,-1.4286019331457849,-2.2523971223458474,-1.5983045767931523,-0.39031365052817163,-1.6130347920288126,-1.8634562917414843,-0.5034181285597328,-0.9055476508036504,-1.6473104188710008,-1.6123637992967008,-0.6953995585885874,-1.788244464313499,-1.0298990978092515,-0.39236157637363406,-1.721246389496018,-1.6375088658031227,-1.2626104195622834,-1.2583325508166674,-1.4611740399294184,-1.572927617116283,-0.46521565564610984,-0.8327642264047573,-1.6457856789518925,-1.6640111991266047,-1.5612064173264129,-1.7344352746032514,-1.6044172726308967,-1.7797237580412233,-1.5594046596050013,-1.7166376950542679,-1.7269629332268528,-1.6167996345356648,-0.8628693159533259,-1.4812331124855085,-1.3227979897284168,-1.5155513912050869,-1.5318064448213635,-1.8993124827917227,-1.6261997577639649,-1.540008402962516,-1.3186654006173237,-1.8083356203142027,-1.6102154917616065,-1.730993629419675,-1.092855957820317,-0.8458674475412741,0.0987975359496722,-1.488970400671662,-0.3009463772877124,-1.904976673359657,-1.9180626660770779,-1.6582668372991884,-1.5033101199848053,-1.8252004398319581,-0.4992941008273618,-1.5474753591857187,-0.8941594430497376,-1.5771842054509406,-1.8664144597630852,-1.4887617384938365,-1.2698492097320666,-1.5067516959671905,-1.1011253261419356,-0.1483462490906249,-1.8282928533203449,-0.06461900411321435,-0.4509023738093506,-0.9011231613694022,-1.552985818010225,-1.3220800932308407,-1.7997543641277385,-0.5381876965622596,-1.335242112025405,-1.9732453023234346,-1.4872480180080583,-1.5248923500898317,-1.5284485594041908,-0.42221262979106666,-0.9773046490972441,-0.6352942274235864,-0.761140453142886,-1.2668062508769093,-1.9519934534609507,-1.8277763603885788,-1.3592711831883508,-0.690841375103079,-1.526839826050624,-2.0824586044906424,-0.844661993577783,-1.5125470841719042,-1.7762134048360518,-1.515429688230095,-1.8391042446704144,-1.1850545265128816,-0.5989384358347405,-1.7775608426495557,-2.1506255881227774,-0.920972346119088,-1.8509809844471357,-0.5124890644836623,-0.842603624349117,-0.5117639859002013,-1.3047676269373774,-1.2580153991401497,-1.4034461032477303,-2.0109057534994825,-1.8428881196005475,-1.7857213003228265,-1.1044053837020413,-1.7041876564731586,-0.16416150452741116,-1.5996772561291963,-0.6008334564281119,-1.0917602030605067,-1.6146162080932267,-1.8296151553513031,-1.8751159705656186,-1.3812713200820728,-1.4402333742611306,-1.3725666725453183,-0.9056763633049086,-0.8705348772272685,-1.1728379131775135,-0.7199309492807427,-0.8808873683617479,-1.0287538468116801,-1.9366147855258191,-1.9532831086004052,-1.4897399101785307,-1.4029248131509986,-0.9341454304323807,-0.4326893209527187,-1.2550700884705885,-1.4989771559450862,-1.386253737820544,-1.8564032167834112,-1.7795263659459046,-1.3420609401912775,-1.559974080274982,-1.6969612401570984,-0.44893913224098037,-1.5331875957111047,-1.1588835906578525,-1.5664101616751254,-1.3850247589272182,-1.7058750437593544,-1.5511414335518627,-1.0766024005501977,-1.706052031944805,-1.292060089387099,-1.8378505704197947,-1.097992489070739,-0.9609785997909772,-2.3069674924232046,-1.8199020511673183,-1.560799748998431,-1.9635578795738968,-0.5588593123090113,-1.5703311703692782,-1.488970400671662,-1.6566345774192814,-1.2410290437358265,-1.668924604258402,-1.2296770180757501,-1.1241764837490407,-1.699740908224644,-1.558901668877583,-1.3837517991663042,-0.7842773479306276,-1.6012480852358613,-0.41946079582396073,-1.6238019039989284,-0.5494106763852097,-1.1568416150423757,-1.990068018042584,-1.884861048925356,-1.3711412288561546,-1.5190727337111747,-1.3643244677258533,-0.5515739553556093,-1.5821299965585387,-1.923251953325026,-1.7933651268437474,-0.7797016621056748,-0.4396813089205486,-0.9043422194746774,-0.6096581542027564,-1.751706067387719,-1.3942326455538712,-1.272511023740872,-1.454647752051904,-1.8282820375730422,-1.7407457253597225,-1.1188047044174954,-1.4617675158387717,-0.5754806723849489,-0.31106734515461487,-1.3918229973108411,-1.5709034577649723,-0.8526796095561592,-0.8790011013569908,-1.6384105104263287,-1.8709275270648345,-1.2425150927553792,-1.7834266945145587,-0.45171374986985335,-1.89907572761422,-0.5002450803198804,-1.3542089187006259,-1.4550778888766291,-1.7837479925546043,-0.2599733326240403,-0.5657064833262562,-1.568759093073178,-1.2378447195434292,-0.4766822487833405,-0.7875736730989791,-1.27120861927957,-1.6343756340285662,-0.6726732836575205,-0.7981810775921787,-0.6932069987359568,-1.709626846359427,-0.7109209926618549,-0.9503738915353223,-0.8840483169499813,-1.8630738308981323,-1.8252004398319581,-1.4415198062123156,-0.3772111927352341,-1.5775621668266542,-1.5627051171578872,-1.2301869654348812,-1.781836650480235,-1.5976963802311666,-1.7219358550408836,-0.6041575895105833,-1.1037018769677853,-0.5445126329264547,-1.2759921646420533,-0.838772814417506,-0.46956278105316795,-1.2720470337708072,-1.50173619512818,-1.122229411119926,-1.5248923500898317,-0.8173030839903058,-1.4800982717899331,-1.8393195138863787,-1.7143408307200598,-1.286463897037307,-1.673466675659635,-1.6085914480026113,-1.6520587455031501,-1.5301429627894085,-1.445271599893951,0.34858086099023705,-1.730993629419675,-1.6041229572194795,-1.6455143025511059,-0.6975287764996043,-1.6055395565172987,-0.6041575895105833,-1.8635015674891873,-1.261811557992421,-1.04823412782364,-1.5327634687670117,-1.6257493132935503,-1.726099807944719,-0.781070192079015,-0.9051989453358066,-1.5114571018353324,0.05598353156182945,-1.0890712201424397,-1.5767846551266214,-0.1432202380449278,-1.4163595398990332,-1.9069325158387829,-1.730837327158022,-1.5793110971917774,-1.594814853595555,-1.2276646299335365,-1.6372868203473316,-1.2943084120049533,-1.1321777383850764,-1.0217611535743787,-1.9016666869203611,-1.7930317310800776,-0.5053884631180077,-0.37400639145177866,-1.0680108976946614,-0.19471837239797052,-1.5010627441430928,-1.6463893014869793,-1.6041229572194795,-0.6283073765495057,-1.1191344670228711,-1.688240169731978,-0.7238728448022012,-1.5366810807014473,-1.3636596263484952,-1.3596058032149718,-1.430403872689825,-1.560997305687296,-2.285433145172061,-1.4805351432060323,-1.7589837741647842,-0.9016843958625735,-1.1191344670228711,-1.588254343221671,-1.340625544212727,-2.119344398803341,-1.6091289368760107,-1.383692257192667,-1.3796392063168457,-1.4186607977856012,-1.1652716868479225,-1.597818014311984,-1.1210872559222915,-1.6151959751933473,-0.9849321199009291,-1.665232028581096,-1.5072399295183279,-1.04823412782364,-0.6776507758059879,-1.8609766074934813,-1.3508263047237654,-0.6419777400158411,-1.5318064448213635,-1.6674648775660628,-0.6283073765495057,-1.203815134732333,-1.0838533583308039,-1.3612126423714563,-0.13759503181342536,-1.6960490589217154,-1.4131941216844472,-1.488970400671662,-1.1485941715690549,-0.5800591852352305,-1.325283121490994,-1.4402333742611306,-1.8862969056809633,-0.9043422194746774,-1.2220646758876323,-0.5874716462779143,-1.9374822738613295,-0.8617545019284162,-1.5900172284969631,-1.4844845975714847,-1.7633836323928862,-1.3109563803796647,-0.6065510675983299,-0.3009463772877124,-1.9127113473104342,-1.0639622586127158,-1.6755444474966052,-1.790890689645409,-0.6364711952680514,-0.5002450803198804,-1.2036443719132977,-1.8238297274827748,-0.8548449814780696,-0.9851808898366043,-1.836379568660221,-1.4927169148181794,-1.0264778739923808,-1.2242764309012322,-1.9116418658151662,-0.5909419114842908,-1.451921933999696,-1.6943770402605083,-1.5935427788217327,-1.7502374820922046,-1.596410405305402,-0.5608599704089412,-0.9088257056539969,-1.6134611159684327,-1.368463171659982,-1.8013426086801534,-1.5561056506759852,-0.9830098368129024,-0.90418300336086,-1.2912708073117072,-1.5418208909725728,-1.3416228564662978,-1.5205252659765724,-1.191235480942962,-1.673926980149805,-1.1245986399897554,-1.899952323170224,-0.7043119825941624,-1.5608627868836835,-1.2459437335819177,-1.8596736150675235,-1.9072063952365135,-0.7288773389408643,-1.5063498791876464,-1.9544050712115313,-1.7583180951382162,-1.7719781460889914,-1.498958231235352,-1.5487099404454139,-1.5331875957111047,-1.8171826646529439,-1.7906613719663198,-1.3756162414941704,-0.6314553351352544,-0.9500488855335998,-1.4545820640326124,-1.7505348659598476,-1.8375996022128083,-1.0070446389807237,-1.9932804303814056,-0.9088594323344361,-1.8102228400047824,-1.190529661894757,-1.7210494304551434,-1.3599663985957844,-1.673466675659635,-1.4513937138536281,-0.5269029378826959,-1.5065391596564057,-0.8946104397481848,-0.5577605236833258,-1.1884744608665982,-1.718324369460042,-1.5571538324424088,-0.49807723998643777,-1.6501662138800108,-1.9481073202685384,-1.350652859395815,-1.2431122337373213,-1.5423286678905705,-1.8929277656887566,-1.7204250050645258,-1.6517567528831167,-1.738060120948134,-0.7252906475280209,-1.6131592338737442,-0.9583156291977896,-1.5420971570346853,-1.190529661894757,-1.4001799172517178,-1.3360948653869917,-1.4069695823653146,-1.7792771455819123,-1.2283879917743972,-1.1498873315358642,-0.945161130871035,-1.2583842719296703,-1.4604007609330478,-1.3643244677258533,-1.430403872689825,-0.900041372333263,-1.6572362510870715,-0.41922032488096933,-1.5009851407971706,-0.8050487172626593,-0.7524898905784261,-1.4257667289686284,-1.8450898408831424,-1.6016136422811038,-1.9101977778973367,-0.39917959672271935,-1.7422270278142784,-1.4232598191049588,-1.4550778888766291,-1.7877404684910687,-0.46017920834134124,-1.2027001738959893,-1.5279043941160837,-1.0317981443491775,-0.8584290572687,-0.8808873683617479,-1.4144580838425578,-0.9752950659545673,-1.461213769169384,-1.7901611314250636,-0.45446834204804754,-2.2636930586149693,-1.5253584620725358,-1.7690734869572706,-1.9022888646147227,-1.0525165324241699,-1.7093588465754677,-2.060133774976378,-0.1483462490906249,-1.6008539971194427,-1.6587347021742664,-1.089701401298262,-1.7480069563115779,-1.4263094911726102,-1.3938336222033192,-1.7624019010762653,-1.683336935793476,-1.1921149738400565,-1.7220817530381374,-0.3172095414036506,-1.3998583644091018,-0.47975563592024306,-1.5229772733758442,-0.8880718887479073,-1.3897843175135753,-0.22632352084165883,-0.35163687422053186,-1.3708041818561472,-1.824677659389883,-0.2248598578156072,-1.7184054434601774,-1.035517746039302,-1.5950593758894414,-1.5648457686992805,-1.5969250211665351,-1.6384105104263287,-1.5847929787822306,-1.6640111991266047,-1.6888815598434157,-1.4879917131017557,-1.8862613831389798,-1.058425337152156,-1.840727717296606,-1.602906803739165,-1.629261775084462,-0.326844695130653,-1.7054241440047269,-1.7499261159018427,-1.7317338647762077,-1.7904204278726847,-1.2327577711728366,-1.4978157307374718,-1.2943084120049533,-1.1658641090653816,-0.3860433118346828,-1.7623216285612715,-0.5183416702613861,-0.9088257056539969,-1.4247590608941045,-1.0567456891860523,-1.1024831110062359,-1.5064682769173057,-1.1498873315358642,-0.7039321432165498,-0.9379396626269612,0.2350339102940443,-1.4522433626638696,-1.5155323627500816,-1.6899897800671755,-1.3323752375914386,-1.6131592338737442,-0.8964527071301263,-0.46834840719520293,-1.8864131398008834,-0.6891213134262695,-1.5281354903215192,-0.2989175763771429,-1.1996050723278693,-2.0307018655662876,-0.16931004160718305,-0.9610258051137027,-1.8441108444616725,-1.8068449126835042,-1.5573086738993918,-1.7297420586463361,-1.3227979897284168,-1.6967097909085453,-0.4600315733265755,-1.2505164989137525,-1.597818014311984,-1.4583534569380001,-1.7430102224880313,-1.9105523427812434,-1.7406032987561326,-1.579222849455389,-1.3340068614038167,-0.7274933353464713,-1.6266470665982715,-1.7400997463710652,-1.7766542788131214,-1.8317062058118472,-1.9594019828235645,-0.22872468685303676,-1.350216243920268,-1.6927015246570147,-1.4217755495761177,-0.9524557328806568,-1.1116477229725525,-1.6652875533189109,-1.5493773562591129,-1.2747656459417898,-1.4567390356755958,-1.219412094935456,-1.5156676027712144,-1.3115225557387162,-1.3787210512986683,-1.5806635746990367,-0.3686539927746657,-1.7877404684910687,0.0987975359496722,-1.763844312906247,-1.4027713713825098,-1.0821956259180652,-1.6382567402226704,-1.6667167577875956,-0.6014076618307607,-1.7849353469693694,-1.3857133961753054,-0.683795357331415,-1.2673018496388517,-1.8835483432105027,-1.7519845501122575,-1.8239643599884705,-0.8964527071301263,-0.7931730814411526,-1.6662609178155954,-0.9707727330706327,-0.4006806726928464,-1.5099777439453181,-1.7822576082115542,-1.366704281975401,-1.8489391297981728,-1.2538667830297496,-1.330201990604612,-1.7201004572128853,-1.667488227925759,-1.564085025587308,-0.6257424008142093,-0.9817136926982346,-1.870830441584365,-0.8946841021419439,-1.1529771708891676,-1.9453091373923508,-1.5954905896569396,-1.3385768834882474,-1.591636860060215,-1.734802339299828,-1.4574940706049555,-0.5950230220180536,-1.4256230162203518,-1.3603047345108705,-1.7909421753407841,-0.9817136926982346,-1.6943770402605083,-1.6312364058684532,-1.133550602156779,-1.6566105879971371,-0.6384684494548309,-0.6734443986420102,-0.4364934673732965,-1.915977614654899,-1.5705482886514932,-1.4293663001130474,-0.5874716462779143,-0.9654275813918194,-1.7271119045381538,-0.7577913231040798,-1.261811557992421,-1.5888829913227358,-1.300908481052405,-1.7205464022484647,-1.3919401092783634,-1.8159861266435573,-2.09402116392424,-1.174180691722173,-1.5539945519292038,-1.530979318812574,-0.5874716462779143,-1.6384105104263287,-1.3060672029128324,-1.6713136964778321,-1.8487281142656686,-1.3681322845912356,-0.44253966081345514,-1.577426859434445,-2.1887423215194954,-1.6328903593631934,-1.7058750437593544,-1.9116418658151662,-0.45460622790202404,-0.4863211527514556,-2.0225805020545153,-1.6682868685878705,-1.6082537916565924,-1.8485355742184655,-1.803232931210684,-1.5968082203726632,-0.5053884631180077,-0.974718656151021],\"xaxis\":\"x\",\"y\":[0.28025716742216533,-0.05297133406857171,0.34718462555171686,0.1925361709902361,-0.09616737837779997,0.09559021752599439,-0.47077233440614,-0.5512930589658671,0.5885179530990368,-0.1934924749797303,0.28417863286571043,-0.868523967099426,-0.5681615264837206,-0.7369547942922008,-0.33210852021071025,0.005691808262596321,0.05045944128396136,-0.2633432282949901,-1.167514555340074,0.31154874647859976,-0.2896848473694125,0.41169230639401194,-0.6123679859964208,0.28303041317295313,-0.13674981597764627,-0.0767603302248994,-0.4521041284206012,-1.0939199846850753,0.10249047009791179,0.5909675425757133,0.024661819974231412,-0.0004746178325148518,-0.20699287237165478,0.15145879923414496,-0.06029699329399264,0.2505134688144699,-0.09047304380848428,-0.08314297544958953,-0.02183642326391622,-0.35395746288796964,-1.167514555340074,0.022487193401346653,0.24588774242834543,0.1836089832265868,0.5138941875800557,0.2639743542118621,0.033454403044592886,-0.08187720425994509,0.4744714477494553,0.12320257671840257,0.27606864655141844,0.12809995777709834,-0.1691030911492539,0.44219544263192856,-0.10316556333775367,0.09728604476141672,-0.31339622638716985,-0.12466290234675595,0.04492994960347943,-0.17771991310702423,0.07852868805947047,0.5088916992683806,0.1311019763281088,-0.41763968626967324,-0.017792304915780793,-0.11066902997415265,0.16297816666329418,-0.3263385860878398,0.19403960780079768,-0.21487339608073724,0.29801007255521716,0.49278730564027484,0.6923560648713104,-0.20825929957508305,0.5975571917483647,0.5964768454545718,0.33628167128604075,0.04068274848103165,-0.03184158109218042,-0.09484954617920965,0.6022259409538069,-0.2799108286521935,0.02478496681915957,-0.20573522089592097,0.1013944981763812,0.46451638339996953,-0.21693350630933136,0.25220249570223363,0.21765527983370384,0.48088723744791173,-0.2562954112064072,-0.030674087627631193,-0.08293651950992115,-0.10877475735370146,0.13920305206068131,0.3327891365314262,-0.6731654348803804,-0.19021684637763564,-0.06853510423308687,0.4541096480980355,0.018680401251043706,-0.7212727985683893,0.2592465181573958,-0.3393611002290562,-0.13752648290028643,0.01456670250244638,0.33192698149040234,0.02959790621358238,0.39271238509204554,-0.022302373167108192,0.46153851310918254,-0.49629172337276567,-0.02813626827110554,0.21739202876742056,-0.19043077602926076,0.16872347657768094,-0.08630459656388377,0.18524004867300622,-0.22910010650520746,-0.35533202385770485,0.001958487664802896,-0.6196469388459668,0.5379028748272984,-0.022702843635527464,0.1278322736294021,-0.07311903403251675,-0.058909414339686425,-0.361684623849339,0.12840442736326457,0.22794466965199492,-0.2752034284443539,0.258853755249,-0.3493588929703701,0.2956535144011004,0.14329796236770198,0.21412150579025752,-0.04108891358856172,-0.7309194623989017,-0.3647925963427796,0.07361590579319298,0.5669616781684741,0.012109981656973757,0.05238978416067254,-0.38111205351367855,-0.868523967099426,0.3177393887884454,-0.1845229854350519,-0.336351147127268,-0.02203085281007644,0.004586180623888265,-0.3960758532481999,-0.01601654870239429,0.05778900560263024,0.2025540969021426,0.0640982813532344,0.4213853780229727,-0.4887246586775585,-0.35927922591767864,-0.23965348644392193,0.1434559480372105,-0.4375021083876349,-0.03193292754027192,0.396016576722496,0.09393478293589444,-0.12012303301838241,0.023580279572446267,0.013968731976955745,0.3796978756582332,0.06185136752487416,-0.2548612391730146,0.054912882253373735,0.5313258624157355,-0.007661585767319116,-0.05830230568474382,0.08045757682416657,-0.06956769058434153,-0.14889040957818545,-0.24295405842707254,0.020489403572824413,0.6372490333475979,0.017664840978215263,0.32161996509575946,-0.01189701437634976,0.10256564439260363,0.12016403833721663,0.35972793986017926,-0.003929144870104361,-0.047121622689417046,0.14329796236770198,-0.020319783150349248,0.16324032941320943,-0.045260056501491605,-0.07835724466628835,0.23176980936093167,-0.11736217576705833,-0.66813404578732,0.09201191692602229,-0.06453163646334993,0.15867780970328763,-0.14594676604044535,-1.0607002573371906,-0.21487339608073724,0.12060848778955524,-0.44020411952778804,-0.050739761026034544,0.7406950996429531,0.20710445673960712,-0.10878571931163707,-0.42471648606435763,-0.11530143560896061,-0.7052552586194996,0.059419470483444356,0.10785103760653922,-1.6528690567999027,0.8186229238409964,0.3780837648334213,-0.0008764760443254601,0.665592064837321,0.09559021752599439,0.7295821958435363,-0.49535274138200186,-0.11888546343960839,-0.6281236337062792,0.1943517395509402,-0.08187720425994509,-0.107336916020335,0.39533545676247,-0.4406725389178124,0.056224770527925245,0.37231242828336686,0.4416646257637535,0.14229855255786092,-0.41746044189310194,-0.005488412648023992,0.4769753424333528,-0.12317996742409634,0.09201191692602229,-0.2760789721311108,-0.09318605831669223,0.21827368770334044,-0.10674578321354973,0.07463792806898986,0.15586042799152522,-0.22865075916577313,-0.25958741538796715,0.4049594329919572,0.30740146852301664,-0.4596729484482557,0.0842922187444877,0.6601581027242671,0.1754300315530506,0.18716160741465543,-0.2021852178587583,0.27065794510127067,0.5571718286794837,-0.08753432240627589,0.25149171703742773,-0.9513233442871095,0.4522529001747124,-0.16959127808622124,-0.1662618804435672,0.30836948160512667,0.5092296829236732,-0.3024741138363318,0.4269988889259522,-1.7205981528140992,0.37231242828336686,-0.05071908641484926,-0.061129599062377124,0.5340619924879136,-0.18455762850534546,-0.024878372186023463,-0.12849631327844624,-0.018353730092562668,-0.5722162943997223,-1.2726615882624417,0.10288276553304761,-0.1904420887890886,-0.6009138382887727,0.8120326137216105,0.25501094077988135,0.00590870053938556,0.35788045985738076,0.31132056251391943,0.37384264329311884,-0.399531231881043,-0.3603894584312896,0.12528361902529722,-0.09156167990592963,0.2107468752332961,-0.47800744984142246,0.05714535677101108,-0.012891415186534154,-0.5882278656871442,-0.6957857321323234,0.17786749702078425,-0.4573128585310671,-0.03826118936505957,0.11292218115452524,0.01356035858442977,0.07180738383428747,0.3428140402737159,0.23373731133924608,0.2548885325498666,-0.12670124111280945,0.5588102109620388,0.22835046877402673,0.03659026600458309,-0.3060329642210509,0.31943176037684445,0.5148191405262939,0.49331532633139275,0.2300410490989815,-0.7278737140682524,0.2692193065168148,-0.08601395340011425,0.35122118818702563,-0.32532992878584627,0.015985972561805548,-0.13689173626326556,0.7505661217415263,-0.5585222287686374,-0.20283571159987812,0.29335762747396993,-0.2392976758052972,0.1023952709054466,0.07311517885776503,0.27519912135261504,-0.908939111486788,0.28303041317295313,0.024937717570603816,-0.11973850617272586,-0.5127002989376414,0.29193296163378585,-0.32576737215679463,-0.03193292754027192,0.16018034014553512,0.17692416402931238,0.32437399240686265,-0.16313153569124167,0.5297970263484169,-0.39446882204585415,0.20337401914406622,-0.24470472692669978,-0.024664552612372204,0.13898425075552176,-0.3673480665847499,0.3611714554700689,-0.08729927250880327,0.3299979510962622,0.35069391602447403,-0.006544453831833366,0.34724358047181136,0.2954564720068652,0.4869775078797241,-0.361684623849339,-0.7062721586425745,0.8914013295327733,-0.14594676604044535,-0.3312805807819416,-0.1955411554907131,-0.4806532241098387,0.315484872113366,-0.36032262256551795,0.08492042933334164,0.3164007961732105,0.03937492056877931,-0.04495076359393685,-0.24186579533686475,0.7409524918702435,-0.8845329152709401,-0.33410692717155444,-0.015010341058838788,0.605807040388251,0.12247650476535957,0.0418298617764414,-0.01366277479934243,0.23833932398260035,-0.08660608976663806,-0.06956769058434153,-0.0730696685414066,-0.563408331393348,0.29211904370259795,-0.054001436816107,0.2985690209399799,-0.0922584680976981,-0.8056772487909478,0.33192698149040234,0.3997041419660405,0.20822463158179866,0.15146195906214077,0.06045280704101153,0.328118609099055,-0.22877907284402318,-0.15163202897298744,0.2809885742413166,-0.40458473292764296,-0.22466315232995032,0.003089934712694161,0.6500097532086304,-0.02365657294279212,0.06832080079360234,-0.009073585195811182,-0.36399237097046666,-0.37239518092007223,-0.6527350400427301,0.0136158845318532,-0.37137534359754787,0.30191196846065954,0.2579211941442783,0.41595538939944193,0.09602887692782308,-0.2026878303737731,0.03093625525484706,0.0700306086003524,-0.3224298522045108,-0.16687693065618833,-0.05887965688290023,-0.36036687278432733,0.43674344147423055,-0.5034939347042029,0.3375342162249028,-0.1755337884232568,0.2701985217769231,-0.6403610114988286,0.4582724968124561,0.5743589918324947,-0.0839961543840666,-0.4459816841413369,-0.19731262617907805,0.9120285894787482,0.052390950012092014,-1.0594258256317926,-0.2024139653214368,-0.19362459789552317,-0.6957857321323234,0.21442740482477562,-0.1921750599500564,0.37071980191322285,0.8077003761930993,-0.24554751777047326,0.1938120603216212,-0.5943228722755168,0.26865115256343675,-0.1265166463705852,-0.09317324607231219,-0.20825929957508305,-0.23197481804659492,0.2806358128018437,-0.3968808416199154,-0.0010672987315229416,0.45877805543489947,0.27592212633147134,0.24436593910135526,-0.011476452178196582,0.0366132691628581,-0.358684964466238,-1.100136327140672,0.5836786673903848,0.37249344113879856,-0.06040385925705122,-0.1536901940723121,-0.1639264288018638,-0.1110761770058026,-0.30823877232848557,-0.32385948405822607,-0.59706492646914,-0.11167617970202406,0.20663280188059888,0.40453970561849323,0.38716616533914994,0.2654682651390122,-0.14900942542137577,-0.31764040989803666,-0.019754017735826895,0.3777525087149228,-0.4383717887880535,0.3370055170932614,0.34881480584090524,0.20723142296502892,0.3826271433078705,0.18246749854290958,-0.16333372844581165,-0.3896567480332304,0.30337134223004253,-0.111562698038689,0.024681420775274108,-1.5445498116955814,-0.1744533219099089,-0.11709094970792863,0.14339785911224046,-0.3911985593088603,0.0577008294078944,0.057532013064465454,-0.08986663189138462,0.23681542631236782,0.14205727752986586,-0.31499175491476245,0.17077436911304458,-0.1497102600118567,0.5425222370134936,-0.15460434256991185,0.08611862081438697,0.34614896211170365,0.29103420764471477,0.03451407016973735,0.08262529666473882,0.23728634460486753,-0.5298509629568849,0.03232440952173036,0.3997041419660405,-0.2406491971439135,0.2802445817099945,-0.3250139132709693,0.024218337890729944,0.6132608006585041,0.14541900912611097,-0.018244928668924097,0.2940140329326908,0.42644356160262203,0.12247650476535957,-0.2799108286521935,-0.21194922785643727,-0.2533660800914309,-0.17400101221524902,-0.4692157489391689,-0.47800744984142246,0.16124441858531532,0.49909110168286736,-0.12291923809516198,0.018651615079301225,0.2241398551012086,0.485699577880188,0.4211047436751956,0.032733698736163545,-0.3742264648246941,0.20793314899371007,0.13013856627102321,0.10497052474817431,-0.35733735801739797,-0.2767677130159404,-0.6249837876446285,0.12326814035485636,-0.12569965018169377,-0.6623472871962784,0.016878685584353507,0.3168030787288815,0.13502405080483096,0.21252829101596643,-0.2009487562787136,0.11327705629901834,0.20733823561096532,-0.2965829287908892,0.07595460121737364,-0.3846294641244661,-0.08706745872107804,0.2818263993196143,0.304584942952784,-0.32573056602383593,-0.11066902997415265,0.8678994090340673,-0.3304208429655102,-0.044874171736304265,0.14339785911224046,0.15786818416529472,0.034927612254855814,-0.05263608558671241,0.23634630182317337,0.11478191827044647,0.2739876694350792,-0.024076958389503023,0.2849322029427425,0.041866292235528645,0.23176980936093167,0.5675075561308871,0.1482106368680194,0.05709596886884126,-0.4471133719710606,-0.4267643945027958,0.4895850341961011,-0.23220357606520856,0.46168602509248335,-0.4573128585310671,0.7162166591499264,0.5138705869254006,-0.10446031206763252,-0.19409146455834164,-0.7537785329888507,0.1253372738136917,-0.4909780726982549,0.08474006913473399,0.013277019110652113,-0.12090298963541767,0.16571979117688135,-0.2910416899590095,-0.029113443538094533,0.0573138604043127,0.15548554283154853,0.1961862881361961,-0.2633432282949901,0.33838450635725953,0.17961703212939886,-0.35934015072373654,-0.06203780223426,-0.049565551397284226,-0.03232302604655671,0.5828623380711203,-0.07627279746326693,-0.3494829876464638,0.4318015699436142,-0.0022985476299130308,0.356880971294852,-0.1304558661360702,0.8442320516646225,0.4160954028642292,0.2691753968262003,-0.015183754857482004,-0.28792910946532635,-0.2760789721311108,-0.19702297413419614,0.44941363092922565,0.14145797892510736,0.08159281883684666,-0.1604955104829754,0.4545533021246155,0.29639083005180855,-0.8559747299663975,0.05074793594954285,-0.0983096963184125,0.21073930365340413,0.11229900431458972,0.1895880796654073,0.049903645144251635,0.5255784568128764,0.04437579924095132,-0.6527350400427301,0.20579613956528517,0.3559881390312779,-0.3493588929703701,-0.18579881043788346,0.15077731697985358,0.08395002322071442,0.24673939660235433,-0.4820104022722379,0.058559508644928406,0.22203993776006634,-0.17052630468570745,-0.9029844513500511,-0.10760651662796311,-0.07807735947139452,0.11588443912401876,-0.4246278604655087,-0.10195532076961686,0.26762288702284587,0.33810861519729324,0.2081908009833751,0.10118004265859747,0.0013673387839785013,0.07654042816488948,0.4304811685699539,-0.005488412648023992,0.33597268291274296,-0.02657900193387824,0.470116515552711,-0.45162893864940595,-0.37491440194882536,-0.8948505985459552,0.22635655077530586,-0.06124975309814048,0.4574606360508656,0.17628451329912412,-0.11066902997415265,0.02057478826066905,0.076327081205719,-0.5600301219294481,0.4788968793633091,-0.08050497114977281,-0.15213625723548369,0.07087557741538847,0.12799767102284584,0.20263746343214387,0.24033452898633,-0.3525126767708763,0.1097927753121059,0.8488681978419351,-0.1499265384402404,-0.20110362998800127,-0.022702843635527464,0.2076915930207235,0.24478995924010674,0.44540441905915934,-0.14033243862681707,0.02824976309845155,-0.706433079486593,-0.18314062284555835,-0.22426079036740723,-0.3295377175043995,0.310606235352262,0.3383991225748234,0.05709311179567385,0.30036625542660916,-0.12012303301838241,-0.08328498472777683,-0.2125874375929229,-0.09077118997341739,0.16718680071586753,-0.6441704276954938,0.1957587233704779,-0.4180839002089868,0.05327273645793161,0.23672948720745066,-0.21039625534105633,0.4211238408277095,-0.4393236053114626,-0.06289745257758482,-0.563408331393348,-0.047529473854026526,0.12320257671840257,-0.2717093736587924,0.6177447068238112,-0.24069430089645621,0.04445752181445115,-0.46646115724833964,-0.05434734686487002,0.18477988430741285,0.12747699243056493,0.23833932398260035,0.3349645326565243,0.3944062057689642,0.4642414691739936,0.17692416402931238,0.7409524918702435,0.26063974912466575,0.7160827739744249,-0.49774877551765867,0.4241506520102653,-0.08800879641852646,0.1117605874514915,-0.09237766730992773,0.034927612254855814,0.3360843397304954,-0.46915769055553186,-0.5553908906814962,0.23319981680028573,-0.21303983912528174,0.11572997153608516,0.2612201686260594,0.012868844293731679,0.24980099756012772,-0.315803835998081,-1.038665564847906,-0.15973359000854412,0.35788045985738076,0.5628008429748608,-0.17496538636287304,0.2549307938969996,-0.6025707784478248,-0.7537785329888507,-0.171274567406125,-0.06620235015444638,0.030763653636969094,0.18326767461244514,0.480720302193797,-0.4806532241098387,-0.1418366914883568,0.08262529666473882,0.31743638536904073,0.025181513809389162,-1.8161429004167697,-0.08706745872107804,-0.07811492304173748,0.16149883971802217,0.8885375861379977,-0.1181464141897819,0.24980099756012772,-0.21811644342977166,-0.22556735262190006,-0.30823877232848557,0.022154266328037103,0.15598437331793058,-0.3134226162643589,0.39834002375808175,0.013499537532916097,0.26977267609192146,-1.0663098227783743,-0.04525358913872622,-0.32563203276971103,-0.3322894091292772,0.30337134223004253,-0.3148540162123448,0.017402101735906297,0.2782970700739979,-0.42990692930648544,-0.1492116980700161,0.1301239318798978,0.09767355402447211,0.6602218286878891,-0.16593818752079528,-0.1802809086439434,-0.3623527041611127,0.8910258747798605,0.024378372923283605,0.27317753391071714,0.6640861819076121,0.011500164950543101,0.16154259573960075,-0.07811492304173748,-0.19150314197676271,-0.11736217576705833,-0.5254878918590776,-0.22768228001512056,-0.03826118936505957,0.0017789340514812394,-0.6179719339274511,0.09530747355865517,0.1943517395509402,-0.3419971951778639,-0.25946306156409016,-0.41507993107421615,0.4684103746504373,-0.11736217576705833,-0.6872808959782303,-0.027253587135205957,-0.2934075150875172,0.08546777657709707,0.4494644870118011,0.2025540969021426,-0.30790672237725586,-0.6081018862520491,0.12903118096303798,0.570023665442324,0.1554951422537024,0.2359374147181799,0.019702658245094713,-0.3695370535575217,-0.30823877232848557,0.4582724968124561,0.002223851848671439,0.34866005940131073,0.2797329650066393,0.21252829101596643,-0.12180971428712833,-0.19150314197676271,0.2621985055780087,0.02073944267706233,-0.05071908641484926,0.3724270535683772,0.1733629362954519,0.34081427994535685,-0.11066902997415265,0.029261376971104605,-0.025560853554407625,0.28181380733785555,0.11229900431458972,-0.5816549921542229,0.310606235352262,0.43383011606469557,0.04487476661337144,-0.16687693065618833,-0.30042133946854627,0.13859513200448262,0.3319318548081279,0.028263610304806612,0.526153423281588,0.7186681974963087,0.8678994090340673,-0.4226087837460983,0.0960669709423043,0.018680401251043706,0.0439717583998114,0.4262773027130434,0.6177447068238112,0.4743986105507253,-0.3656051799875891,0.20323786035436553,0.5446282502727378,-0.2041892974048731,0.04666091233176424,0.08683511008566625,0.5688589182709088,-0.019277190453216114,-0.003929144870104361,0.28842602772081344,-0.004869746589732964,0.10034932183688708,-0.1691030911492539,0.21755020746630296,0.5594625855291181,0.28559115793653345,-0.4056170368572335,-0.19273299904612243,-0.07623150138955183,0.1563158847385067,-0.026976187851272555,-0.5143818782617576,0.006895558309562743,0.08045757682416657,0.10934826250492401,0.07264607148833215,0.2694737153031702,-0.291962394633545,-0.22438194141175619,-0.33361728456417594,0.38568636519345195,0.0888423133735982,-0.24570598136968497,-0.049213339442799875,-0.010769016354829512,-0.09903602746413231,0.2667603178199688,-0.18601168867318224,-0.2128796133496957,-0.33878859378081,0.1928426464576384,0.29836918179242655,0.26762288702284587,-0.20833992247373534,-0.8842678831387997,0.3004620388089513,0.19211908081988138,0.5642651424288321,0.21192816443549037,-0.43809238396100453,-0.1368527703151612,-0.007857114721939092,-0.1418661058091744,0.1296205682559735,-0.2666066300671544,0.5172331754427096,-0.30643264989134605,0.3373284825167581,-0.4806532241098387,-0.1401067741995655,0.5157443421820076,0.28611558040075086,0.15153250423204292,-0.5404951107964234,0.03395855826347999,-0.07936659818994826,-0.10470476519179296,0.2529232787606508,-0.01189701437634976,-0.26286816909954314,-0.04457380438158211,0.11595740679667128,0.1878639511485611,-0.450983187150292,-0.2745648840268338,0.21235640486087462,-0.08293651950992115,-0.6002772697154135,-0.13071939014444714,0.20710445673960712,0.3281430822030096,0.5172331754427096,-0.08314297544958953,0.09621293926966322,0.13054112064914114,-0.3379330395705941,0.016294769454282244,0.1234654138761545,0.07783670215372879,-0.2560901015168507,-0.1265166463705852,0.44540441905915934,0.09530747355865517,-0.7642699004492259,-0.21096898733231534,0.049608715409637655,0.10224392147207936,0.1463669173149747,-0.08630459656388377,0.19151385962255368,-0.2752034284443539,0.24436593910135526,-0.02380365384166744,0.23145019471014694,0.1356790936757337,0.3482075955709121,0.04445752181445115,-0.0902771908074262,-0.04712149165657612,-0.8980929711370793,-0.0782156214507105,0.008094143978373422,-0.045183284032046744,0.20579613956528517,0.29200517246580865,0.2849030600731807,0.14438673798252838,0.03267814873907526,0.8001530590574957,-0.33621569172602994,-0.18111416482034767,-0.139124278861223,-0.06430556898370285,0.4137187022646019,-0.3052483042318434,-0.3228785978661933,0.1482106368680194,0.04062528864901137,0.14492034976403556,0.042103097317606815,-0.06110037718973864,0.24796747486260212,0.42380972420257007,-0.25827716814184054,-0.05800452124388458,0.49529140787985143,0.09228404086070653,0.27002638890061126,0.14372787243705362,-0.14808046000401293,-0.02327725645293614,0.19458075471345898,-0.6731654348803804,1.421543259933092,0.6372490333475979,0.3327891365314262,-0.16938686375479428,0.8328649080057627,0.08800391533966746,0.46286610652094323,0.10389888898940822,0.10763958675071157,-0.14046003758888945,-0.4393236053114626,0.12561161043828928,-0.3742264648246941,0.15618867988083546,-0.24872183087013292,-0.08344703566753713,0.6671763754625732,-0.15742527769809142,-0.16661353692420114,0.14231442658048638,0.5004546456275256,0.1660601518719421,-0.09546612313307846,0.0264793174226002,-0.0989099816279693,-0.37865525572956565,0.14990434928274898,0.09767355402447211,0.47766532147582064,0.7216975033611804,0.07591719083999475,-0.04676538583438899,0.28559115793653345,0.3139126127112617,-0.35086141394250275,0.12731159676835613,0.09237284132576318,0.1234654138761545,-0.23038484737801657,0.3164007961732105,-1.275737263079583,0.1362808163835513,0.052262032826542355,6.815030574926586e-05,-0.6379553821979227,-0.13071939014444714,0.2912040769422159,0.26574169317451984,-0.0767603302248994,0.07697436799962952,-0.383529765347765,0.06286582587121758,-0.03355775482731299,-0.2374387445977225,0.1559451361183992,0.11831896662252256,-0.04050393083402458,0.07407145228442064,-0.4221368015046608,0.16643874661926472,0.3168030787288815,0.10775305191800204,0.5330209371863082,0.1071856936119995,0.12903118096303798,-0.0025065546472531506,0.02675800097662895,-0.03885305164764078,0.02536714684704909,-0.14845578711395266,0.11454088550649706,0.2042731300044433,0.0915856792066704,-0.01601654870239429,-0.1912631338157259,-0.8333437755627787,-0.08051079268253168,0.07669295551342142,0.024671746351445093,0.02283466221927578,0.3223425026090844,-0.2377713950404185,0.4960090986041469,0.10116591660418432,0.20987976542081044,0.1927746345843791,-0.6168787426897442,0.004586180623888265,0.3403623628749738,0.15226183403051058,-0.34745948687044037,0.020705099718582816,0.4658012690348532,-0.0902771908074262,-0.32573056602383593,-0.040036304469913374,-0.6521686640624711,-0.832148539268499,-0.051989911104722765,0.10927249009719449,0.5795860246927247,-0.17189087655145047,0.41136809488508447,-0.05124838485723659,0.4084280674578612,-0.4091081791383514,-0.6403987073772183,-0.3224298522045108,0.2912040769422159,-0.16284922353558157,0.14991322675407684,-0.6609816631749519,-0.08351659424626684,-0.32489158673305024,-0.10295059520908377,0.16848936382611052,-0.0462266477521767,0.14765112347372247,0.45210249259018237,0.1349528768621594,0.07852868805947047,-0.9479564966159489,0.6814857737719068,-0.152778780852427,-0.2026878303737731,0.6655626754616092,-0.8194462086458865,-0.10737150220400384,0.14847484944206907,-0.1937621009776274,-0.455831142497095,0.06412287241892882,0.1875047698046324,0.715364167682603,0.3644665781175832,0.4487993772348963,-0.4020859916958224,-0.152778780852427,-0.004869746589732964,0.11312029131833443,-0.038876016286502,0.13432282976553905,0.4896792957343639,0.6613547316493992,0.10193718700853528,-0.37515449447865623,0.06856514571774264,0.09449804016401242,0.04487476661337144,-0.24186579533686475,-0.11151876328305545,0.6976113600009314,-0.22556735262190006,-0.3591267267069312,0.49608555374180247,-0.1405510008077288,-0.06477886802221136,0.05470342959974066,-0.3026946478000675,0.08156108337369238,0.20778814394620188,-0.9030432729770561,0.04487476661337144,-0.4393236053114626,0.07146730323205903,0.13363273303311504,-0.4456774216403947,0.14968065932803742,0.08280869766626571,0.2575920263032818,-0.3654929934945705,0.14403330050799498,0.0013673387839785013,-0.019277190453216114,-0.5596986349301468,0.46577299751547196,-0.5902750158065196,0.14233320103183997,-0.34251118195844127,-0.5524335232193335,-0.001522552104490736,0.013968731976955745,0.8910258747798605,0.2669218101761453],\"yaxis\":\"y\",\"type\":\"scattergl\"},{\"hovertemplate\":\"color=0\\u003cbr\\u003ex=%{x}\\u003cbr\\u003ey=%{y}\\u003cextra\\u003e\\u003c\\u002fextra\\u003e\",\"legendgroup\":\"0\",\"marker\":{\"color\":\"#00cc96\",\"symbol\":\"circle\"},\"mode\":\"markers\",\"name\":\"0\",\"showlegend\":true,\"x\":[1.0107275653758756,-0.18508155423719866,1.588336468187583,2.7909939502260794,0.2284019916986233,-0.20659563542619705,-0.16121205305818714,0.41976069039960223,1.472007501063008,0.4569507198239724,-0.3509089893307418,-0.1220098256470836,1.293680355226659,-0.22104929178282468,0.4322369009753364,1.1159015618828652,-0.19428749784985722,-0.03498315938823922,1.0462370207839728,-0.19422108053346437,1.4468258658025506,0.6679636098481875,0.6873377644282381,1.0315076881409235,2.1979476066414714,-0.1101692765628147,0.5560654167564918,-0.298384742532705,0.42992186166106056,0.057390979164501546,2.2839088722458287,1.000292339840457,0.19048031572214028,0.05928735088472787,-0.10558032345190338,0.8420178741919442,0.8169206991069984,0.6076787256246173,-0.039470071558002855,0.47448098885468554,-0.3491981566133465,0.6465132340950669,1.4429893589629066,1.9078464226281187,1.1133514139285285,0.44567171025660596,2.088486748635421,1.4273172353914527,0.47831302202912285,0.36479842286559927,-0.07431445482170493,1.0755137829665231,1.8914412719598954,2.841418687255056,0.9609237600014375,-0.15267124618897063,2.017909940317386,1.0460120799259915,0.3680333085261238,1.274984023470978,0.46683849279354195,0.7698317464562923,1.0310444937025434,0.14416024254651957,0.8353729589577388,1.2227758798333008,2.0452895669950064,1.2697971336571918,0.5742747591182465,0.40911396301682806,0.061225849611883494,1.5140134919110133,0.9630789609489445,1.0008561937944285,0.46683849279354195,0.08432229851512309,0.9037547775456195,0.8296700598743504,0.7714747301684576,0.2267032553268543,0.1130753371168838,1.0614612347435803,-0.3548288759738017,0.1468529596341376,0.5120546826648394,1.7454005641039947,1.7335141870408344,0.7452301818078044,1.5572995263819693,0.5074002634869166,0.3274439333733849,1.9398617458136267,0.7684380253080016,0.7382946368763454,0.6963658679428149,-0.041317334709626445,-0.2129046344262771,0.6437305147939497,0.3664186151812488,1.5563291968841342,1.8840660438673242,-0.211286247635839,1.3017544418181963,1.535354340835533,0.5049566348823776,0.3224662912275673,1.3572739688564452,1.3889214233614497,1.656974423128895,-0.05149494943544243,1.5775121361257483,1.1794547773765804,1.7101118207174015,2.1328928613664915,0.7750560833003973,1.4097856540089835,0.28241822971319125,0.579607156301105,0.6977283533251667,0.10968012938819435,0.607782748347066,0.7601564280291476,0.9907026530439291,1.9300580331480472,0.2870287403105717,0.1267443843950105,1.5882372959925473,0.07977028605341424,-0.06335489237496018,1.0382413951917184,0.8169206991069984,0.4432443400554331,0.8204905353161527,-0.11135844800304998,0.03183533108120965,2.1936571224929384,0.8970673732434897,0.7295274000503505,2.198450616208764,1.26362765636286,0.33576182335390575,1.1896401823857008,0.9872607212881441,2.8069696249562686,1.7700141875473423,1.1895068752723568,0.13612565279858413,1.0659772301705122,-0.37610854483321876,2.092702300075539,0.09882238083267514,-0.27712700186451106,1.0354106559790166,2.5634859691976395,1.0620828448462623,-0.014627823492888057,0.7041906172718927,-0.16121205305818714,0.06052961910822182,0.5990929222238063,-0.06929540153603415,0.4092938580748815,0.8060532622127441,0.9112319417339649,1.4911757084452715,0.7980347868957799,1.6604824700208196,1.7159280796569871,1.3017544418181963,0.7820128054935324,0.02354544732986727,0.8116142865552405,0.7024752101081854,0.4871038401156444,0.9703300527360675,1.705374069564648,0.19017073501054685,1.27501219453212,0.6493938640757235,0.3664186151812488,1.3417933921273335,0.36679676182987264,-0.08860491037327729,1.1592987254781737,1.1851990211333814,0.5830235779806671,1.3467627265625026,0.7135258713573597,-0.08552620345531187,2.5321501169065352,1.9736259638059046,1.9398617458136267,-0.39612786778729797,1.3018677079793683,0.47620431168420885,0.08125621013931256,1.3721688184935126,0.5407824582038219,1.0724175378586078,1.9306231512823853,0.4569507198239724,1.8908769690802207,0.5595456521828478,0.9984152032107799,1.705374069564648,1.3769367956671106,0.9118568105792308,1.3556601171555065,0.2003005855877131,1.9614832176678014,-0.15030065598789746,1.2271406981540747,0.187908827620634,1.0043450918971721,0.3620259055605316,0.7794613978737235,0.7412535002623561,1.646989131557953,-0.019963359181300967,0.7664773267948366,1.1165949977354137,0.42697379152071924,0.8879490887229947,0.24157759769469675,-0.21468350081681326,2.5634859691976395,1.7075877622957343,2.004627825576217,0.4528737668727763,1.3909955352908117,0.7970913473045959,1.94176811195627,0.1619919584446757,-0.2514612434877173,-0.20659563542619705,0.5568839003961988,1.271455533697516,-0.027074624832723344,0.42147468092382995,1.7711794150169855,0.8472400797921129,1.2674613785553026,-0.05252750307028819,0.31127635591317426,1.4822638554699004,1.9476081119552018,1.7239304829930322,1.180781698609826,0.6051841358040553,0.08882941840355198,1.3080313897241382,0.9379053627916443,2.092702300075539,1.6662701641239328,0.6605528800364053,1.9614832176678014,2.010526575184448,0.6273594001716479,0.7164401198269991,1.6680234515505337,0.48458144423419874,0.5475615761862296,0.7717556449782321,0.9026954393503597,0.019025863177462563,0.6454266114884802,1.0981335577185773,-0.2821083946415308,0.406261207289091,0.2498441067998132,1.3405215397445087,1.3906640196640123,1.0755137829665231,2.3976236921643816,0.39240833032835515,0.9968727371781247,0.6800690289892959,1.4458182210163388,0.8535214198937142,1.5532775263689125,0.2863990868120249,0.9895678903312924,0.3825164084857358,-0.28356878431713384,0.9021316528760246,1.5471190586693622,0.642267280753662,1.7810078355716503,2.610891114763349,0.5244037129445849,2.578710562922832,0.3273007094919875,-0.11643177179767102,1.6291533463482626,1.2927842165070014,1.0611476314445185,1.058148544399073,0.9872607212881441,0.7699423056330511,0.9846804726536883,0.5910548347011197,1.089281303435711,-0.18554649715506338,0.9275396683988288,2.1466546851283335,0.1551093379381687,-0.27895396336370465,0.7543283017433596,0.7003635400118323,0.057390979164501546,1.4051202396614408,-0.07087786055248203,0.736650351193445,1.5466127681827397,-0.07087786055248203,-0.28771137255255597,0.9917142436855516,-0.24321964402797072,0.5255521953972985,0.3746101112570278,1.4079971315242965,1.0008561937944285,0.7473835223610265,1.2708796582650914,0.8018509250288731,-0.22104392573217857,0.29427115018398725,1.3875172948379453,-0.15399762325489166,0.5370561204337125,1.180458276102341,0.3272830328022187,0.44586466811052505,0.8393100519509741,0.9115891903039531,0.4416396350718588,1.8783202340667275,0.5987497366694926,0.727867694014256,1.1592987254781737,0.8648035943206624,0.6325688773674977,0.6108692235699618,0.023520482879280494,1.120085296460567,2.1488725263738107,1.563137762848347,0.4169473439956855,0.6282857554229399,0.5541563786118561,0.6849368243556082,0.39478457718979587,1.644313996051229,0.7891870909371711,1.6707292659615287,-0.18927830792497652,0.35199086051573875,0.01626683250888266,-0.2344787036008694,0.12140191240094039,2.7648815737873966,-0.18266809525755834,1.0680366893525952,-0.34289494228091616,0.642267280753662,0.11389447164400533,1.4866737272236858,0.4241108249968362,0.30435041403081736,0.4384715180951431,-0.003084305808411942,0.7009847377043785,0.26627945118581453,1.0008561937944285,0.19060837788607546,0.24157759769469675,-0.07899839685216037,0.6754455980755482,0.3888077499549572,1.459317436928736,1.5563291968841342,1.7336984929459387,0.23045186837142764,1.9942998068252735,0.5549557358774219,1.5822387773083069,-0.2988954652552163,0.3156806241388855,1.1239207285175183,-0.3139798379391747,1.7510524448939853,0.3277464530673626,0.5990929222238063,0.5810540971345944,2.7143270279844893,0.38659193931234576,0.41684603405799314,1.6184946105760203,1.6814122067457622,0.09478587548500342,0.3303656500230273,0.8489390484942166,0.37650488328439574,0.1747518522862477,0.6323407570025062,0.4288489431248554,1.3405215397445087,0.406804063143528,0.02039734785882431,1.2605360230000955,0.1861975779761851,0.5700615204127591,0.9740954285319645,0.005772706235099761,0.4811976446526176,0.7069250219171933,0.453146659127186,0.7024752101081854,1.5334852108243413,0.7276915292387247,-0.18491084440302022,0.9902029631371897,1.588336468187583,1.1513986806937757,1.0462370207839728,0.014738643203057617,1.3799407294602521,0.8335622695497883,0.11227080103675256,1.9720339900076553,1.4745105524134106,0.1773819534329829,0.9139686283320372,0.07307636102463283,0.9703300527360675,0.004156197013540436,0.07666318721243565,2.4918018648410336,0.10004514471353612,0.5995370890146821,1.5477144713807023,1.5726046941924907,0.6465576080040808,0.9390055273725989,-0.05413199296903658,0.7798052645325182,0.09638345812862754,1.4911757084452715,0.16835487838438423,1.3439564767551007,0.1701909550549126,0.46205416535735466,0.5895211902386344,1.3289714527963972,-0.31730316222084465,0.6741784429958301,1.6332979560957304,0.3825164084857358,0.8610767793463642,0.5400350715908498,0.9740954285319645,-0.1295708045314724,0.2003005855877131,1.2369120243392335,-0.08027186443976335,1.4273172353914527,1.6900775370109076,0.5742747591182465,-0.014627823492888057,0.26577926778510097,0.6126466820847788,0.14864378790214625,1.188526653310388,1.249096682949307,0.9021316528760246,0.5006013562987865,0.9588445635977302,0.6100515908689611,-0.2776555832690942,1.0315076881409235,0.17349809290244503,0.4288489431248554,0.07845375795279262,0.7936315852842675,0.7023245872641571,0.6118462819769669,1.4015073540375889,2.1332140416716237,0.3304675950555646,0.8648035943206624,1.2231145026684258,0.5283533251291388,-0.3250238177367755,0.7842070941549476,0.05681324621044536,0.8336221175653343,1.2305607761215052,0.11288644780947854,-0.09197128448958275,1.3527237617019374,1.1654369020309499,1.914570664500135,1.6927950912727656,1.0520071462461342,0.8581191563414573,-0.026144798873710972,0.7828641851956761,1.3080313897241382,0.15025720830837447,1.1311646424714805,2.1559397202507657,0.5074002634869166,0.5069572390522377,-0.06272366516037513,-0.16260822931373387,1.9328135354449856,0.33657520256944495,1.131977975697396,2.386621522464647,0.8390236096447885,1.5179713757078752,0.5036494078149852,0.08437624213854542,0.27081739557725,1.1635163152222223,-0.10508365915318585,-0.41233349184083085,0.1955900051024005,1.8008750854379958,1.1484313787635763,2.493094181336203,0.31462535177267403,0.4657020469405047,1.4048499045214211,-0.008911319328744538,1.5313664840347418,0.2341083811428834,0.7711602510559813,-0.08430143240674118,0.007848514143571378,1.0363457878043134,1.619351921068202,1.5334852108243413,1.441234154041974,1.9942998068252735,0.7024752101081854,0.8592970129970485,1.7811764055988142,0.6662085333977064,0.09311659481910588,-0.1962699066756883,1.6814122067457622,0.6977283533251667,-0.11944361019043298,0.31462535177267403,3.5095136908776468,1.655332471367977,0.8970673732434897,1.2445238001516306,0.4834575297057203,0.4310229850950468,0.7305764245416575,0.8195216516897217,0.5780320943788114,1.8080359502786212,0.47831302202912285,2.225868129515723,0.7815994744334398,0.5458223759670391,0.15202810037679265,1.7767139161305185,-0.042539899211802124,2.597984980149276,2.9927110358419378,-0.08881526861752395,1.4158248336847779,2.550370124851795,0.04896362498807811,0.923747379291699,0.9843560219784169,2.595995087327106,0.18120550108675085,0.2508751794368092,0.5583911064291815,0.7962990540653446,-0.12226607078237518,0.30435041403081736,0.16950844483249103,0.001694679220591722,0.1917398629700393,2.241810315471163,0.8343880763682386,1.0467756780389958],\"xaxis\":\"x\",\"y\":[0.029267402872449503,0.9308714248982685,0.8926253848152013,-0.5474610913322273,1.0612679793046582,0.9002361436658565,-1.2007052573020656,0.8846377698357932,0.9228142935640051,-0.6594190457375301,0.2534625633892721,0.987465918605283,-1.6160028646634201,1.1121237393256262,-0.6224084243934561,-0.5979437050339073,0.8290199883389301,0.27148417979002637,0.1619486699651605,-0.3238250001594292,-0.25425746786445524,-0.4230917004300861,0.7119227815840079,0.1593764263301542,0.6576223515760348,0.07241153615761192,1.0428078027585188,-0.3747502491174919,-2.1407290902030423,-0.025595202423895874,-0.8513792086699119,-1.8230251291439317,1.109831885726632,-0.419902401650629,0.46026695955310115,-0.9372538471610615,0.6560169952929419,0.6213527119938571,-1.7975023490673825,0.28838813081792863,-0.8283869295532795,0.21436366111672006,0.9857822997133665,1.3612217795847559,1.5933036911083125,-0.2777959753567231,-0.3688773066091165,-0.9526646381254263,-0.8943066214086771,1.0930735977855977,0.5052103424539615,0.39837673760251585,0.744707362480311,-1.2511268753737819,1.3266666230894857,-0.9081952728090665,1.7819835283552796,0.6904983161062993,1.131738605786581,0.0863374933683786,-2.031154769946011,-0.1298546017559488,0.8917786035013978,1.119702768284841,0.2714570858904941,-0.9615905281668453,-0.6000672293582794,1.0134533017296887,1.1123034708175696,0.9746816557683088,1.1352031689989157,-2.0203983023574565,0.3914887815450779,-0.8527599115628925,-2.031154769946011,-0.12903954310383575,-1.4559789674317873,0.9937286886184316,0.40656268910039733,0.7448152524281253,0.6048907732779005,1.5525314620986148,0.9426041807764913,-0.21188440552891316,-0.2633723624281271,0.06381864088150935,-0.6394591100907501,1.2835806558580143,0.9377829613307687,0.9288784729046301,1.233539331781407,0.04896440955740696,1.5322335947648569,1.4615600952610321,0.8729769765653113,0.49009769660825503,-0.22697460100338535,-1.405284842441284,0.5992510708773773,0.049844161898459985,-0.9430195520315724,-1.0330982100240247,-1.3699049876352385,0.35591623931166283,0.1236594180155694,0.3311770179712391,1.4521897644768362,-0.32115399139910705,1.3013416287056023,0.4765518670096972,0.7354546323854569,0.8947614553706124,-2.0449007310121896,1.8703506375489214,-2.3172843187504757,-0.24358385526488494,0.8943181979039819,0.480899979263088,0.33552517882796423,0.2574571757701791,1.1749086654570005,0.08705828947656166,1.6508414328976244,1.8541475363895559,0.14320503877710275,1.0848379180634327,-1.1621506311173546,-0.48319102868370417,-1.3152197906011929,0.4988470144917404,0.6560169952929419,-0.3628672541343817,-0.85964791842121,0.6110376797619471,0.7747042346650156,1.833247676123399,1.1596048856709662,0.4060459119323946,-1.0514805600037473,-0.4295222598612061,-0.23256718984085753,-0.7015596068268932,-0.04324306295499129,-1.0397623756483694,1.0708656590940586,1.6300819541338887,-0.8361839453159595,0.72310226946085,-1.0346478321144381,2.5634307927259923,-0.10304694983659801,0.44018334584821295,-1.4512342614819,1.760626460488768,0.4762658013943901,-1.3553373968774767,1.242780742302686,-1.2007052573020656,0.5641917372434463,-0.3822552515338712,0.30162359350177004,-0.01088488864925243,2.3002911076215926,0.6214469627169558,1.2236859255603938,0.3494407590600599,0.34974675162925817,0.06414989409116707,-1.3699049876352385,1.1304168029471877,-1.599001431809626,-1.4373560958431895,1.212574121608575,2.100520518090026,0.43938747986503507,-1.7297610647961326,-0.4145412760488006,-1.2810040275019305,-0.06425869499032989,0.5992510708773773,1.1717458613472587,-0.4762483890439915,0.8162395861048418,-1.0961226828298753,0.578300179177778,-0.3235614131261371,1.5495794626093704,0.7569877656878587,0.6843714452338537,-1.9490217649939994,2.021773666076414,0.04896440955740696,0.24947262980974858,-1.6197546909693112,-0.04782123877759711,0.13518610404940118,-1.401308874939487,1.471421777748798,-1.3979679698196736,-1.5793915673618741,-0.6594190457375301,1.3515938309705497,1.1191309489828352,0.434146841433823,-1.7297610647961326,-0.6057407745869485,1.3613476023862305,-1.0139444522722603,0.9567432475033094,-2.436592954984823,-0.004566177443873063,-0.5137640027350616,-1.1516687562938195,-2.4983525220053915,-1.5547751640294027,1.0093397299727087,0.35390996856043,-1.6894477804704007,0.6075445324591531,1.2516206551820528,-0.9034263446655612,0.4459993564952444,-0.5065009069605444,0.37494534191022494,0.3758036476512727,1.760626460488768,1.2242952020332285,2.1098953919845593,-1.4244137143715756,-1.0968830524575959,-1.6617285336047949,-1.6671154954772316,0.12161402894199252,-1.106616735277504,0.9002361436658565,-0.4872705301536956,1.1690009631375466,-1.1625620550357119,-1.6080310200166843,2.071877461899501,0.3970407074980886,-1.1760977372855608,-0.8611581487974302,-0.5320638744425499,0.4706506648159366,-1.4076801425950507,-2.541508684836726,-1.3999453916024351,0.5154529602134862,-0.9204143663419659,-1.367689986732238,0.8635958267383691,2.5634307927259923,0.4655368942049293,0.37459339578418577,-2.436592954984823,1.495096566659843,-0.7091402945396721,0.35311291505316594,-1.305156564969941,-0.9288037501529371,0.8927760928479571,-1.422137539005152,0.45616038145953575,-1.4352558192601417,-0.7095791083893015,-0.4999678709419324,0.22324706758167,-1.170767863933119,-0.4784794904891699,0.7901149824562346,-1.8573725109146806,0.39837673760251585,1.3389317733953323,0.5702096531654024,-1.9908798333281983,0.09565496039982235,-0.1188670320850945,-1.0160375128695647,0.4084549773782163,-1.148999447593217,-2.416221809758878,-2.714436770697779,0.37446879042303416,1.0591996755469728,0.7484947301491873,1.0498718193119476,-1.686078703419119,-0.7386734182113971,1.1063824794440074,-1.715978405327795,0.18073431428624845,-1.3065870166450297,0.9727062888594308,-0.9214661540877075,-1.115075853541119,-0.5804618493808869,-0.04324306295499129,0.9670781114889718,0.4328746908072488,0.3513872459614598,1.7573958454463614,0.7091327462302022,0.7822547608368451,-0.6723821786791944,-2.3535909745377883,0.2837591751937902,0.5196273322185054,0.2906572159505223,-0.025595202423895874,-1.025458052330888,0.49678356300340737,0.5909966605361844,0.5999620252430624,0.49678356300340737,0.8659213102755844,-0.23111002952882043,0.2942436743931112,1.1290775061401312,1.1412178990336819,0.9957095803291507,-0.8527599115628925,1.4207674110878101,0.18867093741752938,-0.9168496023197534,0.47861649144915397,-0.09944120811345943,0.17828274635138505,0.23832805378714766,0.4293011854274679,1.3520185471539028,0.4189287738803134,0.6375912857505209,0.04146023678232756,-0.070579093645795,1.086914167336158,1.0806319685068253,0.9317416688137571,0.17534236084738003,-1.0961226828298753,-2.1157248829675273,-1.0466700273935845,0.39919023297364026,-0.1297855010522588,0.664974235909093,-2.027651341127887,-1.1956493326553344,-2.7639213183594693,-1.3422005723610035,-0.2838613711824971,2.0882154240563984,0.361884944167023,1.6846898886045436,0.9055037098613888,-1.2843106596292064,1.06986753032917,0.41823936892360203,-1.0995987790097512,-0.8725024309509675,-2.2707333153240485,-1.2484260173448138,-4.247070522141365,0.47822194700659604,-0.9791386669993609,1.0498718193119476,0.6399446444615308,1.8276694555378281,0.17534241253713395,-0.6176103244050836,0.36557546545321784,0.8569648199700654,-0.1626989776825445,0.8830628732730179,-0.8527599115628925,-1.4088697378232038,0.37494534191022494,0.4286691782225579,0.7246404599710746,-0.9626043121657208,-2.995812603843021,0.049844161898459985,0.5835189375436208,0.3686517450705704,-0.8048483150490892,0.3197334628303154,1.2912151640437302,0.9126663986330524,0.11779083972552636,-2.467166797158299,0.1323680237692021,-1.076436598397658,0.9054476154073005,-0.3822552515338712,0.8852742499908051,0.1973672659444278,0.5016911009643499,0.7164544881191454,1.092522085988459,0.16887174769094804,-1.313849934597357,-0.5135639928549571,0.8082304403019276,0.9135392567517641,-0.6267431864486716,0.49136785190600657,-0.10882088750840385,0.7901149824562346,-0.08471931038922055,0.7645013226944716,0.8797405930230573,1.2922296886727258,1.5157907530513508,0.4817880445942098,0.5684158574877625,-0.14035778966972914,-0.18067667336416282,0.954300801738827,1.212574121608575,-1.0519877295787814,1.4633876765042555,0.4582446171334204,0.5281227880522301,0.8926253848152013,1.5632384571162963,0.1619486699651605,-0.33928862814673955,0.7409485471815817,1.1945921847000027,0.15250895726054886,0.5764446859725952,-1.8763421225707242,-1.1764805074502929,-0.2386590793576313,-1.2025510174459346,0.43938747986503507,0.6266908392112617,-0.5134965430855433,-1.4026943040228947,-0.29987562255480277,-0.32363362850920924,-0.8032622021547292,1.337879301966119,0.16344265694970295,-1.6765412208476433,-0.26224276773986105,0.151064614521961,0.9541473171008815,1.2236859255603938,0.39473535886138295,-0.6676326477604592,-0.6812292808994613,0.19337980614046507,1.1338091455014885,-1.5226690270939829,0.8435741179122305,1.2659924599258128,1.1200649232177706,-2.714436770697779,0.5462367622096229,-0.6314056879735572,0.4817880445942098,0.5896018222561293,0.9567432475033094,1.1496168515472476,0.962485182693482,-0.9526646381254263,-1.6150890629919246,1.1123034708175696,-1.3553373968774767,0.18254648153129013,-0.6552389661340307,-0.44956851524350705,0.4205759551116992,-0.11141686390634678,1.0591996755469728,-0.3139514490855272,0.9246994757449949,1.0276894355384858,-0.36256696750532297,0.1593764263301542,0.9904433350379193,-0.10882088750840385,-4.670375100212572,-0.7152491646481614,1.2149278033379312,-0.17068070233170693,-1.7624766981421913,-3.1062439409741343,0.538950722667353,-2.1157248829675273,-0.07410013887177047,0.4608590717931278,0.2686721045787382,1.617442270442668,-0.6965529820008721,0.6416746178419647,-0.020843738381448883,0.07345887350094374,0.7260989579119267,-3.45898298357525,0.3805589837337304,0.9096088960419879,1.4137682102764053,-0.625310577362082,0.39082386979816847,0.7609853320267235,0.10913592947702092,-1.367689986732238,-1.319977950983036,-2.0542935431509384,1.50734132382036,0.9288784729046301,-0.43707739036669213,-0.1384513830357365,1.0011111292457036,0.24248625561378487,-0.36996917919575933,-0.5215163309576626,-0.3696735643479931,-0.5824010861295306,1.8172599198967454,0.6644025266435485,-5.232701527192716,-1.5144007789780112,0.4469263567761793,-0.35043348048707723,-0.8421790157973146,0.65793838187621,1.0795390903748394,1.3610115700714276,-1.8903179559474867,0.24839571928949683,0.873480317941722,-1.1674565149773568,-1.9303615252326725,0.11713431952302258,0.3069702211492333,-1.799210565038709,-1.6199203532891515,-0.6223470491241958,0.5921518884502737,1.390644748373125,-1.0519877295787814,-1.7073984524085128,-0.8048483150490892,1.212574121608575,-0.4902196091577039,1.8468954078099884,0.06392307077983067,0.14304892550565376,-0.7661888777100244,0.16887174769094804,0.33552517882796423,0.22076082814566853,0.24839571928949683,-0.6783223712018113,0.5410718591536428,1.1596048856709662,1.225174385606699,-0.822874649633893,-0.31774815707204096,-0.8998409678228688,0.43731792761737476,1.1488548191174381,-3.502320610127843,-0.8943066214086771,1.8589519205337095,1.488469839551958,2.15110372466092,0.8342083179715011,0.06042127367933821,0.9366797162161393,-0.8564258469562905,-2.4339525633598287,0.7816991391229462,-0.4984514355277993,-2.549181910404031,0.8195345738023787,-2.9194121158959967,0.1714400373803902,-1.1080229440933553,-0.8121028370463514,-1.6895568198663737,0.04117748732455963,0.06452865479081173,0.6219607696946721,-0.6176103244050836,0.23139335993113433,-0.5468286773986574,0.7965099946568795,-2.6537904283680587,0.9498179157344144,-0.05870836041302487],\"yaxis\":\"y\",\"type\":\"scattergl\"}],                        {\"template\":{\"data\":{\"histogram2dcontour\":[{\"type\":\"histogram2dcontour\",\"colorbar\":{\"outlinewidth\":0,\"ticks\":\"\"},\"colorscale\":[[0.0,\"#0d0887\"],[0.1111111111111111,\"#46039f\"],[0.2222222222222222,\"#7201a8\"],[0.3333333333333333,\"#9c179e\"],[0.4444444444444444,\"#bd3786\"],[0.5555555555555556,\"#d8576b\"],[0.6666666666666666,\"#ed7953\"],[0.7777777777777778,\"#fb9f3a\"],[0.8888888888888888,\"#fdca26\"],[1.0,\"#f0f921\"]]}],\"choropleth\":[{\"type\":\"choropleth\",\"colorbar\":{\"outlinewidth\":0,\"ticks\":\"\"}}],\"histogram2d\":[{\"type\":\"histogram2d\",\"colorbar\":{\"outlinewidth\":0,\"ticks\":\"\"},\"colorscale\":[[0.0,\"#0d0887\"],[0.1111111111111111,\"#46039f\"],[0.2222222222222222,\"#7201a8\"],[0.3333333333333333,\"#9c179e\"],[0.4444444444444444,\"#bd3786\"],[0.5555555555555556,\"#d8576b\"],[0.6666666666666666,\"#ed7953\"],[0.7777777777777778,\"#fb9f3a\"],[0.8888888888888888,\"#fdca26\"],[1.0,\"#f0f921\"]]}],\"heatmap\":[{\"type\":\"heatmap\",\"colorbar\":{\"outlinewidth\":0,\"ticks\":\"\"},\"colorscale\":[[0.0,\"#0d0887\"],[0.1111111111111111,\"#46039f\"],[0.2222222222222222,\"#7201a8\"],[0.3333333333333333,\"#9c179e\"],[0.4444444444444444,\"#bd3786\"],[0.5555555555555556,\"#d8576b\"],[0.6666666666666666,\"#ed7953\"],[0.7777777777777778,\"#fb9f3a\"],[0.8888888888888888,\"#fdca26\"],[1.0,\"#f0f921\"]]}],\"heatmapgl\":[{\"type\":\"heatmapgl\",\"colorbar\":{\"outlinewidth\":0,\"ticks\":\"\"},\"colorscale\":[[0.0,\"#0d0887\"],[0.1111111111111111,\"#46039f\"],[0.2222222222222222,\"#7201a8\"],[0.3333333333333333,\"#9c179e\"],[0.4444444444444444,\"#bd3786\"],[0.5555555555555556,\"#d8576b\"],[0.6666666666666666,\"#ed7953\"],[0.7777777777777778,\"#fb9f3a\"],[0.8888888888888888,\"#fdca26\"],[1.0,\"#f0f921\"]]}],\"contourcarpet\":[{\"type\":\"contourcarpet\",\"colorbar\":{\"outlinewidth\":0,\"ticks\":\"\"}}],\"contour\":[{\"type\":\"contour\",\"colorbar\":{\"outlinewidth\":0,\"ticks\":\"\"},\"colorscale\":[[0.0,\"#0d0887\"],[0.1111111111111111,\"#46039f\"],[0.2222222222222222,\"#7201a8\"],[0.3333333333333333,\"#9c179e\"],[0.4444444444444444,\"#bd3786\"],[0.5555555555555556,\"#d8576b\"],[0.6666666666666666,\"#ed7953\"],[0.7777777777777778,\"#fb9f3a\"],[0.8888888888888888,\"#fdca26\"],[1.0,\"#f0f921\"]]}],\"surface\":[{\"type\":\"surface\",\"colorbar\":{\"outlinewidth\":0,\"ticks\":\"\"},\"colorscale\":[[0.0,\"#0d0887\"],[0.1111111111111111,\"#46039f\"],[0.2222222222222222,\"#7201a8\"],[0.3333333333333333,\"#9c179e\"],[0.4444444444444444,\"#bd3786\"],[0.5555555555555556,\"#d8576b\"],[0.6666666666666666,\"#ed7953\"],[0.7777777777777778,\"#fb9f3a\"],[0.8888888888888888,\"#fdca26\"],[1.0,\"#f0f921\"]]}],\"mesh3d\":[{\"type\":\"mesh3d\",\"colorbar\":{\"outlinewidth\":0,\"ticks\":\"\"}}],\"scatter\":[{\"fillpattern\":{\"fillmode\":\"overlay\",\"size\":10,\"solidity\":0.2},\"type\":\"scatter\"}],\"parcoords\":[{\"type\":\"parcoords\",\"line\":{\"colorbar\":{\"outlinewidth\":0,\"ticks\":\"\"}}}],\"scatterpolargl\":[{\"type\":\"scatterpolargl\",\"marker\":{\"colorbar\":{\"outlinewidth\":0,\"ticks\":\"\"}}}],\"bar\":[{\"error_x\":{\"color\":\"#2a3f5f\"},\"error_y\":{\"color\":\"#2a3f5f\"},\"marker\":{\"line\":{\"color\":\"#E5ECF6\",\"width\":0.5},\"pattern\":{\"fillmode\":\"overlay\",\"size\":10,\"solidity\":0.2}},\"type\":\"bar\"}],\"scattergeo\":[{\"type\":\"scattergeo\",\"marker\":{\"colorbar\":{\"outlinewidth\":0,\"ticks\":\"\"}}}],\"scatterpolar\":[{\"type\":\"scatterpolar\",\"marker\":{\"colorbar\":{\"outlinewidth\":0,\"ticks\":\"\"}}}],\"histogram\":[{\"marker\":{\"pattern\":{\"fillmode\":\"overlay\",\"size\":10,\"solidity\":0.2}},\"type\":\"histogram\"}],\"scattergl\":[{\"type\":\"scattergl\",\"marker\":{\"colorbar\":{\"outlinewidth\":0,\"ticks\":\"\"}}}],\"scatter3d\":[{\"type\":\"scatter3d\",\"line\":{\"colorbar\":{\"outlinewidth\":0,\"ticks\":\"\"}},\"marker\":{\"colorbar\":{\"outlinewidth\":0,\"ticks\":\"\"}}}],\"scattermapbox\":[{\"type\":\"scattermapbox\",\"marker\":{\"colorbar\":{\"outlinewidth\":0,\"ticks\":\"\"}}}],\"scatterternary\":[{\"type\":\"scatterternary\",\"marker\":{\"colorbar\":{\"outlinewidth\":0,\"ticks\":\"\"}}}],\"scattercarpet\":[{\"type\":\"scattercarpet\",\"marker\":{\"colorbar\":{\"outlinewidth\":0,\"ticks\":\"\"}}}],\"carpet\":[{\"aaxis\":{\"endlinecolor\":\"#2a3f5f\",\"gridcolor\":\"white\",\"linecolor\":\"white\",\"minorgridcolor\":\"white\",\"startlinecolor\":\"#2a3f5f\"},\"baxis\":{\"endlinecolor\":\"#2a3f5f\",\"gridcolor\":\"white\",\"linecolor\":\"white\",\"minorgridcolor\":\"white\",\"startlinecolor\":\"#2a3f5f\"},\"type\":\"carpet\"}],\"table\":[{\"cells\":{\"fill\":{\"color\":\"#EBF0F8\"},\"line\":{\"color\":\"white\"}},\"header\":{\"fill\":{\"color\":\"#C8D4E3\"},\"line\":{\"color\":\"white\"}},\"type\":\"table\"}],\"barpolar\":[{\"marker\":{\"line\":{\"color\":\"#E5ECF6\",\"width\":0.5},\"pattern\":{\"fillmode\":\"overlay\",\"size\":10,\"solidity\":0.2}},\"type\":\"barpolar\"}],\"pie\":[{\"automargin\":true,\"type\":\"pie\"}]},\"layout\":{\"autotypenumbers\":\"strict\",\"colorway\":[\"#636efa\",\"#EF553B\",\"#00cc96\",\"#ab63fa\",\"#FFA15A\",\"#19d3f3\",\"#FF6692\",\"#B6E880\",\"#FF97FF\",\"#FECB52\"],\"font\":{\"color\":\"#2a3f5f\"},\"hovermode\":\"closest\",\"hoverlabel\":{\"align\":\"left\"},\"paper_bgcolor\":\"white\",\"plot_bgcolor\":\"#E5ECF6\",\"polar\":{\"bgcolor\":\"#E5ECF6\",\"angularaxis\":{\"gridcolor\":\"white\",\"linecolor\":\"white\",\"ticks\":\"\"},\"radialaxis\":{\"gridcolor\":\"white\",\"linecolor\":\"white\",\"ticks\":\"\"}},\"ternary\":{\"bgcolor\":\"#E5ECF6\",\"aaxis\":{\"gridcolor\":\"white\",\"linecolor\":\"white\",\"ticks\":\"\"},\"baxis\":{\"gridcolor\":\"white\",\"linecolor\":\"white\",\"ticks\":\"\"},\"caxis\":{\"gridcolor\":\"white\",\"linecolor\":\"white\",\"ticks\":\"\"}},\"coloraxis\":{\"colorbar\":{\"outlinewidth\":0,\"ticks\":\"\"}},\"colorscale\":{\"sequential\":[[0.0,\"#0d0887\"],[0.1111111111111111,\"#46039f\"],[0.2222222222222222,\"#7201a8\"],[0.3333333333333333,\"#9c179e\"],[0.4444444444444444,\"#bd3786\"],[0.5555555555555556,\"#d8576b\"],[0.6666666666666666,\"#ed7953\"],[0.7777777777777778,\"#fb9f3a\"],[0.8888888888888888,\"#fdca26\"],[1.0,\"#f0f921\"]],\"sequentialminus\":[[0.0,\"#0d0887\"],[0.1111111111111111,\"#46039f\"],[0.2222222222222222,\"#7201a8\"],[0.3333333333333333,\"#9c179e\"],[0.4444444444444444,\"#bd3786\"],[0.5555555555555556,\"#d8576b\"],[0.6666666666666666,\"#ed7953\"],[0.7777777777777778,\"#fb9f3a\"],[0.8888888888888888,\"#fdca26\"],[1.0,\"#f0f921\"]],\"diverging\":[[0,\"#8e0152\"],[0.1,\"#c51b7d\"],[0.2,\"#de77ae\"],[0.3,\"#f1b6da\"],[0.4,\"#fde0ef\"],[0.5,\"#f7f7f7\"],[0.6,\"#e6f5d0\"],[0.7,\"#b8e186\"],[0.8,\"#7fbc41\"],[0.9,\"#4d9221\"],[1,\"#276419\"]]},\"xaxis\":{\"gridcolor\":\"white\",\"linecolor\":\"white\",\"ticks\":\"\",\"title\":{\"standoff\":15},\"zerolinecolor\":\"white\",\"automargin\":true,\"zerolinewidth\":2},\"yaxis\":{\"gridcolor\":\"white\",\"linecolor\":\"white\",\"ticks\":\"\",\"title\":{\"standoff\":15},\"zerolinecolor\":\"white\",\"automargin\":true,\"zerolinewidth\":2},\"scene\":{\"xaxis\":{\"backgroundcolor\":\"#E5ECF6\",\"gridcolor\":\"white\",\"linecolor\":\"white\",\"showbackground\":true,\"ticks\":\"\",\"zerolinecolor\":\"white\",\"gridwidth\":2},\"yaxis\":{\"backgroundcolor\":\"#E5ECF6\",\"gridcolor\":\"white\",\"linecolor\":\"white\",\"showbackground\":true,\"ticks\":\"\",\"zerolinecolor\":\"white\",\"gridwidth\":2},\"zaxis\":{\"backgroundcolor\":\"#E5ECF6\",\"gridcolor\":\"white\",\"linecolor\":\"white\",\"showbackground\":true,\"ticks\":\"\",\"zerolinecolor\":\"white\",\"gridwidth\":2}},\"shapedefaults\":{\"line\":{\"color\":\"#2a3f5f\"}},\"annotationdefaults\":{\"arrowcolor\":\"#2a3f5f\",\"arrowhead\":0,\"arrowwidth\":1},\"geo\":{\"bgcolor\":\"white\",\"landcolor\":\"#E5ECF6\",\"subunitcolor\":\"white\",\"showland\":true,\"showlakes\":true,\"lakecolor\":\"white\"},\"title\":{\"x\":0.05},\"mapbox\":{\"style\":\"light\"}}},\"xaxis\":{\"anchor\":\"y\",\"domain\":[0.0,1.0],\"title\":{\"text\":\"PC1\"}},\"yaxis\":{\"anchor\":\"x\",\"domain\":[0.0,1.0],\"title\":{\"text\":\"PC2\"}},\"legend\":{\"title\":{\"text\":\"color\"},\"tracegroupgap\":0},\"title\":{\"text\":\"PCA Representation of Clusters\"}},                        {\"responsive\": true}                    ).then(function(){\n",
       "                            \n",
       "var gd = document.getElementById('2f2c2187-d3ff-4d5c-8711-8c45c4937b45');\n",
       "var x = new MutationObserver(function (mutations, observer) {{\n",
       "        var display = window.getComputedStyle(gd).display;\n",
       "        if (!display || display === 'none') {{\n",
       "            console.log([gd, 'removed!']);\n",
       "            Plotly.purge(gd);\n",
       "            observer.disconnect();\n",
       "        }}\n",
       "}});\n",
       "\n",
       "// Listen for the removal of the full notebook cells\n",
       "var notebookContainer = gd.closest('#notebook-container');\n",
       "if (notebookContainer) {{\n",
       "    x.observe(notebookContainer, {childList: true});\n",
       "}}\n",
       "\n",
       "// Listen for the clearing of the current output cell\n",
       "var outputEl = gd.closest('.output');\n",
       "if (outputEl) {{\n",
       "    x.observe(outputEl, {childList: true});\n",
       "}}\n",
       "\n",
       "                        })                };                });            </script>        </div>"
      ]
     },
     "metadata": {},
     "output_type": "display_data"
    }
   ],
   "source": [
    "# Create scatter plot of `PC2` vs `PC1`\n",
    "fig = px.scatter(x=X_pca['PC1'],\n",
    "                 y=X_pca['PC2'],\n",
    "                 color=labels.astype(str),\n",
    "                title='PCA Representation of Clusters')\n",
    "fig.update_layout(xaxis_title='PC1',yaxis_title='PC2')\n",
    "\n",
    "fig.show()"
   ]
  },
  {
   "cell_type": "code",
   "execution_count": 229,
   "id": "5cb07f0a-0249-430e-ba11-deb8d5f87e57",
   "metadata": {},
   "outputs": [],
   "source": [
    "## putting clustering into dataset\n",
    "\n",
    "df['cluster'] = labels\n",
    "\n",
    "## save data to local device, to be sent to marketing team \n",
    "# df.to_csv('...../path/to/save')"
   ]
  }
 ],
 "metadata": {
  "kernelspec": {
   "display_name": "Python 3.10 (portfolio)",
   "language": "python",
   "name": "portfolio"
  },
  "language_info": {
   "codemirror_mode": {
    "name": "ipython",
    "version": 3
   },
   "file_extension": ".py",
   "mimetype": "text/x-python",
   "name": "python",
   "nbconvert_exporter": "python",
   "pygments_lexer": "ipython3",
   "version": "3.10.8"
  }
 },
 "nbformat": 4,
 "nbformat_minor": 5
}
